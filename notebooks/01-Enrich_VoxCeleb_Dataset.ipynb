{
 "cells": [
  {
   "cell_type": "markdown",
   "metadata": {},
   "source": [
    "# Libraries"
   ]
  },
  {
   "cell_type": "code",
   "execution_count": 1,
   "metadata": {},
   "outputs": [
    {
     "name": "stderr",
     "output_type": "stream",
     "text": [
      "[nltk_data] Downloading package averaged_perceptron_tagger to\n",
      "[nltk_data]     C:\\Users\\hechm\\AppData\\Roaming\\nltk_data...\n",
      "[nltk_data]   Package averaged_perceptron_tagger is already up-to-\n",
      "[nltk_data]       date!\n"
     ]
    }
   ],
   "source": [
    "import json\n",
    "import nltk\n",
    "import pandas as pd\n",
    "import sys\n",
    "sys.path.insert(1, \"../src\")\n",
    "import download_youtube_infos\n",
    "import numpy as np"
   ]
  },
  {
   "cell_type": "markdown",
   "metadata": {},
   "source": [
    "# Load db"
   ]
  },
  {
   "cell_type": "code",
   "execution_count": 2,
   "metadata": {},
   "outputs": [
    {
     "data": {
      "text/html": [
       "<div>\n",
       "<style scoped>\n",
       "    .dataframe tbody tr th:only-of-type {\n",
       "        vertical-align: middle;\n",
       "    }\n",
       "\n",
       "    .dataframe tbody tr th {\n",
       "        vertical-align: top;\n",
       "    }\n",
       "\n",
       "    .dataframe thead th {\n",
       "        text-align: right;\n",
       "    }\n",
       "</style>\n",
       "<table border=\"1\" class=\"dataframe\">\n",
       "  <thead>\n",
       "    <tr style=\"text-align: right;\">\n",
       "      <th></th>\n",
       "      <th>video_id</th>\n",
       "      <th>title</th>\n",
       "      <th>publishing_date</th>\n",
       "      <th>description</th>\n",
       "      <th>person</th>\n",
       "      <th>year_in_title</th>\n",
       "    </tr>\n",
       "  </thead>\n",
       "  <tbody>\n",
       "    <tr>\n",
       "      <th>0</th>\n",
       "      <td>SRtnMcmt8-E</td>\n",
       "      <td>Gemma Arterton &amp; Dominic Cooper chat to us abo...</td>\n",
       "      <td>2010-09-09T13:40:40Z</td>\n",
       "      <td>Subscribe to our channel: http://bit.ly/Empire...</td>\n",
       "      <td>[Gemma Arterton, Dominic Cooper, Tamara Drewe]</td>\n",
       "      <td></td>\n",
       "    </tr>\n",
       "    <tr>\n",
       "      <th>1</th>\n",
       "      <td>WUgz60174jo</td>\n",
       "      <td>Ian Somerhalder Wants In On \"50 Shades\" Film |...</td>\n",
       "      <td>2012-04-23T14:59:21Z</td>\n",
       "      <td>\"SUBSCRIBE: http://full.sc/UBDdWt Would \"\"Vamp...</td>\n",
       "      <td>[Ian Somerhalder, Ryan Seacrest]</td>\n",
       "      <td></td>\n",
       "    </tr>\n",
       "    <tr>\n",
       "      <th>2</th>\n",
       "      <td>li4SFwdLUos</td>\n",
       "      <td>Callan McAuliffe 'Disney's Prom' Premiere Inte...</td>\n",
       "      <td>2011-04-23T00:50:59Z</td>\n",
       "      <td>http://Facebook.com/ClevverTV - Become a Fan! ...</td>\n",
       "      <td>[Callan McAuliffe]</td>\n",
       "      <td></td>\n",
       "    </tr>\n",
       "    <tr>\n",
       "      <th>3</th>\n",
       "      <td>GUKVh9OpxJc</td>\n",
       "      <td>Ian Somerhalder Interview \"The Vampire Diaries...</td>\n",
       "      <td>2016-07-24T00:20:01Z</td>\n",
       "      <td>Thank you to T-Mobile for sponsoring this epis...</td>\n",
       "      <td>[Ian Somerhalder]</td>\n",
       "      <td>2016</td>\n",
       "    </tr>\n",
       "    <tr>\n",
       "      <th>4</th>\n",
       "      <td>wKozbkkc8UA</td>\n",
       "      <td>Sarah Wayne Callies Interview - The Walking De...</td>\n",
       "      <td>2013-07-09T14:10:02Z</td>\n",
       "      <td>Sarah Wayne Callies Interview - The Walking De...</td>\n",
       "      <td>[Sarah Wayne, Wayne Callies]</td>\n",
       "      <td></td>\n",
       "    </tr>\n",
       "    <tr>\n",
       "      <th>5</th>\n",
       "      <td>nzjbgrL_LYg</td>\n",
       "      <td>Jake Johnson Teases Major Shake-Ups on \"New Gi...</td>\n",
       "      <td>2017-01-17T17:52:55Z</td>\n",
       "      <td>The actor dishes on Megan Fox's hilarious retu...</td>\n",
       "      <td>[Jake Johnson]</td>\n",
       "      <td></td>\n",
       "    </tr>\n",
       "    <tr>\n",
       "      <th>6</th>\n",
       "      <td>hk3bbAyHZ0o</td>\n",
       "      <td>Dan Aykroyd Interview</td>\n",
       "      <td>2009-06-16T20:58:44Z</td>\n",
       "      <td>An interview with Dan Akroyd on the Hill-Man M...</td>\n",
       "      <td>[Dan Aykroyd, Aykroyd Interview]</td>\n",
       "      <td></td>\n",
       "    </tr>\n",
       "    <tr>\n",
       "      <th>7</th>\n",
       "      <td>gjFhr6ECQzk</td>\n",
       "      <td>Ideas at the House: Tavi Gevinson - Why Being ...</td>\n",
       "      <td>2013-09-10T03:57:29Z</td>\n",
       "      <td>In this highlight from her talk at Sydney Oper...</td>\n",
       "      <td>[]</td>\n",
       "      <td></td>\n",
       "    </tr>\n",
       "    <tr>\n",
       "      <th>8</th>\n",
       "      <td>f1dpDmRDjDA</td>\n",
       "      <td>Vanessa on \"Lifetime Intimate Portrait\", Octob...</td>\n",
       "      <td>2011-05-15T15:48:58Z</td>\n",
       "      <td>Vanessa talks to Lifetime Intimate Portrait ci...</td>\n",
       "      <td>[]</td>\n",
       "      <td>2003</td>\n",
       "    </tr>\n",
       "    <tr>\n",
       "      <th>9</th>\n",
       "      <td>h4WdYGZkxwo</td>\n",
       "      <td>Om Puri in Aap Ki Adalat (Part 1)</td>\n",
       "      <td>2013-05-13T11:18:42Z</td>\n",
       "      <td>Watch Bollywood actor Om Puri in Aap Ki Adalat...</td>\n",
       "      <td>[Om Puri]</td>\n",
       "      <td></td>\n",
       "    </tr>\n",
       "  </tbody>\n",
       "</table>\n",
       "</div>"
      ],
      "text/plain": [
       "      video_id                                              title  \\\n",
       "0  SRtnMcmt8-E  Gemma Arterton & Dominic Cooper chat to us abo...   \n",
       "1  WUgz60174jo  Ian Somerhalder Wants In On \"50 Shades\" Film |...   \n",
       "2  li4SFwdLUos  Callan McAuliffe 'Disney's Prom' Premiere Inte...   \n",
       "3  GUKVh9OpxJc  Ian Somerhalder Interview \"The Vampire Diaries...   \n",
       "4  wKozbkkc8UA  Sarah Wayne Callies Interview - The Walking De...   \n",
       "5  nzjbgrL_LYg  Jake Johnson Teases Major Shake-Ups on \"New Gi...   \n",
       "6  hk3bbAyHZ0o                              Dan Aykroyd Interview   \n",
       "7  gjFhr6ECQzk  Ideas at the House: Tavi Gevinson - Why Being ...   \n",
       "8  f1dpDmRDjDA  Vanessa on \"Lifetime Intimate Portrait\", Octob...   \n",
       "9  h4WdYGZkxwo                  Om Puri in Aap Ki Adalat (Part 1)   \n",
       "\n",
       "        publishing_date                                        description  \\\n",
       "0  2010-09-09T13:40:40Z  Subscribe to our channel: http://bit.ly/Empire...   \n",
       "1  2012-04-23T14:59:21Z  \"SUBSCRIBE: http://full.sc/UBDdWt Would \"\"Vamp...   \n",
       "2  2011-04-23T00:50:59Z  http://Facebook.com/ClevverTV - Become a Fan! ...   \n",
       "3  2016-07-24T00:20:01Z  Thank you to T-Mobile for sponsoring this epis...   \n",
       "4  2013-07-09T14:10:02Z  Sarah Wayne Callies Interview - The Walking De...   \n",
       "5  2017-01-17T17:52:55Z  The actor dishes on Megan Fox's hilarious retu...   \n",
       "6  2009-06-16T20:58:44Z  An interview with Dan Akroyd on the Hill-Man M...   \n",
       "7  2013-09-10T03:57:29Z  In this highlight from her talk at Sydney Oper...   \n",
       "8  2011-05-15T15:48:58Z  Vanessa talks to Lifetime Intimate Portrait ci...   \n",
       "9  2013-05-13T11:18:42Z  Watch Bollywood actor Om Puri in Aap Ki Adalat...   \n",
       "\n",
       "                                           person year_in_title  \n",
       "0  [Gemma Arterton, Dominic Cooper, Tamara Drewe]                \n",
       "1                [Ian Somerhalder, Ryan Seacrest]                \n",
       "2                              [Callan McAuliffe]                \n",
       "3                               [Ian Somerhalder]          2016  \n",
       "4                    [Sarah Wayne, Wayne Callies]                \n",
       "5                                  [Jake Johnson]                \n",
       "6                [Dan Aykroyd, Aykroyd Interview]                \n",
       "7                                              []                \n",
       "8                                              []          2003  \n",
       "9                                       [Om Puri]                "
      ]
     },
     "execution_count": 2,
     "metadata": {},
     "output_type": "execute_result"
    }
   ],
   "source": [
    "db_path = \"../dataset/yt_metadata.json\"\n",
    "videos_infos = download_youtube_infos.get_videos(db_path)\n",
    "df = pd.DataFrame.from_records(videos_infos)\n",
    "df.head(10)"
   ]
  },
  {
   "cell_type": "code",
   "execution_count": 3,
   "metadata": {},
   "outputs": [
    {
     "data": {
      "text/plain": [
       "(170678, 6)"
      ]
     },
     "execution_count": 3,
     "metadata": {},
     "output_type": "execute_result"
    }
   ],
   "source": [
    "df.shape"
   ]
  },
  {
   "cell_type": "code",
   "execution_count": 8,
   "metadata": {},
   "outputs": [
    {
     "data": {
      "text/plain": [
       "151091"
      ]
     },
     "execution_count": 8,
     "metadata": {},
     "output_type": "execute_result"
    }
   ],
   "source": [
    "df.shape[0] - sum(df.publishing_date == \"\")"
   ]
  },
  {
   "cell_type": "code",
   "execution_count": 7,
   "metadata": {},
   "outputs": [
    {
     "data": {
      "text/plain": [
       "19587"
      ]
     },
     "execution_count": 7,
     "metadata": {},
     "output_type": "execute_result"
    }
   ],
   "source": [
    "sum(df.title == \"\")"
   ]
  },
  {
   "cell_type": "markdown",
   "metadata": {},
   "source": [
    "## Load Voxceleb metadata:"
   ]
  },
  {
   "cell_type": "code",
   "execution_count": 4,
   "metadata": {},
   "outputs": [
    {
     "name": "stdout",
     "output_type": "stream",
     "text": [
      "               Name VoxCeleb2 ID VGGFace2 ID Gender   Set\n",
      "0     Aaron_Ashmore      id00012     n000012      m   dev\n",
      "1  Aaron_Motsoaledi      id00015     n000015      m   dev\n",
      "2      Aaron_Ramsey      id00016     n000016      m   dev\n",
      "3     Aaron_Rodgers      id00017     n000017      m  test\n",
      "4      Aaron_Schock      id00018     n000018      m   dev\n",
      "  VoxCeleb1 ID          Name Gender Nationality  Set\n",
      "0      id10001  A.J._Buckley      m     Ireland  dev\n",
      "1      id10002   A.R._Rahman      m       India  dev\n",
      "2      id10003    Aamir_Khan      m       India  dev\n",
      "3      id10004   Aaron_Tveit      m         USA  dev\n",
      "4      id10005     Aaron_Yoo      m         USA  dev\n"
     ]
    },
    {
     "name": "stderr",
     "output_type": "stream",
     "text": [
      "C:\\Users\\hechm\\miniconda3\\envs\\enrich_yt_videos\\lib\\site-packages\\ipykernel_launcher.py:8: ParserWarning: Falling back to the 'python' engine because the 'c' engine does not support regex separators (separators > 1 char and different from '\\s+' are interpreted as regex); you can avoid this warning by specifying engine='python'.\n",
      "  \n"
     ]
    },
    {
     "data": {
      "text/html": [
       "<div>\n",
       "<style scoped>\n",
       "    .dataframe tbody tr th:only-of-type {\n",
       "        vertical-align: middle;\n",
       "    }\n",
       "\n",
       "    .dataframe tbody tr th {\n",
       "        vertical-align: top;\n",
       "    }\n",
       "\n",
       "    .dataframe thead th {\n",
       "        text-align: right;\n",
       "    }\n",
       "</style>\n",
       "<table border=\"1\" class=\"dataframe\">\n",
       "  <thead>\n",
       "    <tr style=\"text-align: right;\">\n",
       "      <th></th>\n",
       "      <th>Name</th>\n",
       "      <th>VoxCeleb2 ID</th>\n",
       "      <th>VGGFace2 ID</th>\n",
       "      <th>Gender</th>\n",
       "      <th>Set</th>\n",
       "      <th>VoxCeleb1 ID</th>\n",
       "      <th>Nationality</th>\n",
       "    </tr>\n",
       "  </thead>\n",
       "  <tbody>\n",
       "    <tr>\n",
       "      <th>0</th>\n",
       "      <td>Aaron_Ashmore</td>\n",
       "      <td>id00012</td>\n",
       "      <td>n000012</td>\n",
       "      <td>m</td>\n",
       "      <td>dev</td>\n",
       "      <td>NaN</td>\n",
       "      <td>NaN</td>\n",
       "    </tr>\n",
       "    <tr>\n",
       "      <th>1</th>\n",
       "      <td>Aaron_Motsoaledi</td>\n",
       "      <td>id00015</td>\n",
       "      <td>n000015</td>\n",
       "      <td>m</td>\n",
       "      <td>dev</td>\n",
       "      <td>NaN</td>\n",
       "      <td>NaN</td>\n",
       "    </tr>\n",
       "    <tr>\n",
       "      <th>2</th>\n",
       "      <td>Aaron_Ramsey</td>\n",
       "      <td>id00016</td>\n",
       "      <td>n000016</td>\n",
       "      <td>m</td>\n",
       "      <td>dev</td>\n",
       "      <td>NaN</td>\n",
       "      <td>NaN</td>\n",
       "    </tr>\n",
       "    <tr>\n",
       "      <th>3</th>\n",
       "      <td>Aaron_Rodgers</td>\n",
       "      <td>id00017</td>\n",
       "      <td>n000017</td>\n",
       "      <td>m</td>\n",
       "      <td>test</td>\n",
       "      <td>NaN</td>\n",
       "      <td>NaN</td>\n",
       "    </tr>\n",
       "    <tr>\n",
       "      <th>4</th>\n",
       "      <td>Aaron_Schock</td>\n",
       "      <td>id00018</td>\n",
       "      <td>n000018</td>\n",
       "      <td>m</td>\n",
       "      <td>dev</td>\n",
       "      <td>NaN</td>\n",
       "      <td>NaN</td>\n",
       "    </tr>\n",
       "  </tbody>\n",
       "</table>\n",
       "</div>"
      ],
      "text/plain": [
       "               Name VoxCeleb2 ID VGGFace2 ID Gender   Set VoxCeleb1 ID  \\\n",
       "0     Aaron_Ashmore      id00012     n000012      m   dev          NaN   \n",
       "1  Aaron_Motsoaledi      id00015     n000015      m   dev          NaN   \n",
       "2      Aaron_Ramsey      id00016     n000016      m   dev          NaN   \n",
       "3     Aaron_Rodgers      id00017     n000017      m  test          NaN   \n",
       "4      Aaron_Schock      id00018     n000018      m   dev          NaN   \n",
       "\n",
       "  Nationality  \n",
       "0         NaN  \n",
       "1         NaN  \n",
       "2         NaN  \n",
       "3         NaN  \n",
       "4         NaN  "
      ]
     },
     "execution_count": 4,
     "metadata": {},
     "output_type": "execute_result"
    }
   ],
   "source": [
    "import person_metadata\n",
    "voxceleb_fn=[\"../dataset/vox2_meta.csv\",\n",
    "             \"../dataset/vox1_meta.csv\"]\n",
    "sep = [\"\\s\\t\", \"\\t\"]\n",
    "li = []\n",
    "\n",
    "for i, filename in enumerate(voxceleb_fn):\n",
    "    temp_df = pd.read_csv(filename, sep=sep[i], encoding='utf-8')\n",
    "    temp_df.columns = [x.replace(\"VGGFace1 ID\", \"Name\") for x in temp_df.columns]\n",
    "    print(temp_df.head())\n",
    "    li.append(temp_df)\n",
    "\n",
    "df_celeb = pd.concat(li, axis=0, ignore_index=True)\n",
    "df_celeb.head()"
   ]
  },
  {
   "cell_type": "code",
   "execution_count": 5,
   "metadata": {},
   "outputs": [],
   "source": [
    "df_celeb['Name'] = df_celeb['Name'].str.replace(\"_\", \" \")"
   ]
  },
  {
   "cell_type": "markdown",
   "metadata": {},
   "source": [
    "Do VoxCeleb1 and VoxCeleb 2 share anyID?"
   ]
  },
  {
   "cell_type": "code",
   "execution_count": 6,
   "metadata": {},
   "outputs": [
    {
     "data": {
      "text/plain": [
       "Index(['Name', 'VoxCeleb2 ID', 'VGGFace2 ID', 'Gender', 'Set', 'VoxCeleb1 ID',\n",
       "       'Nationality'],\n",
       "      dtype='object')"
      ]
     },
     "execution_count": 6,
     "metadata": {},
     "output_type": "execute_result"
    }
   ],
   "source": [
    "df_celeb.columns"
   ]
  },
  {
   "cell_type": "code",
   "execution_count": 8,
   "metadata": {},
   "outputs": [
    {
     "data": {
      "text/plain": [
       "{nan}"
      ]
     },
     "execution_count": 8,
     "metadata": {},
     "output_type": "execute_result"
    }
   ],
   "source": [
    "set(df_celeb['VoxCeleb2 ID']).intersection(set(df_celeb['VoxCeleb1 ID']))"
   ]
  },
  {
   "cell_type": "markdown",
   "metadata": {},
   "source": [
    "Therefore, just for convenience, let's create one column where all IDS will be put, so that it will be easier to use them during the various joins."
   ]
  },
  {
   "cell_type": "code",
   "execution_count": 11,
   "metadata": {},
   "outputs": [],
   "source": [
    "vox_ids = []\n",
    "for i in range(df_celeb.shape[0]):\n",
    "    if df_celeb.iloc[i,:]['VoxCeleb2 ID'] != np.nan:\n",
    "        vox_ids.append(df_celeb.iloc[i,:]['VoxCeleb2 ID'])\n",
    "    else:\n",
    "        vox_ids.append(df_celeb.iloc[i,:]['VoxCeleb1 ID'])\n",
    "df_celeb['VoxCeleb_ID'] = vox_ids\n",
    "df_celeb = df_celeb[['Name', 'VoxCeleb_ID']]"
   ]
  },
  {
   "cell_type": "markdown",
   "metadata": {},
   "source": [
    "## Load YT IDs - Celebs mappings\n",
    "The VoxCeleb dataset has two folder levels (Celebrities IDs - YT videos ID in which they compare"
   ]
  },
  {
   "cell_type": "code",
   "execution_count": 12,
   "metadata": {},
   "outputs": [],
   "source": [
    "fn_person_videos = ['../dataset/voxceleb2_person_videos.json', '../dataset/voxceleb_person_videos.json']\n",
    "person_videos = {}\n",
    "for fn in fn_person_videos:\n",
    "    with open(fn, 'r') as f:\n",
    "        content = json.load(f)\n",
    "        person_videos.update(content)"
   ]
  },
  {
   "cell_type": "code",
   "execution_count": 13,
   "metadata": {},
   "outputs": [
    {
     "data": {
      "text/plain": [
       "7363"
      ]
     },
     "execution_count": 13,
     "metadata": {},
     "output_type": "execute_result"
    }
   ],
   "source": [
    "len(person_videos)"
   ]
  },
  {
   "cell_type": "code",
   "execution_count": 14,
   "metadata": {},
   "outputs": [],
   "source": [
    "fn_video_people = ['../dataset/voxceleb2_video_people.json', '../dataset/voxceleb_video_people.json']\n",
    "video_people = {}\n",
    "for fn in fn_video_people:\n",
    "    with open(fn, 'r') as f:\n",
    "        content = json.load(f)\n",
    "        video_people.update(content)"
   ]
  },
  {
   "cell_type": "code",
   "execution_count": 15,
   "metadata": {},
   "outputs": [
    {
     "data": {
      "text/plain": [
       "170678"
      ]
     },
     "execution_count": 15,
     "metadata": {},
     "output_type": "execute_result"
    }
   ],
   "source": [
    "len(video_people)"
   ]
  },
  {
   "cell_type": "markdown",
   "metadata": {},
   "source": [
    "## Download metadata"
   ]
  },
  {
   "cell_type": "markdown",
   "metadata": {},
   "source": [
    "Let's now extract the list of unique names, that will be used for getting the various metadata from the API of interests"
   ]
  },
  {
   "cell_type": "code",
   "execution_count": 16,
   "metadata": {},
   "outputs": [
    {
     "name": "stdout",
     "output_type": "stream",
     "text": [
      "['Aaron Ashmore' 'Aaron Motsoaledi' 'Aaron Ramsey' ... 'Zack Snyder'\n",
      " 'Zoe Saldana' 'Zulay Henao']\n"
     ]
    },
    {
     "data": {
      "text/plain": [
       "7365"
      ]
     },
     "execution_count": 16,
     "metadata": {},
     "output_type": "execute_result"
    }
   ],
   "source": [
    "unique_vips = df_celeb['Name'].unique()\n",
    "print(unique_vips)\n",
    "len(unique_vips)"
   ]
  },
  {
   "cell_type": "markdown",
   "metadata": {},
   "source": [
    "I will now create the function that will query DBPedia and Wikidata endpoints. We will keep track of the VIPS we weren't able to download as well"
   ]
  },
  {
   "cell_type": "code",
   "execution_count": 17,
   "metadata": {},
   "outputs": [],
   "source": [
    "from tqdm import tqdm\n",
    "import time\n",
    "def download_vips_metadata(unique_vips, endpoint):\n",
    "    vips_metadata = []\n",
    "    not_found_vips = []\n",
    "    empty_data = 0\n",
    "    for vip in tqdm(unique_vips):\n",
    "        try:\n",
    "            metadata = person_metadata.get_person_metadata(vip, endpoint)\n",
    "            if metadata:\n",
    "                vips_metadata.append(metadata)\n",
    "            else:\n",
    "                not_found_vips.append(vip)\n",
    "        except Exception as ex:\n",
    "            print(\"Couldn't download data for {}\".format(vip))\n",
    "            print(ex)\n",
    "            not_found_vips.append(vip)\n",
    "    return vips_metadata, not_found_vips"
   ]
  },
  {
   "cell_type": "code",
   "execution_count": 18,
   "metadata": {},
   "outputs": [
    {
     "name": "stderr",
     "output_type": "stream",
     "text": [
      "  1%|▍                                                                             | 37/7365 [01:14<4:11:28,  2.06s/it]"
     ]
    },
    {
     "name": "stdout",
     "output_type": "stream",
     "text": [
      "Birth date not available\n"
     ]
    },
    {
     "name": "stderr",
     "output_type": "stream",
     "text": [
      "  1%|▌                                                                             | 55/7365 [01:50<4:12:58,  2.08s/it]"
     ]
    },
    {
     "name": "stdout",
     "output_type": "stream",
     "text": [
      "Birth date not available\n"
     ]
    },
    {
     "name": "stderr",
     "output_type": "stream",
     "text": [
      "  1%|▉                                                                             | 88/7365 [02:55<3:14:28,  1.60s/it]"
     ]
    },
    {
     "name": "stdout",
     "output_type": "stream",
     "text": [
      "Birth date not available\n",
      "Gender not available\n",
      "Citizenship not available\n"
     ]
    },
    {
     "name": "stderr",
     "output_type": "stream",
     "text": [
      "  2%|█▏                                                                           | 116/7365 [03:51<2:57:18,  1.47s/it]"
     ]
    },
    {
     "name": "stdout",
     "output_type": "stream",
     "text": [
      "Could not get metadata for Alana Curry: is the person's name spelled correctly?\n"
     ]
    },
    {
     "name": "stderr",
     "output_type": "stream",
     "text": [
      "  2%|█▏                                                                           | 119/7365 [03:56<2:57:09,  1.47s/it]"
     ]
    },
    {
     "name": "stdout",
     "output_type": "stream",
     "text": [
      "Citizenship not available\n"
     ]
    },
    {
     "name": "stderr",
     "output_type": "stream",
     "text": [
      "  2%|█▌                                                                           | 147/7365 [04:48<2:50:50,  1.42s/it]"
     ]
    },
    {
     "name": "stdout",
     "output_type": "stream",
     "text": [
      "Could not get metadata for Alex Aniston: is the person's name spelled correctly?\n"
     ]
    },
    {
     "name": "stderr",
     "output_type": "stream",
     "text": [
      "  2%|█▋                                                                           | 156/7365 [05:05<3:08:04,  1.57s/it]"
     ]
    },
    {
     "name": "stdout",
     "output_type": "stream",
     "text": [
      "Could not get metadata for Alex OLoughlin: is the person's name spelled correctly?\n"
     ]
    },
    {
     "name": "stderr",
     "output_type": "stream",
     "text": [
      "  2%|█▊                                                                           | 174/7365 [05:40<3:11:33,  1.60s/it]"
     ]
    },
    {
     "name": "stdout",
     "output_type": "stream",
     "text": [
      "Could not get metadata for Alexandra Lara: is the person's name spelled correctly?\n"
     ]
    },
    {
     "name": "stderr",
     "output_type": "stream",
     "text": [
      "  3%|█▉                                                                           | 191/7365 [06:12<2:57:15,  1.48s/it]"
     ]
    },
    {
     "name": "stdout",
     "output_type": "stream",
     "text": [
      "Birth date not available\n",
      "Citizenship not available\n"
     ]
    },
    {
     "name": "stderr",
     "output_type": "stream",
     "text": [
      "  3%|██▏                                                                          | 204/7365 [06:35<2:58:43,  1.50s/it]"
     ]
    },
    {
     "name": "stdout",
     "output_type": "stream",
     "text": [
      "Birth date not available\n",
      "Citizenship not available\n"
     ]
    },
    {
     "name": "stderr",
     "output_type": "stream",
     "text": [
      "  5%|████                                                                         | 384/7365 [12:37<3:06:12,  1.60s/it]"
     ]
    },
    {
     "name": "stdout",
     "output_type": "stream",
     "text": [
      "Citizenship not available\n"
     ]
    },
    {
     "name": "stderr",
     "output_type": "stream",
     "text": [
      "  5%|████                                                                         | 387/7365 [12:42<2:35:59,  1.34s/it]"
     ]
    },
    {
     "name": "stdout",
     "output_type": "stream",
     "text": [
      "Could not get metadata for Angela Simmons: is the person's name spelled correctly?\n"
     ]
    },
    {
     "name": "stderr",
     "output_type": "stream",
     "text": [
      "  6%|████▋                                                                        | 443/7365 [14:33<2:55:03,  1.52s/it]"
     ]
    },
    {
     "name": "stdout",
     "output_type": "stream",
     "text": [
      "Citizenship not available\n"
     ]
    },
    {
     "name": "stderr",
     "output_type": "stream",
     "text": [
      "  8%|██████▎                                                                      | 605/7365 [20:00<2:49:37,  1.51s/it]"
     ]
    },
    {
     "name": "stdout",
     "output_type": "stream",
     "text": [
      "Could not get metadata for Barbara dUrso: is the person's name spelled correctly?\n"
     ]
    },
    {
     "name": "stderr",
     "output_type": "stream",
     "text": [
      "  9%|███████▏                                                                     | 692/7365 [22:57<2:56:45,  1.59s/it]"
     ]
    },
    {
     "name": "stdout",
     "output_type": "stream",
     "text": [
      "Could not get metadata for Bhairvi Goswami: is the person's name spelled correctly?\n"
     ]
    },
    {
     "name": "stderr",
     "output_type": "stream",
     "text": [
      " 10%|███████▍                                                                     | 709/7365 [23:32<2:44:48,  1.49s/it]"
     ]
    },
    {
     "name": "stdout",
     "output_type": "stream",
     "text": [
      "Could not get metadata for Bill Gilman: is the person's name spelled correctly?\n"
     ]
    },
    {
     "name": "stderr",
     "output_type": "stream",
     "text": [
      " 13%|█████████▊                                                                   | 935/7365 [31:20<3:16:22,  1.83s/it]"
     ]
    },
    {
     "name": "stdout",
     "output_type": "stream",
     "text": [
      "Citizenship not available\n"
     ]
    },
    {
     "name": "stderr",
     "output_type": "stream",
     "text": [
      " 14%|██████████▎                                                                 | 1001/7365 [33:29<2:45:08,  1.56s/it]"
     ]
    },
    {
     "name": "stdout",
     "output_type": "stream",
     "text": [
      "Could not get metadata for Carrie Fletcher: is the person's name spelled correctly?\n"
     ]
    },
    {
     "name": "stderr",
     "output_type": "stream",
     "text": [
      " 14%|██████████▍                                                                 | 1012/7365 [33:54<3:41:17,  2.09s/it]"
     ]
    },
    {
     "name": "stdout",
     "output_type": "stream",
     "text": [
      "Gender not available\n"
     ]
    },
    {
     "name": "stderr",
     "output_type": "stream",
     "text": [
      " 14%|██████████▌                                                                 | 1019/7365 [34:05<2:43:50,  1.55s/it]"
     ]
    },
    {
     "name": "stdout",
     "output_type": "stream",
     "text": [
      "Birth date not available\n",
      "Citizenship not available\n"
     ]
    },
    {
     "name": "stderr",
     "output_type": "stream",
     "text": [
      "\r",
      " 14%|██████████▌                                                                 | 1020/7365 [34:06<2:03:43,  1.17s/it]"
     ]
    },
    {
     "name": "stdout",
     "output_type": "stream",
     "text": [
      "Could not get metadata for Catherine OHara: is the person's name spelled correctly?\n"
     ]
    },
    {
     "name": "stderr",
     "output_type": "stream",
     "text": [
      " 15%|███████████▎                                                                | 1098/7365 [36:44<3:14:34,  1.86s/it]"
     ]
    },
    {
     "name": "stdout",
     "output_type": "stream",
     "text": [
      "Birth date not available\n",
      "Citizenship not available\n"
     ]
    },
    {
     "name": "stderr",
     "output_type": "stream",
     "text": [
      " 16%|████████████                                                                | 1175/7365 [39:20<2:51:53,  1.67s/it]"
     ]
    },
    {
     "name": "stdout",
     "output_type": "stream",
     "text": [
      "Birth date not available\n",
      "Citizenship not available\n"
     ]
    },
    {
     "name": "stderr",
     "output_type": "stream",
     "text": [
      " 16%|████████████▏                                                               | 1185/7365 [39:40<3:01:31,  1.76s/it]"
     ]
    },
    {
     "name": "stdout",
     "output_type": "stream",
     "text": [
      "Birth date not available\n",
      "Gender not available\n",
      "Citizenship not available\n"
     ]
    },
    {
     "name": "stderr",
     "output_type": "stream",
     "text": [
      " 17%|█████████████                                                               | 1261/7365 [42:16<2:17:32,  1.35s/it]"
     ]
    },
    {
     "name": "stdout",
     "output_type": "stream",
     "text": [
      "Birth date not available\n",
      "Gender not available\n",
      "Citizenship not available\n"
     ]
    },
    {
     "name": "stderr",
     "output_type": "stream",
     "text": [
      " 19%|██████████████▎                                                             | 1381/7365 [46:16<2:57:57,  1.78s/it]"
     ]
    },
    {
     "name": "stdout",
     "output_type": "stream",
     "text": [
      "Citizenship not available\n"
     ]
    },
    {
     "name": "stderr",
     "output_type": "stream",
     "text": [
      " 19%|██████████████▌                                                             | 1406/7365 [47:06<2:54:39,  1.76s/it]"
     ]
    },
    {
     "name": "stdout",
     "output_type": "stream",
     "text": [
      "Birth date not available\n",
      "Gender not available\n",
      "Citizenship not available\n"
     ]
    },
    {
     "name": "stderr",
     "output_type": "stream",
     "text": [
      " 20%|██████████████▉                                                             | 1445/7365 [48:25<2:31:54,  1.54s/it]"
     ]
    },
    {
     "name": "stdout",
     "output_type": "stream",
     "text": [
      "Could not get metadata for Dbanj: is the person's name spelled correctly?\n"
     ]
    },
    {
     "name": "stderr",
     "output_type": "stream",
     "text": [
      " 20%|███████████████▍                                                            | 1493/7365 [50:05<2:42:49,  1.66s/it]"
     ]
    },
    {
     "name": "stdout",
     "output_type": "stream",
     "text": [
      "Gender not available\n",
      "Citizenship not available\n"
     ]
    },
    {
     "name": "stderr",
     "output_type": "stream",
     "text": [
      " 20%|███████████████▌                                                            | 1505/7365 [50:34<3:04:55,  1.89s/it]"
     ]
    },
    {
     "name": "stdout",
     "output_type": "stream",
     "text": [
      "Birth date not available\n",
      "Gender not available\n",
      "Citizenship not available\n"
     ]
    },
    {
     "name": "stderr",
     "output_type": "stream",
     "text": [
      " 21%|███████████████▉                                                            | 1547/7365 [52:05<2:49:37,  1.75s/it]"
     ]
    },
    {
     "name": "stdout",
     "output_type": "stream",
     "text": [
      "Birth date not available\n",
      "Gender not available\n",
      "Citizenship not available\n"
     ]
    },
    {
     "name": "stderr",
     "output_type": "stream",
     "text": [
      " 22%|████████████████▍                                                           | 1596/7365 [53:43<2:31:06,  1.57s/it]"
     ]
    },
    {
     "name": "stdout",
     "output_type": "stream",
     "text": [
      "Citizenship not available\n"
     ]
    },
    {
     "name": "stderr",
     "output_type": "stream",
     "text": [
      " 22%|████████████████▍                                                           | 1598/7365 [53:45<2:16:18,  1.42s/it]"
     ]
    },
    {
     "name": "stdout",
     "output_type": "stream",
     "text": [
      "Birth date not available\n",
      "Gender not available\n",
      "Citizenship not available\n"
     ]
    },
    {
     "name": "stderr",
     "output_type": "stream",
     "text": [
      " 22%|████████████████▋                                                           | 1616/7365 [54:20<2:37:43,  1.65s/it]"
     ]
    },
    {
     "name": "stdout",
     "output_type": "stream",
     "text": [
      "Citizenship not available\n"
     ]
    },
    {
     "name": "stderr",
     "output_type": "stream",
     "text": [
      " 23%|█████████████████▎                                                          | 1681/7365 [56:29<2:41:09,  1.70s/it]"
     ]
    },
    {
     "name": "stdout",
     "output_type": "stream",
     "text": [
      "Birth date not available\n",
      "Citizenship not available\n"
     ]
    },
    {
     "name": "stderr",
     "output_type": "stream",
     "text": [
      " 23%|█████████████████▍                                                          | 1685/7365 [56:36<2:27:19,  1.56s/it]"
     ]
    },
    {
     "name": "stdout",
     "output_type": "stream",
     "text": [
      "Birth date not available\n",
      "Gender not available\n",
      "Citizenship not available\n"
     ]
    },
    {
     "name": "stderr",
     "output_type": "stream",
     "text": [
      " 23%|█████████████████▍                                                          | 1689/7365 [56:44<2:41:41,  1.71s/it]"
     ]
    },
    {
     "name": "stdout",
     "output_type": "stream",
     "text": [
      "Birth date not available\n",
      "Gender not available\n",
      "Citizenship not available\n"
     ]
    },
    {
     "name": "stderr",
     "output_type": "stream",
     "text": [
      " 23%|█████████████████▌                                                          | 1696/7365 [56:57<3:11:21,  2.03s/it]"
     ]
    },
    {
     "name": "stdout",
     "output_type": "stream",
     "text": [
      "Gender not available\n"
     ]
    },
    {
     "name": "stderr",
     "output_type": "stream",
     "text": [
      " 25%|██████████████████▋                                                       | 1856/7365 [1:02:28<2:43:16,  1.78s/it]"
     ]
    },
    {
     "name": "stdout",
     "output_type": "stream",
     "text": [
      "Birth date not available\n",
      "Gender not available\n",
      "Citizenship not available\n"
     ]
    },
    {
     "name": "stderr",
     "output_type": "stream",
     "text": [
      " 25%|██████████████████▊                                                       | 1869/7365 [1:02:53<2:40:32,  1.75s/it]"
     ]
    },
    {
     "name": "stdout",
     "output_type": "stream",
     "text": [
      "Citizenship not available\n"
     ]
    },
    {
     "name": "stderr",
     "output_type": "stream",
     "text": [
      " 26%|███████████████████                                                       | 1901/7365 [1:03:55<2:19:02,  1.53s/it]"
     ]
    },
    {
     "name": "stdout",
     "output_type": "stream",
     "text": [
      "Birth date not available\n",
      "Citizenship not available\n"
     ]
    },
    {
     "name": "stderr",
     "output_type": "stream",
     "text": [
      " 26%|███████████████████▎                                                      | 1923/7365 [1:04:39<2:17:14,  1.51s/it]"
     ]
    },
    {
     "name": "stdout",
     "output_type": "stream",
     "text": [
      "Citizenship not available\n"
     ]
    },
    {
     "name": "stderr",
     "output_type": "stream",
     "text": [
      " 27%|███████████████████▊                                                      | 1972/7365 [1:06:16<2:16:59,  1.52s/it]"
     ]
    },
    {
     "name": "stdout",
     "output_type": "stream",
     "text": [
      "Birth date not available\n",
      "Gender not available\n",
      "Citizenship not available\n"
     ]
    },
    {
     "name": "stderr",
     "output_type": "stream",
     "text": [
      " 27%|████████████████████                                                      | 1995/7365 [1:06:59<2:09:18,  1.44s/it]"
     ]
    },
    {
     "name": "stdout",
     "output_type": "stream",
     "text": [
      "Could not get metadata for Genelia DSouza: is the person's name spelled correctly?\n"
     ]
    },
    {
     "name": "stderr",
     "output_type": "stream",
     "text": [
      " 28%|████████████████████▊                                                     | 2070/7365 [1:09:26<2:28:37,  1.68s/it]"
     ]
    },
    {
     "name": "stdout",
     "output_type": "stream",
     "text": [
      "Citizenship not available\n"
     ]
    },
    {
     "name": "stderr",
     "output_type": "stream",
     "text": [
      " 28%|████████████████████▉                                                     | 2082/7365 [1:09:48<2:10:36,  1.48s/it]"
     ]
    },
    {
     "name": "stdout",
     "output_type": "stream",
     "text": [
      "Citizenship not available\n"
     ]
    },
    {
     "name": "stderr",
     "output_type": "stream",
     "text": [
      " 29%|█████████████████████▊                                                    | 2172/7365 [1:12:50<1:59:32,  1.38s/it]"
     ]
    },
    {
     "name": "stdout",
     "output_type": "stream",
     "text": [
      "Could not get metadata for Hanna Beth: is the person's name spelled correctly?\n"
     ]
    },
    {
     "name": "stderr",
     "output_type": "stream",
     "text": [
      " 30%|██████████████████████                                                    | 2200/7365 [1:13:42<2:16:35,  1.59s/it]"
     ]
    },
    {
     "name": "stdout",
     "output_type": "stream",
     "text": [
      "Birth date not available\n",
      "Gender not available\n",
      "Citizenship not available\n"
     ]
    },
    {
     "name": "stderr",
     "output_type": "stream",
     "text": [
      " 30%|██████████████████████▌                                                   | 2241/7365 [1:15:05<2:43:09,  1.91s/it]"
     ]
    },
    {
     "name": "stdout",
     "output_type": "stream",
     "text": [
      "Birth date not available\n"
     ]
    },
    {
     "name": "stderr",
     "output_type": "stream",
     "text": [
      " 31%|██████████████████████▉                                                   | 2288/7365 [1:16:38<2:05:09,  1.48s/it]"
     ]
    },
    {
     "name": "stdout",
     "output_type": "stream",
     "text": [
      "Could not get metadata for Humaima Malik: is the person's name spelled correctly?\n"
     ]
    },
    {
     "name": "stderr",
     "output_type": "stream",
     "text": [
      " 32%|███████████████████████▊                                                  | 2369/7365 [1:19:15<2:24:55,  1.74s/it]"
     ]
    },
    {
     "name": "stdout",
     "output_type": "stream",
     "text": [
      "Citizenship not available\n"
     ]
    },
    {
     "name": "stderr",
     "output_type": "stream",
     "text": [
      " 32%|███████████████████████▊                                                  | 2373/7365 [1:19:21<2:14:39,  1.62s/it]"
     ]
    },
    {
     "name": "stdout",
     "output_type": "stream",
     "text": [
      "Citizenship not available\n"
     ]
    },
    {
     "name": "stderr",
     "output_type": "stream",
     "text": [
      " 32%|███████████████████████▉                                                  | 2384/7365 [1:19:43<2:19:44,  1.68s/it]"
     ]
    },
    {
     "name": "stdout",
     "output_type": "stream",
     "text": [
      "Birth date not available\n",
      "Citizenship not available\n"
     ]
    },
    {
     "name": "stderr",
     "output_type": "stream",
     "text": [
      " 33%|████████████████████████                                                  | 2399/7365 [1:20:12<2:14:26,  1.62s/it]"
     ]
    },
    {
     "name": "stdout",
     "output_type": "stream",
     "text": [
      "Citizenship not available\n"
     ]
    },
    {
     "name": "stderr",
     "output_type": "stream",
     "text": [
      " 33%|████████████████████████▌                                                 | 2450/7365 [1:21:57<2:15:43,  1.66s/it]"
     ]
    },
    {
     "name": "stdout",
     "output_type": "stream",
     "text": [
      "Birth date not available\n",
      "Citizenship not available\n"
     ]
    },
    {
     "name": "stderr",
     "output_type": "stream",
     "text": [
      " 33%|████████████████████████▋                                                 | 2459/7365 [1:22:14<2:12:39,  1.62s/it]"
     ]
    },
    {
     "name": "stdout",
     "output_type": "stream",
     "text": [
      "Citizenship not available\n"
     ]
    },
    {
     "name": "stderr",
     "output_type": "stream",
     "text": [
      " 34%|████████████████████████▉                                                 | 2477/7365 [1:22:48<2:06:21,  1.55s/it]"
     ]
    },
    {
     "name": "stdout",
     "output_type": "stream",
     "text": [
      "Birth date not available\n",
      "Citizenship not available\n"
     ]
    },
    {
     "name": "stderr",
     "output_type": "stream",
     "text": [
      " 35%|█████████████████████████▌                                                | 2541/7365 [1:24:56<2:01:49,  1.52s/it]"
     ]
    },
    {
     "name": "stdout",
     "output_type": "stream",
     "text": [
      "Could not get metadata for Jason Wahler: is the person's name spelled correctly?\n"
     ]
    },
    {
     "name": "stderr",
     "output_type": "stream",
     "text": [
      " 35%|█████████████████████████▌                                                | 2544/7365 [1:25:00<1:54:52,  1.43s/it]"
     ]
    },
    {
     "name": "stdout",
     "output_type": "stream",
     "text": [
      "Birth date not available\n",
      "Gender not available\n",
      "Citizenship not available\n"
     ]
    },
    {
     "name": "stderr",
     "output_type": "stream",
     "text": [
      " 35%|█████████████████████████▋                                                | 2562/7365 [1:25:36<2:11:39,  1.64s/it]"
     ]
    },
    {
     "name": "stdout",
     "output_type": "stream",
     "text": [
      "Citizenship not available\n"
     ]
    },
    {
     "name": "stderr",
     "output_type": "stream",
     "text": [
      " 35%|██████████████████████████▏                                               | 2609/7365 [1:27:13<2:11:56,  1.66s/it]"
     ]
    },
    {
     "name": "stdout",
     "output_type": "stream",
     "text": [
      "Citizenship not available\n"
     ]
    },
    {
     "name": "stderr",
     "output_type": "stream",
     "text": [
      " 36%|██████████████████████████▎                                               | 2619/7365 [1:27:32<2:12:25,  1.67s/it]"
     ]
    },
    {
     "name": "stdout",
     "output_type": "stream",
     "text": [
      "Birth date not available\n",
      "Gender not available\n",
      "Citizenship not available\n"
     ]
    },
    {
     "name": "stderr",
     "output_type": "stream",
     "text": [
      "\r",
      " 36%|██████████████████████████▎                                               | 2620/7365 [1:27:34<2:21:19,  1.79s/it]"
     ]
    },
    {
     "name": "stdout",
     "output_type": "stream",
     "text": [
      "Birth date not available\n"
     ]
    },
    {
     "name": "stderr",
     "output_type": "stream",
     "text": [
      " 36%|██████████████████████████▌                                               | 2649/7365 [1:28:31<1:52:00,  1.42s/it]"
     ]
    },
    {
     "name": "stdout",
     "output_type": "stream",
     "text": [
      "Could not get metadata for Jerry OConnell: is the person's name spelled correctly?\n"
     ]
    },
    {
     "name": "stderr",
     "output_type": "stream",
     "text": [
      " 36%|██████████████████████████▉                                               | 2686/7365 [1:29:45<1:53:25,  1.45s/it]"
     ]
    },
    {
     "name": "stdout",
     "output_type": "stream",
     "text": [
      "Birth date not available\n",
      "Citizenship not available\n"
     ]
    },
    {
     "name": "stderr",
     "output_type": "stream",
     "text": [
      " 37%|███████████████████████████▎                                              | 2718/7365 [1:30:52<1:57:52,  1.52s/it]"
     ]
    },
    {
     "name": "stdout",
     "output_type": "stream",
     "text": [
      "Could not get metadata for Jin-hee Ji: is the person's name spelled correctly?\n"
     ]
    },
    {
     "name": "stderr",
     "output_type": "stream",
     "text": [
      " 37%|███████████████████████████▌                                              | 2746/7365 [1:31:47<2:00:26,  1.56s/it]"
     ]
    },
    {
     "name": "stdout",
     "output_type": "stream",
     "text": [
      "Could not get metadata for Jodi Lyn OKeefe: is the person's name spelled correctly?\n"
     ]
    },
    {
     "name": "stderr",
     "output_type": "stream",
     "text": [
      " 39%|████████████████████████████▋                                             | 2853/7365 [1:35:26<1:59:08,  1.58s/it]"
     ]
    },
    {
     "name": "stdout",
     "output_type": "stream",
     "text": [
      "Birth date not available\n",
      "Citizenship not available\n"
     ]
    },
    {
     "name": "stderr",
     "output_type": "stream",
     "text": [
      " 39%|████████████████████████████▉                                             | 2880/7365 [1:36:16<1:50:01,  1.47s/it]"
     ]
    },
    {
     "name": "stdout",
     "output_type": "stream",
     "text": [
      "Citizenship not available\n"
     ]
    },
    {
     "name": "stderr",
     "output_type": "stream",
     "text": [
      " 40%|█████████████████████████████▉                                            | 2974/7365 [1:39:31<2:01:42,  1.66s/it]"
     ]
    },
    {
     "name": "stdout",
     "output_type": "stream",
     "text": [
      "Birth date not available\n",
      "Gender not available\n",
      "Citizenship not available\n"
     ]
    },
    {
     "name": "stderr",
     "output_type": "stream",
     "text": [
      " 41%|██████████████████████████████▋                                           | 3054/7365 [1:42:15<1:42:29,  1.43s/it]"
     ]
    },
    {
     "name": "stdout",
     "output_type": "stream",
     "text": [
      "Could not get metadata for Karen Fairchild: is the person's name spelled correctly?\n"
     ]
    },
    {
     "name": "stderr",
     "output_type": "stream",
     "text": [
      " 42%|██████████████████████████████▊                                           | 3072/7365 [1:42:48<2:02:41,  1.71s/it]"
     ]
    },
    {
     "name": "stdout",
     "output_type": "stream",
     "text": [
      "Birth date not available\n",
      "Citizenship not available\n"
     ]
    },
    {
     "name": "stderr",
     "output_type": "stream",
     "text": [
      " 42%|███████████████████████████████                                           | 3088/7365 [1:43:19<1:46:31,  1.49s/it]"
     ]
    },
    {
     "name": "stdout",
     "output_type": "stream",
     "text": [
      "Could not get metadata for Kate OMara: is the person's name spelled correctly?\n"
     ]
    },
    {
     "name": "stderr",
     "output_type": "stream",
     "text": [
      " 42%|███████████████████████████████▎                                          | 3120/7365 [1:44:24<1:53:43,  1.61s/it]"
     ]
    },
    {
     "name": "stdout",
     "output_type": "stream",
     "text": [
      "Could not get metadata for Katon W. De Pena: is the person's name spelled correctly?\n"
     ]
    },
    {
     "name": "stderr",
     "output_type": "stream",
     "text": [
      " 44%|████████████████████████████████▎                                         | 3222/7365 [1:47:51<1:47:00,  1.55s/it]"
     ]
    },
    {
     "name": "stdout",
     "output_type": "stream",
     "text": [
      "Could not get metadata for Kipton Cronkite: is the person's name spelled correctly?\n"
     ]
    },
    {
     "name": "stderr",
     "output_type": "stream",
     "text": [
      " 44%|████████████████████████████████▌                                         | 3240/7365 [1:48:27<1:52:25,  1.64s/it]"
     ]
    },
    {
     "name": "stdout",
     "output_type": "stream",
     "text": [
      "Could not get metadata for Koel Mallick: is the person's name spelled correctly?\n"
     ]
    },
    {
     "name": "stderr",
     "output_type": "stream",
     "text": [
      " 44%|████████████████████████████████▉                                         | 3275/7365 [1:49:36<1:57:41,  1.73s/it]"
     ]
    },
    {
     "name": "stdout",
     "output_type": "stream",
     "text": [
      "Could not get metadata for Krystle Lina: is the person's name spelled correctly?\n"
     ]
    },
    {
     "name": "stderr",
     "output_type": "stream",
     "text": [
      " 46%|██████████████████████████████████▍                                       | 3422/7365 [1:54:39<1:50:12,  1.68s/it]"
     ]
    },
    {
     "name": "stdout",
     "output_type": "stream",
     "text": [
      "Citizenship not available\n"
     ]
    },
    {
     "name": "stderr",
     "output_type": "stream",
     "text": [
      " 47%|██████████████████████████████████▍                                       | 3425/7365 [1:54:45<1:55:33,  1.76s/it]"
     ]
    },
    {
     "name": "stdout",
     "output_type": "stream",
     "text": [
      "Citizenship not available\n"
     ]
    },
    {
     "name": "stderr",
     "output_type": "stream",
     "text": [
      " 47%|██████████████████████████████████▍                                       | 3429/7365 [1:54:51<1:37:32,  1.49s/it]"
     ]
    },
    {
     "name": "stdout",
     "output_type": "stream",
     "text": [
      "Could not get metadata for Liana Mendoza: is the person's name spelled correctly?\n"
     ]
    },
    {
     "name": "stderr",
     "output_type": "stream",
     "text": [
      " 47%|██████████████████████████████████▌                                       | 3434/7365 [1:55:00<1:35:21,  1.46s/it]"
     ]
    },
    {
     "name": "stdout",
     "output_type": "stream",
     "text": [
      "Birth date not available\n",
      "Gender not available\n",
      "Citizenship not available\n"
     ]
    },
    {
     "name": "stderr",
     "output_type": "stream",
     "text": [
      " 47%|███████████████████████████████████                                       | 3487/7365 [1:56:45<1:36:33,  1.49s/it]"
     ]
    },
    {
     "name": "stdout",
     "output_type": "stream",
     "text": [
      "Citizenship not available\n"
     ]
    },
    {
     "name": "stderr",
     "output_type": "stream",
     "text": [
      " 48%|███████████████████████████████████▏                                      | 3503/7365 [1:57:16<1:46:08,  1.65s/it]"
     ]
    },
    {
     "name": "stdout",
     "output_type": "stream",
     "text": [
      "Citizenship not available\n"
     ]
    },
    {
     "name": "stderr",
     "output_type": "stream",
     "text": [
      " 48%|███████████████████████████████████▋                                      | 3546/7365 [1:58:36<1:37:40,  1.53s/it]"
     ]
    },
    {
     "name": "stdout",
     "output_type": "stream",
     "text": [
      "Citizenship not available\n"
     ]
    },
    {
     "name": "stderr",
     "output_type": "stream",
     "text": [
      " 48%|███████████████████████████████████▊                                      | 3560/7365 [1:59:02<1:37:50,  1.54s/it]"
     ]
    },
    {
     "name": "stdout",
     "output_type": "stream",
     "text": [
      "Citizenship not available\n"
     ]
    },
    {
     "name": "stderr",
     "output_type": "stream",
     "text": [
      " 49%|███████████████████████████████████▉                                      | 3581/7365 [1:59:43<1:34:18,  1.50s/it]"
     ]
    },
    {
     "name": "stdout",
     "output_type": "stream",
     "text": [
      "Could not get metadata for MC Harvey: is the person's name spelled correctly?\n"
     ]
    },
    {
     "name": "stderr",
     "output_type": "stream",
     "text": [
      " 49%|████████████████████████████████████▏                                     | 3599/7365 [2:00:16<1:37:53,  1.56s/it]"
     ]
    },
    {
     "name": "stdout",
     "output_type": "stream",
     "text": [
      "Birth date not available\n",
      "Gender not available\n",
      "Citizenship not available\n"
     ]
    },
    {
     "name": "stderr",
     "output_type": "stream",
     "text": [
      " 49%|████████████████████████████████████▎                                     | 3608/7365 [2:00:31<1:23:23,  1.33s/it]"
     ]
    },
    {
     "name": "stdout",
     "output_type": "stream",
     "text": [
      "Could not get metadata for Mahleej Sarkari: is the person's name spelled correctly?\n"
     ]
    },
    {
     "name": "stderr",
     "output_type": "stream",
     "text": [
      " 49%|████████████████████████████████████▎                                     | 3614/7365 [2:00:42<1:33:19,  1.49s/it]"
     ]
    },
    {
     "name": "stdout",
     "output_type": "stream",
     "text": [
      "Citizenship not available\n"
     ]
    },
    {
     "name": "stderr",
     "output_type": "stream",
     "text": [
      " 49%|████████████████████████████████████▍                                     | 3630/7365 [2:01:13<1:38:56,  1.59s/it]"
     ]
    },
    {
     "name": "stdout",
     "output_type": "stream",
     "text": [
      "Could not get metadata for Manchu Lakshmi Prasanna: is the person's name spelled correctly?\n"
     ]
    },
    {
     "name": "stderr",
     "output_type": "stream",
     "text": [
      " 49%|████████████████████████████████████▍                                     | 3632/7365 [2:01:16<1:24:23,  1.36s/it]"
     ]
    },
    {
     "name": "stdout",
     "output_type": "stream",
     "text": [
      "Birth date not available\n",
      "Gender not available\n",
      "Citizenship not available\n"
     ]
    },
    {
     "name": "stderr",
     "output_type": "stream",
     "text": [
      " 50%|█████████████████████████████████████▏                                    | 3700/7365 [2:03:32<1:34:25,  1.55s/it]"
     ]
    },
    {
     "name": "stdout",
     "output_type": "stream",
     "text": [
      "Could not get metadata for Margaret Blanchard: is the person's name spelled correctly?\n"
     ]
    },
    {
     "name": "stderr",
     "output_type": "stream",
     "text": [
      " 51%|█████████████████████████████████████▌                                    | 3733/7365 [2:04:35<1:39:08,  1.64s/it]"
     ]
    },
    {
     "name": "stdout",
     "output_type": "stream",
     "text": [
      "Birth date not available\n",
      "Gender not available\n",
      "Citizenship not available\n"
     ]
    },
    {
     "name": "stderr",
     "output_type": "stream",
     "text": [
      " 51%|█████████████████████████████████████▉                                    | 3776/7365 [2:06:06<1:43:34,  1.73s/it]"
     ]
    },
    {
     "name": "stdout",
     "output_type": "stream",
     "text": [
      "Birth date not available\n",
      "Gender not available\n",
      "Citizenship not available\n"
     ]
    },
    {
     "name": "stderr",
     "output_type": "stream",
     "text": [
      " 52%|██████████████████████████████████████▏                                   | 3800/7365 [2:06:53<1:42:34,  1.73s/it]"
     ]
    },
    {
     "name": "stdout",
     "output_type": "stream",
     "text": [
      "Could not get metadata for Martin OMalley: is the person's name spelled correctly?\n"
     ]
    },
    {
     "name": "stderr",
     "output_type": "stream",
     "text": [
      " 52%|██████████████████████████████████████▊                                   | 3862/7365 [2:09:00<1:35:56,  1.64s/it]"
     ]
    },
    {
     "name": "stdout",
     "output_type": "stream",
     "text": [
      "Birth date not available\n",
      "Citizenship not available\n"
     ]
    },
    {
     "name": "stderr",
     "output_type": "stream",
     "text": [
      " 53%|███████████████████████████████████████▎                                  | 3912/7365 [2:10:40<1:34:35,  1.64s/it]"
     ]
    },
    {
     "name": "stdout",
     "output_type": "stream",
     "text": [
      "Birth date not available\n",
      "Gender not available\n",
      "Citizenship not available\n"
     ]
    },
    {
     "name": "stderr",
     "output_type": "stream",
     "text": [
      " 54%|████████████████████████████████████████▏                                 | 3994/7365 [2:13:26<1:38:02,  1.74s/it]"
     ]
    },
    {
     "name": "stdout",
     "output_type": "stream",
     "text": [
      "Birth date not available\n",
      "Gender not available\n",
      "Citizenship not available\n"
     ]
    },
    {
     "name": "stderr",
     "output_type": "stream",
     "text": [
      " 56%|█████████████████████████████████████████▏                                | 4100/7365 [2:17:13<1:30:10,  1.66s/it]"
     ]
    },
    {
     "name": "stdout",
     "output_type": "stream",
     "text": [
      "Birth date not available\n",
      "Gender not available\n",
      "Citizenship not available\n"
     ]
    },
    {
     "name": "stderr",
     "output_type": "stream",
     "text": [
      " 56%|█████████████████████████████████████████▎                                | 4106/7365 [2:17:23<1:19:33,  1.46s/it]"
     ]
    },
    {
     "name": "stdout",
     "output_type": "stream",
     "text": [
      "Birth date not available\n",
      "Gender not available\n",
      "Citizenship not available\n"
     ]
    },
    {
     "name": "stderr",
     "output_type": "stream",
     "text": [
      " 56%|█████████████████████████████████████████▎                                | 4111/7365 [2:17:32<1:23:18,  1.54s/it]"
     ]
    },
    {
     "name": "stdout",
     "output_type": "stream",
     "text": [
      "Birth date not available\n",
      "Citizenship not available\n"
     ]
    },
    {
     "name": "stderr",
     "output_type": "stream",
     "text": [
      " 56%|█████████████████████████████████████████▌                                | 4135/7365 [2:18:22<1:39:56,  1.86s/it]"
     ]
    },
    {
     "name": "stdout",
     "output_type": "stream",
     "text": [
      "Citizenship not available\n"
     ]
    },
    {
     "name": "stderr",
     "output_type": "stream",
     "text": [
      " 56%|█████████████████████████████████████████▋                                | 4145/7365 [2:18:40<1:26:21,  1.61s/it]"
     ]
    },
    {
     "name": "stdout",
     "output_type": "stream",
     "text": [
      "Citizenship not available\n"
     ]
    },
    {
     "name": "stderr",
     "output_type": "stream",
     "text": [
      " 57%|█████████████████████████████████████████▉                                | 4173/7365 [2:19:37<1:37:37,  1.84s/it]"
     ]
    },
    {
     "name": "stdout",
     "output_type": "stream",
     "text": [
      "Birth date not available\n",
      "Gender not available\n",
      "Citizenship not available\n"
     ]
    },
    {
     "name": "stderr",
     "output_type": "stream",
     "text": [
      "\r",
      " 57%|█████████████████████████████████████████▉                                | 4174/7365 [2:19:38<1:18:13,  1.47s/it]"
     ]
    },
    {
     "name": "stdout",
     "output_type": "stream",
     "text": [
      "Birth date not available\n",
      "Gender not available\n",
      "Citizenship not available\n"
     ]
    },
    {
     "name": "stderr",
     "output_type": "stream",
     "text": [
      " 57%|█████████████████████████████████████████▉                                | 4180/7365 [2:19:49<1:24:41,  1.60s/it]"
     ]
    },
    {
     "name": "stdout",
     "output_type": "stream",
     "text": [
      "Birth date not available\n",
      "Gender not available\n",
      "Citizenship not available\n"
     ]
    },
    {
     "name": "stderr",
     "output_type": "stream",
     "text": [
      " 57%|██████████████████████████████████████████▏                               | 4195/7365 [2:20:17<1:15:12,  1.42s/it]"
     ]
    },
    {
     "name": "stdout",
     "output_type": "stream",
     "text": [
      "Could not get metadata for Nancy DellOlio: is the person's name spelled correctly?\n"
     ]
    },
    {
     "name": "stderr",
     "output_type": "stream",
     "text": [
      " 57%|██████████████████████████████████████████▏                               | 4198/7365 [2:20:22<1:15:11,  1.42s/it]"
     ]
    },
    {
     "name": "stdout",
     "output_type": "stream",
     "text": [
      "Birth date not available\n",
      "Citizenship not available\n"
     ]
    },
    {
     "name": "stderr",
     "output_type": "stream",
     "text": [
      " 57%|██████████████████████████████████████████▍                               | 4227/7365 [2:21:21<1:22:42,  1.58s/it]"
     ]
    },
    {
     "name": "stdout",
     "output_type": "stream",
     "text": [
      "Birth date not available\n",
      "Gender not available\n",
      "Citizenship not available\n"
     ]
    },
    {
     "name": "stderr",
     "output_type": "stream",
     "text": [
      " 58%|██████████████████████████████████████████▊                               | 4257/7365 [2:22:25<1:22:23,  1.59s/it]"
     ]
    },
    {
     "name": "stdout",
     "output_type": "stream",
     "text": [
      "Birth date not available\n",
      "Gender not available\n",
      "Citizenship not available\n"
     ]
    },
    {
     "name": "stderr",
     "output_type": "stream",
     "text": [
      " 58%|███████████████████████████████████████████                               | 4286/7365 [2:23:22<1:18:30,  1.53s/it]"
     ]
    },
    {
     "name": "stdout",
     "output_type": "stream",
     "text": [
      "Citizenship not available\n"
     ]
    },
    {
     "name": "stderr",
     "output_type": "stream",
     "text": [
      " 58%|███████████████████████████████████████████▏                              | 4300/7365 [2:23:48<1:22:08,  1.61s/it]"
     ]
    },
    {
     "name": "stdout",
     "output_type": "stream",
     "text": [
      "Birth date not available\n",
      "Gender not available\n",
      "Citizenship not available\n"
     ]
    },
    {
     "name": "stderr",
     "output_type": "stream",
     "text": [
      " 59%|███████████████████████████████████████████▍                              | 4327/7365 [2:24:44<1:20:33,  1.59s/it]"
     ]
    },
    {
     "name": "stdout",
     "output_type": "stream",
     "text": [
      "Could not get metadata for Nicoletta Mantovani: is the person's name spelled correctly?\n"
     ]
    },
    {
     "name": "stderr",
     "output_type": "stream",
     "text": [
      " 59%|███████████████████████████████████████████▊                              | 4355/7365 [2:25:38<1:14:54,  1.49s/it]"
     ]
    },
    {
     "name": "stdout",
     "output_type": "stream",
     "text": [
      "Could not get metadata for Nina Watson: is the person's name spelled correctly?\n"
     ]
    },
    {
     "name": "stderr",
     "output_type": "stream",
     "text": [
      " 59%|███████████████████████████████████████████▉                              | 4374/7365 [2:26:15<1:15:49,  1.52s/it]"
     ]
    },
    {
     "name": "stdout",
     "output_type": "stream",
     "text": [
      "Could not get metadata for Norah ODonnell: is the person's name spelled correctly?\n"
     ]
    },
    {
     "name": "stderr",
     "output_type": "stream",
     "text": [
      " 60%|████████████████████████████████████████████▊                             | 4454/7365 [2:28:57<1:17:57,  1.61s/it]"
     ]
    },
    {
     "name": "stdout",
     "output_type": "stream",
     "text": [
      "Citizenship not available\n"
     ]
    },
    {
     "name": "stderr",
     "output_type": "stream",
     "text": [
      " 61%|████████████████████████████████████████████▉                             | 4474/7365 [2:29:37<1:23:31,  1.73s/it]"
     ]
    },
    {
     "name": "stdout",
     "output_type": "stream",
     "text": [
      "Birth date not available\n",
      "Gender not available\n",
      "Citizenship not available\n"
     ]
    },
    {
     "name": "stderr",
     "output_type": "stream",
     "text": [
      " 61%|█████████████████████████████████████████████▏                            | 4493/7365 [2:30:14<1:14:20,  1.55s/it]"
     ]
    },
    {
     "name": "stdout",
     "output_type": "stream",
     "text": [
      "Could not get metadata for Paul DiGiovanni: is the person's name spelled correctly?\n"
     ]
    },
    {
     "name": "stderr",
     "output_type": "stream",
     "text": [
      " 61%|█████████████████████████████████████████████▍                            | 4527/7365 [2:31:22<1:10:19,  1.49s/it]"
     ]
    },
    {
     "name": "stdout",
     "output_type": "stream",
     "text": [
      "Birth date not available\n",
      "Gender not available\n",
      "Citizenship not available\n"
     ]
    },
    {
     "name": "stderr",
     "output_type": "stream",
     "text": [
      " 62%|█████████████████████████████████████████████▋                            | 4548/7365 [2:32:02<1:13:39,  1.57s/it]"
     ]
    },
    {
     "name": "stdout",
     "output_type": "stream",
     "text": [
      "Birth date not available\n",
      "Citizenship not available\n"
     ]
    },
    {
     "name": "stderr",
     "output_type": "stream",
     "text": [
      " 63%|██████████████████████████████████████████████▍                           | 4617/7365 [2:34:25<1:24:54,  1.85s/it]"
     ]
    },
    {
     "name": "stdout",
     "output_type": "stream",
     "text": [
      "Birth date not available\n"
     ]
    },
    {
     "name": "stderr",
     "output_type": "stream",
     "text": [
      " 63%|██████████████████████████████████████████████▋                           | 4651/7365 [2:36:39<2:34:18,  3.41s/it]"
     ]
    },
    {
     "name": "stdout",
     "output_type": "stream",
     "text": [
      "Could not get metadata for Prahladananda Swami: is the person's name spelled correctly?\n"
     ]
    },
    {
     "name": "stderr",
     "output_type": "stream",
     "text": [
      " 63%|██████████████████████████████████████████████▉                           | 4671/7365 [2:38:05<2:32:03,  3.39s/it]"
     ]
    },
    {
     "name": "stdout",
     "output_type": "stream",
     "text": [
      "Could not get metadata for Qorianka Kilcher: is the person's name spelled correctly?\n"
     ]
    },
    {
     "name": "stderr",
     "output_type": "stream",
     "text": [
      " 63%|██████████████████████████████████████████████▉                           | 4674/7365 [2:38:15<2:24:37,  3.22s/it]"
     ]
    },
    {
     "name": "stdout",
     "output_type": "stream",
     "text": [
      "Gender not available\n",
      "Citizenship not available\n"
     ]
    },
    {
     "name": "stderr",
     "output_type": "stream",
     "text": [
      " 64%|███████████████████████████████████████████████                           | 4679/7365 [2:38:35<2:37:55,  3.53s/it]"
     ]
    },
    {
     "name": "stdout",
     "output_type": "stream",
     "text": [
      "Birth date not available\n",
      "Gender not available\n",
      "Citizenship not available\n"
     ]
    },
    {
     "name": "stderr",
     "output_type": "stream",
     "text": [
      " 64%|███████████████████████████████████████████████▎                          | 4711/7365 [2:40:23<1:15:22,  1.70s/it]"
     ]
    },
    {
     "name": "stdout",
     "output_type": "stream",
     "text": [
      "Birth date not available\n",
      "Citizenship not available\n"
     ]
    },
    {
     "name": "stderr",
     "output_type": "stream",
     "text": [
      " 64%|███████████████████████████████████████████████▋                          | 4745/7365 [2:41:39<1:24:25,  1.93s/it]"
     ]
    },
    {
     "name": "stdout",
     "output_type": "stream",
     "text": [
      "Citizenship not available\n"
     ]
    },
    {
     "name": "stderr",
     "output_type": "stream",
     "text": [
      " 65%|███████████████████████████████████████████████▊                          | 4753/7365 [2:41:54<1:07:16,  1.55s/it]"
     ]
    },
    {
     "name": "stdout",
     "output_type": "stream",
     "text": [
      "Could not get metadata for Ramona Singer: is the person's name spelled correctly?\n"
     ]
    },
    {
     "name": "stderr",
     "output_type": "stream",
     "text": [
      " 65%|████████████████████████████████████████████████▎                         | 4803/7365 [2:43:36<1:04:05,  1.50s/it]"
     ]
    },
    {
     "name": "stdout",
     "output_type": "stream",
     "text": [
      "Could not get metadata for Remo DSouza: is the person's name spelled correctly?\n"
     ]
    },
    {
     "name": "stderr",
     "output_type": "stream",
     "text": [
      " 66%|████████████████████████████████████████████████▊                         | 4856/7365 [2:45:35<1:16:50,  1.84s/it]"
     ]
    },
    {
     "name": "stdout",
     "output_type": "stream",
     "text": [
      "Birth date not available\n",
      "Gender not available\n",
      "Citizenship not available\n"
     ]
    },
    {
     "name": "stderr",
     "output_type": "stream",
     "text": [
      " 68%|██████████████████████████████████████████████████                        | 4977/7365 [2:50:31<1:32:00,  2.31s/it]"
     ]
    },
    {
     "name": "stdout",
     "output_type": "stream",
     "text": [
      "Could not get metadata for Ronan OGara: is the person's name spelled correctly?\n"
     ]
    },
    {
     "name": "stderr",
     "output_type": "stream",
     "text": [
      " 68%|██████████████████████████████████████████████████▏                       | 4992/7365 [2:51:05<1:17:48,  1.97s/it]"
     ]
    },
    {
     "name": "stdout",
     "output_type": "stream",
     "text": [
      "Citizenship not available\n"
     ]
    },
    {
     "name": "stderr",
     "output_type": "stream",
     "text": [
      " 68%|██████████████████████████████████████████████████▏                       | 4998/7365 [2:51:19<1:34:57,  2.41s/it]"
     ]
    },
    {
     "name": "stdout",
     "output_type": "stream",
     "text": [
      "Gender not available\n"
     ]
    },
    {
     "name": "stderr",
     "output_type": "stream",
     "text": [
      " 68%|██████████████████████████████████████████████████▎                       | 5007/7365 [2:51:40<1:19:54,  2.03s/it]"
     ]
    },
    {
     "name": "stdout",
     "output_type": "stream",
     "text": [
      "Could not get metadata for Rosie ODonnell: is the person's name spelled correctly?\n"
     ]
    },
    {
     "name": "stderr",
     "output_type": "stream",
     "text": [
      " 69%|███████████████████████████████████████████████████▏                      | 5090/7365 [2:54:56<1:12:31,  1.91s/it]"
     ]
    },
    {
     "name": "stdout",
     "output_type": "stream",
     "text": [
      "Citizenship not available\n"
     ]
    },
    {
     "name": "stderr",
     "output_type": "stream",
     "text": [
      " 71%|█████████████████████████████████████████████████████▌                      | 5196/7365 [2:58:36<54:16,  1.50s/it]"
     ]
    },
    {
     "name": "stdout",
     "output_type": "stream",
     "text": [
      "Could not get metadata for Sean OPry: is the person's name spelled correctly?\n"
     ]
    },
    {
     "name": "stderr",
     "output_type": "stream",
     "text": [
      " 71%|█████████████████████████████████████████████████████▉                      | 5224/7365 [2:59:31<51:26,  1.44s/it]"
     ]
    },
    {
     "name": "stdout",
     "output_type": "stream",
     "text": [
      "Birth date not available\n",
      "Gender not available\n",
      "Citizenship not available\n"
     ]
    },
    {
     "name": "stderr",
     "output_type": "stream",
     "text": [
      " 72%|██████████████████████████████████████████████████████▍                     | 5272/7365 [3:01:04<54:20,  1.56s/it]"
     ]
    },
    {
     "name": "stdout",
     "output_type": "stream",
     "text": [
      "Citizenship not available\n"
     ]
    },
    {
     "name": "stderr",
     "output_type": "stream",
     "text": [
      " 72%|██████████████████████████████████████████████████████▋                     | 5298/7365 [3:01:57<58:01,  1.68s/it]"
     ]
    },
    {
     "name": "stdout",
     "output_type": "stream",
     "text": [
      "Citizenship not available\n"
     ]
    },
    {
     "name": "stderr",
     "output_type": "stream",
     "text": [
      " 73%|███████████████████████████████████████████████████████▎                    | 5358/7365 [3:03:56<57:23,  1.72s/it]"
     ]
    },
    {
     "name": "stdout",
     "output_type": "stream",
     "text": [
      "Citizenship not available\n"
     ]
    },
    {
     "name": "stderr",
     "output_type": "stream",
     "text": [
      " 73%|███████████████████████████████████████████████████████▎                    | 5360/7365 [3:03:59<47:34,  1.42s/it]"
     ]
    },
    {
     "name": "stdout",
     "output_type": "stream",
     "text": [
      "Birth date not available\n",
      "Citizenship not available\n"
     ]
    },
    {
     "name": "stderr",
     "output_type": "stream",
     "text": [
      " 73%|███████████████████████████████████████████████████████▎                    | 5362/7365 [3:04:01<38:55,  1.17s/it]"
     ]
    },
    {
     "name": "stdout",
     "output_type": "stream",
     "text": [
      "Could not get metadata for Soledad OBrien: is the person's name spelled correctly?\n"
     ]
    },
    {
     "name": "stderr",
     "output_type": "stream",
     "text": [
      " 74%|████████████████████████████████████████████████████████▏                   | 5450/7365 [3:07:01<49:03,  1.54s/it]"
     ]
    },
    {
     "name": "stdout",
     "output_type": "stream",
     "text": [
      "Citizenship not available\n"
     ]
    },
    {
     "name": "stderr",
     "output_type": "stream",
     "text": [
      " 74%|████████████████████████████████████████████████████████▎                   | 5455/7365 [3:07:10<54:46,  1.72s/it]"
     ]
    },
    {
     "name": "stdout",
     "output_type": "stream",
     "text": [
      "Citizenship not available\n"
     ]
    },
    {
     "name": "stderr",
     "output_type": "stream",
     "text": [
      " 74%|████████████████████████████████████████████████████████▎                   | 5460/7365 [3:07:20<55:14,  1.74s/it]"
     ]
    },
    {
     "name": "stdout",
     "output_type": "stream",
     "text": [
      "Citizenship not available\n"
     ]
    },
    {
     "name": "stderr",
     "output_type": "stream",
     "text": [
      " 75%|████████████████████████████████████████████████████████▊                   | 5506/7365 [3:08:52<46:15,  1.49s/it]"
     ]
    },
    {
     "name": "stdout",
     "output_type": "stream",
     "text": [
      "Could not get metadata for Swathi Reddy: is the person's name spelled correctly?\n"
     ]
    },
    {
     "name": "stderr",
     "output_type": "stream",
     "text": [
      " 75%|█████████████████████████████████████████████████████████▏                  | 5541/7365 [3:10:01<44:49,  1.47s/it]"
     ]
    },
    {
     "name": "stdout",
     "output_type": "stream",
     "text": [
      "Could not get metadata for Tanaz Tabatabaei: is the person's name spelled correctly?\n"
     ]
    },
    {
     "name": "stderr",
     "output_type": "stream",
     "text": [
      " 77%|██████████████████████████████████████████████████████████▍                 | 5663/7365 [3:14:10<42:16,  1.49s/it]"
     ]
    },
    {
     "name": "stdout",
     "output_type": "stream",
     "text": [
      "Could not get metadata for Titus ONeil: is the person's name spelled correctly?\n"
     ]
    },
    {
     "name": "stderr",
     "output_type": "stream",
     "text": [
      " 77%|██████████████████████████████████████████████████████████▊                 | 5698/7365 [3:15:18<47:08,  1.70s/it]"
     ]
    },
    {
     "name": "stdout",
     "output_type": "stream",
     "text": [
      "Citizenship not available\n"
     ]
    },
    {
     "name": "stderr",
     "output_type": "stream",
     "text": [
      " 78%|███████████████████████████████████████████████████████████▍                | 5764/7365 [3:17:27<42:27,  1.59s/it]"
     ]
    },
    {
     "name": "stdout",
     "output_type": "stream",
     "text": [
      "Birth date not available\n",
      "Gender not available\n",
      "Citizenship not available\n"
     ]
    },
    {
     "name": "stderr",
     "output_type": "stream",
     "text": [
      " 79%|███████████████████████████████████████████████████████████▉                | 5806/7365 [3:18:55<44:08,  1.70s/it]"
     ]
    },
    {
     "name": "stdout",
     "output_type": "stream",
     "text": [
      "Birth date not available\n",
      "Gender not available\n",
      "Citizenship not available\n"
     ]
    },
    {
     "name": "stderr",
     "output_type": "stream",
     "text": [
      " 79%|████████████████████████████████████████████████████████████                | 5818/7365 [3:19:18<39:47,  1.54s/it]"
     ]
    },
    {
     "name": "stdout",
     "output_type": "stream",
     "text": [
      "Could not get metadata for V. K. Singh: is the person's name spelled correctly?\n"
     ]
    },
    {
     "name": "stderr",
     "output_type": "stream",
     "text": [
      " 79%|████████████████████████████████████████████████████████████▎               | 5844/7365 [3:20:08<40:01,  1.58s/it]"
     ]
    },
    {
     "name": "stdout",
     "output_type": "stream",
     "text": [
      "Birth date not available\n",
      "Gender not available\n",
      "Citizenship not available\n"
     ]
    },
    {
     "name": "stderr",
     "output_type": "stream",
     "text": [
      " 80%|████████████████████████████████████████████████████████████▉               | 5909/7365 [3:22:16<41:04,  1.69s/it]"
     ]
    },
    {
     "name": "stdout",
     "output_type": "stream",
     "text": [
      "Birth date not available\n",
      "Gender not available\n",
      "Citizenship not available\n"
     ]
    },
    {
     "name": "stderr",
     "output_type": "stream",
     "text": [
      " 81%|█████████████████████████████████████████████████████████████▍              | 5950/7365 [3:23:40<47:41,  2.02s/it]"
     ]
    },
    {
     "name": "stdout",
     "output_type": "stream",
     "text": [
      "Birth date not available\n"
     ]
    },
    {
     "name": "stderr",
     "output_type": "stream",
     "text": [
      " 81%|█████████████████████████████████████████████████████████████▊              | 5986/7365 [3:24:54<37:10,  1.62s/it]"
     ]
    },
    {
     "name": "stdout",
     "output_type": "stream",
     "text": [
      "Citizenship not available\n"
     ]
    },
    {
     "name": "stderr",
     "output_type": "stream",
     "text": [
      " 85%|████████████████████████████████████████████████████████████████▌           | 6262/7365 [3:34:22<30:25,  1.66s/it]"
     ]
    },
    {
     "name": "stdout",
     "output_type": "stream",
     "text": [
      "Birth date not available\n",
      "Gender not available\n",
      "Citizenship not available\n"
     ]
    },
    {
     "name": "stderr",
     "output_type": "stream",
     "text": [
      " 87%|█████████████████████████████████████████████████████████████████▉          | 6386/7365 [3:38:56<34:13,  2.10s/it]"
     ]
    },
    {
     "name": "stdout",
     "output_type": "stream",
     "text": [
      "Gender not available\n"
     ]
    },
    {
     "name": "stderr",
     "output_type": "stream",
     "text": [
      " 87%|██████████████████████████████████████████████████████████████████▎         | 6422/7365 [3:40:23<31:47,  2.02s/it]"
     ]
    },
    {
     "name": "stdout",
     "output_type": "stream",
     "text": [
      "Gender not available\n"
     ]
    },
    {
     "name": "stderr",
     "output_type": "stream",
     "text": [
      " 87%|██████████████████████████████████████████████████████████████████▎         | 6426/7365 [3:40:32<30:13,  1.93s/it]"
     ]
    },
    {
     "name": "stdout",
     "output_type": "stream",
     "text": [
      "Citizenship not available\n"
     ]
    },
    {
     "name": "stderr",
     "output_type": "stream",
     "text": [
      " 91%|█████████████████████████████████████████████████████████████████████▍      | 6726/7365 [3:51:18<16:21,  1.54s/it]"
     ]
    },
    {
     "name": "stdout",
     "output_type": "stream",
     "text": [
      "Could not get metadata for Katie Cleary: is the person's name spelled correctly?\n"
     ]
    },
    {
     "name": "stderr",
     "output_type": "stream",
     "text": [
      " 94%|███████████████████████████████████████████████████████████████████████▌    | 6938/7365 [3:58:49<15:37,  2.20s/it]"
     ]
    },
    {
     "name": "stdout",
     "output_type": "stream",
     "text": [
      "Gender not available\n"
     ]
    },
    {
     "name": "stderr",
     "output_type": "stream",
     "text": [
      " 94%|███████████████████████████████████████████████████████████████████████▋    | 6942/7365 [3:58:58<14:51,  2.11s/it]"
     ]
    },
    {
     "name": "stdout",
     "output_type": "stream",
     "text": [
      "Citizenship not available\n"
     ]
    },
    {
     "name": "stderr",
     "output_type": "stream",
     "text": [
      " 95%|███████████████████████████████████████████████████████████████████████▊    | 6961/7365 [3:59:37<12:21,  1.83s/it]"
     ]
    },
    {
     "name": "stdout",
     "output_type": "stream",
     "text": [
      "Birth date not available\n",
      "Gender not available\n",
      "Citizenship not available\n"
     ]
    },
    {
     "name": "stderr",
     "output_type": "stream",
     "text": [
      " 95%|████████████████████████████████████████████████████████████████████████▏   | 6999/7365 [4:00:59<10:41,  1.75s/it]"
     ]
    },
    {
     "name": "stdout",
     "output_type": "stream",
     "text": [
      "Birth date not available\n",
      "Citizenship not available\n"
     ]
    },
    {
     "name": "stderr",
     "output_type": "stream",
     "text": [
      " 95%|████████████████████████████████████████████████████████████████████████▌   | 7029/7365 [4:02:08<10:27,  1.87s/it]"
     ]
    },
    {
     "name": "stdout",
     "output_type": "stream",
     "text": [
      "Birth date not available\n",
      "Citizenship not available\n"
     ]
    },
    {
     "name": "stderr",
     "output_type": "stream",
     "text": [
      " 96%|████████████████████████████████████████████████████████████████████████▋   | 7039/7365 [4:02:30<10:37,  1.96s/it]"
     ]
    },
    {
     "name": "stdout",
     "output_type": "stream",
     "text": [
      "Citizenship not available\n"
     ]
    },
    {
     "name": "stderr",
     "output_type": "stream",
     "text": [
      " 96%|████████████████████████████████████████████████████████████████████████▊   | 7058/7365 [4:03:11<09:21,  1.83s/it]"
     ]
    },
    {
     "name": "stdout",
     "output_type": "stream",
     "text": [
      "Birth date not available\n",
      "Gender not available\n",
      "Citizenship not available\n"
     ]
    },
    {
     "name": "stderr",
     "output_type": "stream",
     "text": [
      " 97%|█████████████████████████████████████████████████████████████████████████▊  | 7155/7365 [4:06:48<09:06,  2.60s/it]"
     ]
    },
    {
     "name": "stdout",
     "output_type": "stream",
     "text": [
      "Gender not available\n"
     ]
    },
    {
     "name": "stderr",
     "output_type": "stream",
     "text": [
      "100%|████████████████████████████████████████████████████████████████████████████| 7365/7365 [4:16:00<00:00,  2.09s/it]\n"
     ]
    }
   ],
   "source": [
    "vips_metadata_wikidata, not_found_vips_wikidata = download_vips_metadata(unique_vips, 'wikidata')"
   ]
  },
  {
   "cell_type": "code",
   "execution_count": 19,
   "metadata": {},
   "outputs": [
    {
     "data": {
      "text/plain": [
       "7317"
      ]
     },
     "execution_count": 19,
     "metadata": {},
     "output_type": "execute_result"
    }
   ],
   "source": [
    "len(vips_metadata_wikidata)"
   ]
  },
  {
   "cell_type": "code",
   "execution_count": 20,
   "metadata": {},
   "outputs": [
    {
     "data": {
      "text/html": [
       "<div>\n",
       "<style scoped>\n",
       "    .dataframe tbody tr th:only-of-type {\n",
       "        vertical-align: middle;\n",
       "    }\n",
       "\n",
       "    .dataframe tbody tr th {\n",
       "        vertical-align: top;\n",
       "    }\n",
       "\n",
       "    .dataframe thead th {\n",
       "        text-align: right;\n",
       "    }\n",
       "</style>\n",
       "<table border=\"1\" class=\"dataframe\">\n",
       "  <thead>\n",
       "    <tr style=\"text-align: right;\">\n",
       "      <th></th>\n",
       "      <th>gender</th>\n",
       "      <th>birth_date</th>\n",
       "      <th>nationality</th>\n",
       "      <th>name</th>\n",
       "    </tr>\n",
       "  </thead>\n",
       "  <tbody>\n",
       "    <tr>\n",
       "      <th>0</th>\n",
       "      <td>male</td>\n",
       "      <td>+1979-10-07T00:00:00Z</td>\n",
       "      <td>Canada</td>\n",
       "      <td>Aaron Ashmore</td>\n",
       "    </tr>\n",
       "    <tr>\n",
       "      <th>1</th>\n",
       "      <td>male</td>\n",
       "      <td>+1958-08-07T00:00:00Z</td>\n",
       "      <td>South-Africa</td>\n",
       "      <td>Aaron Motsoaledi</td>\n",
       "    </tr>\n",
       "    <tr>\n",
       "      <th>2</th>\n",
       "      <td>male</td>\n",
       "      <td>+1990-12-26T00:00:00Z</td>\n",
       "      <td>The-United-Kingdom-1</td>\n",
       "      <td>Aaron Ramsey</td>\n",
       "    </tr>\n",
       "    <tr>\n",
       "      <th>3</th>\n",
       "      <td>male</td>\n",
       "      <td>+1983-12-02T00:00:00Z</td>\n",
       "      <td>The-United-States-of-America</td>\n",
       "      <td>Aaron Rodgers</td>\n",
       "    </tr>\n",
       "    <tr>\n",
       "      <th>4</th>\n",
       "      <td>male</td>\n",
       "      <td>+1981-05-28T00:00:00Z</td>\n",
       "      <td>The-United-States-of-America</td>\n",
       "      <td>Aaron Schock</td>\n",
       "    </tr>\n",
       "  </tbody>\n",
       "</table>\n",
       "</div>"
      ],
      "text/plain": [
       "  gender             birth_date                   nationality  \\\n",
       "0   male  +1979-10-07T00:00:00Z                        Canada   \n",
       "1   male  +1958-08-07T00:00:00Z                  South-Africa   \n",
       "2   male  +1990-12-26T00:00:00Z          The-United-Kingdom-1   \n",
       "3   male  +1983-12-02T00:00:00Z  The-United-States-of-America   \n",
       "4   male  +1981-05-28T00:00:00Z  The-United-States-of-America   \n",
       "\n",
       "               name  \n",
       "0     Aaron Ashmore  \n",
       "1  Aaron Motsoaledi  \n",
       "2      Aaron Ramsey  \n",
       "3     Aaron Rodgers  \n",
       "4      Aaron Schock  "
      ]
     },
     "execution_count": 20,
     "metadata": {},
     "output_type": "execute_result"
    }
   ],
   "source": [
    "vips_metadata_wikidata_df = pd.DataFrame.from_records(vips_metadata_wikidata)\n",
    "vips_metadata_wikidata_df.head()"
   ]
  },
  {
   "cell_type": "markdown",
   "metadata": {},
   "source": [
    "Let's now remove, from birth date the plus sign, as well as the hour:min:sec values"
   ]
  },
  {
   "cell_type": "code",
   "execution_count": 21,
   "metadata": {},
   "outputs": [
    {
     "data": {
      "text/html": [
       "<div>\n",
       "<style scoped>\n",
       "    .dataframe tbody tr th:only-of-type {\n",
       "        vertical-align: middle;\n",
       "    }\n",
       "\n",
       "    .dataframe tbody tr th {\n",
       "        vertical-align: top;\n",
       "    }\n",
       "\n",
       "    .dataframe thead th {\n",
       "        text-align: right;\n",
       "    }\n",
       "</style>\n",
       "<table border=\"1\" class=\"dataframe\">\n",
       "  <thead>\n",
       "    <tr style=\"text-align: right;\">\n",
       "      <th></th>\n",
       "      <th>gender</th>\n",
       "      <th>birth_date</th>\n",
       "      <th>nationality</th>\n",
       "      <th>name</th>\n",
       "    </tr>\n",
       "  </thead>\n",
       "  <tbody>\n",
       "    <tr>\n",
       "      <th>0</th>\n",
       "      <td>male</td>\n",
       "      <td>1979-10-07</td>\n",
       "      <td>Canada</td>\n",
       "      <td>Aaron Ashmore</td>\n",
       "    </tr>\n",
       "    <tr>\n",
       "      <th>1</th>\n",
       "      <td>male</td>\n",
       "      <td>1958-08-07</td>\n",
       "      <td>South-Africa</td>\n",
       "      <td>Aaron Motsoaledi</td>\n",
       "    </tr>\n",
       "    <tr>\n",
       "      <th>2</th>\n",
       "      <td>male</td>\n",
       "      <td>1990-12-26</td>\n",
       "      <td>The-United-Kingdom-1</td>\n",
       "      <td>Aaron Ramsey</td>\n",
       "    </tr>\n",
       "    <tr>\n",
       "      <th>3</th>\n",
       "      <td>male</td>\n",
       "      <td>1983-12-02</td>\n",
       "      <td>The-United-States-of-America</td>\n",
       "      <td>Aaron Rodgers</td>\n",
       "    </tr>\n",
       "    <tr>\n",
       "      <th>4</th>\n",
       "      <td>male</td>\n",
       "      <td>1981-05-28</td>\n",
       "      <td>The-United-States-of-America</td>\n",
       "      <td>Aaron Schock</td>\n",
       "    </tr>\n",
       "  </tbody>\n",
       "</table>\n",
       "</div>"
      ],
      "text/plain": [
       "  gender  birth_date                   nationality              name\n",
       "0   male  1979-10-07                        Canada     Aaron Ashmore\n",
       "1   male  1958-08-07                  South-Africa  Aaron Motsoaledi\n",
       "2   male  1990-12-26          The-United-Kingdom-1      Aaron Ramsey\n",
       "3   male  1983-12-02  The-United-States-of-America     Aaron Rodgers\n",
       "4   male  1981-05-28  The-United-States-of-America      Aaron Schock"
      ]
     },
     "execution_count": 21,
     "metadata": {},
     "output_type": "execute_result"
    }
   ],
   "source": [
    "vips_metadata_wikidata_df.birth_date = vips_metadata_wikidata_df.birth_date.str.slice(1,11)\n",
    "vips_metadata_wikidata_df.head()"
   ]
  },
  {
   "cell_type": "markdown",
   "metadata": {},
   "source": [
    "For avoiding to redo the API query I will export the df in a proper CSV"
   ]
  },
  {
   "cell_type": "code",
   "execution_count": 22,
   "metadata": {},
   "outputs": [],
   "source": [
    "vips_metadata_wikidata_df.to_csv(\"vips_metadata_wikidata_fixed.csv\", index=False)"
   ]
  },
  {
   "cell_type": "markdown",
   "metadata": {},
   "source": [
    "Uncomment this instruction for avoiding to redo the download"
   ]
  },
  {
   "cell_type": "code",
   "execution_count": 43,
   "metadata": {},
   "outputs": [],
   "source": [
    "vips_metadata_wikidata_df = pd.read_csv(\"vips_metadata_wikidata_fixed.csv\")"
   ]
  },
  {
   "cell_type": "code",
   "execution_count": 25,
   "metadata": {},
   "outputs": [
    {
     "data": {
      "text/plain": [
       "['Alana Curry',\n",
       " 'Alex Aniston',\n",
       " 'Alex OLoughlin',\n",
       " 'Alexandra Lara',\n",
       " 'Angela Simmons',\n",
       " 'Barbara dUrso',\n",
       " 'Bhairvi Goswami',\n",
       " 'Bill Gilman',\n",
       " 'Carrie Fletcher',\n",
       " 'Catherine OHara',\n",
       " 'Dbanj',\n",
       " 'Genelia DSouza',\n",
       " 'Hanna Beth',\n",
       " 'Humaima Malik',\n",
       " 'Jason Wahler',\n",
       " 'Jerry OConnell',\n",
       " 'Jin-hee Ji',\n",
       " 'Jodi Lyn OKeefe',\n",
       " 'Karen Fairchild',\n",
       " 'Kate OMara',\n",
       " 'Katon W. De Pena',\n",
       " 'Kipton Cronkite',\n",
       " 'Koel Mallick',\n",
       " 'Krystle Lina',\n",
       " 'Liana Mendoza',\n",
       " 'MC Harvey',\n",
       " 'Mahleej Sarkari',\n",
       " 'Manchu Lakshmi Prasanna',\n",
       " 'Margaret Blanchard',\n",
       " 'Martin OMalley',\n",
       " 'Nancy DellOlio',\n",
       " 'Nicoletta Mantovani',\n",
       " 'Nina Watson',\n",
       " 'Norah ODonnell',\n",
       " 'Paul DiGiovanni',\n",
       " 'Prahladananda Swami',\n",
       " 'Qorianka Kilcher',\n",
       " 'Ramona Singer',\n",
       " 'Remo DSouza',\n",
       " 'Ronan OGara',\n",
       " 'Rosie ODonnell',\n",
       " 'Sean OPry',\n",
       " 'Soledad OBrien',\n",
       " 'Swathi Reddy',\n",
       " 'Tanaz Tabatabaei',\n",
       " 'Titus ONeil',\n",
       " 'V. K. Singh',\n",
       " 'Katie Cleary']"
      ]
     },
     "execution_count": 25,
     "metadata": {},
     "output_type": "execute_result"
    }
   ],
   "source": [
    "with open(\"../dataset/not_found_vips_wikidata.json\", \"w\") as f:\n",
    "    f.write(json.dumps(not_found_vips_wikidata))\n",
    "not_found_vips_wikidata\n"
   ]
  },
  {
   "cell_type": "markdown",
   "metadata": {},
   "source": [
    "### DBPedia"
   ]
  },
  {
   "cell_type": "code",
   "execution_count": 26,
   "metadata": {},
   "outputs": [
    {
     "name": "stderr",
     "output_type": "stream",
     "text": [
      "  1%|▌                                                                               | 50/7365 [00:07<15:00,  8.12it/s]"
     ]
    },
    {
     "name": "stdout",
     "output_type": "stream",
     "text": [
      "Could not get metadata for Aderbal Freire Filho: is the person's name spelled correctly?\n"
     ]
    },
    {
     "name": "stderr",
     "output_type": "stream",
     "text": [
      "  1%|▉                                                                               | 89/7365 [00:12<15:29,  7.83it/s]"
     ]
    },
    {
     "name": "stdout",
     "output_type": "stream",
     "text": [
      "Could not get metadata for Aishwarya Rai Bachchan: is the person's name spelled correctly?\n"
     ]
    },
    {
     "name": "stderr",
     "output_type": "stream",
     "text": [
      "  1%|█                                                                               | 99/7365 [00:13<15:56,  7.60it/s]"
     ]
    },
    {
     "name": "stdout",
     "output_type": "stream",
     "text": [
      "Could not get metadata for Al Bano Carrisi: is the person's name spelled correctly?\n"
     ]
    },
    {
     "name": "stderr",
     "output_type": "stream",
     "text": [
      "  2%|█▎                                                                             | 117/7365 [00:16<14:28,  8.35it/s]"
     ]
    },
    {
     "name": "stdout",
     "output_type": "stream",
     "text": [
      "Could not get metadata for Alana Curry: is the person's name spelled correctly?\n"
     ]
    },
    {
     "name": "stderr",
     "output_type": "stream",
     "text": [
      "  2%|█▌                                                                             | 148/7365 [00:20<13:55,  8.64it/s]"
     ]
    },
    {
     "name": "stdout",
     "output_type": "stream",
     "text": [
      "Could not get metadata for Alex Aniston: is the person's name spelled correctly?\n"
     ]
    },
    {
     "name": "stderr",
     "output_type": "stream",
     "text": [
      "  2%|█▋                                                                             | 157/7365 [00:21<13:41,  8.77it/s]"
     ]
    },
    {
     "name": "stdout",
     "output_type": "stream",
     "text": [
      "Could not get metadata for Alex OLoughlin: is the person's name spelled correctly?\n"
     ]
    },
    {
     "name": "stderr",
     "output_type": "stream",
     "text": [
      "  2%|█▉                                                                             | 175/7365 [00:24<16:57,  7.06it/s]"
     ]
    },
    {
     "name": "stdout",
     "output_type": "stream",
     "text": [
      "Could not get metadata for Alexandra Lara: is the person's name spelled correctly?\n"
     ]
    },
    {
     "name": "stderr",
     "output_type": "stream",
     "text": [
      "  3%|██▏                                                                            | 202/7365 [00:33<19:52,  6.01it/s]"
     ]
    },
    {
     "name": "stdout",
     "output_type": "stream",
     "text": [
      "Could not get metadata for Ali al-Naimi: is the person's name spelled correctly?\n"
     ]
    },
    {
     "name": "stderr",
     "output_type": "stream",
     "text": [
      "  3%|██▋                                                                            | 252/7365 [00:39<14:31,  8.16it/s]"
     ]
    },
    {
     "name": "stdout",
     "output_type": "stream",
     "text": [
      "Could not get metadata for Amare Stoudemire: is the person's name spelled correctly?\n"
     ]
    },
    {
     "name": "stderr",
     "output_type": "stream",
     "text": [
      "  4%|██▉                                                                            | 276/7365 [00:42<14:23,  8.21it/s]"
     ]
    },
    {
     "name": "stdout",
     "output_type": "stream",
     "text": [
      "Could not get metadata for Amy Dumas: is the person's name spelled correctly?\n"
     ]
    },
    {
     "name": "stderr",
     "output_type": "stream",
     "text": [
      "  4%|███▏                                                                           | 294/7365 [00:44<13:27,  8.75it/s]"
     ]
    },
    {
     "name": "stdout",
     "output_type": "stream",
     "text": [
      "Could not get metadata for Ana Patricia Botin: is the person's name spelled correctly?\n"
     ]
    },
    {
     "name": "stderr",
     "output_type": "stream",
     "text": [
      "  4%|███▏                                                                           | 297/7365 [00:44<13:41,  8.61it/s]"
     ]
    },
    {
     "name": "stdout",
     "output_type": "stream",
     "text": [
      "Could not get metadata for Anahí de Cardenas: is the person's name spelled correctly?\n"
     ]
    },
    {
     "name": "stderr",
     "output_type": "stream",
     "text": [
      "  4%|███▍                                                                           | 321/7365 [00:48<13:29,  8.70it/s]"
     ]
    },
    {
     "name": "stdout",
     "output_type": "stream",
     "text": [
      "Could not get metadata for Andrea Kaiser: is the person's name spelled correctly?\n"
     ]
    },
    {
     "name": "stderr",
     "output_type": "stream",
     "text": [
      "  5%|███▌                                                                           | 332/7365 [00:49<13:17,  8.81it/s]"
     ]
    },
    {
     "name": "stdout",
     "output_type": "stream",
     "text": [
      "Could not get metadata for Andrea Veresova: is the person's name spelled correctly?\n"
     ]
    },
    {
     "name": "stderr",
     "output_type": "stream",
     "text": [
      "  5%|███▋                                                                           | 338/7365 [00:50<14:23,  8.13it/s]"
     ]
    },
    {
     "name": "stdout",
     "output_type": "stream",
     "text": [
      "Could not get metadata for Andreas Jancke: is the person's name spelled correctly?\n"
     ]
    },
    {
     "name": "stderr",
     "output_type": "stream",
     "text": [
      "  5%|████▏                                                                          | 388/7365 [00:56<17:39,  6.59it/s]"
     ]
    },
    {
     "name": "stdout",
     "output_type": "stream",
     "text": [
      "Could not get metadata for Angela Simmons: is the person's name spelled correctly?\n"
     ]
    },
    {
     "name": "stderr",
     "output_type": "stream",
     "text": [
      "  5%|████▏                                                                          | 390/7365 [00:56<15:51,  7.33it/s]"
     ]
    },
    {
     "name": "stdout",
     "output_type": "stream",
     "text": [
      "Could not get metadata for Angelica Celaya: is the person's name spelled correctly?\n"
     ]
    },
    {
     "name": "stderr",
     "output_type": "stream",
     "text": [
      "  6%|████▌                                                                          | 430/7365 [01:05<13:22,  8.64it/s]"
     ]
    },
    {
     "name": "stdout",
     "output_type": "stream",
     "text": [
      "Could not get metadata for Annabelle Mandeng: is the person's name spelled correctly?\n"
     ]
    },
    {
     "name": "stderr",
     "output_type": "stream",
     "text": [
      "  6%|████▋                                                                          | 433/7365 [01:06<13:23,  8.63it/s]"
     ]
    },
    {
     "name": "stdout",
     "output_type": "stream",
     "text": [
      "Could not get metadata for Anne-Sophie Briest: is the person's name spelled correctly?\n"
     ]
    },
    {
     "name": "stderr",
     "output_type": "stream",
     "text": [
      "  6%|████▊                                                                          | 449/7365 [01:08<14:38,  7.87it/s]"
     ]
    },
    {
     "name": "stdout",
     "output_type": "stream",
     "text": [
      "Could not get metadata for Annemarie Warnkross: is the person's name spelled correctly?\n"
     ]
    },
    {
     "name": "stderr",
     "output_type": "stream",
     "text": [
      "  7%|█████▌                                                                         | 516/7365 [01:16<17:05,  6.68it/s]"
     ]
    },
    {
     "name": "stdout",
     "output_type": "stream",
     "text": [
      "Could not get metadata for Arié Elmaleh: is the person's name spelled correctly?\n"
     ]
    },
    {
     "name": "stderr",
     "output_type": "stream",
     "text": [
      "  7%|█████▋                                                                         | 526/7365 [01:17<13:45,  8.28it/s]"
     ]
    },
    {
     "name": "stdout",
     "output_type": "stream",
     "text": [
      "Could not get metadata for Arno Del Curto: is the person's name spelled correctly?\n"
     ]
    },
    {
     "name": "stderr",
     "output_type": "stream",
     "text": [
      "  7%|█████▊                                                                         | 540/7365 [01:19<14:26,  7.88it/s]"
     ]
    },
    {
     "name": "stdout",
     "output_type": "stream",
     "text": [
      "Could not get metadata for Arya Babbar: is the person's name spelled correctly?\n"
     ]
    },
    {
     "name": "stderr",
     "output_type": "stream",
     "text": [
      "  8%|██████▏                                                                        | 579/7365 [01:25<16:18,  6.93it/s]"
     ]
    },
    {
     "name": "stdout",
     "output_type": "stream",
     "text": [
      "Could not get metadata for Azadeh Samadi: is the person's name spelled correctly?\n"
     ]
    },
    {
     "name": "stderr",
     "output_type": "stream",
     "text": [
      "  8%|██████▏                                                                        | 581/7365 [01:27<38:37,  2.93it/s]"
     ]
    },
    {
     "name": "stdout",
     "output_type": "stream",
     "text": [
      "Could not get metadata for Azmin Ali: is the person's name spelled correctly?\n"
     ]
    },
    {
     "name": "stderr",
     "output_type": "stream",
     "text": [
      "  8%|██████                                                                       | 583/7365 [01:30<1:39:24,  1.14it/s]"
     ]
    },
    {
     "name": "stdout",
     "output_type": "stream",
     "text": [
      "Could not get metadata for B. J. Thomas: is the person's name spelled correctly?\n"
     ]
    },
    {
     "name": "stderr",
     "output_type": "stream",
     "text": [
      "\r",
      "  8%|██████                                                                       | 584/7365 [01:30<1:21:28,  1.39it/s]"
     ]
    },
    {
     "name": "stdout",
     "output_type": "stream",
     "text": [
      "Could not get metadata for B. J. Upton: is the person's name spelled correctly?\n"
     ]
    },
    {
     "name": "stderr",
     "output_type": "stream",
     "text": [
      "  8%|██████▍                                                                        | 604/7365 [01:34<14:08,  7.97it/s]"
     ]
    },
    {
     "name": "stdout",
     "output_type": "stream",
     "text": [
      "Could not get metadata for Barbara Schett: is the person's name spelled correctly?\n"
     ]
    },
    {
     "name": "stderr",
     "output_type": "stream",
     "text": [
      "  8%|██████▌                                                                        | 606/7365 [01:34<13:47,  8.17it/s]"
     ]
    },
    {
     "name": "stdout",
     "output_type": "stream",
     "text": [
      "Could not get metadata for Barbara dUrso: is the person's name spelled correctly?\n"
     ]
    },
    {
     "name": "stderr",
     "output_type": "stream",
     "text": [
      "  8%|██████▋                                                                        | 622/7365 [01:37<14:13,  7.90it/s]"
     ]
    },
    {
     "name": "stdout",
     "output_type": "stream",
     "text": [
      "Could not get metadata for Beate Merk: is the person's name spelled correctly?\n"
     ]
    },
    {
     "name": "stderr",
     "output_type": "stream",
     "text": [
      "  9%|███████▏                                                                       | 671/7365 [01:44<15:48,  7.06it/s]"
     ]
    },
    {
     "name": "stdout",
     "output_type": "stream",
     "text": [
      "Could not get metadata for Bertie Gilbert: is the person's name spelled correctly?\n"
     ]
    },
    {
     "name": "stderr",
     "output_type": "stream",
     "text": [
      "  9%|███████▎                                                                       | 682/7365 [01:46<19:30,  5.71it/s]"
     ]
    },
    {
     "name": "stdout",
     "output_type": "stream",
     "text": [
      "Could not get metadata for Beth Winslet: is the person's name spelled correctly?\n"
     ]
    },
    {
     "name": "stderr",
     "output_type": "stream",
     "text": [
      "  9%|███████▎                                                                       | 684/7365 [01:46<16:55,  6.58it/s]"
     ]
    },
    {
     "name": "stdout",
     "output_type": "stream",
     "text": [
      "Could not get metadata for Beto Cuevas: is the person's name spelled correctly?\n"
     ]
    },
    {
     "name": "stderr",
     "output_type": "stream",
     "text": [
      "  9%|███████▍                                                                       | 688/7365 [01:47<16:17,  6.83it/s]"
     ]
    },
    {
     "name": "stdout",
     "output_type": "stream",
     "text": [
      "Could not get metadata for Bettina Vollath: is the person's name spelled correctly?\n"
     ]
    },
    {
     "name": "stderr",
     "output_type": "stream",
     "text": [
      "  9%|███████▍                                                                       | 690/7365 [01:47<14:41,  7.57it/s]"
     ]
    },
    {
     "name": "stdout",
     "output_type": "stream",
     "text": [
      "Could not get metadata for Bettina Zimmermann: is the person's name spelled correctly?\n"
     ]
    },
    {
     "name": "stderr",
     "output_type": "stream",
     "text": [
      "  9%|███████▍                                                                       | 693/7365 [01:47<14:10,  7.84it/s]"
     ]
    },
    {
     "name": "stdout",
     "output_type": "stream",
     "text": [
      "Could not get metadata for Bhairvi Goswami: is the person's name spelled correctly?\n"
     ]
    },
    {
     "name": "stderr",
     "output_type": "stream",
     "text": [
      "  9%|███████▍                                                                       | 696/7365 [01:48<13:30,  8.23it/s]"
     ]
    },
    {
     "name": "stdout",
     "output_type": "stream",
     "text": [
      "Could not get metadata for Bhavana Menon: is the person's name spelled correctly?\n"
     ]
    },
    {
     "name": "stderr",
     "output_type": "stream",
     "text": [
      " 10%|███████▌                                                                       | 706/7365 [01:49<13:55,  7.97it/s]"
     ]
    },
    {
     "name": "stdout",
     "output_type": "stream",
     "text": [
      "Could not get metadata for Bilkay Öney: is the person's name spelled correctly?\n"
     ]
    },
    {
     "name": "stderr",
     "output_type": "stream",
     "text": [
      " 10%|███████▌                                                                       | 710/7365 [01:49<13:56,  7.95it/s]"
     ]
    },
    {
     "name": "stdout",
     "output_type": "stream",
     "text": [
      "Could not get metadata for Bill Gilman: is the person's name spelled correctly?\n"
     ]
    },
    {
     "name": "stderr",
     "output_type": "stream",
     "text": [
      " 12%|█████████▏                                                                     | 860/7365 [02:14<12:56,  8.37it/s]"
     ]
    },
    {
     "name": "stdout",
     "output_type": "stream",
     "text": [
      "Could not get metadata for Brodinski: is the person's name spelled correctly?\n"
     ]
    },
    {
     "name": "stderr",
     "output_type": "stream",
     "text": [
      " 12%|█████████▎                                                                     | 873/7365 [02:16<12:56,  8.36it/s]"
     ]
    },
    {
     "name": "stdout",
     "output_type": "stream",
     "text": [
      "Could not get metadata for Bruce Jenner: is the person's name spelled correctly?\n"
     ]
    },
    {
     "name": "stderr",
     "output_type": "stream",
     "text": [
      " 12%|█████████▍                                                                     | 881/7365 [02:17<13:03,  8.27it/s]"
     ]
    },
    {
     "name": "stdout",
     "output_type": "stream",
     "text": [
      "Could not get metadata for Bruno Madinier: is the person's name spelled correctly?\n"
     ]
    },
    {
     "name": "stderr",
     "output_type": "stream",
     "text": [
      " 12%|█████████▍                                                                     | 883/7365 [02:17<13:18,  8.12it/s]"
     ]
    },
    {
     "name": "stdout",
     "output_type": "stream",
     "text": [
      "Could not get metadata for Bruno Solo: is the person's name spelled correctly?\n"
     ]
    },
    {
     "name": "stderr",
     "output_type": "stream",
     "text": [
      " 12%|█████████▋                                                                     | 904/7365 [02:20<12:33,  8.57it/s]"
     ]
    },
    {
     "name": "stdout",
     "output_type": "stream",
     "text": [
      "Could not get metadata for C.C.Catch: is the person's name spelled correctly?\n"
     ]
    },
    {
     "name": "stderr",
     "output_type": "stream",
     "text": [
      " 12%|█████████▊                                                                     | 914/7365 [02:21<13:14,  8.12it/s]"
     ]
    },
    {
     "name": "stdout",
     "output_type": "stream",
     "text": [
      "Could not get metadata for Cameron Quiseng: is the person's name spelled correctly?\n"
     ]
    },
    {
     "name": "stderr",
     "output_type": "stream",
     "text": [
      " 13%|█████████▉                                                                     | 928/7365 [02:23<13:05,  8.20it/s]"
     ]
    },
    {
     "name": "stdout",
     "output_type": "stream",
     "text": [
      "Could not get metadata for Candace Cameron-Bure: is the person's name spelled correctly?\n"
     ]
    },
    {
     "name": "stderr",
     "output_type": "stream",
     "text": [
      " 13%|██████████▎                                                                    | 964/7365 [02:32<54:46,  1.95it/s]"
     ]
    },
    {
     "name": "stdout",
     "output_type": "stream",
     "text": [
      "Could not get metadata for Carlos Lupi: is the person's name spelled correctly?\n"
     ]
    },
    {
     "name": "stderr",
     "output_type": "stream",
     "text": [
      " 14%|██████████▌                                                                   | 1002/7365 [02:37<12:31,  8.47it/s]"
     ]
    },
    {
     "name": "stdout",
     "output_type": "stream",
     "text": [
      "Could not get metadata for Carrie Fletcher: is the person's name spelled correctly?\n"
     ]
    },
    {
     "name": "stderr",
     "output_type": "stream",
     "text": [
      " 14%|██████████▊                                                                   | 1020/7365 [02:39<11:56,  8.85it/s]"
     ]
    },
    {
     "name": "stdout",
     "output_type": "stream",
     "text": [
      "Could not get metadata for Catherine Jenkins: is the person's name spelled correctly?\n",
      "Could not get metadata for Catherine OHara: is the person's name spelled correctly?\n"
     ]
    },
    {
     "name": "stderr",
     "output_type": "stream",
     "text": [
      " 14%|███████████                                                                   | 1049/7365 [02:43<28:48,  3.65it/s]"
     ]
    },
    {
     "name": "stdout",
     "output_type": "stream",
     "text": [
      "Could not get metadata for Chantal Poullain: is the person's name spelled correctly?\n"
     ]
    },
    {
     "name": "stderr",
     "output_type": "stream",
     "text": [
      " 15%|███████████▍                                                                  | 1082/7365 [02:48<13:11,  7.94it/s]"
     ]
    },
    {
     "name": "stdout",
     "output_type": "stream",
     "text": [
      "Could not get metadata for Charlotte Salt: is the person's name spelled correctly?\n"
     ]
    },
    {
     "name": "stderr",
     "output_type": "stream",
     "text": [
      " 15%|███████████▌                                                                  | 1090/7365 [02:49<12:40,  8.25it/s]"
     ]
    },
    {
     "name": "stdout",
     "output_type": "stream",
     "text": [
      "Could not get metadata for Cheryl Cole: is the person's name spelled correctly?\n"
     ]
    },
    {
     "name": "stderr",
     "output_type": "stream",
     "text": [
      " 16%|████████████▊                                                                 | 1210/7365 [03:07<12:12,  8.40it/s]"
     ]
    },
    {
     "name": "stdout",
     "output_type": "stream",
     "text": [
      "Could not get metadata for Claus Weselsky: is the person's name spelled correctly?\n"
     ]
    },
    {
     "name": "stderr",
     "output_type": "stream",
     "text": [
      " 16%|████████████▊                                                                 | 1214/7365 [03:08<13:50,  7.41it/s]"
     ]
    },
    {
     "name": "stdout",
     "output_type": "stream",
     "text": [
      "Could not get metadata for Clemens Schick: is the person's name spelled correctly?\n"
     ]
    },
    {
     "name": "stderr",
     "output_type": "stream",
     "text": [
      " 17%|████████████▉                                                                 | 1217/7365 [03:08<13:16,  7.72it/s]"
     ]
    },
    {
     "name": "stdout",
     "output_type": "stream",
     "text": [
      "Could not get metadata for Clifton Collins, Jr.: is the person's name spelled correctly?\n"
     ]
    },
    {
     "name": "stderr",
     "output_type": "stream",
     "text": [
      " 17%|█████████████                                                                 | 1237/7365 [03:10<11:38,  8.77it/s]"
     ]
    },
    {
     "name": "stdout",
     "output_type": "stream",
     "text": [
      "Could not get metadata for Cole Sprouse: is the person's name spelled correctly?\n"
     ]
    },
    {
     "name": "stderr",
     "output_type": "stream",
     "text": [
      " 17%|█████████████▏                                                                | 1243/7365 [03:11<11:59,  8.51it/s]"
     ]
    },
    {
     "name": "stdout",
     "output_type": "stream",
     "text": [
      "Could not get metadata for Colin Kaepernick: is the person's name spelled correctly?\n"
     ]
    },
    {
     "name": "stderr",
     "output_type": "stream",
     "text": [
      " 17%|█████████████▏                                                                | 1247/7365 [03:12<11:32,  8.83it/s]"
     ]
    },
    {
     "name": "stdout",
     "output_type": "stream",
     "text": [
      "Could not get metadata for Conan OBrien: is the person's name spelled correctly?\n"
     ]
    },
    {
     "name": "stderr",
     "output_type": "stream",
     "text": [
      " 17%|█████████████▌                                                                | 1278/7365 [03:15<11:59,  8.46it/s]"
     ]
    },
    {
     "name": "stdout",
     "output_type": "stream",
     "text": [
      "Could not get metadata for Cuba Gooding, Jr.: is the person's name spelled correctly?\n"
     ]
    },
    {
     "name": "stderr",
     "output_type": "stream",
     "text": [
      " 17%|█████████████▌                                                                | 1283/7365 [03:16<11:33,  8.77it/s]"
     ]
    },
    {
     "name": "stdout",
     "output_type": "stream",
     "text": [
      "Could not get metadata for Czeslaw Mozil: is the person's name spelled correctly?\n"
     ]
    },
    {
     "name": "stderr",
     "output_type": "stream",
     "text": [
      " 18%|█████████████▊                                                                | 1301/7365 [03:18<11:37,  8.69it/s]"
     ]
    },
    {
     "name": "stdout",
     "output_type": "stream",
     "text": [
      "Could not get metadata for Daisy De La Hoya: is the person's name spelled correctly?\n"
     ]
    },
    {
     "name": "stderr",
     "output_type": "stream",
     "text": [
      " 18%|█████████████▊                                                                | 1303/7365 [03:18<11:42,  8.63it/s]"
     ]
    },
    {
     "name": "stdout",
     "output_type": "stream",
     "text": [
      "Could not get metadata for Dale Earnhardt, Jr.: is the person's name spelled correctly?\n"
     ]
    },
    {
     "name": "stderr",
     "output_type": "stream",
     "text": [
      " 18%|██████████████▎                                                               | 1357/7365 [03:25<11:31,  8.69it/s]"
     ]
    },
    {
     "name": "stdout",
     "output_type": "stream",
     "text": [
      "Could not get metadata for Danneel Ackles: is the person's name spelled correctly?\n"
     ]
    },
    {
     "name": "stderr",
     "output_type": "stream",
     "text": [
      " 20%|███████████████▎                                                              | 1446/7365 [03:40<11:38,  8.48it/s]"
     ]
    },
    {
     "name": "stdout",
     "output_type": "stream",
     "text": [
      "Could not get metadata for Dbanj: is the person's name spelled correctly?\n"
     ]
    },
    {
     "name": "stderr",
     "output_type": "stream",
     "text": [
      " 20%|███████████████▉                                                              | 1505/7365 [03:47<13:14,  7.38it/s]"
     ]
    },
    {
     "name": "stdout",
     "output_type": "stream",
     "text": [
      "Could not get metadata for Devanny Pinn: is the person's name spelled correctly?\n"
     ]
    },
    {
     "name": "stderr",
     "output_type": "stream",
     "text": [
      " 21%|████████████████▏                                                             | 1530/7365 [03:50<11:30,  8.45it/s]"
     ]
    },
    {
     "name": "stdout",
     "output_type": "stream",
     "text": [
      "Could not get metadata for Diego Botto: is the person's name spelled correctly?\n"
     ]
    },
    {
     "name": "stderr",
     "output_type": "stream",
     "text": [
      " 21%|████████████████▎                                                             | 1539/7365 [03:51<10:59,  8.83it/s]"
     ]
    },
    {
     "name": "stdout",
     "output_type": "stream",
     "text": [
      "Could not get metadata for Dieter Thomas Kuhn: is the person's name spelled correctly?\n"
     ]
    },
    {
     "name": "stderr",
     "output_type": "stream",
     "text": [
      " 21%|████████████████▎                                                             | 1543/7365 [03:51<11:10,  8.68it/s]"
     ]
    },
    {
     "name": "stdout",
     "output_type": "stream",
     "text": [
      "Could not get metadata for Dietrich Brüggemann: is the person's name spelled correctly?\n"
     ]
    },
    {
     "name": "stderr",
     "output_type": "stream",
     "text": [
      " 21%|████████████████▌                                                             | 1562/7365 [03:54<12:45,  7.58it/s]"
     ]
    },
    {
     "name": "stdout",
     "output_type": "stream",
     "text": [
      "Could not get metadata for Divya Khosla: is the person's name spelled correctly?\n"
     ]
    },
    {
     "name": "stderr",
     "output_type": "stream",
     "text": [
      " 21%|████████████████▋                                                             | 1581/7365 [03:57<25:15,  3.82it/s]"
     ]
    },
    {
     "name": "stdout",
     "output_type": "stream",
     "text": [
      "Could not get metadata for Donald Trump, Jr.: is the person's name spelled correctly?\n"
     ]
    },
    {
     "name": "stderr",
     "output_type": "stream",
     "text": [
      " 22%|████████████████▉                                                             | 1599/7365 [04:04<11:42,  8.21it/s]"
     ]
    },
    {
     "name": "stdout",
     "output_type": "stream",
     "text": [
      "Could not get metadata for Dravid: is the person's name spelled correctly?\n"
     ]
    },
    {
     "name": "stderr",
     "output_type": "stream",
     "text": [
      " 22%|█████████████████▍                                                            | 1644/7365 [04:09<11:08,  8.55it/s]"
     ]
    },
    {
     "name": "stdout",
     "output_type": "stream",
     "text": [
      "Could not get metadata for Edinson Volquez: is the person's name spelled correctly?\n"
     ]
    },
    {
     "name": "stderr",
     "output_type": "stream",
     "text": [
      " 23%|█████████████████▉                                                            | 1690/7365 [04:15<10:54,  8.68it/s]"
     ]
    },
    {
     "name": "stdout",
     "output_type": "stream",
     "text": [
      "Could not get metadata for Elizabeth Shannon: is the person's name spelled correctly?\n"
     ]
    },
    {
     "name": "stderr",
     "output_type": "stream",
     "text": [
      " 23%|██████████████████▏                                                           | 1712/7365 [04:18<11:00,  8.56it/s]"
     ]
    },
    {
     "name": "stdout",
     "output_type": "stream",
     "text": [
      "Could not get metadata for Elyas M’Barek: is the person's name spelled correctly?\n"
     ]
    },
    {
     "name": "stderr",
     "output_type": "stream",
     "text": [
      " 23%|██████████████████▎                                                           | 1724/7365 [04:19<10:32,  8.92it/s]"
     ]
    },
    {
     "name": "stdout",
     "output_type": "stream",
     "text": [
      "Could not get metadata for Emma Marcegaglia: is the person's name spelled correctly?\n"
     ]
    },
    {
     "name": "stderr",
     "output_type": "stream",
     "text": [
      " 25%|███████████████████▏                                                          | 1806/7365 [04:35<11:04,  8.36it/s]"
     ]
    },
    {
     "name": "stdout",
     "output_type": "stream",
     "text": [
      "Could not get metadata for Eve Angeli: is the person's name spelled correctly?\n"
     ]
    },
    {
     "name": "stderr",
     "output_type": "stream",
     "text": [
      " 25%|███████████████████▏                                                          | 1811/7365 [04:36<10:55,  8.47it/s]"
     ]
    },
    {
     "name": "stdout",
     "output_type": "stream",
     "text": [
      "Could not get metadata for Evelyne Brochu: is the person's name spelled correctly?\n"
     ]
    },
    {
     "name": "stderr",
     "output_type": "stream",
     "text": [
      " 25%|███████████████████▎                                                          | 1826/7365 [04:37<10:42,  8.62it/s]"
     ]
    },
    {
     "name": "stdout",
     "output_type": "stream",
     "text": [
      "Could not get metadata for Fabio Troiano: is the person's name spelled correctly?\n"
     ]
    },
    {
     "name": "stderr",
     "output_type": "stream",
     "text": [
      " 25%|███████████████████▋                                                          | 1857/7365 [04:41<12:01,  7.64it/s]"
     ]
    },
    {
     "name": "stdout",
     "output_type": "stream",
     "text": [
      "Could not get metadata for Felipe Gonzales: is the person's name spelled correctly?\n"
     ]
    },
    {
     "name": "stderr",
     "output_type": "stream",
     "text": [
      " 26%|████████████████████                                                          | 1900/7365 [04:47<10:40,  8.53it/s]"
     ]
    },
    {
     "name": "stdout",
     "output_type": "stream",
     "text": [
      "Could not get metadata for Francesco Pannofino: is the person's name spelled correctly?\n"
     ]
    },
    {
     "name": "stderr",
     "output_type": "stream",
     "text": [
      " 26%|████████████████████▌                                                         | 1936/7365 [04:51<10:34,  8.56it/s]"
     ]
    },
    {
     "name": "stdout",
     "output_type": "stream",
     "text": [
      "Could not get metadata for Frederic Beigbeder: is the person's name spelled correctly?\n"
     ]
    },
    {
     "name": "stderr",
     "output_type": "stream",
     "text": [
      " 26%|████████████████████▌                                                         | 1941/7365 [04:52<11:15,  8.04it/s]"
     ]
    },
    {
     "name": "stdout",
     "output_type": "stream",
     "text": [
      "Could not get metadata for Fredy Bickel: is the person's name spelled correctly?\n"
     ]
    },
    {
     "name": "stderr",
     "output_type": "stream",
     "text": [
      " 27%|█████████████████████                                                         | 1992/7365 [05:02<13:26,  6.66it/s]"
     ]
    },
    {
     "name": "stdout",
     "output_type": "stream",
     "text": [
      "Could not get metadata for Geetha Madhuri: is the person's name spelled correctly?\n"
     ]
    },
    {
     "name": "stderr",
     "output_type": "stream",
     "text": [
      " 27%|█████████████████████▏                                                        | 1996/7365 [05:02<15:09,  5.90it/s]"
     ]
    },
    {
     "name": "stdout",
     "output_type": "stream",
     "text": [
      "Could not get metadata for Genelia DSouza: is the person's name spelled correctly?\n"
     ]
    },
    {
     "name": "stderr",
     "output_type": "stream",
     "text": [
      " 28%|█████████████████████▌                                                        | 2038/7365 [05:08<11:09,  7.96it/s]"
     ]
    },
    {
     "name": "stdout",
     "output_type": "stream",
     "text": [
      "Could not get metadata for Gigi Ravelli: is the person's name spelled correctly?\n"
     ]
    },
    {
     "name": "stderr",
     "output_type": "stream",
     "text": [
      " 28%|█████████████████████▊                                                        | 2059/7365 [05:11<10:58,  8.06it/s]"
     ]
    },
    {
     "name": "stdout",
     "output_type": "stream",
     "text": [
      "Could not get metadata for Giovane Élber: is the person's name spelled correctly?\n"
     ]
    },
    {
     "name": "stderr",
     "output_type": "stream",
     "text": [
      " 29%|██████████████████████▌                                                       | 2127/7365 [05:20<10:13,  8.53it/s]"
     ]
    },
    {
     "name": "stdout",
     "output_type": "stream",
     "text": [
      "Could not get metadata for Gurmeet Ram Rahim Singh: is the person's name spelled correctly?\n"
     ]
    },
    {
     "name": "stderr",
     "output_type": "stream",
     "text": [
      " 29%|██████████████████████▊                                                       | 2155/7365 [05:23<10:45,  8.08it/s]"
     ]
    },
    {
     "name": "stdout",
     "output_type": "stream",
     "text": [
      "Could not get metadata for H. P. Baxxter: is the person's name spelled correctly?\n"
     ]
    },
    {
     "name": "stderr",
     "output_type": "stream",
     "text": [
      " 29%|██████████████████████▊                                                       | 2157/7365 [05:23<11:27,  7.57it/s]"
     ]
    },
    {
     "name": "stdout",
     "output_type": "stream",
     "text": [
      "Could not get metadata for Hadewych Minis: is the person's name spelled correctly?\n"
     ]
    },
    {
     "name": "stderr",
     "output_type": "stream",
     "text": [
      " 29%|██████████████████████▉                                                       | 2168/7365 [05:25<10:35,  8.18it/s]"
     ]
    },
    {
     "name": "stdout",
     "output_type": "stream",
     "text": [
      "Could not get metadata for Hamsa Nandini: is the person's name spelled correctly?\n"
     ]
    },
    {
     "name": "stderr",
     "output_type": "stream",
     "text": [
      " 30%|███████████████████████                                                       | 2173/7365 [05:25<10:08,  8.54it/s]"
     ]
    },
    {
     "name": "stdout",
     "output_type": "stream",
     "text": [
      "Could not get metadata for Hanna Beth: is the person's name spelled correctly?\n"
     ]
    },
    {
     "name": "stderr",
     "output_type": "stream",
     "text": [
      " 30%|███████████████████████▎                                                      | 2201/7365 [05:34<16:15,  5.29it/s]"
     ]
    },
    {
     "name": "stdout",
     "output_type": "stream",
     "text": [
      "Could not get metadata for Harry Connick, Jr.: is the person's name spelled correctly?\n"
     ]
    },
    {
     "name": "stderr",
     "output_type": "stream",
     "text": [
      " 30%|███████████████████████▌                                                      | 2222/7365 [05:37<10:14,  8.37it/s]"
     ]
    },
    {
     "name": "stdout",
     "output_type": "stream",
     "text": [
      "Could not get metadata for Heather Elizabeth Morris: is the person's name spelled correctly?\n"
     ]
    },
    {
     "name": "stderr",
     "output_type": "stream",
     "text": [
      " 31%|████████████████████████                                                      | 2268/7365 [05:43<10:45,  7.90it/s]"
     ]
    },
    {
     "name": "stdout",
     "output_type": "stream",
     "text": [
      "Could not get metadata for Hilde Mattheis: is the person's name spelled correctly?\n",
      "Could not get metadata for Hillary Rodham Clinton: is the person's name spelled correctly?\n"
     ]
    },
    {
     "name": "stderr",
     "output_type": "stream",
     "text": [
      " 31%|████████████████████████▏                                                     | 2289/7365 [05:45<12:06,  6.99it/s]"
     ]
    },
    {
     "name": "stdout",
     "output_type": "stream",
     "text": [
      "Could not get metadata for Humaima Malik: is the person's name spelled correctly?\n"
     ]
    },
    {
     "name": "stderr",
     "output_type": "stream",
     "text": [
      " 31%|████████████████████████▍                                                     | 2302/7365 [05:47<11:51,  7.12it/s]"
     ]
    },
    {
     "name": "stdout",
     "output_type": "stream",
     "text": [
      "Could not get metadata for Ian Hecox: is the person's name spelled correctly?\n"
     ]
    },
    {
     "name": "stderr",
     "output_type": "stream",
     "text": [
      " 32%|████████████████████████▋                                                     | 2329/7365 [05:52<10:20,  8.12it/s]"
     ]
    },
    {
     "name": "stdout",
     "output_type": "stream",
     "text": [
      "Could not get metadata for Indira Vladić: is the person's name spelled correctly?\n"
     ]
    },
    {
     "name": "stderr",
     "output_type": "stream",
     "text": [
      " 32%|████████████████████████▋                                                     | 2331/7365 [05:52<11:03,  7.59it/s]"
     ]
    },
    {
     "name": "stdout",
     "output_type": "stream",
     "text": [
      "Could not get metadata for Ines Sainz Gallo: is the person's name spelled correctly?\n"
     ]
    },
    {
     "name": "stderr",
     "output_type": "stream",
     "text": [
      " 32%|█████████████████████████                                                     | 2364/7365 [05:57<14:58,  5.56it/s]"
     ]
    },
    {
     "name": "stdout",
     "output_type": "stream",
     "text": [
      "Could not get metadata for Iva Pazderková: is the person's name spelled correctly?\n"
     ]
    },
    {
     "name": "stderr",
     "output_type": "stream",
     "text": [
      " 32%|█████████████████████████▏                                                    | 2379/7365 [06:03<12:51,  6.46it/s]"
     ]
    },
    {
     "name": "stdout",
     "output_type": "stream",
     "text": [
      "Could not get metadata for J.R. Martinez: is the person's name spelled correctly?\n"
     ]
    },
    {
     "name": "stderr",
     "output_type": "stream",
     "text": [
      " 32%|█████████████████████████▎                                                    | 2389/7365 [06:04<09:43,  8.53it/s]"
     ]
    },
    {
     "name": "stdout",
     "output_type": "stream",
     "text": [
      "Could not get metadata for Jacek Rostowski: is the person's name spelled correctly?\n"
     ]
    },
    {
     "name": "stderr",
     "output_type": "stream",
     "text": [
      " 33%|█████████████████████████▋                                                    | 2427/7365 [06:09<10:11,  8.07it/s]"
     ]
    },
    {
     "name": "stdout",
     "output_type": "stream",
     "text": [
      "Could not get metadata for Jaime Faith Edmondson: is the person's name spelled correctly?\n"
     ]
    },
    {
     "name": "stderr",
     "output_type": "stream",
     "text": [
      " 33%|█████████████████████████▊                                                    | 2440/7365 [06:10<09:45,  8.41it/s]"
     ]
    },
    {
     "name": "stdout",
     "output_type": "stream",
     "text": [
      "Could not get metadata for Jakub Smolík: is the person's name spelled correctly?\n"
     ]
    },
    {
     "name": "stderr",
     "output_type": "stream",
     "text": [
      " 33%|█████████████████████████▉                                                    | 2451/7365 [06:12<10:08,  8.08it/s]"
     ]
    },
    {
     "name": "stdout",
     "output_type": "stream",
     "text": [
      "Could not get metadata for James DArcy: is the person's name spelled correctly?\n"
     ]
    },
    {
     "name": "stderr",
     "output_type": "stream",
     "text": [
      " 33%|█████████████████████████▉                                                    | 2454/7365 [06:12<09:43,  8.42it/s]"
     ]
    },
    {
     "name": "stdout",
     "output_type": "stream",
     "text": [
      "Could not get metadata for James Dimon: is the person's name spelled correctly?\n"
     ]
    },
    {
     "name": "stderr",
     "output_type": "stream",
     "text": [
      " 33%|██████████████████████████▏                                                   | 2467/7365 [06:14<09:29,  8.60it/s]"
     ]
    },
    {
     "name": "stdout",
     "output_type": "stream",
     "text": [
      "Could not get metadata for James Pickens Jr.: is the person's name spelled correctly?\n"
     ]
    },
    {
     "name": "stderr",
     "output_type": "stream",
     "text": [
      " 34%|██████████████████████████▏                                                   | 2475/7365 [06:15<09:24,  8.66it/s]"
     ]
    },
    {
     "name": "stdout",
     "output_type": "stream",
     "text": [
      "Could not get metadata for Jamie Colby: is the person's name spelled correctly?\n"
     ]
    },
    {
     "name": "stderr",
     "output_type": "stream",
     "text": [
      " 34%|██████████████████████████▍                                                   | 2501/7365 [06:18<09:21,  8.67it/s]"
     ]
    },
    {
     "name": "stdout",
     "output_type": "stream",
     "text": [
      "Could not get metadata for Janelle Monae: is the person's name spelled correctly?\n"
     ]
    },
    {
     "name": "stderr",
     "output_type": "stream",
     "text": [
      " 34%|██████████████████████████▌                                                   | 2511/7365 [06:19<14:11,  5.70it/s]"
     ]
    },
    {
     "name": "stdout",
     "output_type": "stream",
     "text": [
      "Could not get metadata for Jared Followill: is the person's name spelled correctly?\n"
     ]
    },
    {
     "name": "stderr",
     "output_type": "stream",
     "text": [
      " 34%|██████████████████████████▋                                                   | 2518/7365 [06:20<10:21,  7.80it/s]"
     ]
    },
    {
     "name": "stdout",
     "output_type": "stream",
     "text": [
      "Could not get metadata for Jarmila Gajdošová: is the person's name spelled correctly?\n"
     ]
    },
    {
     "name": "stderr",
     "output_type": "stream",
     "text": [
      " 35%|██████████████████████████▉                                                   | 2542/7365 [06:23<09:41,  8.29it/s]"
     ]
    },
    {
     "name": "stdout",
     "output_type": "stream",
     "text": [
      "Could not get metadata for Jason Wahler: is the person's name spelled correctly?\n"
     ]
    },
    {
     "name": "stderr",
     "output_type": "stream",
     "text": [
      " 35%|██████████████████████████▉                                                   | 2546/7365 [06:24<09:15,  8.68it/s]"
     ]
    },
    {
     "name": "stdout",
     "output_type": "stream",
     "text": [
      "Could not get metadata for Jay-Z: is the person's name spelled correctly?\n"
     ]
    },
    {
     "name": "stderr",
     "output_type": "stream",
     "text": [
      " 36%|███████████████████████████▊                                                  | 2622/7365 [06:37<09:54,  7.97it/s]"
     ]
    },
    {
     "name": "stdout",
     "output_type": "stream",
     "text": [
      "Could not get metadata for Jennifer Gimenez: is the person's name spelled correctly?\n"
     ]
    },
    {
     "name": "stderr",
     "output_type": "stream",
     "text": [
      " 36%|███████████████████████████▊                                                  | 2631/7365 [06:38<09:02,  8.72it/s]"
     ]
    },
    {
     "name": "stdout",
     "output_type": "stream",
     "text": [
      "Could not get metadata for Jenny Elvers-Elbertzhagen: is the person's name spelled correctly?\n"
     ]
    },
    {
     "name": "stderr",
     "output_type": "stream",
     "text": [
      " 36%|████████████████████████████                                                  | 2650/7365 [06:40<08:53,  8.83it/s]"
     ]
    },
    {
     "name": "stdout",
     "output_type": "stream",
     "text": [
      "Could not get metadata for Jerry OConnell: is the person's name spelled correctly?\n"
     ]
    },
    {
     "name": "stderr",
     "output_type": "stream",
     "text": [
      " 37%|████████████████████████████▍                                                 | 2689/7365 [06:45<09:21,  8.32it/s]"
     ]
    },
    {
     "name": "stdout",
     "output_type": "stream",
     "text": [
      "Could not get metadata for Jette Joop: is the person's name spelled correctly?\n"
     ]
    },
    {
     "name": "stderr",
     "output_type": "stream",
     "text": [
      " 37%|████████████████████████████▌                                                 | 2694/7365 [06:45<09:03,  8.59it/s]"
     ]
    },
    {
     "name": "stdout",
     "output_type": "stream",
     "text": [
      "Could not get metadata for Jill Kargman: is the person's name spelled correctly?\n"
     ]
    },
    {
     "name": "stderr",
     "output_type": "stream",
     "text": [
      " 37%|████████████████████████████▊                                                 | 2719/7365 [06:48<09:02,  8.56it/s]"
     ]
    },
    {
     "name": "stdout",
     "output_type": "stream",
     "text": [
      "Could not get metadata for Jin-hee Ji: is the person's name spelled correctly?\n"
     ]
    },
    {
     "name": "stderr",
     "output_type": "stream",
     "text": [
      " 37%|█████████████████████████████                                                 | 2747/7365 [06:52<09:36,  8.02it/s]"
     ]
    },
    {
     "name": "stdout",
     "output_type": "stream",
     "text": [
      "Could not get metadata for Jodi Lyn OKeefe: is the person's name spelled correctly?\n"
     ]
    },
    {
     "name": "stderr",
     "output_type": "stream",
     "text": [
      " 38%|█████████████████████████████▎                                                | 2764/7365 [06:54<09:21,  8.20it/s]"
     ]
    },
    {
     "name": "stdout",
     "output_type": "stream",
     "text": [
      "Could not get metadata for Joel Coen: is the person's name spelled correctly?\n"
     ]
    },
    {
     "name": "stderr",
     "output_type": "stream",
     "text": [
      " 38%|█████████████████████████████▍                                                | 2783/7365 [07:01<43:01,  1.78it/s]"
     ]
    },
    {
     "name": "stdout",
     "output_type": "stream",
     "text": [
      "Could not get metadata for Johannes Remmel: is the person's name spelled correctly?\n"
     ]
    },
    {
     "name": "stderr",
     "output_type": "stream",
     "text": [
      " 38%|█████████████████████████████▋                                                | 2808/7365 [07:07<12:06,  6.27it/s]"
     ]
    },
    {
     "name": "stdout",
     "output_type": "stream",
     "text": [
      "Could not get metadata for John T. Chambers: is the person's name spelled correctly?\n"
     ]
    },
    {
     "name": "stderr",
     "output_type": "stream",
     "text": [
      " 39%|██████████████████████████████▏                                               | 2849/7365 [07:12<22:59,  3.27it/s]"
     ]
    },
    {
     "name": "stdout",
     "output_type": "stream",
     "text": [
      "Could not get metadata for Jonathan Meyers: is the person's name spelled correctly?\n"
     ]
    },
    {
     "name": "stderr",
     "output_type": "stream",
     "text": [
      " 39%|██████████████████████████████▋                                               | 2894/7365 [07:20<09:40,  7.71it/s]"
     ]
    },
    {
     "name": "stdout",
     "output_type": "stream",
     "text": [
      "Could not get metadata for Joshua Bowman: is the person's name spelled correctly?\n"
     ]
    },
    {
     "name": "stderr",
     "output_type": "stream",
     "text": [
      " 40%|███████████████████████████████▎                                              | 2960/7365 [07:34<09:33,  7.68it/s]"
     ]
    },
    {
     "name": "stdout",
     "output_type": "stream",
     "text": [
      "Could not get metadata for Juliano Cazarre: is the person's name spelled correctly?\n"
     ]
    },
    {
     "name": "stderr",
     "output_type": "stream",
     "text": [
      " 40%|███████████████████████████████▍                                              | 2967/7365 [07:35<08:46,  8.36it/s]"
     ]
    },
    {
     "name": "stdout",
     "output_type": "stream",
     "text": [
      "Could not get metadata for Julie Piétri: is the person's name spelled correctly?\n"
     ]
    },
    {
     "name": "stderr",
     "output_type": "stream",
     "text": [
      " 40%|███████████████████████████████▌                                              | 2975/7365 [07:36<08:21,  8.75it/s]"
     ]
    },
    {
     "name": "stdout",
     "output_type": "stream",
     "text": [
      "Could not get metadata for Julio César Chávez, Jr.: is the person's name spelled correctly?\n"
     ]
    },
    {
     "name": "stderr",
     "output_type": "stream",
     "text": [
      " 41%|███████████████████████████████▉                                              | 3014/7365 [07:41<08:12,  8.84it/s]"
     ]
    },
    {
     "name": "stdout",
     "output_type": "stream",
     "text": [
      "Could not get metadata for K-Maro: is the person's name spelled correctly?\n"
     ]
    },
    {
     "name": "stderr",
     "output_type": "stream",
     "text": [
      " 41%|███████████████████████████████▉                                              | 3020/7365 [07:42<11:22,  6.37it/s]"
     ]
    },
    {
     "name": "stdout",
     "output_type": "stream",
     "text": [
      "Could not get metadata for Kader Loth: is the person's name spelled correctly?\n"
     ]
    },
    {
     "name": "stderr",
     "output_type": "stream",
     "text": [
      " 41%|████████████████████████████████                                              | 3022/7365 [07:42<09:46,  7.40it/s]"
     ]
    },
    {
     "name": "stdout",
     "output_type": "stream",
     "text": [
      "Could not get metadata for Kai Schumann: is the person's name spelled correctly?\n"
     ]
    },
    {
     "name": "stderr",
     "output_type": "stream",
     "text": [
      " 41%|████████████████████████████████▎                                             | 3051/7365 [07:47<10:07,  7.10it/s]"
     ]
    },
    {
     "name": "stdout",
     "output_type": "stream",
     "text": [
      "Could not get metadata for Kareena Kapoor Khan: is the person's name spelled correctly?\n"
     ]
    },
    {
     "name": "stderr",
     "output_type": "stream",
     "text": [
      " 41%|████████████████████████████████▎                                             | 3055/7365 [07:47<09:00,  7.97it/s]"
     ]
    },
    {
     "name": "stdout",
     "output_type": "stream",
     "text": [
      "Could not get metadata for Karen Fairchild: is the person's name spelled correctly?\n"
     ]
    },
    {
     "name": "stderr",
     "output_type": "stream",
     "text": [
      " 42%|████████████████████████████████▍                                             | 3062/7365 [07:48<08:31,  8.41it/s]"
     ]
    },
    {
     "name": "stdout",
     "output_type": "stream",
     "text": [
      "Could not get metadata for Karin Ontiveros: is the person's name spelled correctly?\n"
     ]
    },
    {
     "name": "stderr",
     "output_type": "stream",
     "text": [
      " 42%|████████████████████████████████▋                                             | 3089/7365 [07:51<09:30,  7.50it/s]"
     ]
    },
    {
     "name": "stdout",
     "output_type": "stream",
     "text": [
      "Could not get metadata for Kate OMara: is the person's name spelled correctly?\n"
     ]
    },
    {
     "name": "stderr",
     "output_type": "stream",
     "text": [
      " 42%|█████████████████████████████████                                             | 3121/7365 [07:55<08:45,  8.07it/s]"
     ]
    },
    {
     "name": "stdout",
     "output_type": "stream",
     "text": [
      "Could not get metadata for Katon W. De Pena: is the person's name spelled correctly?\n"
     ]
    },
    {
     "name": "stderr",
     "output_type": "stream",
     "text": [
      " 44%|█████████████████████████████████▉                                            | 3209/7365 [08:10<08:37,  8.03it/s]"
     ]
    },
    {
     "name": "stdout",
     "output_type": "stream",
     "text": [
      "Could not get metadata for Kim Matula: is the person's name spelled correctly?\n"
     ]
    },
    {
     "name": "stderr",
     "output_type": "stream",
     "text": [
      " 44%|██████████████████████████████████▏                                           | 3223/7365 [08:12<08:21,  8.26it/s]"
     ]
    },
    {
     "name": "stdout",
     "output_type": "stream",
     "text": [
      "Could not get metadata for Kipton Cronkite: is the person's name spelled correctly?\n"
     ]
    },
    {
     "name": "stderr",
     "output_type": "stream",
     "text": [
      " 44%|██████████████████████████████████▍                                           | 3246/7365 [08:15<07:36,  9.03it/s]"
     ]
    },
    {
     "name": "stdout",
     "output_type": "stream",
     "text": [
      "Could not get metadata for Koo Ja-Cheol: is the person's name spelled correctly?\n"
     ]
    },
    {
     "name": "stderr",
     "output_type": "stream",
     "text": [
      " 44%|██████████████████████████████████▍                                           | 3253/7365 [08:15<07:47,  8.79it/s]"
     ]
    },
    {
     "name": "stdout",
     "output_type": "stream",
     "text": [
      "Could not get metadata for Kris Letang: is the person's name spelled correctly?\n"
     ]
    },
    {
     "name": "stderr",
     "output_type": "stream",
     "text": [
      " 44%|██████████████████████████████████▋                                           | 3276/7365 [08:18<07:55,  8.61it/s]"
     ]
    },
    {
     "name": "stdout",
     "output_type": "stream",
     "text": [
      "Could not get metadata for Krystle Lina: is the person's name spelled correctly?\n"
     ]
    },
    {
     "name": "stderr",
     "output_type": "stream",
     "text": [
      " 46%|███████████████████████████████████▌                                          | 3361/7365 [08:34<11:31,  5.79it/s]"
     ]
    },
    {
     "name": "stdout",
     "output_type": "stream",
     "text": [
      "Could not get metadata for Laurent Gerra: is the person's name spelled correctly?\n"
     ]
    },
    {
     "name": "stderr",
     "output_type": "stream",
     "text": [
      " 46%|███████████████████████████████████▋                                          | 3370/7365 [08:35<08:07,  8.20it/s]"
     ]
    },
    {
     "name": "stdout",
     "output_type": "stream",
     "text": [
      "Could not get metadata for Lazaro Hernandez: is the person's name spelled correctly?\n"
     ]
    },
    {
     "name": "stderr",
     "output_type": "stream",
     "text": [
      " 46%|████████████████████████████████████                                          | 3406/7365 [08:41<13:26,  4.91it/s]"
     ]
    },
    {
     "name": "stdout",
     "output_type": "stream",
     "text": [
      "Could not get metadata for Leonard Lansink: is the person's name spelled correctly?\n"
     ]
    },
    {
     "name": "stderr",
     "output_type": "stream",
     "text": [
      " 46%|████████████████████████████████████▏                                         | 3415/7365 [08:42<08:27,  7.79it/s]"
     ]
    },
    {
     "name": "stdout",
     "output_type": "stream",
     "text": [
      "Could not get metadata for Leslie Mandoki: is the person's name spelled correctly?\n"
     ]
    },
    {
     "name": "stderr",
     "output_type": "stream",
     "text": [
      " 46%|████████████████████████████████████▏                                         | 3419/7365 [08:43<11:10,  5.89it/s]"
     ]
    },
    {
     "name": "stdout",
     "output_type": "stream",
     "text": [
      "Could not get metadata for Leticia Van de Putte: is the person's name spelled correctly?\n"
     ]
    },
    {
     "name": "stderr",
     "output_type": "stream",
     "text": [
      " 47%|████████████████████████████████████▎                                         | 3430/7365 [08:44<07:32,  8.69it/s]"
     ]
    },
    {
     "name": "stdout",
     "output_type": "stream",
     "text": [
      "Could not get metadata for Liana Mendoza: is the person's name spelled correctly?\n"
     ]
    },
    {
     "name": "stderr",
     "output_type": "stream",
     "text": [
      " 47%|████████████████████████████████████▎                                         | 3434/7365 [08:45<07:26,  8.79it/s]"
     ]
    },
    {
     "name": "stdout",
     "output_type": "stream",
     "text": [
      "Could not get metadata for Lil Flip: is the person's name spelled correctly?\n",
      "Could not get metadata for Lil Kim: is the person's name spelled correctly?\n"
     ]
    },
    {
     "name": "stderr",
     "output_type": "stream",
     "text": [
      " 47%|████████████████████████████████████▌                                         | 3458/7365 [08:48<07:43,  8.43it/s]"
     ]
    },
    {
     "name": "stdout",
     "output_type": "stream",
     "text": [
      "Could not get metadata for Lisa Fitz: is the person's name spelled correctly?\n"
     ]
    },
    {
     "name": "stderr",
     "output_type": "stream",
     "text": [
      " 48%|█████████████████████████████████████▌                                        | 3544/7365 [09:03<07:46,  8.20it/s]"
     ]
    },
    {
     "name": "stdout",
     "output_type": "stream",
     "text": [
      "Could not get metadata for Lucie Jones: is the person's name spelled correctly?\n"
     ]
    },
    {
     "name": "stderr",
     "output_type": "stream",
     "text": [
      " 48%|█████████████████████████████████████▌                                        | 3547/7365 [09:03<07:23,  8.60it/s]"
     ]
    },
    {
     "name": "stdout",
     "output_type": "stream",
     "text": [
      "Could not get metadata for Lucy Watson: is the person's name spelled correctly?\n"
     ]
    },
    {
     "name": "stderr",
     "output_type": "stream",
     "text": [
      " 49%|██████████████████████████████████████                                        | 3596/7365 [09:09<07:11,  8.74it/s]"
     ]
    },
    {
     "name": "stdout",
     "output_type": "stream",
     "text": [
      "Could not get metadata for Magdalena Schejbal: is the person's name spelled correctly?\n"
     ]
    },
    {
     "name": "stderr",
     "output_type": "stream",
     "text": [
      " 49%|██████████████████████████████████████▎                                       | 3623/7365 [09:12<07:28,  8.35it/s]"
     ]
    },
    {
     "name": "stdout",
     "output_type": "stream",
     "text": [
      "Could not get metadata for Malika Haqq: is the person's name spelled correctly?\n"
     ]
    },
    {
     "name": "stderr",
     "output_type": "stream",
     "text": [
      " 49%|██████████████████████████████████████▍                                       | 3631/7365 [09:13<07:16,  8.56it/s]"
     ]
    },
    {
     "name": "stdout",
     "output_type": "stream",
     "text": [
      "Could not get metadata for Manchu Lakshmi Prasanna: is the person's name spelled correctly?\n",
      "Could not get metadata for Manchu Vishnu: is the person's name spelled correctly?\n"
     ]
    },
    {
     "name": "stderr",
     "output_type": "stream",
     "text": [
      " 49%|██████████████████████████████████████▍                                       | 3634/7365 [09:14<07:26,  8.36it/s]"
     ]
    },
    {
     "name": "stdout",
     "output_type": "stream",
     "text": [
      "Could not get metadata for Mandy Teefey: is the person's name spelled correctly?\n"
     ]
    },
    {
     "name": "stderr",
     "output_type": "stream",
     "text": [
      " 50%|██████████████████████████████████████▊                                       | 3660/7365 [09:17<07:11,  8.59it/s]"
     ]
    },
    {
     "name": "stdout",
     "output_type": "stream",
     "text": [
      "Could not get metadata for Marc Pircher: is the person's name spelled correctly?\n"
     ]
    },
    {
     "name": "stderr",
     "output_type": "stream",
     "text": [
      " 50%|██████████████████████████████████████▉                                       | 3672/7365 [09:18<08:09,  7.55it/s]"
     ]
    },
    {
     "name": "stdout",
     "output_type": "stream",
     "text": [
      "Could not get metadata for Marcella Zalianty: is the person's name spelled correctly?\n"
     ]
    },
    {
     "name": "stderr",
     "output_type": "stream",
     "text": [
      " 50%|██████████████████████████████████████▉                                       | 3680/7365 [09:19<07:11,  8.54it/s]"
     ]
    },
    {
     "name": "stdout",
     "output_type": "stream",
     "text": [
      "Could not get metadata for Marco Girnth: is the person's name spelled correctly?\n"
     ]
    },
    {
     "name": "stderr",
     "output_type": "stream",
     "text": [
      " 50%|███████████████████████████████████████▏                                      | 3696/7365 [09:21<07:31,  8.12it/s]"
     ]
    },
    {
     "name": "stdout",
     "output_type": "stream",
     "text": [
      "Could not get metadata for Mareile Höppner: is the person's name spelled correctly?\n"
     ]
    },
    {
     "name": "stderr",
     "output_type": "stream",
     "text": [
      " 50%|███████████████████████████████████████▏                                      | 3701/7365 [09:22<07:00,  8.71it/s]"
     ]
    },
    {
     "name": "stdout",
     "output_type": "stream",
     "text": [
      "Could not get metadata for Margaret Blanchard: is the person's name spelled correctly?\n"
     ]
    },
    {
     "name": "stderr",
     "output_type": "stream",
     "text": [
      " 50%|███████████████████████████████████████▎                                      | 3712/7365 [09:23<07:02,  8.64it/s]"
     ]
    },
    {
     "name": "stdout",
     "output_type": "stream",
     "text": [
      "Could not get metadata for Maria Canals Barrera: is the person's name spelled correctly?\n"
     ]
    },
    {
     "name": "stderr",
     "output_type": "stream",
     "text": [
      " 50%|███████████████████████████████████████▎                                      | 3715/7365 [09:23<07:18,  8.32it/s]"
     ]
    },
    {
     "name": "stdout",
     "output_type": "stream",
     "text": [
      "Could not get metadata for Mariana Fabbiani: is the person's name spelled correctly?\n"
     ]
    },
    {
     "name": "stderr",
     "output_type": "stream",
     "text": [
      " 51%|███████████████████████████████████████▌                                      | 3736/7365 [09:27<20:48,  2.91it/s]"
     ]
    },
    {
     "name": "stdout",
     "output_type": "stream",
     "text": [
      "Could not get metadata for Marina Fois: is the person's name spelled correctly?\n"
     ]
    },
    {
     "name": "stderr",
     "output_type": "stream",
     "text": [
      " 52%|████████████████████████████████████████▎                                     | 3801/7365 [09:41<07:08,  8.32it/s]"
     ]
    },
    {
     "name": "stdout",
     "output_type": "stream",
     "text": [
      "Could not get metadata for Martin OMalley: is the person's name spelled correctly?\n",
      "Could not get metadata for Martin ONeill: is the person's name spelled correctly?\n"
     ]
    },
    {
     "name": "stderr",
     "output_type": "stream",
     "text": [
      " 52%|████████████████████████████████████████▋                                     | 3845/7365 [09:47<11:19,  5.18it/s]"
     ]
    },
    {
     "name": "stdout",
     "output_type": "stream",
     "text": [
      "Could not get metadata for Mathias Nygård: is the person's name spelled correctly?\n"
     ]
    },
    {
     "name": "stderr",
     "output_type": "stream",
     "text": [
      " 53%|████████████████████████████████████████▉                                     | 3869/7365 [09:50<06:44,  8.63it/s]"
     ]
    },
    {
     "name": "stdout",
     "output_type": "stream",
     "text": [
      "Could not get metadata for Matze Knop: is the person's name spelled correctly?\n"
     ]
    },
    {
     "name": "stderr",
     "output_type": "stream",
     "text": [
      " 53%|█████████████████████████████████████████▎                                    | 3897/7365 [09:54<07:17,  7.93it/s]"
     ]
    },
    {
     "name": "stdout",
     "output_type": "stream",
     "text": [
      "Could not get metadata for Maxi Arland: is the person's name spelled correctly?\n"
     ]
    },
    {
     "name": "stderr",
     "output_type": "stream",
     "text": [
      " 53%|█████████████████████████████████████████▍                                    | 3913/7365 [09:56<07:05,  8.11it/s]"
     ]
    },
    {
     "name": "stdout",
     "output_type": "stream",
     "text": [
      "Could not get metadata for Megan Kelly: is the person's name spelled correctly?\n"
     ]
    },
    {
     "name": "stderr",
     "output_type": "stream",
     "text": [
      " 54%|█████████████████████████████████████████▊                                    | 3949/7365 [10:07<07:44,  7.36it/s]"
     ]
    },
    {
     "name": "stdout",
     "output_type": "stream",
     "text": [
      "Could not get metadata for Mercedes Masöhn: is the person's name spelled correctly?\n"
     ]
    },
    {
     "name": "stderr",
     "output_type": "stream",
     "text": [
      " 55%|██████████████████████████████████████████▋                                   | 4030/7365 [10:17<06:49,  8.14it/s]"
     ]
    },
    {
     "name": "stdout",
     "output_type": "stream",
     "text": [
      "Could not get metadata for Miguel Jontel Pimentel: is the person's name spelled correctly?\n"
     ]
    },
    {
     "name": "stderr",
     "output_type": "stream",
     "text": [
      " 55%|███████████████████████████████████████████                                   | 4069/7365 [10:22<06:16,  8.75it/s]"
     ]
    },
    {
     "name": "stdout",
     "output_type": "stream",
     "text": [
      "Could not get metadata for Mina Tander: is the person's name spelled correctly?\n"
     ]
    },
    {
     "name": "stderr",
     "output_type": "stream",
     "text": [
      " 55%|███████████████████████████████████████████▏                                  | 4082/7365 [10:23<06:53,  7.94it/s]"
     ]
    },
    {
     "name": "stdout",
     "output_type": "stream",
     "text": [
      "Could not get metadata for Miriam Gonzalez: is the person's name spelled correctly?\n"
     ]
    },
    {
     "name": "stderr",
     "output_type": "stream",
     "text": [
      " 55%|███████████████████████████████████████████▎                                  | 4084/7365 [10:24<06:37,  8.25it/s]"
     ]
    },
    {
     "name": "stdout",
     "output_type": "stream",
     "text": [
      "Could not get metadata for Miriam Pielhau: is the person's name spelled correctly?\n"
     ]
    },
    {
     "name": "stderr",
     "output_type": "stream",
     "text": [
      " 56%|███████████████████████████████████████████▍                                  | 4104/7365 [10:26<09:28,  5.73it/s]"
     ]
    },
    {
     "name": "stdout",
     "output_type": "stream",
     "text": [
      "Could not get metadata for Mohamed Farah: is the person's name spelled correctly?\n"
     ]
    },
    {
     "name": "stderr",
     "output_type": "stream",
     "text": [
      " 56%|███████████████████████████████████████████▋                                  | 4125/7365 [10:34<06:30,  8.30it/s]"
     ]
    },
    {
     "name": "stdout",
     "output_type": "stream",
     "text": [
      "Could not get metadata for Monica Ivancan: is the person's name spelled correctly?\n"
     ]
    },
    {
     "name": "stderr",
     "output_type": "stream",
     "text": [
      " 56%|████████████████████████████████████████████                                  | 4159/7365 [10:38<06:26,  8.30it/s]"
     ]
    },
    {
     "name": "stdout",
     "output_type": "stream",
     "text": [
      "Could not get metadata for Murilo Benicio: is the person's name spelled correctly?\n"
     ]
    },
    {
     "name": "stderr",
     "output_type": "stream",
     "text": [
      " 57%|████████████████████████████████████████████▎                                 | 4182/7365 [10:41<06:20,  8.36it/s]"
     ]
    },
    {
     "name": "stdout",
     "output_type": "stream",
     "text": [
      "Could not get metadata for Nadja Abd el Farrag: is the person's name spelled correctly?\n"
     ]
    },
    {
     "name": "stderr",
     "output_type": "stream",
     "text": [
      " 57%|████████████████████████████████████████████▍                                 | 4196/7365 [10:43<06:46,  7.80it/s]"
     ]
    },
    {
     "name": "stdout",
     "output_type": "stream",
     "text": [
      "Could not get metadata for Nancy DellOlio: is the person's name spelled correctly?\n"
     ]
    },
    {
     "name": "stderr",
     "output_type": "stream",
     "text": [
      " 57%|████████████████████████████████████████████▍                                 | 4199/7365 [10:43<06:18,  8.37it/s]"
     ]
    },
    {
     "name": "stdout",
     "output_type": "stream",
     "text": [
      "Could not get metadata for Nancy ODell: is the person's name spelled correctly?\n"
     ]
    },
    {
     "name": "stderr",
     "output_type": "stream",
     "text": [
      " 58%|█████████████████████████████████████████████                                 | 4253/7365 [10:50<06:46,  7.65it/s]"
     ]
    },
    {
     "name": "stdout",
     "output_type": "stream",
     "text": [
      "Could not get metadata for Navi Pillay: is the person's name spelled correctly?\n"
     ]
    },
    {
     "name": "stderr",
     "output_type": "stream",
     "text": [
      " 58%|█████████████████████████████████████████████▌                                | 4301/7365 [10:57<13:15,  3.85it/s]"
     ]
    },
    {
     "name": "stdout",
     "output_type": "stream",
     "text": [
      "Could not get metadata for Nick Simon: is the person's name spelled correctly?\n"
     ]
    },
    {
     "name": "stderr",
     "output_type": "stream",
     "text": [
      " 59%|█████████████████████████████████████████████▊                                | 4327/7365 [11:03<06:28,  7.83it/s]"
     ]
    },
    {
     "name": "stdout",
     "output_type": "stream",
     "text": [
      "Could not get metadata for Nicole Polizzi: is the person's name spelled correctly?\n",
      "Could not get metadata for Nicoletta Mantovani: is the person's name spelled correctly?\n"
     ]
    },
    {
     "name": "stderr",
     "output_type": "stream",
     "text": [
      " 59%|█████████████████████████████████████████████▉                                | 4333/7365 [11:04<06:00,  8.40it/s]"
     ]
    },
    {
     "name": "stdout",
     "output_type": "stream",
     "text": [
      "Could not get metadata for Nigahiga: is the person's name spelled correctly?\n"
     ]
    },
    {
     "name": "stderr",
     "output_type": "stream",
     "text": [
      " 59%|█████████████████████████████████████████████▉                                | 4335/7365 [11:04<05:54,  8.55it/s]"
     ]
    },
    {
     "name": "stdout",
     "output_type": "stream",
     "text": [
      "Could not get metadata for Nigel John Taylor: is the person's name spelled correctly?\n"
     ]
    },
    {
     "name": "stderr",
     "output_type": "stream",
     "text": [
      " 59%|██████████████████████████████████████████████                                | 4354/7365 [11:07<05:55,  8.47it/s]"
     ]
    },
    {
     "name": "stdout",
     "output_type": "stream",
     "text": [
      "Could not get metadata for Nina Gnädig: is the person's name spelled correctly?\n"
     ]
    },
    {
     "name": "stderr",
     "output_type": "stream",
     "text": [
      " 59%|██████████████████████████████████████████████▏                               | 4356/7365 [11:07<06:19,  7.94it/s]"
     ]
    },
    {
     "name": "stdout",
     "output_type": "stream",
     "text": [
      "Could not get metadata for Nina Watson: is the person's name spelled correctly?\n"
     ]
    },
    {
     "name": "stderr",
     "output_type": "stream",
     "text": [
      " 59%|██████████████████████████████████████████████▎                               | 4375/7365 [11:10<06:04,  8.19it/s]"
     ]
    },
    {
     "name": "stdout",
     "output_type": "stream",
     "text": [
      "Could not get metadata for Norah ODonnell: is the person's name spelled correctly?\n"
     ]
    },
    {
     "name": "stderr",
     "output_type": "stream",
     "text": [
      " 60%|██████████████████████████████████████████████▍                               | 4389/7365 [11:11<05:45,  8.62it/s]"
     ]
    },
    {
     "name": "stdout",
     "output_type": "stream",
     "text": [
      "Could not get metadata for Ol Dirty Bastard: is the person's name spelled correctly?\n"
     ]
    },
    {
     "name": "stderr",
     "output_type": "stream",
     "text": [
      " 60%|██████████████████████████████████████████████▉                               | 4430/7365 [11:16<05:48,  8.41it/s]"
     ]
    },
    {
     "name": "stdout",
     "output_type": "stream",
     "text": [
      "Could not get metadata for P!nk: is the person's name spelled correctly?\n"
     ]
    },
    {
     "name": "stderr",
     "output_type": "stream",
     "text": [
      " 60%|██████████████████████████████████████████████▉                               | 4433/7365 [11:17<05:55,  8.25it/s]"
     ]
    },
    {
     "name": "stdout",
     "output_type": "stream",
     "text": [
      "Could not get metadata for P. V. Sindhu: is the person's name spelled correctly?\n"
     ]
    },
    {
     "name": "stderr",
     "output_type": "stream",
     "text": [
      " 60%|███████████████████████████████████████████████                               | 4444/7365 [11:18<05:42,  8.53it/s]"
     ]
    },
    {
     "name": "stdout",
     "output_type": "stream",
     "text": [
      "Could not get metadata for Pamela Ramljak: is the person's name spelled correctly?\n"
     ]
    },
    {
     "name": "stderr",
     "output_type": "stream",
     "text": [
      " 61%|███████████████████████████████████████████████▏                              | 4460/7365 [11:20<05:37,  8.61it/s]"
     ]
    },
    {
     "name": "stdout",
     "output_type": "stream",
     "text": [
      "Could not get metadata for Park Jae-sang: is the person's name spelled correctly?\n"
     ]
    },
    {
     "name": "stderr",
     "output_type": "stream",
     "text": [
      " 61%|███████████████████████████████████████████████▌                              | 4493/7365 [11:24<06:36,  7.25it/s]"
     ]
    },
    {
     "name": "stdout",
     "output_type": "stream",
     "text": [
      "Could not get metadata for Paul DiAnno: is the person's name spelled correctly?\n",
      "Could not get metadata for Paul DiGiovanni: is the person's name spelled correctly?\n"
     ]
    },
    {
     "name": "stderr",
     "output_type": "stream",
     "text": [
      " 61%|███████████████████████████████████████████████▉                              | 4526/7365 [11:29<07:16,  6.50it/s]"
     ]
    },
    {
     "name": "stdout",
     "output_type": "stream",
     "text": [
      "Could not get metadata for Pauline Nordin: is the person's name spelled correctly?\n"
     ]
    },
    {
     "name": "stderr",
     "output_type": "stream",
     "text": [
      " 62%|███████████████████████████████████████████████▉                              | 4531/7365 [11:30<05:44,  8.22it/s]"
     ]
    },
    {
     "name": "stdout",
     "output_type": "stream",
     "text": [
      "Could not get metadata for Pavol Habera: is the person's name spelled correctly?\n"
     ]
    },
    {
     "name": "stderr",
     "output_type": "stream",
     "text": [
      " 62%|████████████████████████████████████████████████                              | 4541/7365 [11:32<06:27,  7.30it/s]"
     ]
    },
    {
     "name": "stdout",
     "output_type": "stream",
     "text": [
      "Could not get metadata for Pegah Ferydoni: is the person's name spelled correctly?\n"
     ]
    },
    {
     "name": "stderr",
     "output_type": "stream",
     "text": [
      " 62%|████████████████████████████████████████████████▏                             | 4547/7365 [11:32<05:30,  8.53it/s]"
     ]
    },
    {
     "name": "stdout",
     "output_type": "stream",
     "text": [
      "Could not get metadata for Penn Dayton Badgley: is the person's name spelled correctly?\n"
     ]
    },
    {
     "name": "stderr",
     "output_type": "stream",
     "text": [
      " 62%|████████████████████████████████████████████████▌                             | 4590/7365 [11:39<05:38,  8.20it/s]"
     ]
    },
    {
     "name": "stdout",
     "output_type": "stream",
     "text": [
      "Could not get metadata for Phil Kessel: is the person's name spelled correctly?\n"
     ]
    },
    {
     "name": "stderr",
     "output_type": "stream",
     "text": [
      " 63%|████████████████████████████████████████████████▊                             | 4605/7365 [11:42<07:24,  6.21it/s]"
     ]
    },
    {
     "name": "stdout",
     "output_type": "stream",
     "text": [
      "Could not get metadata for Philippe Caroit: is the person's name spelled correctly?\n"
     ]
    },
    {
     "name": "stderr",
     "output_type": "stream",
     "text": [
      " 63%|████████████████████████████████████████████████▊                             | 4613/7365 [11:43<05:55,  7.75it/s]"
     ]
    },
    {
     "name": "stdout",
     "output_type": "stream",
     "text": [
      "Could not get metadata for Phoebe Price: is the person's name spelled correctly?\n"
     ]
    },
    {
     "name": "stderr",
     "output_type": "stream",
     "text": [
      " 63%|█████████████████████████████████████████████████                             | 4630/7365 [11:45<05:19,  8.57it/s]"
     ]
    },
    {
     "name": "stdout",
     "output_type": "stream",
     "text": [
      "Could not get metadata for Pip Pellens: is the person's name spelled correctly?\n"
     ]
    },
    {
     "name": "stderr",
     "output_type": "stream",
     "text": [
      " 63%|█████████████████████████████████████████████████▎                            | 4652/7365 [11:48<06:04,  7.44it/s]"
     ]
    },
    {
     "name": "stdout",
     "output_type": "stream",
     "text": [
      "Could not get metadata for Prahladananda Swami: is the person's name spelled correctly?\n"
     ]
    },
    {
     "name": "stderr",
     "output_type": "stream",
     "text": [
      " 63%|█████████████████████████████████████████████████▍                            | 4671/7365 [11:50<06:13,  7.21it/s]"
     ]
    },
    {
     "name": "stdout",
     "output_type": "stream",
     "text": [
      "Could not get metadata for Qorianka Kilcher: is the person's name spelled correctly?\n"
     ]
    },
    {
     "name": "stderr",
     "output_type": "stream",
     "text": [
      " 63%|█████████████████████████████████████████████████▌                            | 4674/7365 [11:51<11:38,  3.85it/s]"
     ]
    },
    {
     "name": "stdout",
     "output_type": "stream",
     "text": [
      "Could not get metadata for Quang Linh: is the person's name spelled correctly?\n"
     ]
    },
    {
     "name": "stderr",
     "output_type": "stream",
     "text": [
      " 64%|█████████████████████████████████████████████████▌                            | 4681/7365 [11:53<08:03,  5.55it/s]"
     ]
    },
    {
     "name": "stdout",
     "output_type": "stream",
     "text": [
      "Could not get metadata for Quique Flores: is the person's name spelled correctly?\n"
     ]
    },
    {
     "name": "stderr",
     "output_type": "stream",
     "text": [
      " 64%|█████████████████████████████████████████████████▌                            | 4683/7365 [11:53<06:56,  6.45it/s]"
     ]
    },
    {
     "name": "stdout",
     "output_type": "stream",
     "text": [
      "Could not get metadata for Quirin Berg: is the person's name spelled correctly?\n"
     ]
    },
    {
     "name": "stderr",
     "output_type": "stream",
     "text": [
      " 65%|██████████████████████████████████████████████████▎                           | 4753/7365 [12:09<11:13,  3.88it/s]"
     ]
    },
    {
     "name": "stdout",
     "output_type": "stream",
     "text": [
      "Could not get metadata for Ramona Singer: is the person's name spelled correctly?\n"
     ]
    },
    {
     "name": "stderr",
     "output_type": "stream",
     "text": [
      " 65%|██████████████████████████████████████████████████▍                           | 4764/7365 [12:11<08:29,  5.11it/s]"
     ]
    },
    {
     "name": "stdout",
     "output_type": "stream",
     "text": [
      "Could not get metadata for Ranga Yogeshwar: is the person's name spelled correctly?\n"
     ]
    },
    {
     "name": "stderr",
     "output_type": "stream",
     "text": [
      " 65%|██████████████████████████████████████████████████▉                           | 4804/7365 [12:17<06:33,  6.51it/s]"
     ]
    },
    {
     "name": "stdout",
     "output_type": "stream",
     "text": [
      "Could not get metadata for Remo DSouza: is the person's name spelled correctly?\n"
     ]
    },
    {
     "name": "stderr",
     "output_type": "stream",
     "text": [
      " 66%|███████████████████████████████████████████████████▊                          | 4893/7365 [12:31<13:19,  3.09it/s]"
     ]
    },
    {
     "name": "stdout",
     "output_type": "stream",
     "text": [
      "Could not get metadata for Robert Downey Jr.: is the person's name spelled correctly?\n"
     ]
    },
    {
     "name": "stderr",
     "output_type": "stream",
     "text": [
      " 67%|███████████████████████████████████████████████████▉                          | 4903/7365 [12:33<05:40,  7.23it/s]"
     ]
    },
    {
     "name": "stdout",
     "output_type": "stream",
     "text": [
      "Could not get metadata for Robert Pattison: is the person's name spelled correctly?\n"
     ]
    },
    {
     "name": "stderr",
     "output_type": "stream",
     "text": [
      " 67%|███████████████████████████████████████████████████▉                          | 4907/7365 [12:33<05:42,  7.18it/s]"
     ]
    },
    {
     "name": "stdout",
     "output_type": "stream",
     "text": [
      "Could not get metadata for Robert Rey: is the person's name spelled correctly?\n"
     ]
    },
    {
     "name": "stderr",
     "output_type": "stream",
     "text": [
      " 68%|████████████████████████████████████████████████████▋                         | 4972/7365 [12:42<06:32,  6.09it/s]"
     ]
    },
    {
     "name": "stdout",
     "output_type": "stream",
     "text": [
      "Could not get metadata for Ron Thal: is the person's name spelled correctly?\n"
     ]
    },
    {
     "name": "stderr",
     "output_type": "stream",
     "text": [
      " 68%|████████████████████████████████████████████████████▋                         | 4978/7365 [12:43<06:21,  6.26it/s]"
     ]
    },
    {
     "name": "stdout",
     "output_type": "stream",
     "text": [
      "Could not get metadata for Ronan OGara: is the person's name spelled correctly?\n"
     ]
    },
    {
     "name": "stderr",
     "output_type": "stream",
     "text": [
      " 68%|████████████████████████████████████████████████████▊                         | 4983/7365 [12:44<05:22,  7.38it/s]"
     ]
    },
    {
     "name": "stdout",
     "output_type": "stream",
     "text": [
      "Could not get metadata for Ronnie OSullivan: is the person's name spelled correctly?\n"
     ]
    },
    {
     "name": "stderr",
     "output_type": "stream",
     "text": [
      " 68%|█████████████████████████████████████████████████████                         | 5008/7365 [12:47<05:10,  7.60it/s]"
     ]
    },
    {
     "name": "stdout",
     "output_type": "stream",
     "text": [
      "Could not get metadata for Rosie ODonnell: is the person's name spelled correctly?\n"
     ]
    },
    {
     "name": "stderr",
     "output_type": "stream",
     "text": [
      " 68%|█████████████████████████████████████████████████████▏                        | 5019/7365 [12:48<04:28,  8.72it/s]"
     ]
    },
    {
     "name": "stdout",
     "output_type": "stream",
     "text": [
      "Could not get metadata for Roy Horn: is the person's name spelled correctly?\n"
     ]
    },
    {
     "name": "stderr",
     "output_type": "stream",
     "text": [
      " 69%|█████████████████████████████████████████████████████▊                        | 5086/7365 [12:56<04:23,  8.63it/s]"
     ]
    },
    {
     "name": "stdout",
     "output_type": "stream",
     "text": [
      "Could not get metadata for Saige Ryan Campbell: is the person's name spelled correctly?\n"
     ]
    },
    {
     "name": "stderr",
     "output_type": "stream",
     "text": [
      " 70%|██████████████████████████████████████████████████████▎                       | 5131/7365 [13:06<04:16,  8.71it/s]"
     ]
    },
    {
     "name": "stdout",
     "output_type": "stream",
     "text": [
      "Could not get metadata for Samuel Etoo: is the person's name spelled correctly?\n"
     ]
    },
    {
     "name": "stderr",
     "output_type": "stream",
     "text": [
      " 70%|██████████████████████████████████████████████████████▍                       | 5146/7365 [13:08<05:23,  6.86it/s]"
     ]
    },
    {
     "name": "stdout",
     "output_type": "stream",
     "text": [
      "Could not get metadata for Sandy Leah Lima: is the person's name spelled correctly?\n"
     ]
    },
    {
     "name": "stderr",
     "output_type": "stream",
     "text": [
      " 71%|███████████████████████████████████████████████████████                       | 5197/7365 [13:15<04:14,  8.52it/s]"
     ]
    },
    {
     "name": "stdout",
     "output_type": "stream",
     "text": [
      "Could not get metadata for Sean OPry: is the person's name spelled correctly?\n"
     ]
    },
    {
     "name": "stderr",
     "output_type": "stream",
     "text": [
      " 71%|███████████████████████████████████████████████████████                       | 5204/7365 [13:16<04:48,  7.50it/s]"
     ]
    },
    {
     "name": "stdout",
     "output_type": "stream",
     "text": [
      "Could not get metadata for Sebastian Karpiel-Bułecka: is the person's name spelled correctly?\n"
     ]
    },
    {
     "name": "stderr",
     "output_type": "stream",
     "text": [
      " 71%|███████████████████████████████████████████████████████▌                      | 5242/7365 [13:20<04:13,  8.37it/s]"
     ]
    },
    {
     "name": "stdout",
     "output_type": "stream",
     "text": [
      "Could not get metadata for Shahar Peer: is the person's name spelled correctly?\n"
     ]
    },
    {
     "name": "stderr",
     "output_type": "stream",
     "text": [
      " 72%|████████████████████████████████████████████████████████▏                     | 5305/7365 [13:30<05:20,  6.43it/s]"
     ]
    },
    {
     "name": "stdout",
     "output_type": "stream",
     "text": [
      "Could not get metadata for Shimon Moore: is the person's name spelled correctly?\n"
     ]
    },
    {
     "name": "stderr",
     "output_type": "stream",
     "text": [
      " 73%|████████████████████████████████████████████████████████▊                     | 5363/7365 [13:38<03:49,  8.72it/s]"
     ]
    },
    {
     "name": "stdout",
     "output_type": "stream",
     "text": [
      "Could not get metadata for Soledad OBrien: is the person's name spelled correctly?\n"
     ]
    },
    {
     "name": "stderr",
     "output_type": "stream",
     "text": [
      " 73%|████████████████████████████████████████████████████████▉                     | 5381/7365 [13:41<05:07,  6.46it/s]"
     ]
    },
    {
     "name": "stdout",
     "output_type": "stream",
     "text": [
      "Could not get metadata for Soon-Yi Previn: is the person's name spelled correctly?\n"
     ]
    },
    {
     "name": "stderr",
     "output_type": "stream",
     "text": [
      " 73%|█████████████████████████████████████████████████████████                     | 5384/7365 [13:41<04:25,  7.46it/s]"
     ]
    },
    {
     "name": "stdout",
     "output_type": "stream",
     "text": [
      "Could not get metadata for Sophia Thomalla: is the person's name spelled correctly?\n"
     ]
    },
    {
     "name": "stderr",
     "output_type": "stream",
     "text": [
      " 73%|█████████████████████████████████████████████████████████                     | 5389/7365 [13:42<03:50,  8.58it/s]"
     ]
    },
    {
     "name": "stdout",
     "output_type": "stream",
     "text": [
      "Could not get metadata for Sophie Simmons: is the person's name spelled correctly?\n"
     ]
    },
    {
     "name": "stderr",
     "output_type": "stream",
     "text": [
      " 73%|█████████████████████████████████████████████████████████                     | 5393/7365 [13:42<03:47,  8.69it/s]"
     ]
    },
    {
     "name": "stdout",
     "output_type": "stream",
     "text": [
      "Could not get metadata for Soundarya R. Ashwin: is the person's name spelled correctly?\n"
     ]
    },
    {
     "name": "stderr",
     "output_type": "stream",
     "text": [
      " 74%|█████████████████████████████████████████████████████████▎                    | 5414/7365 [13:45<03:51,  8.41it/s]"
     ]
    },
    {
     "name": "stdout",
     "output_type": "stream",
     "text": [
      "Could not get metadata for Steffen Groth: is the person's name spelled correctly?\n"
     ]
    },
    {
     "name": "stderr",
     "output_type": "stream",
     "text": [
      " 74%|█████████████████████████████████████████████████████████▍                    | 5418/7365 [13:46<03:56,  8.25it/s]"
     ]
    },
    {
     "name": "stdout",
     "output_type": "stream",
     "text": [
      "Could not get metadata for Stella Hudgens: is the person's name spelled correctly?\n"
     ]
    },
    {
     "name": "stderr",
     "output_type": "stream",
     "text": [
      " 74%|█████████████████████████████████████████████████████████▍                    | 5421/7365 [13:46<04:02,  8.02it/s]"
     ]
    },
    {
     "name": "stdout",
     "output_type": "stream",
     "text": [
      "Could not get metadata for Stephan Luca: is the person's name spelled correctly?\n"
     ]
    },
    {
     "name": "stderr",
     "output_type": "stream",
     "text": [
      " 74%|█████████████████████████████████████████████████████████▍                    | 5423/7365 [13:46<04:03,  7.97it/s]"
     ]
    },
    {
     "name": "stdout",
     "output_type": "stream",
     "text": [
      "Could not get metadata for Stephane Guillon: is the person's name spelled correctly?\n"
     ]
    },
    {
     "name": "stderr",
     "output_type": "stream",
     "text": [
      " 74%|█████████████████████████████████████████████████████████▉                    | 5471/7365 [13:52<03:43,  8.48it/s]"
     ]
    },
    {
     "name": "stdout",
     "output_type": "stream",
     "text": [
      "Could not get metadata for Sudeepa Singh: is the person's name spelled correctly?\n"
     ]
    },
    {
     "name": "stderr",
     "output_type": "stream",
     "text": [
      " 74%|██████████████████████████████████████████████████████████                    | 5478/7365 [13:53<03:33,  8.82it/s]"
     ]
    },
    {
     "name": "stdout",
     "output_type": "stream",
     "text": [
      "Could not get metadata for Sula Miranda: is the person's name spelled correctly?\n"
     ]
    },
    {
     "name": "stderr",
     "output_type": "stream",
     "text": [
      " 75%|██████████████████████████████████████████████████████████▎                   | 5508/7365 [14:02<13:10,  2.35it/s]"
     ]
    },
    {
     "name": "stdout",
     "output_type": "stream",
     "text": [
      "Could not get metadata for Syb van der Ploeg: is the person's name spelled correctly?\n"
     ]
    },
    {
     "name": "stderr",
     "output_type": "stream",
     "text": [
      " 75%|██████████████████████████████████████████████████████████▍                   | 5517/7365 [14:03<04:25,  6.96it/s]"
     ]
    },
    {
     "name": "stdout",
     "output_type": "stream",
     "text": [
      "Could not get metadata for Sylvie van der Vaart: is the person's name spelled correctly?\n"
     ]
    },
    {
     "name": "stderr",
     "output_type": "stream",
     "text": [
      " 75%|██████████████████████████████████████████████████████████▋                   | 5542/7365 [14:07<03:51,  7.87it/s]"
     ]
    },
    {
     "name": "stdout",
     "output_type": "stream",
     "text": [
      "Could not get metadata for Tanaz Tabatabaei: is the person's name spelled correctly?\n"
     ]
    },
    {
     "name": "stderr",
     "output_type": "stream",
     "text": [
      " 75%|██████████████████████████████████████████████████████████▊                   | 5548/7365 [14:08<04:00,  7.57it/s]"
     ]
    },
    {
     "name": "stdout",
     "output_type": "stream",
     "text": [
      "Could not get metadata for Tanja Schumann: is the person's name spelled correctly?\n"
     ]
    },
    {
     "name": "stderr",
     "output_type": "stream",
     "text": [
      " 75%|██████████████████████████████████████████████████████████▊                   | 5553/7365 [14:08<03:45,  8.04it/s]"
     ]
    },
    {
     "name": "stdout",
     "output_type": "stream",
     "text": [
      "Could not get metadata for Tara Sharma: is the person's name spelled correctly?\n"
     ]
    },
    {
     "name": "stderr",
     "output_type": "stream",
     "text": [
      " 75%|██████████████████████████████████████████████████████████▉                   | 5560/7365 [14:09<03:28,  8.66it/s]"
     ]
    },
    {
     "name": "stdout",
     "output_type": "stream",
     "text": [
      "Could not get metadata for Taryll Jackson: is the person's name spelled correctly?\n"
     ]
    },
    {
     "name": "stderr",
     "output_type": "stream",
     "text": [
      " 77%|███████████████████████████████████████████████████████████▋                  | 5640/7365 [14:19<03:21,  8.54it/s]"
     ]
    },
    {
     "name": "stdout",
     "output_type": "stream",
     "text": [
      "Could not get metadata for Ticiane Pinheiro: is the person's name spelled correctly?\n"
     ]
    },
    {
     "name": "stderr",
     "output_type": "stream",
     "text": [
      " 77%|███████████████████████████████████████████████████████████▉                  | 5657/7365 [14:21<03:14,  8.77it/s]"
     ]
    },
    {
     "name": "stdout",
     "output_type": "stream",
     "text": [
      "Could not get metadata for Tina Ruland: is the person's name spelled correctly?\n"
     ]
    },
    {
     "name": "stderr",
     "output_type": "stream",
     "text": [
      " 77%|███████████████████████████████████████████████████████████▉                  | 5664/7365 [14:21<03:16,  8.64it/s]"
     ]
    },
    {
     "name": "stdout",
     "output_type": "stream",
     "text": [
      "Could not get metadata for Titus ONeil: is the person's name spelled correctly?\n"
     ]
    },
    {
     "name": "stderr",
     "output_type": "stream",
     "text": [
      " 78%|████████████████████████████████████████████████████████████▌                 | 5721/7365 [14:34<13:12,  2.07it/s]"
     ]
    },
    {
     "name": "stdout",
     "output_type": "stream",
     "text": [
      "Could not get metadata for Tony Leung Chiu Wai: is the person's name spelled correctly?\n"
     ]
    },
    {
     "name": "stderr",
     "output_type": "stream",
     "text": [
      " 79%|█████████████████████████████████████████████████████████████▎                | 5792/7365 [14:43<03:07,  8.38it/s]"
     ]
    },
    {
     "name": "stdout",
     "output_type": "stream",
     "text": [
      "Could not get metadata for Udaya Bhanu: is the person's name spelled correctly?\n"
     ]
    },
    {
     "name": "stderr",
     "output_type": "stream",
     "text": [
      " 79%|█████████████████████████████████████████████████████████████▌                | 5816/7365 [14:47<03:04,  8.38it/s]"
     ]
    },
    {
     "name": "stdout",
     "output_type": "stream",
     "text": [
      "Could not get metadata for Ute Freudenberg: is the person's name spelled correctly?\n"
     ]
    },
    {
     "name": "stderr",
     "output_type": "stream",
     "text": [
      " 79%|█████████████████████████████████████████████████████████████▌                | 5818/7365 [14:47<02:56,  8.76it/s]"
     ]
    },
    {
     "name": "stdout",
     "output_type": "stream",
     "text": [
      "Could not get metadata for V. K. Singh: is the person's name spelled correctly?\n"
     ]
    },
    {
     "name": "stderr",
     "output_type": "stream",
     "text": [
      " 79%|█████████████████████████████████████████████████████████████▉                | 5854/7365 [14:54<02:57,  8.50it/s]"
     ]
    },
    {
     "name": "stdout",
     "output_type": "stream",
     "text": [
      "Could not get metadata for Vashtie Kola: is the person's name spelled correctly?\n"
     ]
    },
    {
     "name": "stderr",
     "output_type": "stream",
     "text": [
      " 80%|██████████████████████████████████████████████████████████████▌               | 5908/7365 [15:05<02:49,  8.59it/s]"
     ]
    },
    {
     "name": "stdout",
     "output_type": "stream",
     "text": [
      "Could not get metadata for Vishal Krishna: is the person's name spelled correctly?\n"
     ]
    },
    {
     "name": "stderr",
     "output_type": "stream",
     "text": [
      " 81%|██████████████████████████████████████████████████████████████▊               | 5935/7365 [15:09<02:45,  8.63it/s]"
     ]
    },
    {
     "name": "stdout",
     "output_type": "stream",
     "text": [
      "Could not get metadata for Walter Nudo: is the person's name spelled correctly?\n",
      "Could not get metadata for Walter Sittler: is the person's name spelled correctly?\n"
     ]
    },
    {
     "name": "stderr",
     "output_type": "stream",
     "text": [
      " 81%|███████████████████████████████████████████████████████████████               | 5957/7365 [15:12<04:01,  5.83it/s]"
     ]
    },
    {
     "name": "stdout",
     "output_type": "stream",
     "text": [
      "Could not get metadata for Will i Am: is the person's name spelled correctly?\n"
     ]
    },
    {
     "name": "stderr",
     "output_type": "stream",
     "text": [
      " 81%|███████████████████████████████████████████████████████████████▎              | 5980/7365 [15:15<02:45,  8.34it/s]"
     ]
    },
    {
     "name": "stdout",
     "output_type": "stream",
     "text": [
      "Could not get metadata for Wolfgang Sobotka: is the person's name spelled correctly?\n"
     ]
    },
    {
     "name": "stderr",
     "output_type": "stream",
     "text": [
      " 82%|███████████████████████████████████████████████████████████████▌              | 6003/7365 [15:18<03:12,  7.08it/s]"
     ]
    },
    {
     "name": "stdout",
     "output_type": "stream",
     "text": [
      "Could not get metadata for Yann Moix: is the person's name spelled correctly?\n"
     ]
    },
    {
     "name": "stderr",
     "output_type": "stream",
     "text": [
      " 82%|███████████████████████████████████████████████████████████████▉              | 6033/7365 [15:21<02:32,  8.73it/s]"
     ]
    },
    {
     "name": "stdout",
     "output_type": "stream",
     "text": [
      "Could not get metadata for Yulia Volkova: is the person's name spelled correctly?\n"
     ]
    },
    {
     "name": "stderr",
     "output_type": "stream",
     "text": [
      " 82%|███████████████████████████████████████████████████████████████▉              | 6041/7365 [15:23<02:49,  7.79it/s]"
     ]
    },
    {
     "name": "stdout",
     "output_type": "stream",
     "text": [
      "Could not get metadata for Yvonne Ransbach: is the person's name spelled correctly?\n"
     ]
    },
    {
     "name": "stderr",
     "output_type": "stream",
     "text": [
      " 83%|████████████████████████████████████████████████████████████████▍             | 6087/7365 [15:29<03:36,  5.90it/s]"
     ]
    },
    {
     "name": "stdout",
     "output_type": "stream",
     "text": [
      "Could not get metadata for Álex Lora: is the person's name spelled correctly?\n"
     ]
    },
    {
     "name": "stderr",
     "output_type": "stream",
     "text": [
      " 83%|████████████████████████████████████████████████████████████████▌             | 6102/7365 [15:33<06:02,  3.48it/s]"
     ]
    },
    {
     "name": "stdout",
     "output_type": "stream",
     "text": [
      "Could not get metadata for Éric Ripert: is the person's name spelled correctly?\n"
     ]
    },
    {
     "name": "stderr",
     "output_type": "stream",
     "text": [
      " 83%|████████████████████████████████████████████████████████████████▊             | 6116/7365 [15:35<02:31,  8.25it/s]"
     ]
    },
    {
     "name": "stdout",
     "output_type": "stream",
     "text": [
      "Could not get metadata for A.J. Buckley: is the person's name spelled correctly?\n",
      "Could not get metadata for A.R. Rahman: is the person's name spelled correctly?\n"
     ]
    },
    {
     "name": "stderr",
     "output_type": "stream",
     "text": [
      " 83%|████████████████████████████████████████████████████████████████▉             | 6126/7365 [15:36<02:40,  7.73it/s]"
     ]
    },
    {
     "name": "stdout",
     "output_type": "stream",
     "text": [
      "Could not get metadata for Adam Copeland: is the person's name spelled correctly?\n"
     ]
    },
    {
     "name": "stderr",
     "output_type": "stream",
     "text": [
      " 83%|████████████████████████████████████████████████████████████████▉             | 6132/7365 [15:37<02:35,  7.91it/s]"
     ]
    },
    {
     "name": "stdout",
     "output_type": "stream",
     "text": [
      "Could not get metadata for Ajay Devgn: is the person's name spelled correctly?\n"
     ]
    },
    {
     "name": "stderr",
     "output_type": "stream",
     "text": [
      " 84%|█████████████████████████████████████████████████████████████████▏            | 6152/7365 [15:39<02:22,  8.53it/s]"
     ]
    },
    {
     "name": "stdout",
     "output_type": "stream",
     "text": [
      "Could not get metadata for Alicja Bachleda: is the person's name spelled correctly?\n"
     ]
    },
    {
     "name": "stderr",
     "output_type": "stream",
     "text": [
      " 84%|█████████████████████████████████████████████████████████████████▎            | 6168/7365 [15:41<02:25,  8.22it/s]"
     ]
    },
    {
     "name": "stdout",
     "output_type": "stream",
     "text": [
      "Could not get metadata for Andrew Lee Potts: is the person's name spelled correctly?\n"
     ]
    },
    {
     "name": "stderr",
     "output_type": "stream",
     "text": [
      " 84%|█████████████████████████████████████████████████████████████████▌            | 6192/7365 [15:44<02:14,  8.70it/s]"
     ]
    },
    {
     "name": "stdout",
     "output_type": "stream",
     "text": [
      "Could not get metadata for B.J. Novak: is the person's name spelled correctly?\n"
     ]
    },
    {
     "name": "stderr",
     "output_type": "stream",
     "text": [
      " 84%|█████████████████████████████████████████████████████████████████▋            | 6207/7365 [15:46<02:17,  8.45it/s]"
     ]
    },
    {
     "name": "stdout",
     "output_type": "stream",
     "text": [
      "Could not get metadata for Bingbing Li: is the person's name spelled correctly?\n"
     ]
    },
    {
     "name": "stderr",
     "output_type": "stream",
     "text": [
      " 85%|█████████████████████████████████████████████████████████████████▉            | 6227/7365 [15:50<02:20,  8.10it/s]"
     ]
    },
    {
     "name": "stdout",
     "output_type": "stream",
     "text": [
      "Could not get metadata for Brooke Burke-Charvet: is the person's name spelled correctly?\n"
     ]
    },
    {
     "name": "stderr",
     "output_type": "stream",
     "text": [
      " 85%|██████████████████████████████████████████████████████████████████            | 6232/7365 [15:51<02:12,  8.53it/s]"
     ]
    },
    {
     "name": "stdout",
     "output_type": "stream",
     "text": [
      "Could not get metadata for CCH Pounder: is the person's name spelled correctly?\n"
     ]
    },
    {
     "name": "stderr",
     "output_type": "stream",
     "text": [
      " 86%|███████████████████████████████████████████████████████████████████▏          | 6347/7365 [16:08<02:37,  6.47it/s]"
     ]
    },
    {
     "name": "stdout",
     "output_type": "stream",
     "text": [
      "Could not get metadata for Demian Bichir: is the person's name spelled correctly?\n"
     ]
    },
    {
     "name": "stderr",
     "output_type": "stream",
     "text": [
      " 86%|███████████████████████████████████████████████████████████████████▍          | 6370/7365 [16:11<01:55,  8.64it/s]"
     ]
    },
    {
     "name": "stdout",
     "output_type": "stream",
     "text": [
      "Could not get metadata for Dot-Marie Jones: is the person's name spelled correctly?\n"
     ]
    },
    {
     "name": "stderr",
     "output_type": "stream",
     "text": [
      " 87%|███████████████████████████████████████████████████████████████████▋          | 6393/7365 [16:14<01:51,  8.71it/s]"
     ]
    },
    {
     "name": "stdout",
     "output_type": "stream",
     "text": [
      "Could not get metadata for Edward Asner: is the person's name spelled correctly?\n"
     ]
    },
    {
     "name": "stderr",
     "output_type": "stream",
     "text": [
      " 87%|███████████████████████████████████████████████████████████████████▊          | 6404/7365 [16:15<01:50,  8.68it/s]"
     ]
    },
    {
     "name": "stdout",
     "output_type": "stream",
     "text": [
      "Could not get metadata for Elodie Yung: is the person's name spelled correctly?\n"
     ]
    },
    {
     "name": "stderr",
     "output_type": "stream",
     "text": [
      " 88%|████████████████████████████████████████████████████████████████████▍         | 6460/7365 [16:22<01:48,  8.35it/s]"
     ]
    },
    {
     "name": "stdout",
     "output_type": "stream",
     "text": [
      "Could not get metadata for Goran Visnjic: is the person's name spelled correctly?\n"
     ]
    },
    {
     "name": "stderr",
     "output_type": "stream",
     "text": [
      " 88%|████████████████████████████████████████████████████████████████████▋         | 6483/7365 [16:25<01:46,  8.26it/s]"
     ]
    },
    {
     "name": "stdout",
     "output_type": "stream",
     "text": [
      "Could not get metadata for Hector Elizondo: is the person's name spelled correctly?\n"
     ]
    },
    {
     "name": "stderr",
     "output_type": "stream",
     "text": [
      " 88%|████████████████████████████████████████████████████████████████████▊         | 6499/7365 [16:29<03:39,  3.95it/s]"
     ]
    },
    {
     "name": "stdout",
     "output_type": "stream",
     "text": [
      "Could not get metadata for Hye-kyo Song: is the person's name spelled correctly?\n"
     ]
    },
    {
     "name": "stderr",
     "output_type": "stream",
     "text": [
      " 88%|████████████████████████████████████████████████████████████████████▉         | 6512/7365 [16:32<02:36,  5.44it/s]"
     ]
    },
    {
     "name": "stdout",
     "output_type": "stream",
     "text": [
      "Could not get metadata for J.J. Abrams: is the person's name spelled correctly?\n",
      "Could not get metadata for J.K. Simmons: is the person's name spelled correctly?\n"
     ]
    },
    {
     "name": "stderr",
     "output_type": "stream",
     "text": [
      " 91%|██████████████████████████████████████████████████████████████████████▉       | 6701/7365 [16:56<01:17,  8.59it/s]"
     ]
    },
    {
     "name": "stdout",
     "output_type": "stream",
     "text": [
      "Could not get metadata for Karla Souza: is the person's name spelled correctly?\n"
     ]
    },
    {
     "name": "stderr",
     "output_type": "stream",
     "text": [
      " 91%|███████████████████████████████████████████████████████████████████████▏      | 6727/7365 [17:03<01:39,  6.41it/s]"
     ]
    },
    {
     "name": "stdout",
     "output_type": "stream",
     "text": [
      "Could not get metadata for Katie Cleary: is the person's name spelled correctly?\n"
     ]
    },
    {
     "name": "stderr",
     "output_type": "stream",
     "text": [
      " 92%|███████████████████████████████████████████████████████████████████████▋      | 6765/7365 [17:08<01:10,  8.51it/s]"
     ]
    },
    {
     "name": "stdout",
     "output_type": "stream",
     "text": [
      "Could not get metadata for Kim Zolciak-Biermann: is the person's name spelled correctly?\n"
     ]
    },
    {
     "name": "stderr",
     "output_type": "stream",
     "text": [
      " 93%|████████████████████████████████████████████████████████████████████████▍     | 6838/7365 [17:17<01:11,  7.35it/s]"
     ]
    },
    {
     "name": "stdout",
     "output_type": "stream",
     "text": [
      "Could not get metadata for Malin Akerman: is the person's name spelled correctly?\n"
     ]
    },
    {
     "name": "stderr",
     "output_type": "stream",
     "text": [
      " 93%|████████████████████████████████████████████████████████████████████████▌     | 6851/7365 [17:19<01:04,  7.96it/s]"
     ]
    },
    {
     "name": "stdout",
     "output_type": "stream",
     "text": [
      "Could not get metadata for Maria Canals-Barrera: is the person's name spelled correctly?\n"
     ]
    },
    {
     "name": "stderr",
     "output_type": "stream",
     "text": [
      " 95%|██████████████████████████████████████████████████████████████████████████▍   | 7028/7365 [17:46<00:41,  8.16it/s]"
     ]
    },
    {
     "name": "stdout",
     "output_type": "stream",
     "text": [
      "Could not get metadata for Pat Monahan: is the person's name spelled correctly?\n"
     ]
    },
    {
     "name": "stderr",
     "output_type": "stream",
     "text": [
      " 96%|██████████████████████████████████████████████████████████████████████████▊   | 7064/7365 [17:50<00:43,  6.97it/s]"
     ]
    },
    {
     "name": "stdout",
     "output_type": "stream",
     "text": [
      "Could not get metadata for Rade Serbedzija: is the person's name spelled correctly?\n"
     ]
    },
    {
     "name": "stderr",
     "output_type": "stream",
     "text": [
      " 96%|███████████████████████████████████████████████████████████████████████████   | 7082/7365 [17:53<00:32,  8.69it/s]"
     ]
    },
    {
     "name": "stdout",
     "output_type": "stream",
     "text": [
      "Could not get metadata for Rene Auberjonois: is the person's name spelled correctly?\n"
     ]
    },
    {
     "name": "stderr",
     "output_type": "stream",
     "text": [
      " 97%|███████████████████████████████████████████████████████████████████████████▉  | 7176/7365 [18:12<00:30,  6.28it/s]"
     ]
    },
    {
     "name": "stdout",
     "output_type": "stream",
     "text": [
      "Could not get metadata for Sebastian De Souza: is the person's name spelled correctly?\n"
     ]
    },
    {
     "name": "stderr",
     "output_type": "stream",
     "text": [
      " 99%|████████████████████████████████████████████████████████████████████████████▊ | 7258/7365 [18:23<00:12,  8.70it/s]"
     ]
    },
    {
     "name": "stdout",
     "output_type": "stream",
     "text": [
      "Could not get metadata for Tamera Mowry-Housley: is the person's name spelled correctly?\n"
     ]
    },
    {
     "name": "stderr",
     "output_type": "stream",
     "text": [
      " 99%|█████████████████████████████████████████████████████████████████████████████▍| 7314/7365 [18:36<00:05,  8.83it/s]"
     ]
    },
    {
     "name": "stdout",
     "output_type": "stream",
     "text": [
      "Could not get metadata for Usher Raymond: is the person's name spelled correctly?\n"
     ]
    },
    {
     "name": "stderr",
     "output_type": "stream",
     "text": [
      "100%|██████████████████████████████████████████████████████████████████████████████| 7365/7365 [18:42<00:00,  6.56it/s]\n"
     ]
    }
   ],
   "source": [
    "vips_metadata_dbpedia, not_found_vips_dbpedia = download_vips_metadata(unique_vips, 'dbpedia')"
   ]
  },
  {
   "cell_type": "code",
   "execution_count": 27,
   "metadata": {},
   "outputs": [
    {
     "data": {
      "text/plain": [
       "7070"
      ]
     },
     "execution_count": 27,
     "metadata": {},
     "output_type": "execute_result"
    }
   ],
   "source": [
    "len(vips_metadata_dbpedia)"
   ]
  },
  {
   "cell_type": "code",
   "execution_count": 28,
   "metadata": {},
   "outputs": [
    {
     "data": {
      "text/plain": [
       "['Aderbal Freire Filho',\n",
       " 'Aishwarya Rai Bachchan',\n",
       " 'Al Bano Carrisi',\n",
       " 'Alana Curry',\n",
       " 'Alex Aniston',\n",
       " 'Alex OLoughlin',\n",
       " 'Alexandra Lara',\n",
       " 'Ali al-Naimi',\n",
       " 'Amare Stoudemire',\n",
       " 'Amy Dumas',\n",
       " 'Ana Patricia Botin',\n",
       " 'Anahí de Cardenas',\n",
       " 'Andrea Kaiser',\n",
       " 'Andrea Veresova',\n",
       " 'Andreas Jancke',\n",
       " 'Angela Simmons',\n",
       " 'Angelica Celaya',\n",
       " 'Annabelle Mandeng',\n",
       " 'Anne-Sophie Briest',\n",
       " 'Annemarie Warnkross',\n",
       " 'Arié Elmaleh',\n",
       " 'Arno Del Curto',\n",
       " 'Arya Babbar',\n",
       " 'Azadeh Samadi',\n",
       " 'Azmin Ali',\n",
       " 'B. J. Thomas',\n",
       " 'B. J. Upton',\n",
       " 'Barbara Schett',\n",
       " 'Barbara dUrso',\n",
       " 'Beate Merk',\n",
       " 'Bertie Gilbert',\n",
       " 'Beth Winslet',\n",
       " 'Beto Cuevas',\n",
       " 'Bettina Vollath',\n",
       " 'Bettina Zimmermann',\n",
       " 'Bhairvi Goswami',\n",
       " 'Bhavana Menon',\n",
       " 'Bilkay Öney',\n",
       " 'Bill Gilman',\n",
       " 'Brodinski',\n",
       " 'Bruce Jenner',\n",
       " 'Bruno Madinier',\n",
       " 'Bruno Solo',\n",
       " 'C.C.Catch',\n",
       " 'Cameron Quiseng',\n",
       " 'Candace Cameron-Bure',\n",
       " 'Carlos Lupi',\n",
       " 'Carrie Fletcher',\n",
       " 'Catherine Jenkins',\n",
       " 'Catherine OHara',\n",
       " 'Chantal Poullain',\n",
       " 'Charlotte Salt',\n",
       " 'Cheryl Cole',\n",
       " 'Claus Weselsky',\n",
       " 'Clemens Schick',\n",
       " 'Clifton Collins, Jr.',\n",
       " 'Cole Sprouse',\n",
       " 'Colin Kaepernick',\n",
       " 'Conan OBrien',\n",
       " 'Cuba Gooding, Jr.',\n",
       " 'Czeslaw Mozil',\n",
       " 'Daisy De La Hoya',\n",
       " 'Dale Earnhardt, Jr.',\n",
       " 'Danneel Ackles',\n",
       " 'Dbanj',\n",
       " 'Devanny Pinn',\n",
       " 'Diego Botto',\n",
       " 'Dieter Thomas Kuhn',\n",
       " 'Dietrich Brüggemann',\n",
       " 'Divya Khosla',\n",
       " 'Donald Trump, Jr.',\n",
       " 'Dravid',\n",
       " 'Edinson Volquez',\n",
       " 'Elizabeth Shannon',\n",
       " 'Elyas M’Barek',\n",
       " 'Emma Marcegaglia',\n",
       " 'Eve Angeli',\n",
       " 'Evelyne Brochu',\n",
       " 'Fabio Troiano',\n",
       " 'Felipe Gonzales',\n",
       " 'Francesco Pannofino',\n",
       " 'Frederic Beigbeder',\n",
       " 'Fredy Bickel',\n",
       " 'Geetha Madhuri',\n",
       " 'Genelia DSouza',\n",
       " 'Gigi Ravelli',\n",
       " 'Giovane Élber',\n",
       " 'Gurmeet Ram Rahim Singh',\n",
       " 'H. P. Baxxter',\n",
       " 'Hadewych Minis',\n",
       " 'Hamsa Nandini',\n",
       " 'Hanna Beth',\n",
       " 'Harry Connick, Jr.',\n",
       " 'Heather Elizabeth Morris',\n",
       " 'Hilde Mattheis',\n",
       " 'Hillary Rodham Clinton',\n",
       " 'Humaima Malik',\n",
       " 'Ian Hecox',\n",
       " 'Indira Vladić',\n",
       " 'Ines Sainz Gallo',\n",
       " 'Iva Pazderková',\n",
       " 'J.R. Martinez',\n",
       " 'Jacek Rostowski',\n",
       " 'Jaime Faith Edmondson',\n",
       " 'Jakub Smolík',\n",
       " 'James DArcy',\n",
       " 'James Dimon',\n",
       " 'James Pickens Jr.',\n",
       " 'Jamie Colby',\n",
       " 'Janelle Monae',\n",
       " 'Jared Followill',\n",
       " 'Jarmila Gajdošová',\n",
       " 'Jason Wahler',\n",
       " 'Jay-Z',\n",
       " 'Jennifer Gimenez',\n",
       " 'Jenny Elvers-Elbertzhagen',\n",
       " 'Jerry OConnell',\n",
       " 'Jette Joop',\n",
       " 'Jill Kargman',\n",
       " 'Jin-hee Ji',\n",
       " 'Jodi Lyn OKeefe',\n",
       " 'Joel Coen',\n",
       " 'Johannes Remmel',\n",
       " 'John T. Chambers',\n",
       " 'Jonathan Meyers',\n",
       " 'Joshua Bowman',\n",
       " 'Juliano Cazarre',\n",
       " 'Julie Piétri',\n",
       " 'Julio César Chávez, Jr.',\n",
       " 'K-Maro',\n",
       " 'Kader Loth',\n",
       " 'Kai Schumann',\n",
       " 'Kareena Kapoor Khan',\n",
       " 'Karen Fairchild',\n",
       " 'Karin Ontiveros',\n",
       " 'Kate OMara',\n",
       " 'Katon W. De Pena',\n",
       " 'Kim Matula',\n",
       " 'Kipton Cronkite',\n",
       " 'Koo Ja-Cheol',\n",
       " 'Kris Letang',\n",
       " 'Krystle Lina',\n",
       " 'Laurent Gerra',\n",
       " 'Lazaro Hernandez',\n",
       " 'Leonard Lansink',\n",
       " 'Leslie Mandoki',\n",
       " 'Leticia Van de Putte',\n",
       " 'Liana Mendoza',\n",
       " 'Lil Flip',\n",
       " 'Lil Kim',\n",
       " 'Lisa Fitz',\n",
       " 'Lucie Jones',\n",
       " 'Lucy Watson',\n",
       " 'Magdalena Schejbal',\n",
       " 'Malika Haqq',\n",
       " 'Manchu Lakshmi Prasanna',\n",
       " 'Manchu Vishnu',\n",
       " 'Mandy Teefey',\n",
       " 'Marc Pircher',\n",
       " 'Marcella Zalianty',\n",
       " 'Marco Girnth',\n",
       " 'Mareile Höppner',\n",
       " 'Margaret Blanchard',\n",
       " 'Maria Canals Barrera',\n",
       " 'Mariana Fabbiani',\n",
       " 'Marina Fois',\n",
       " 'Martin OMalley',\n",
       " 'Martin ONeill',\n",
       " 'Mathias Nygård',\n",
       " 'Matze Knop',\n",
       " 'Maxi Arland',\n",
       " 'Megan Kelly',\n",
       " 'Mercedes Masöhn',\n",
       " 'Miguel Jontel Pimentel',\n",
       " 'Mina Tander',\n",
       " 'Miriam Gonzalez',\n",
       " 'Miriam Pielhau',\n",
       " 'Mohamed Farah',\n",
       " 'Monica Ivancan',\n",
       " 'Murilo Benicio',\n",
       " 'Nadja Abd el Farrag',\n",
       " 'Nancy DellOlio',\n",
       " 'Nancy ODell',\n",
       " 'Navi Pillay',\n",
       " 'Nick Simon',\n",
       " 'Nicole Polizzi',\n",
       " 'Nicoletta Mantovani',\n",
       " 'Nigahiga',\n",
       " 'Nigel John Taylor',\n",
       " 'Nina Gnädig',\n",
       " 'Nina Watson',\n",
       " 'Norah ODonnell',\n",
       " 'Ol Dirty Bastard',\n",
       " 'P!nk',\n",
       " 'P. V. Sindhu',\n",
       " 'Pamela Ramljak',\n",
       " 'Park Jae-sang',\n",
       " 'Paul DiAnno',\n",
       " 'Paul DiGiovanni',\n",
       " 'Pauline Nordin',\n",
       " 'Pavol Habera',\n",
       " 'Pegah Ferydoni',\n",
       " 'Penn Dayton Badgley',\n",
       " 'Phil Kessel',\n",
       " 'Philippe Caroit',\n",
       " 'Phoebe Price',\n",
       " 'Pip Pellens',\n",
       " 'Prahladananda Swami',\n",
       " 'Qorianka Kilcher',\n",
       " 'Quang Linh',\n",
       " 'Quique Flores',\n",
       " 'Quirin Berg',\n",
       " 'Ramona Singer',\n",
       " 'Ranga Yogeshwar',\n",
       " 'Remo DSouza',\n",
       " 'Robert Downey Jr.',\n",
       " 'Robert Pattison',\n",
       " 'Robert Rey',\n",
       " 'Ron Thal',\n",
       " 'Ronan OGara',\n",
       " 'Ronnie OSullivan',\n",
       " 'Rosie ODonnell',\n",
       " 'Roy Horn',\n",
       " 'Saige Ryan Campbell',\n",
       " 'Samuel Etoo',\n",
       " 'Sandy Leah Lima',\n",
       " 'Sean OPry',\n",
       " 'Sebastian Karpiel-Bułecka',\n",
       " 'Shahar Peer',\n",
       " 'Shimon Moore',\n",
       " 'Soledad OBrien',\n",
       " 'Soon-Yi Previn',\n",
       " 'Sophia Thomalla',\n",
       " 'Sophie Simmons',\n",
       " 'Soundarya R. Ashwin',\n",
       " 'Steffen Groth',\n",
       " 'Stella Hudgens',\n",
       " 'Stephan Luca',\n",
       " 'Stephane Guillon',\n",
       " 'Sudeepa Singh',\n",
       " 'Sula Miranda',\n",
       " 'Syb van der Ploeg',\n",
       " 'Sylvie van der Vaart',\n",
       " 'Tanaz Tabatabaei',\n",
       " 'Tanja Schumann',\n",
       " 'Tara Sharma',\n",
       " 'Taryll Jackson',\n",
       " 'Ticiane Pinheiro',\n",
       " 'Tina Ruland',\n",
       " 'Titus ONeil',\n",
       " 'Tony Leung Chiu Wai',\n",
       " 'Udaya Bhanu',\n",
       " 'Ute Freudenberg',\n",
       " 'V. K. Singh',\n",
       " 'Vashtie Kola',\n",
       " 'Vishal Krishna',\n",
       " 'Walter Nudo',\n",
       " 'Walter Sittler',\n",
       " 'Will i Am',\n",
       " 'Wolfgang Sobotka',\n",
       " 'Yann Moix',\n",
       " 'Yulia Volkova',\n",
       " 'Yvonne Ransbach',\n",
       " 'Álex Lora',\n",
       " 'Éric Ripert',\n",
       " 'A.J. Buckley',\n",
       " 'A.R. Rahman',\n",
       " 'Adam Copeland',\n",
       " 'Ajay Devgn',\n",
       " 'Alicja Bachleda',\n",
       " 'Andrew Lee Potts',\n",
       " 'B.J. Novak',\n",
       " 'Bingbing Li',\n",
       " 'Brooke Burke-Charvet',\n",
       " 'CCH Pounder',\n",
       " 'Demian Bichir',\n",
       " 'Dot-Marie Jones',\n",
       " 'Edward Asner',\n",
       " 'Elodie Yung',\n",
       " 'Goran Visnjic',\n",
       " 'Hector Elizondo',\n",
       " 'Hye-kyo Song',\n",
       " 'J.J. Abrams',\n",
       " 'J.K. Simmons',\n",
       " 'Karla Souza',\n",
       " 'Katie Cleary',\n",
       " 'Kim Zolciak-Biermann',\n",
       " 'Malin Akerman',\n",
       " 'Maria Canals-Barrera',\n",
       " 'Pat Monahan',\n",
       " 'Rade Serbedzija',\n",
       " 'Rene Auberjonois',\n",
       " 'Sebastian De Souza',\n",
       " 'Tamera Mowry-Housley',\n",
       " 'Usher Raymond']"
      ]
     },
     "execution_count": 28,
     "metadata": {},
     "output_type": "execute_result"
    }
   ],
   "source": [
    "with open(\"../dataset/not_found_vips_dbpedia.json\", \"w\") as f:\n",
    "    f.write(json.dumps(not_found_vips_dbpedia))\n",
    "not_found_vips_dbpedia"
   ]
  },
  {
   "cell_type": "code",
   "execution_count": 29,
   "metadata": {},
   "outputs": [
    {
     "data": {
      "text/html": [
       "<div>\n",
       "<style scoped>\n",
       "    .dataframe tbody tr th:only-of-type {\n",
       "        vertical-align: middle;\n",
       "    }\n",
       "\n",
       "    .dataframe tbody tr th {\n",
       "        vertical-align: top;\n",
       "    }\n",
       "\n",
       "    .dataframe thead th {\n",
       "        text-align: right;\n",
       "    }\n",
       "</style>\n",
       "<table border=\"1\" class=\"dataframe\">\n",
       "  <thead>\n",
       "    <tr style=\"text-align: right;\">\n",
       "      <th></th>\n",
       "      <th>complete_name</th>\n",
       "      <th>gender</th>\n",
       "      <th>birth_date</th>\n",
       "      <th>nationality</th>\n",
       "    </tr>\n",
       "  </thead>\n",
       "  <tbody>\n",
       "    <tr>\n",
       "      <th>0</th>\n",
       "      <td>Aaron Ashmore</td>\n",
       "      <td>male</td>\n",
       "      <td>1979-10-07</td>\n",
       "      <td></td>\n",
       "    </tr>\n",
       "    <tr>\n",
       "      <th>1</th>\n",
       "      <td>Aaron Motsoaledi</td>\n",
       "      <td>male</td>\n",
       "      <td>1958-08-07</td>\n",
       "      <td></td>\n",
       "    </tr>\n",
       "    <tr>\n",
       "      <th>2</th>\n",
       "      <td>Aaron Ramsey</td>\n",
       "      <td>male</td>\n",
       "      <td>1990-12-26</td>\n",
       "      <td></td>\n",
       "    </tr>\n",
       "    <tr>\n",
       "      <th>3</th>\n",
       "      <td>Aaron Rodgers</td>\n",
       "      <td>male</td>\n",
       "      <td>1983-12-2</td>\n",
       "      <td></td>\n",
       "    </tr>\n",
       "    <tr>\n",
       "      <th>4</th>\n",
       "      <td>Aaron Schock</td>\n",
       "      <td>male</td>\n",
       "      <td>1981-05-28</td>\n",
       "      <td></td>\n",
       "    </tr>\n",
       "  </tbody>\n",
       "</table>\n",
       "</div>"
      ],
      "text/plain": [
       "      complete_name gender  birth_date nationality\n",
       "0     Aaron Ashmore   male  1979-10-07            \n",
       "1  Aaron Motsoaledi   male  1958-08-07            \n",
       "2      Aaron Ramsey   male  1990-12-26            \n",
       "3     Aaron Rodgers   male   1983-12-2            \n",
       "4      Aaron Schock   male  1981-05-28            "
      ]
     },
     "execution_count": 29,
     "metadata": {},
     "output_type": "execute_result"
    }
   ],
   "source": [
    "vips_metadata_dbpedia_df = pd.DataFrame.from_records(vips_metadata_dbpedia)\n",
    "vips_metadata_dbpedia_df.head()"
   ]
  },
  {
   "cell_type": "code",
   "execution_count": 30,
   "metadata": {},
   "outputs": [],
   "source": [
    "vips_metadata_dbpedia_df.to_csv(\"vips_metadata_dbpedia.csv\", index=False)"
   ]
  },
  {
   "cell_type": "code",
   "execution_count": 31,
   "metadata": {},
   "outputs": [],
   "source": [
    "vips_metadata_dbpedia_df = pd.read_csv(\"vips_metadata_dbpedia.csv\")"
   ]
  },
  {
   "cell_type": "code",
   "execution_count": 32,
   "metadata": {},
   "outputs": [
    {
     "data": {
      "text/html": [
       "<div>\n",
       "<style scoped>\n",
       "    .dataframe tbody tr th:only-of-type {\n",
       "        vertical-align: middle;\n",
       "    }\n",
       "\n",
       "    .dataframe tbody tr th {\n",
       "        vertical-align: top;\n",
       "    }\n",
       "\n",
       "    .dataframe thead th {\n",
       "        text-align: right;\n",
       "    }\n",
       "</style>\n",
       "<table border=\"1\" class=\"dataframe\">\n",
       "  <thead>\n",
       "    <tr style=\"text-align: right;\">\n",
       "      <th></th>\n",
       "      <th>complete_name</th>\n",
       "      <th>gender</th>\n",
       "      <th>birth_date</th>\n",
       "      <th>nationality</th>\n",
       "    </tr>\n",
       "  </thead>\n",
       "  <tbody>\n",
       "    <tr>\n",
       "      <th>0</th>\n",
       "      <td>Aaron Ashmore</td>\n",
       "      <td>male</td>\n",
       "      <td>1979-10-07</td>\n",
       "      <td>NaN</td>\n",
       "    </tr>\n",
       "    <tr>\n",
       "      <th>1</th>\n",
       "      <td>Aaron Motsoaledi</td>\n",
       "      <td>male</td>\n",
       "      <td>1958-08-07</td>\n",
       "      <td>NaN</td>\n",
       "    </tr>\n",
       "    <tr>\n",
       "      <th>2</th>\n",
       "      <td>Aaron Ramsey</td>\n",
       "      <td>male</td>\n",
       "      <td>1990-12-26</td>\n",
       "      <td>NaN</td>\n",
       "    </tr>\n",
       "    <tr>\n",
       "      <th>3</th>\n",
       "      <td>Aaron Rodgers</td>\n",
       "      <td>male</td>\n",
       "      <td>1983-12-2</td>\n",
       "      <td>NaN</td>\n",
       "    </tr>\n",
       "    <tr>\n",
       "      <th>4</th>\n",
       "      <td>Aaron Schock</td>\n",
       "      <td>male</td>\n",
       "      <td>1981-05-28</td>\n",
       "      <td>NaN</td>\n",
       "    </tr>\n",
       "  </tbody>\n",
       "</table>\n",
       "</div>"
      ],
      "text/plain": [
       "      complete_name gender  birth_date nationality\n",
       "0     Aaron Ashmore   male  1979-10-07         NaN\n",
       "1  Aaron Motsoaledi   male  1958-08-07         NaN\n",
       "2      Aaron Ramsey   male  1990-12-26         NaN\n",
       "3     Aaron Rodgers   male   1983-12-2         NaN\n",
       "4      Aaron Schock   male  1981-05-28         NaN"
      ]
     },
     "execution_count": 32,
     "metadata": {},
     "output_type": "execute_result"
    }
   ],
   "source": [
    "vips_metadata_dbpedia_df.head()"
   ]
  },
  {
   "cell_type": "markdown",
   "metadata": {},
   "source": [
    "### Knowledge Graph"
   ]
  },
  {
   "cell_type": "code",
   "execution_count": 36,
   "metadata": {},
   "outputs": [],
   "source": [
    "import json\n",
    "import urllib\n",
    "\n",
    "with open(\"../src/config/settings.json\", 'r') as f:\n",
    "    settings = json.load(f)\n",
    "api_key = settings['gkg_api_key']\n",
    "def extract_wikipedia_page_from_knowledge_graph(query, gkg_api_key):\n",
    "    \n",
    "    service_url = 'https://kgsearch.googleapis.com/v1/entities:search'\n",
    "    params = {\n",
    "        'query': query,\n",
    "        'limit': 5,\n",
    "        'indent': True,\n",
    "        'key': gkg_api_key,\n",
    "    }\n",
    "    url = service_url + '?' + urllib.parse.urlencode(params)\n",
    "    response = json.loads(urllib.request.urlopen(url).read())\n",
    "    wikipedia_page_title = \"\"\n",
    "    for element in response['itemListElement']:\n",
    "        try:\n",
    "            wikipedia_page_title= element['result']['detailedDescription']['url'].split(\"/\")[-1]\n",
    "            break\n",
    "        except KeyError:\n",
    "            next\n",
    "    return wikipedia_page_title"
   ]
  },
  {
   "cell_type": "code",
   "execution_count": 37,
   "metadata": {},
   "outputs": [],
   "source": [
    "def obtain_wikidata_id_from_wikipedia_title(wikipedia_page_title):\n",
    "    \n",
    "    import requests\n",
    "    wikidata_id_url = \"https://en.wikipedia.org/w/api.php?action=query&prop=pageprops&titles={}&format=json\"\n",
    "    current_result = requests.get(wikidata_id_url.format(wikipedia_page_title)).json()\n",
    "    current_key = list(current_result['query']['pages'].keys())[0]\n",
    "    current_wikidata_id = current_result['query']['pages'][current_key]['pageprops']['wikibase_item']\n",
    "    return current_wikidata_id"
   ]
  },
  {
   "cell_type": "code",
   "execution_count": 39,
   "metadata": {},
   "outputs": [
    {
     "name": "stderr",
     "output_type": "stream",
     "text": [
      "  0%|▏                                                                             | 21/7365 [01:05<5:39:37,  2.77s/it]"
     ]
    },
    {
     "name": "stdout",
     "output_type": "stream",
     "text": [
      "Birth date not available\n",
      "Gender not available\n",
      "Citizenship not available\n"
     ]
    },
    {
     "name": "stderr",
     "output_type": "stream",
     "text": [
      "  0%|▍                                                                             | 36/7365 [01:54<5:45:53,  2.83s/it]"
     ]
    },
    {
     "name": "stdout",
     "output_type": "stream",
     "text": [
      "Birth date not available\n",
      "Gender not available\n",
      "Citizenship not available\n"
     ]
    },
    {
     "name": "stderr",
     "output_type": "stream",
     "text": [
      "\r",
      "  1%|▍                                                                             | 37/7365 [01:58<6:13:18,  3.06s/it]"
     ]
    },
    {
     "name": "stdout",
     "output_type": "stream",
     "text": [
      "Birth date not available\n"
     ]
    },
    {
     "name": "stderr",
     "output_type": "stream",
     "text": [
      "  1%|▌                                                                             | 51/7365 [02:40<5:27:50,  2.69s/it]"
     ]
    },
    {
     "name": "stdout",
     "output_type": "stream",
     "text": [
      "Couldn't download data for Adhyayan Suman\n",
      "'query'\n"
     ]
    },
    {
     "name": "stderr",
     "output_type": "stream",
     "text": [
      "  1%|▉                                                                             | 83/7365 [04:23<5:40:54,  2.81s/it]"
     ]
    },
    {
     "name": "stdout",
     "output_type": "stream",
     "text": [
      "Birth date not available\n",
      "Gender not available\n",
      "Citizenship not available\n"
     ]
    },
    {
     "name": "stderr",
     "output_type": "stream",
     "text": [
      "  2%|█▏                                                                           | 116/7365 [06:34<7:46:35,  3.86s/it]"
     ]
    },
    {
     "name": "stdout",
     "output_type": "stream",
     "text": [
      "Couldn't download data for Alana Curry\n",
      "'query'\n"
     ]
    },
    {
     "name": "stderr",
     "output_type": "stream",
     "text": [
      "  2%|█▎                                                                           | 129/7365 [07:25<6:11:24,  3.08s/it]"
     ]
    },
    {
     "name": "stdout",
     "output_type": "stream",
     "text": [
      "Birth date not available\n",
      "Gender not available\n",
      "Citizenship not available\n"
     ]
    },
    {
     "name": "stderr",
     "output_type": "stream",
     "text": [
      "  2%|█▌                                                                           | 144/7365 [08:17<6:06:57,  3.05s/it]"
     ]
    },
    {
     "name": "stdout",
     "output_type": "stream",
     "text": [
      "Couldn't download data for Alessandro Safina\n",
      "'query'\n"
     ]
    },
    {
     "name": "stderr",
     "output_type": "stream",
     "text": [
      "  2%|█▌                                                                           | 151/7365 [08:44<8:20:00,  4.16s/it]"
     ]
    },
    {
     "name": "stdout",
     "output_type": "stream",
     "text": [
      "Birth date not available\n",
      "Gender not available\n",
      "Citizenship not available\n"
     ]
    },
    {
     "name": "stderr",
     "output_type": "stream",
     "text": [
      "  2%|█▋                                                                           | 162/7365 [09:18<4:48:19,  2.40s/it]"
     ]
    },
    {
     "name": "stdout",
     "output_type": "stream",
     "text": [
      "Couldn't download data for Alexa Ray Joel\n",
      "'query'\n"
     ]
    },
    {
     "name": "stderr",
     "output_type": "stream",
     "text": [
      "  2%|█▊                                                                           | 173/7365 [09:59<6:37:19,  3.31s/it]"
     ]
    },
    {
     "name": "stdout",
     "output_type": "stream",
     "text": [
      "Couldn't download data for Alexandra Lamy\n",
      "'query'\n"
     ]
    },
    {
     "name": "stderr",
     "output_type": "stream",
     "text": [
      "  3%|█▉                                                                           | 190/7365 [10:53<4:49:01,  2.42s/it]"
     ]
    },
    {
     "name": "stdout",
     "output_type": "stream",
     "text": [
      "Couldn't download data for Alfie Boe\n",
      "'query'\n"
     ]
    },
    {
     "name": "stderr",
     "output_type": "stream",
     "text": [
      "  3%|██▎                                                                          | 219/7365 [12:29<5:04:31,  2.56s/it]"
     ]
    },
    {
     "name": "stdout",
     "output_type": "stream",
     "text": [
      "Birth date not available\n",
      "Gender not available\n",
      "Citizenship not available\n"
     ]
    },
    {
     "name": "stderr",
     "output_type": "stream",
     "text": [
      "  3%|██▌                                                                          | 244/7365 [13:52<5:51:58,  2.97s/it]"
     ]
    },
    {
     "name": "stdout",
     "output_type": "stream",
     "text": [
      "Birth date not available\n",
      "Gender not available\n",
      "Citizenship not available\n"
     ]
    },
    {
     "name": "stderr",
     "output_type": "stream",
     "text": [
      "  4%|██▉                                                                          | 276/7365 [15:41<5:26:59,  2.77s/it]"
     ]
    },
    {
     "name": "stdout",
     "output_type": "stream",
     "text": [
      "Birth date not available\n",
      "Gender not available\n",
      "Citizenship not available\n"
     ]
    },
    {
     "name": "stderr",
     "output_type": "stream",
     "text": [
      "  4%|██▉                                                                          | 284/7365 [16:07<5:45:18,  2.93s/it]"
     ]
    },
    {
     "name": "stdout",
     "output_type": "stream",
     "text": [
      "Birth date not available\n",
      "Citizenship not available\n"
     ]
    },
    {
     "name": "stderr",
     "output_type": "stream",
     "text": [
      "  4%|███▏                                                                         | 303/7365 [17:09<5:13:53,  2.67s/it]"
     ]
    },
    {
     "name": "stdout",
     "output_type": "stream",
     "text": [
      "Couldn't download data for Anastasia Zampounidis\n",
      "'query'\n"
     ]
    },
    {
     "name": "stderr",
     "output_type": "stream",
     "text": [
      "  4%|███▏                                                                         | 307/7365 [17:22<5:38:22,  2.88s/it]"
     ]
    },
    {
     "name": "stdout",
     "output_type": "stream",
     "text": [
      "Birth date not available\n",
      "Gender not available\n",
      "Citizenship not available\n"
     ]
    },
    {
     "name": "stderr",
     "output_type": "stream",
     "text": [
      "  4%|███▏                                                                         | 309/7365 [17:27<5:05:17,  2.60s/it]"
     ]
    },
    {
     "name": "stdout",
     "output_type": "stream",
     "text": [
      "Birth date not available\n",
      "Gender not available\n",
      "Citizenship not available\n"
     ]
    },
    {
     "name": "stderr",
     "output_type": "stream",
     "text": [
      "  5%|███▌                                                                         | 336/7365 [18:56<5:32:59,  2.84s/it]"
     ]
    },
    {
     "name": "stdout",
     "output_type": "stream",
     "text": [
      "Couldn't download data for Andreas Gabalier\n",
      "'query'\n"
     ]
    },
    {
     "name": "stderr",
     "output_type": "stream",
     "text": [
      "  5%|███▋                                                                         | 356/7365 [20:03<6:23:15,  3.28s/it]"
     ]
    },
    {
     "name": "stdout",
     "output_type": "stream",
     "text": [
      "Birth date not available\n",
      "Gender not available\n",
      "Citizenship not available\n"
     ]
    },
    {
     "name": "stderr",
     "output_type": "stream",
     "text": [
      "  5%|███▉                                                                         | 372/7365 [20:52<5:15:22,  2.71s/it]"
     ]
    },
    {
     "name": "stdout",
     "output_type": "stream",
     "text": [
      "Couldn't download data for Andy Borg\n",
      "'query'\n"
     ]
    },
    {
     "name": "stderr",
     "output_type": "stream",
     "text": [
      "  5%|████                                                                         | 384/7365 [21:31<5:34:57,  2.88s/it]"
     ]
    },
    {
     "name": "stdout",
     "output_type": "stream",
     "text": [
      "Citizenship not available\n"
     ]
    },
    {
     "name": "stderr",
     "output_type": "stream",
     "text": [
      "  5%|████                                                                         | 387/7365 [21:39<5:05:42,  2.63s/it]"
     ]
    },
    {
     "name": "stdout",
     "output_type": "stream",
     "text": [
      "Couldn't download data for Angela Simmons\n",
      "'query'\n"
     ]
    },
    {
     "name": "stderr",
     "output_type": "stream",
     "text": [
      "  5%|████▏                                                                        | 400/7365 [22:18<4:53:50,  2.53s/it]"
     ]
    },
    {
     "name": "stdout",
     "output_type": "stream",
     "text": [
      "Couldn't download data for Angie Stone\n",
      "'query'\n"
     ]
    },
    {
     "name": "stderr",
     "output_type": "stream",
     "text": [
      "  6%|████▍                                                                        | 425/7365 [23:45<5:36:29,  2.91s/it]"
     ]
    },
    {
     "name": "stdout",
     "output_type": "stream",
     "text": [
      "Couldn't download data for Anna Mouglalis\n",
      "'query'\n"
     ]
    },
    {
     "name": "stderr",
     "output_type": "stream",
     "text": [
      "  6%|████▍                                                                        | 429/7365 [23:56<4:58:38,  2.58s/it]"
     ]
    },
    {
     "name": "stdout",
     "output_type": "stream",
     "text": [
      "Couldn't download data for Annabelle Mandeng\n",
      "'query'\n"
     ]
    },
    {
     "name": "stderr",
     "output_type": "stream",
     "text": [
      "  6%|████▌                                                                        | 432/7365 [24:05<5:03:08,  2.62s/it]"
     ]
    },
    {
     "name": "stdout",
     "output_type": "stream",
     "text": [
      "Couldn't download data for Anne-Sophie Briest\n",
      "'query'\n"
     ]
    },
    {
     "name": "stderr",
     "output_type": "stream",
     "text": [
      "  6%|████▋                                                                        | 443/7365 [24:42<5:32:01,  2.88s/it]"
     ]
    },
    {
     "name": "stdout",
     "output_type": "stream",
     "text": [
      "Birth date not available\n",
      "Gender not available\n",
      "Citizenship not available\n"
     ]
    },
    {
     "name": "stderr",
     "output_type": "stream",
     "text": [
      "  6%|████▋                                                                        | 446/7365 [24:52<5:40:45,  2.96s/it]"
     ]
    },
    {
     "name": "stdout",
     "output_type": "stream",
     "text": [
      "Couldn't download data for Annemarie Eilfeld\n",
      "'query'\n"
     ]
    },
    {
     "name": "stderr",
     "output_type": "stream",
     "text": [
      "  7%|█████                                                                        | 489/7365 [27:12<5:02:02,  2.64s/it]"
     ]
    },
    {
     "name": "stdout",
     "output_type": "stream",
     "text": [
      "Couldn't download data for Antonique Smith\n",
      "'query'\n"
     ]
    },
    {
     "name": "stderr",
     "output_type": "stream",
     "text": [
      "  7%|█████▎                                                                       | 514/7365 [28:40<5:44:08,  3.01s/it]"
     ]
    },
    {
     "name": "stdout",
     "output_type": "stream",
     "text": [
      "Couldn't download data for Arika Sato\n",
      "'query'\n"
     ]
    },
    {
     "name": "stderr",
     "output_type": "stream",
     "text": [
      "\r",
      "  7%|█████▍                                                                       | 515/7365 [28:41<4:53:25,  2.57s/it]"
     ]
    },
    {
     "name": "stdout",
     "output_type": "stream",
     "text": [
      "Couldn't download data for Arié Elmaleh\n",
      "'query'\n"
     ]
    },
    {
     "name": "stderr",
     "output_type": "stream",
     "text": [
      "  7%|█████▌                                                                       | 529/7365 [29:29<5:36:51,  2.96s/it]"
     ]
    },
    {
     "name": "stdout",
     "output_type": "stream",
     "text": [
      "Birth date not available\n",
      "Gender not available\n",
      "Citizenship not available\n"
     ]
    },
    {
     "name": "stderr",
     "output_type": "stream",
     "text": [
      "  8%|█████▉                                                                       | 566/7365 [31:30<5:06:56,  2.71s/it]"
     ]
    },
    {
     "name": "stdout",
     "output_type": "stream",
     "text": [
      "Couldn't download data for Avery Sunshine\n",
      "'query'\n"
     ]
    },
    {
     "name": "stderr",
     "output_type": "stream",
     "text": [
      "  8%|██████▍                                                                      | 621/7365 [34:30<5:04:39,  2.71s/it]"
     ]
    },
    {
     "name": "stdout",
     "output_type": "stream",
     "text": [
      "Couldn't download data for Beate Merk\n",
      "'query'\n"
     ]
    },
    {
     "name": "stderr",
     "output_type": "stream",
     "text": [
      "  9%|██████▌                                                                      | 627/7365 [34:47<4:59:07,  2.66s/it]"
     ]
    },
    {
     "name": "stdout",
     "output_type": "stream",
     "text": [
      "Couldn't download data for Bebe Cool\n",
      "'query'\n"
     ]
    },
    {
     "name": "stderr",
     "output_type": "stream",
     "text": [
      "  9%|███████                                                                      | 670/7365 [37:02<4:16:16,  2.30s/it]"
     ]
    },
    {
     "name": "stdout",
     "output_type": "stream",
     "text": [
      "Couldn't download data for Bertie Gilbert\n",
      "'query'\n"
     ]
    },
    {
     "name": "stderr",
     "output_type": "stream",
     "text": [
      "  9%|███████                                                                      | 677/7365 [37:24<5:01:23,  2.70s/it]"
     ]
    },
    {
     "name": "stdout",
     "output_type": "stream",
     "text": [
      "Birth date not available\n",
      "Gender not available\n",
      "Citizenship not available\n"
     ]
    },
    {
     "name": "stderr",
     "output_type": "stream",
     "text": [
      "\r",
      "  9%|███████                                                                      | 678/7365 [37:25<4:18:33,  2.32s/it]"
     ]
    },
    {
     "name": "stdout",
     "output_type": "stream",
     "text": [
      "Couldn't download data for Beth Leavel\n",
      "'query'\n"
     ]
    },
    {
     "name": "stderr",
     "output_type": "stream",
     "text": [
      "  9%|███████                                                                      | 681/7365 [37:34<4:48:22,  2.59s/it]"
     ]
    },
    {
     "name": "stdout",
     "output_type": "stream",
     "text": [
      "Birth date not available\n",
      "Gender not available\n",
      "Citizenship not available\n"
     ]
    },
    {
     "name": "stderr",
     "output_type": "stream",
     "text": [
      "  9%|███████▏                                                                     | 692/7365 [38:09<4:54:23,  2.65s/it]"
     ]
    },
    {
     "name": "stdout",
     "output_type": "stream",
     "text": [
      "Couldn't download data for Bhairvi Goswami\n",
      "'query'\n"
     ]
    },
    {
     "name": "stderr",
     "output_type": "stream",
     "text": [
      "  9%|███████▎                                                                     | 694/7365 [38:13<4:08:54,  2.24s/it]"
     ]
    },
    {
     "name": "stdout",
     "output_type": "stream",
     "text": [
      "Citizenship not available\n"
     ]
    },
    {
     "name": "stderr",
     "output_type": "stream",
     "text": [
      "  9%|███████▎                                                                     | 699/7365 [38:26<4:31:43,  2.45s/it]"
     ]
    },
    {
     "name": "stdout",
     "output_type": "stream",
     "text": [
      "Couldn't download data for Bianca Guaccero\n",
      "'query'\n"
     ]
    },
    {
     "name": "stderr",
     "output_type": "stream",
     "text": [
      " 10%|███████▎                                                                     | 702/7365 [38:34<4:29:29,  2.43s/it]"
     ]
    },
    {
     "name": "stdout",
     "output_type": "stream",
     "text": [
      "Couldn't download data for Big Tigger\n",
      "'query'\n"
     ]
    },
    {
     "name": "stderr",
     "output_type": "stream",
     "text": [
      " 10%|███████▎                                                                     | 705/7365 [38:41<4:10:54,  2.26s/it]"
     ]
    },
    {
     "name": "stdout",
     "output_type": "stream",
     "text": [
      "Couldn't download data for Bilkay Öney\n",
      "'query'\n"
     ]
    },
    {
     "name": "stderr",
     "output_type": "stream",
     "text": [
      " 10%|███████▍                                                                     | 709/7365 [38:52<4:39:56,  2.52s/it]"
     ]
    },
    {
     "name": "stdout",
     "output_type": "stream",
     "text": [
      "Couldn't download data for Bill Gilman\n",
      "'query'\n"
     ]
    },
    {
     "name": "stderr",
     "output_type": "stream",
     "text": [
      " 10%|███████▍                                                                     | 711/7365 [38:56<4:15:03,  2.30s/it]"
     ]
    },
    {
     "name": "stdout",
     "output_type": "stream",
     "text": [
      "Couldn't download data for Bill Kelliher\n",
      "'query'\n"
     ]
    },
    {
     "name": "stderr",
     "output_type": "stream",
     "text": [
      " 10%|███████▌                                                                     | 722/7365 [39:33<5:14:12,  2.84s/it]"
     ]
    },
    {
     "name": "stdout",
     "output_type": "stream",
     "text": [
      "Birth date not available\n",
      "Gender not available\n",
      "Citizenship not available\n"
     ]
    },
    {
     "name": "stderr",
     "output_type": "stream",
     "text": [
      " 10%|███████▊                                                                     | 747/7365 [41:24<9:16:23,  5.04s/it]"
     ]
    },
    {
     "name": "stdout",
     "output_type": "stream",
     "text": [
      "Birth date not available\n",
      "Gender not available\n",
      "Citizenship not available\n"
     ]
    },
    {
     "name": "stderr",
     "output_type": "stream",
     "text": [
      " 10%|███████▉                                                                     | 760/7365 [42:35<8:00:47,  4.37s/it]"
     ]
    },
    {
     "name": "stdout",
     "output_type": "stream",
     "text": [
      "Couldn't download data for Bob Iger\n",
      "'query'\n"
     ]
    },
    {
     "name": "stderr",
     "output_type": "stream",
     "text": [
      " 11%|████████                                                                    | 786/7365 [45:08<10:14:02,  5.60s/it]"
     ]
    },
    {
     "name": "stdout",
     "output_type": "stream",
     "text": [
      "Birth date not available\n",
      "Gender not available\n",
      "Citizenship not available\n"
     ]
    },
    {
     "name": "stderr",
     "output_type": "stream",
     "text": [
      " 11%|████████▌                                                                    | 821/7365 [48:45<9:20:44,  5.14s/it]"
     ]
    },
    {
     "name": "stdout",
     "output_type": "stream",
     "text": [
      "Birth date not available\n",
      "Gender not available\n",
      "Citizenship not available\n"
     ]
    },
    {
     "name": "stderr",
     "output_type": "stream",
     "text": [
      " 12%|████████▉                                                                    | 859/7365 [51:28<4:46:36,  2.64s/it]"
     ]
    },
    {
     "name": "stdout",
     "output_type": "stream",
     "text": [
      "Couldn't download data for Brodinski\n",
      "'query'\n"
     ]
    },
    {
     "name": "stderr",
     "output_type": "stream",
     "text": [
      " 12%|█████████▏                                                                   | 880/7365 [52:33<4:10:39,  2.32s/it]"
     ]
    },
    {
     "name": "stdout",
     "output_type": "stream",
     "text": [
      "Couldn't download data for Bruno Madinier\n",
      "'query'\n"
     ]
    },
    {
     "name": "stderr",
     "output_type": "stream",
     "text": [
      " 12%|█████████▎                                                                   | 889/7365 [52:58<4:26:47,  2.47s/it]"
     ]
    },
    {
     "name": "stdout",
     "output_type": "stream",
     "text": [
      "Couldn't download data for Bucky Covington\n",
      "'query'\n"
     ]
    },
    {
     "name": "stderr",
     "output_type": "stream",
     "text": [
      " 12%|█████████▍                                                                   | 908/7365 [53:48<3:41:34,  2.06s/it]"
     ]
    },
    {
     "name": "stdout",
     "output_type": "stream",
     "text": [
      "Couldn't download data for Caissie Levy\n",
      "'query'\n"
     ]
    },
    {
     "name": "stderr",
     "output_type": "stream",
     "text": [
      " 12%|█████████▌                                                                   | 913/7365 [54:04<5:24:03,  3.01s/it]"
     ]
    },
    {
     "name": "stdout",
     "output_type": "stream",
     "text": [
      "Birth date not available\n",
      "Gender not available\n",
      "Citizenship not available\n"
     ]
    },
    {
     "name": "stderr",
     "output_type": "stream",
     "text": [
      " 13%|█████████▋                                                                   | 930/7365 [54:54<4:27:58,  2.50s/it]"
     ]
    },
    {
     "name": "stdout",
     "output_type": "stream",
     "text": [
      "Couldn't download data for Candice Crawford\n",
      "'query'\n"
     ]
    },
    {
     "name": "stderr",
     "output_type": "stream",
     "text": [
      " 13%|█████████▊                                                                   | 934/7365 [55:05<4:25:13,  2.47s/it]"
     ]
    },
    {
     "name": "stdout",
     "output_type": "stream",
     "text": [
      "Couldn't download data for Candice Night\n",
      "'query'\n"
     ]
    },
    {
     "name": "stderr",
     "output_type": "stream",
     "text": [
      "\r",
      " 13%|█████████▊                                                                   | 935/7365 [55:06<3:55:22,  2.20s/it]"
     ]
    },
    {
     "name": "stdout",
     "output_type": "stream",
     "text": [
      "Citizenship not available\n"
     ]
    },
    {
     "name": "stderr",
     "output_type": "stream",
     "text": [
      " 13%|██████████▎                                                                  | 981/7365 [57:19<4:54:40,  2.77s/it]"
     ]
    },
    {
     "name": "stdout",
     "output_type": "stream",
     "text": [
      "Birth date not available\n",
      "Gender not available\n",
      "Citizenship not available\n"
     ]
    },
    {
     "name": "stderr",
     "output_type": "stream",
     "text": [
      " 14%|██████████▎                                                                 | 1000/7365 [58:15<4:26:42,  2.51s/it]"
     ]
    },
    {
     "name": "stdout",
     "output_type": "stream",
     "text": [
      "Couldn't download data for Carrie Bickmore\n",
      "'query'\n"
     ]
    },
    {
     "name": "stderr",
     "output_type": "stream",
     "text": [
      " 14%|██████████▎                                                                 | 1004/7365 [58:24<4:11:28,  2.37s/it]"
     ]
    },
    {
     "name": "stdout",
     "output_type": "stream",
     "text": [
      "Birth date not available\n",
      "Gender not available\n",
      "Citizenship not available\n"
     ]
    },
    {
     "name": "stderr",
     "output_type": "stream",
     "text": [
      " 14%|██████████▍                                                                 | 1012/7365 [58:49<5:04:06,  2.87s/it]"
     ]
    },
    {
     "name": "stdout",
     "output_type": "stream",
     "text": [
      "Gender not available\n"
     ]
    },
    {
     "name": "stderr",
     "output_type": "stream",
     "text": [
      " 14%|██████████▌                                                                 | 1019/7365 [59:07<4:04:28,  2.31s/it]"
     ]
    },
    {
     "name": "stdout",
     "output_type": "stream",
     "text": [
      "Couldn't download data for Catherine Jenkins\n",
      "'query'\n"
     ]
    },
    {
     "name": "stderr",
     "output_type": "stream",
     "text": [
      " 14%|██████████▌                                                                 | 1022/7365 [59:13<3:36:11,  2.04s/it]"
     ]
    },
    {
     "name": "stdout",
     "output_type": "stream",
     "text": [
      "Couldn't download data for Catherine Tyldesley\n",
      "'query'\n"
     ]
    },
    {
     "name": "stderr",
     "output_type": "stream",
     "text": [
      " 14%|██████████▌                                                                 | 1025/7365 [59:19<3:11:52,  1.82s/it]"
     ]
    },
    {
     "name": "stdout",
     "output_type": "stream",
     "text": [
      "Couldn't download data for Cazwell\n",
      "'query'\n"
     ]
    },
    {
     "name": "stderr",
     "output_type": "stream",
     "text": [
      " 14%|██████████▌                                                                 | 1029/7365 [59:30<3:55:52,  2.23s/it]"
     ]
    },
    {
     "name": "stdout",
     "output_type": "stream",
     "text": [
      "Birth date not available\n",
      "Gender not available\n",
      "Citizenship not available\n"
     ]
    },
    {
     "name": "stderr",
     "output_type": "stream",
     "text": [
      " 14%|██████████▍                                                               | 1039/7365 [1:00:00<4:34:54,  2.61s/it]"
     ]
    },
    {
     "name": "stdout",
     "output_type": "stream",
     "text": [
      "Birth date not available\n",
      "Gender not available\n",
      "Citizenship not available\n"
     ]
    },
    {
     "name": "stderr",
     "output_type": "stream",
     "text": [
      "\r",
      " 14%|██████████▍                                                               | 1040/7365 [1:00:01<4:05:16,  2.33s/it]"
     ]
    },
    {
     "name": "stdout",
     "output_type": "stream",
     "text": [
      "Birth date not available\n",
      "Gender not available\n",
      "Citizenship not available\n"
     ]
    },
    {
     "name": "stderr",
     "output_type": "stream",
     "text": [
      " 14%|██████████▌                                                               | 1048/7365 [1:00:24<4:23:12,  2.50s/it]"
     ]
    },
    {
     "name": "stdout",
     "output_type": "stream",
     "text": [
      "Couldn't download data for Chantal Poullain\n",
      "'query'\n"
     ]
    },
    {
     "name": "stderr",
     "output_type": "stream",
     "text": [
      " 14%|██████████▋                                                               | 1067/7365 [1:01:20<4:22:58,  2.51s/it]"
     ]
    },
    {
     "name": "stdout",
     "output_type": "stream",
     "text": [
      "Couldn't download data for Charlie Musselwhite\n",
      "'query'\n"
     ]
    },
    {
     "name": "stderr",
     "output_type": "stream",
     "text": [
      " 15%|██████████▉                                                               | 1087/7365 [1:02:19<4:03:58,  2.33s/it]"
     ]
    },
    {
     "name": "stdout",
     "output_type": "stream",
     "text": [
      "Birth date not available\n",
      "Gender not available\n",
      "Citizenship not available\n"
     ]
    },
    {
     "name": "stderr",
     "output_type": "stream",
     "text": [
      " 15%|██████████▉                                                               | 1092/7365 [1:02:31<3:46:55,  2.17s/it]"
     ]
    },
    {
     "name": "stdout",
     "output_type": "stream",
     "text": [
      "Birth date not available\n",
      "Gender not available\n",
      "Citizenship not available\n"
     ]
    },
    {
     "name": "stderr",
     "output_type": "stream",
     "text": [
      " 16%|████████████                                                              | 1201/7365 [1:07:55<4:22:09,  2.55s/it]"
     ]
    },
    {
     "name": "stdout",
     "output_type": "stream",
     "text": [
      "Couldn't download data for Claudia Pandolfi\n",
      "'query'\n"
     ]
    },
    {
     "name": "stderr",
     "output_type": "stream",
     "text": [
      " 16%|████████████▏                                                             | 1209/7365 [1:08:19<4:12:23,  2.46s/it]"
     ]
    },
    {
     "name": "stdout",
     "output_type": "stream",
     "text": [
      "Couldn't download data for Claus Weselsky\n",
      "'query'\n"
     ]
    },
    {
     "name": "stderr",
     "output_type": "stream",
     "text": [
      " 17%|████████████▎                                                             | 1226/7365 [1:09:10<4:36:11,  2.70s/it]"
     ]
    },
    {
     "name": "stdout",
     "output_type": "stream",
     "text": [
      "Couldn't download data for Clémentine Célarié\n",
      "'query'\n"
     ]
    },
    {
     "name": "stderr",
     "output_type": "stream",
     "text": [
      " 17%|████████████▍                                                             | 1232/7365 [1:09:26<4:23:47,  2.58s/it]"
     ]
    },
    {
     "name": "stdout",
     "output_type": "stream",
     "text": [
      "Couldn't download data for Cody Longo\n",
      "'query'\n"
     ]
    },
    {
     "name": "stderr",
     "output_type": "stream",
     "text": [
      " 17%|████████████▌                                                             | 1248/7365 [1:10:14<4:09:28,  2.45s/it]"
     ]
    },
    {
     "name": "stdout",
     "output_type": "stream",
     "text": [
      "Couldn't download data for Connie Fisher\n",
      "'query'\n"
     ]
    },
    {
     "name": "stderr",
     "output_type": "stream",
     "text": [
      " 17%|████████████▌                                                             | 1256/7365 [1:10:38<4:19:05,  2.54s/it]"
     ]
    },
    {
     "name": "stdout",
     "output_type": "stream",
     "text": [
      "Couldn't download data for Corinna Harfouch\n",
      "'query'\n"
     ]
    },
    {
     "name": "stderr",
     "output_type": "stream",
     "text": [
      " 17%|████████████▋                                                             | 1261/7365 [1:10:50<3:48:50,  2.25s/it]"
     ]
    },
    {
     "name": "stdout",
     "output_type": "stream",
     "text": [
      "Couldn't download data for Costa Cordalis\n",
      "'query'\n"
     ]
    },
    {
     "name": "stderr",
     "output_type": "stream",
     "text": [
      " 18%|█████████████                                                             | 1300/7365 [1:12:47<4:39:17,  2.76s/it]"
     ]
    },
    {
     "name": "stdout",
     "output_type": "stream",
     "text": [
      "Birth date not available\n",
      "Gender not available\n",
      "Citizenship not available\n"
     ]
    },
    {
     "name": "stderr",
     "output_type": "stream",
     "text": [
      " 18%|█████████████▍                                                            | 1339/7365 [1:14:46<4:24:49,  2.64s/it]"
     ]
    },
    {
     "name": "stdout",
     "output_type": "stream",
     "text": [
      "Couldn't download data for Daniel Landa\n",
      "'query'\n"
     ]
    },
    {
     "name": "stderr",
     "output_type": "stream",
     "text": [
      " 18%|█████████████▍                                                            | 1343/7365 [1:14:58<4:24:43,  2.64s/it]"
     ]
    },
    {
     "name": "stdout",
     "output_type": "stream",
     "text": [
      "Couldn't download data for Daniel Schuhmacher\n",
      "'query'\n"
     ]
    },
    {
     "name": "stderr",
     "output_type": "stream",
     "text": [
      " 19%|█████████████▊                                                            | 1373/7365 [1:16:28<4:09:43,  2.50s/it]"
     ]
    },
    {
     "name": "stdout",
     "output_type": "stream",
     "text": [
      "Couldn't download data for Dany Brillant\n",
      "'query'\n"
     ]
    },
    {
     "name": "stderr",
     "output_type": "stream",
     "text": [
      " 19%|█████████████▊                                                            | 1375/7365 [1:16:32<3:43:49,  2.24s/it]"
     ]
    },
    {
     "name": "stdout",
     "output_type": "stream",
     "text": [
      "Couldn't download data for Dara Bubamara\n",
      "'query'\n"
     ]
    },
    {
     "name": "stderr",
     "output_type": "stream",
     "text": [
      " 19%|█████████████▉                                                            | 1381/7365 [1:16:50<4:43:24,  2.84s/it]"
     ]
    },
    {
     "name": "stdout",
     "output_type": "stream",
     "text": [
      "Citizenship not available\n"
     ]
    },
    {
     "name": "stderr",
     "output_type": "stream",
     "text": [
      " 19%|██████████████▎                                                           | 1426/7365 [1:19:06<4:21:54,  2.65s/it]"
     ]
    },
    {
     "name": "stdout",
     "output_type": "stream",
     "text": [
      "Birth date not available\n",
      "Gender not available\n",
      "Citizenship not available\n"
     ]
    },
    {
     "name": "stderr",
     "output_type": "stream",
     "text": [
      " 20%|██████████████▌                                                           | 1445/7365 [1:20:04<4:20:46,  2.64s/it]"
     ]
    },
    {
     "name": "stdout",
     "output_type": "stream",
     "text": [
      "Couldn't download data for Dbanj\n",
      "'query'\n"
     ]
    },
    {
     "name": "stderr",
     "output_type": "stream",
     "text": [
      " 20%|██████████████▌                                                           | 1449/7365 [1:20:15<4:20:13,  2.64s/it]"
     ]
    },
    {
     "name": "stdout",
     "output_type": "stream",
     "text": [
      "Birth date not available\n",
      "Gender not available\n",
      "Citizenship not available\n"
     ]
    },
    {
     "name": "stderr",
     "output_type": "stream",
     "text": [
      " 20%|██████████████▋                                                           | 1463/7365 [1:20:58<4:18:45,  2.63s/it]"
     ]
    },
    {
     "name": "stdout",
     "output_type": "stream",
     "text": [
      "Couldn't download data for Debra Stephenson\n",
      "'query'\n"
     ]
    },
    {
     "name": "stderr",
     "output_type": "stream",
     "text": [
      " 20%|██████████████▊                                                           | 1473/7365 [1:21:28<4:30:35,  2.76s/it]"
     ]
    },
    {
     "name": "stdout",
     "output_type": "stream",
     "text": [
      "Citizenship not available\n"
     ]
    },
    {
     "name": "stderr",
     "output_type": "stream",
     "text": [
      " 20%|██████████████▊                                                           | 1475/7365 [1:21:33<3:59:12,  2.44s/it]"
     ]
    },
    {
     "name": "stdout",
     "output_type": "stream",
     "text": [
      "Couldn't download data for Delfeayo Marsalis\n",
      "'query'\n",
      "Birth date not available\n"
     ]
    },
    {
     "name": "stderr",
     "output_type": "stream",
     "text": [
      " 20%|███████████████                                                           | 1494/7365 [1:22:30<4:03:53,  2.49s/it]"
     ]
    },
    {
     "name": "stdout",
     "output_type": "stream",
     "text": [
      "Birth date not available\n",
      "Gender not available\n",
      "Citizenship not available\n"
     ]
    },
    {
     "name": "stderr",
     "output_type": "stream",
     "text": [
      " 20%|███████████████                                                           | 1504/7365 [1:22:57<3:49:04,  2.35s/it]"
     ]
    },
    {
     "name": "stdout",
     "output_type": "stream",
     "text": [
      "Couldn't download data for Devanny Pinn\n",
      "'query'\n"
     ]
    },
    {
     "name": "stderr",
     "output_type": "stream",
     "text": [
      "\r",
      " 20%|███████████████                                                           | 1505/7365 [1:22:59<3:26:28,  2.11s/it]"
     ]
    },
    {
     "name": "stdout",
     "output_type": "stream",
     "text": [
      "Birth date not available\n",
      "Gender not available\n",
      "Citizenship not available\n"
     ]
    },
    {
     "name": "stderr",
     "output_type": "stream",
     "text": [
      " 21%|███████████████▎                                                          | 1521/7365 [1:23:46<4:24:36,  2.72s/it]"
     ]
    },
    {
     "name": "stdout",
     "output_type": "stream",
     "text": [
      "Birth date not available\n",
      "Gender not available\n",
      "Citizenship not available\n"
     ]
    },
    {
     "name": "stderr",
     "output_type": "stream",
     "text": [
      " 21%|███████████████▍                                                          | 1538/7365 [1:24:37<4:05:46,  2.53s/it]"
     ]
    },
    {
     "name": "stdout",
     "output_type": "stream",
     "text": [
      "Couldn't download data for Dieter Thomas Kuhn\n",
      "'query'\n"
     ]
    },
    {
     "name": "stderr",
     "output_type": "stream",
     "text": [
      " 21%|███████████████▋                                                          | 1564/7365 [1:25:57<4:07:53,  2.56s/it]"
     ]
    },
    {
     "name": "stdout",
     "output_type": "stream",
     "text": [
      "Birth date not available\n",
      "Gender not available\n",
      "Citizenship not available\n"
     ]
    },
    {
     "name": "stderr",
     "output_type": "stream",
     "text": [
      " 21%|███████████████▋                                                          | 1566/7365 [1:26:01<3:37:08,  2.25s/it]"
     ]
    },
    {
     "name": "stdout",
     "output_type": "stream",
     "text": [
      "Couldn't download data for Dolly Buster\n",
      "'query'\n"
     ]
    },
    {
     "name": "stderr",
     "output_type": "stream",
     "text": [
      " 22%|███████████████▉                                                          | 1585/7365 [1:27:00<4:13:26,  2.63s/it]"
     ]
    },
    {
     "name": "stdout",
     "output_type": "stream",
     "text": [
      "Birth date not available\n",
      "Gender not available\n",
      "Citizenship not available\n"
     ]
    },
    {
     "name": "stderr",
     "output_type": "stream",
     "text": [
      " 22%|████████████████                                                          | 1596/7365 [1:27:30<3:35:14,  2.24s/it]"
     ]
    },
    {
     "name": "stdout",
     "output_type": "stream",
     "text": [
      "Citizenship not available\n"
     ]
    },
    {
     "name": "stderr",
     "output_type": "stream",
     "text": [
      " 22%|████████████████                                                          | 1598/7365 [1:27:35<3:45:38,  2.35s/it]"
     ]
    },
    {
     "name": "stdout",
     "output_type": "stream",
     "text": [
      "Birth date not available\n",
      "Gender not available\n",
      "Citizenship not available\n"
     ]
    },
    {
     "name": "stderr",
     "output_type": "stream",
     "text": [
      " 22%|████████████████▏                                                         | 1616/7365 [1:28:31<4:03:09,  2.54s/it]"
     ]
    },
    {
     "name": "stdout",
     "output_type": "stream",
     "text": [
      "Citizenship not available\n"
     ]
    },
    {
     "name": "stderr",
     "output_type": "stream",
     "text": [
      " 22%|████████████████▍                                                         | 1632/7365 [1:29:20<3:48:38,  2.39s/it]"
     ]
    },
    {
     "name": "stdout",
     "output_type": "stream",
     "text": [
      "Couldn't download data for Eddie Money\n",
      "'query'\n"
     ]
    },
    {
     "name": "stderr",
     "output_type": "stream",
     "text": [
      " 23%|████████████████▋                                                         | 1660/7365 [1:30:37<3:49:58,  2.42s/it]"
     ]
    },
    {
     "name": "stdout",
     "output_type": "stream",
     "text": [
      "Birth date not available\n",
      "Gender not available\n",
      "Citizenship not available\n"
     ]
    },
    {
     "name": "stderr",
     "output_type": "stream",
     "text": [
      " 23%|█████████████████                                                         | 1696/7365 [1:32:21<4:37:15,  2.93s/it]"
     ]
    },
    {
     "name": "stdout",
     "output_type": "stream",
     "text": [
      "Citizenship not available\n",
      "Gender not available\n"
     ]
    },
    {
     "name": "stderr",
     "output_type": "stream",
     "text": [
      " 23%|█████████████████▎                                                        | 1723/7365 [1:33:36<3:33:24,  2.27s/it]"
     ]
    },
    {
     "name": "stdout",
     "output_type": "stream",
     "text": [
      "Couldn't download data for Emma Marcegaglia\n",
      "'query'\n"
     ]
    },
    {
     "name": "stderr",
     "output_type": "stream",
     "text": [
      " 24%|█████████████████▍                                                        | 1735/7365 [1:34:09<4:06:31,  2.63s/it]"
     ]
    },
    {
     "name": "stdout",
     "output_type": "stream",
     "text": [
      "Birth date not available\n",
      "Gender not available\n",
      "Citizenship not available\n"
     ]
    },
    {
     "name": "stderr",
     "output_type": "stream",
     "text": [
      " 24%|█████████████████▊                                                        | 1769/7365 [1:35:52<3:55:00,  2.52s/it]"
     ]
    },
    {
     "name": "stdout",
     "output_type": "stream",
     "text": [
      "Birth date not available\n",
      "Gender not available\n",
      "Citizenship not available\n"
     ]
    },
    {
     "name": "stderr",
     "output_type": "stream",
     "text": [
      " 24%|█████████████████▉                                                        | 1785/7365 [1:36:37<3:36:46,  2.33s/it]"
     ]
    },
    {
     "name": "stdout",
     "output_type": "stream",
     "text": [
      "Couldn't download data for Esther Schweins\n",
      "'query'\n"
     ]
    },
    {
     "name": "stderr",
     "output_type": "stream",
     "text": [
      " 25%|██████████████████▏                                                       | 1810/7365 [1:37:48<3:26:57,  2.24s/it]"
     ]
    },
    {
     "name": "stdout",
     "output_type": "stream",
     "text": [
      "Couldn't download data for Evelyne Brochu\n",
      "'query'\n"
     ]
    },
    {
     "name": "stderr",
     "output_type": "stream",
     "text": [
      " 25%|██████████████████▎                                                       | 1825/7365 [1:38:30<3:55:09,  2.55s/it]"
     ]
    },
    {
     "name": "stdout",
     "output_type": "stream",
     "text": [
      "Couldn't download data for Fabio Troiano\n",
      "'query'\n"
     ]
    },
    {
     "name": "stderr",
     "output_type": "stream",
     "text": [
      " 25%|██████████████████▍                                                       | 1831/7365 [1:38:47<3:52:29,  2.52s/it]"
     ]
    },
    {
     "name": "stdout",
     "output_type": "stream",
     "text": [
      "Couldn't download data for Fafá de Belém\n",
      "'query'\n"
     ]
    },
    {
     "name": "stderr",
     "output_type": "stream",
     "text": [
      " 25%|██████████████████▌                                                       | 1842/7365 [1:39:18<3:50:59,  2.51s/it]"
     ]
    },
    {
     "name": "stdout",
     "output_type": "stream",
     "text": [
      "Couldn't download data for Farin Urlaub\n",
      "'query'\n"
     ]
    },
    {
     "name": "stderr",
     "output_type": "stream",
     "text": [
      " 25%|██████████████████▌                                                       | 1852/7365 [1:39:46<3:18:12,  2.16s/it]"
     ]
    },
    {
     "name": "stdout",
     "output_type": "stream",
     "text": [
      "Couldn't download data for Felicitas Woll\n",
      "'query'\n"
     ]
    },
    {
     "name": "stderr",
     "output_type": "stream",
     "text": [
      " 25%|██████████████████▋                                                       | 1856/7365 [1:39:57<3:41:00,  2.41s/it]"
     ]
    },
    {
     "name": "stdout",
     "output_type": "stream",
     "text": [
      "Couldn't download data for Felipe Gonzales\n",
      "'query'\n"
     ]
    },
    {
     "name": "stderr",
     "output_type": "stream",
     "text": [
      " 26%|██████████████████▉                                                       | 1891/7365 [1:41:37<4:00:14,  2.63s/it]"
     ]
    },
    {
     "name": "stdout",
     "output_type": "stream",
     "text": [
      "Birth date not available\n",
      "Gender not available\n",
      "Citizenship not available\n"
     ]
    },
    {
     "name": "stderr",
     "output_type": "stream",
     "text": [
      " 26%|███████████████████                                                       | 1901/7365 [1:42:07<3:54:04,  2.57s/it]"
     ]
    },
    {
     "name": "stdout",
     "output_type": "stream",
     "text": [
      "Couldn't download data for Francesco Renga\n",
      "'query'\n"
     ]
    },
    {
     "name": "stderr",
     "output_type": "stream",
     "text": [
      " 26%|███████████████████▎                                                      | 1922/7365 [1:43:07<3:44:38,  2.48s/it]"
     ]
    },
    {
     "name": "stdout",
     "output_type": "stream",
     "text": [
      "Couldn't download data for Frans Bauer\n",
      "'query'\n"
     ]
    },
    {
     "name": "stderr",
     "output_type": "stream",
     "text": [
      "\r",
      " 26%|███████████████████▎                                                      | 1923/7365 [1:43:09<3:30:20,  2.32s/it]"
     ]
    },
    {
     "name": "stdout",
     "output_type": "stream",
     "text": [
      "Citizenship not available\n"
     ]
    },
    {
     "name": "stderr",
     "output_type": "stream",
     "text": [
      "\r",
      " 26%|███████████████████▎                                                      | 1924/7365 [1:43:11<3:03:26,  2.02s/it]"
     ]
    },
    {
     "name": "stdout",
     "output_type": "stream",
     "text": [
      "Couldn't download data for François-Xavier Demaison\n",
      "'query'\n"
     ]
    },
    {
     "name": "stderr",
     "output_type": "stream",
     "text": [
      " 26%|███████████████████▌                                                      | 1944/7365 [1:44:11<3:36:21,  2.39s/it]"
     ]
    },
    {
     "name": "stdout",
     "output_type": "stream",
     "text": [
      "Couldn't download data for Frenchie Davis\n",
      "'query'\n"
     ]
    },
    {
     "name": "stderr",
     "output_type": "stream",
     "text": [
      " 27%|███████████████████▊                                                      | 1975/7365 [1:45:42<3:48:14,  2.54s/it]"
     ]
    },
    {
     "name": "stdout",
     "output_type": "stream",
     "text": [
      "Birth date not available\n",
      "Gender not available\n",
      "Citizenship not available\n"
     ]
    },
    {
     "name": "stderr",
     "output_type": "stream",
     "text": [
      " 28%|████████████████████▍                                                     | 2037/7365 [1:49:51<3:23:22,  2.29s/it]"
     ]
    },
    {
     "name": "stdout",
     "output_type": "stream",
     "text": [
      "Birth date not available\n",
      "Gender not available\n",
      "Citizenship not available\n"
     ]
    },
    {
     "name": "stderr",
     "output_type": "stream",
     "text": [
      " 28%|████████████████████▋                                                     | 2064/7365 [1:51:09<3:34:05,  2.42s/it]"
     ]
    },
    {
     "name": "stdout",
     "output_type": "stream",
     "text": [
      "Couldn't download data for Giulia Siegel\n",
      "'query'\n"
     ]
    },
    {
     "name": "stderr",
     "output_type": "stream",
     "text": [
      " 28%|████████████████████▊                                                     | 2070/7365 [1:51:25<3:45:26,  2.55s/it]"
     ]
    },
    {
     "name": "stdout",
     "output_type": "stream",
     "text": [
      "Birth date not available\n",
      "Gender not available\n",
      "Citizenship not available\n"
     ]
    },
    {
     "name": "stderr",
     "output_type": "stream",
     "text": [
      " 28%|████████████████████▊                                                     | 2074/7365 [1:51:36<3:37:36,  2.47s/it]"
     ]
    },
    {
     "name": "stdout",
     "output_type": "stream",
     "text": [
      "Couldn't download data for Goapele\n",
      "'query'\n"
     ]
    },
    {
     "name": "stderr",
     "output_type": "stream",
     "text": [
      " 28%|████████████████████▉                                                     | 2082/7365 [1:51:57<3:30:33,  2.39s/it]"
     ]
    },
    {
     "name": "stdout",
     "output_type": "stream",
     "text": [
      "Birth date not available\n",
      "Gender not available\n",
      "Citizenship not available\n"
     ]
    },
    {
     "name": "stderr",
     "output_type": "stream",
     "text": [
      " 29%|█████████████████████▏                                                    | 2105/7365 [1:53:03<3:28:10,  2.37s/it]"
     ]
    },
    {
     "name": "stdout",
     "output_type": "stream",
     "text": [
      "Couldn't download data for Gretchen Barretto\n",
      "'query'\n"
     ]
    },
    {
     "name": "stderr",
     "output_type": "stream",
     "text": [
      " 29%|█████████████████████▊                                                    | 2172/7365 [1:56:24<3:29:03,  2.42s/it]"
     ]
    },
    {
     "name": "stdout",
     "output_type": "stream",
     "text": [
      "Couldn't download data for Hanna Beth\n",
      "'query'\n"
     ]
    },
    {
     "name": "stderr",
     "output_type": "stream",
     "text": [
      " 30%|██████████████████████▍                                                   | 2227/7365 [1:59:08<3:40:38,  2.58s/it]"
     ]
    },
    {
     "name": "stdout",
     "output_type": "stream",
     "text": [
      "Couldn't download data for Heather Thomson\n",
      "'query'\n"
     ]
    },
    {
     "name": "stderr",
     "output_type": "stream",
     "text": [
      " 30%|██████████████████████▍                                                   | 2236/7365 [1:59:32<3:28:16,  2.44s/it]"
     ]
    },
    {
     "name": "stdout",
     "output_type": "stream",
     "text": [
      "Couldn't download data for Hella von Sinnen\n",
      "'query'\n"
     ]
    },
    {
     "name": "stderr",
     "output_type": "stream",
     "text": [
      " 31%|██████████████████████▉                                                   | 2289/7365 [2:02:26<3:37:54,  2.58s/it]"
     ]
    },
    {
     "name": "stdout",
     "output_type": "stream",
     "text": [
      "Birth date not available\n",
      "Gender not available\n",
      "Citizenship not available\n"
     ]
    },
    {
     "name": "stderr",
     "output_type": "stream",
     "text": [
      " 31%|███████████████████████                                                   | 2301/7365 [2:02:59<3:36:56,  2.57s/it]"
     ]
    },
    {
     "name": "stdout",
     "output_type": "stream",
     "text": [
      "Birth date not available\n",
      "Gender not available\n",
      "Citizenship not available\n"
     ]
    },
    {
     "name": "stderr",
     "output_type": "stream",
     "text": [
      " 32%|███████████████████████▌                                                  | 2348/7365 [2:05:13<3:29:46,  2.51s/it]"
     ]
    },
    {
     "name": "stdout",
     "output_type": "stream",
     "text": [
      "Couldn't download data for Isabel Varell\n",
      "'query'\n"
     ]
    },
    {
     "name": "stderr",
     "output_type": "stream",
     "text": [
      " 32%|███████████████████████▋                                                  | 2363/7365 [2:05:57<3:33:39,  2.56s/it]"
     ]
    },
    {
     "name": "stdout",
     "output_type": "stream",
     "text": [
      "Couldn't download data for Iva Pazderková\n",
      "'query'\n"
     ]
    },
    {
     "name": "stderr",
     "output_type": "stream",
     "text": [
      " 32%|███████████████████████▊                                                  | 2369/7365 [2:06:13<3:29:32,  2.52s/it]"
     ]
    },
    {
     "name": "stdout",
     "output_type": "stream",
     "text": [
      "Citizenship not available\n"
     ]
    },
    {
     "name": "stderr",
     "output_type": "stream",
     "text": [
      " 32%|███████████████████████▊                                                  | 2373/7365 [2:06:23<3:26:46,  2.49s/it]"
     ]
    },
    {
     "name": "stdout",
     "output_type": "stream",
     "text": [
      "Citizenship not available\n"
     ]
    },
    {
     "name": "stderr",
     "output_type": "stream",
     "text": [
      " 32%|████████████████████████                                                  | 2393/7365 [2:07:18<3:08:01,  2.27s/it]"
     ]
    },
    {
     "name": "stdout",
     "output_type": "stream",
     "text": [
      "Birth date not available\n",
      "Gender not available\n",
      "Citizenship not available\n"
     ]
    },
    {
     "name": "stderr",
     "output_type": "stream",
     "text": [
      "\r",
      " 33%|████████████████████████                                                  | 2394/7365 [2:07:20<2:51:08,  2.07s/it]"
     ]
    },
    {
     "name": "stdout",
     "output_type": "stream",
     "text": [
      "Birth date not available\n",
      "Gender not available\n",
      "Citizenship not available\n"
     ]
    },
    {
     "name": "stderr",
     "output_type": "stream",
     "text": [
      "\r",
      " 33%|████████████████████████                                                  | 2395/7365 [2:07:21<2:41:35,  1.95s/it]"
     ]
    },
    {
     "name": "stdout",
     "output_type": "stream",
     "text": [
      "Birth date not available\n",
      "Gender not available\n",
      "Citizenship not available\n"
     ]
    },
    {
     "name": "stderr",
     "output_type": "stream",
     "text": [
      " 33%|████████████████████████                                                  | 2399/7365 [2:07:32<3:17:25,  2.39s/it]"
     ]
    },
    {
     "name": "stdout",
     "output_type": "stream",
     "text": [
      "Citizenship not available\n"
     ]
    },
    {
     "name": "stderr",
     "output_type": "stream",
     "text": [
      " 33%|████████████████████████▏                                                 | 2402/7365 [2:07:39<3:04:28,  2.23s/it]"
     ]
    },
    {
     "name": "stdout",
     "output_type": "stream",
     "text": [
      "Birth date not available\n",
      "Gender not available\n",
      "Citizenship not available\n"
     ]
    },
    {
     "name": "stderr",
     "output_type": "stream",
     "text": [
      " 33%|████████████████████████▍                                                 | 2426/7365 [2:08:56<3:48:41,  2.78s/it]"
     ]
    },
    {
     "name": "stdout",
     "output_type": "stream",
     "text": [
      "Couldn't download data for Jaime Faith Edmondson\n",
      "'query'\n"
     ]
    },
    {
     "name": "stderr",
     "output_type": "stream",
     "text": [
      " 33%|████████████████████████▌                                                 | 2439/7365 [2:09:36<3:42:05,  2.71s/it]"
     ]
    },
    {
     "name": "stdout",
     "output_type": "stream",
     "text": [
      "Couldn't download data for Jakub Smolík\n",
      "'query'\n"
     ]
    },
    {
     "name": "stderr",
     "output_type": "stream",
     "text": [
      " 33%|████████████████████████▋                                                 | 2459/7365 [2:10:42<3:43:30,  2.73s/it]"
     ]
    },
    {
     "name": "stdout",
     "output_type": "stream",
     "text": [
      "Citizenship not available\n"
     ]
    },
    {
     "name": "stderr",
     "output_type": "stream",
     "text": [
      " 34%|████████████████████████▉                                                 | 2477/7365 [2:11:38<3:26:15,  2.53s/it]"
     ]
    },
    {
     "name": "stdout",
     "output_type": "stream",
     "text": [
      "Birth date not available\n",
      "Citizenship not available\n"
     ]
    },
    {
     "name": "stderr",
     "output_type": "stream",
     "text": [
      " 34%|█████████████████████████▏                                                | 2510/7365 [2:13:20<3:25:56,  2.55s/it]"
     ]
    },
    {
     "name": "stdout",
     "output_type": "stream",
     "text": [
      "Couldn't download data for Jared Followill\n",
      "'query'\n"
     ]
    },
    {
     "name": "stderr",
     "output_type": "stream",
     "text": [
      " 34%|█████████████████████████▍                                                | 2526/7365 [2:14:08<3:36:16,  2.68s/it]"
     ]
    },
    {
     "name": "stdout",
     "output_type": "stream",
     "text": [
      "Couldn't download data for Jasmin Tabatabai\n",
      "'query'\n"
     ]
    },
    {
     "name": "stderr",
     "output_type": "stream",
     "text": [
      " 35%|█████████████████████████▌                                                | 2541/7365 [2:14:54<3:33:24,  2.65s/it]"
     ]
    },
    {
     "name": "stdout",
     "output_type": "stream",
     "text": [
      "Couldn't download data for Jason Wahler\n",
      "'query'\n"
     ]
    },
    {
     "name": "stderr",
     "output_type": "stream",
     "text": [
      " 35%|█████████████████████████▋                                                | 2562/7365 [2:15:57<3:26:29,  2.58s/it]"
     ]
    },
    {
     "name": "stdout",
     "output_type": "stream",
     "text": [
      "Citizenship not available\n"
     ]
    },
    {
     "name": "stderr",
     "output_type": "stream",
     "text": [
      " 35%|██████████████████████████                                                | 2600/7365 [2:17:57<3:38:18,  2.75s/it]"
     ]
    },
    {
     "name": "stdout",
     "output_type": "stream",
     "text": [
      "Birth date not available\n",
      "Gender not available\n",
      "Citizenship not available\n"
     ]
    },
    {
     "name": "stderr",
     "output_type": "stream",
     "text": [
      " 35%|██████████████████████████▏                                               | 2606/7365 [2:18:16<3:27:08,  2.61s/it]"
     ]
    },
    {
     "name": "stdout",
     "output_type": "stream",
     "text": [
      "Couldn't download data for Jeff Stinco\n",
      "'query'\n"
     ]
    },
    {
     "name": "stderr",
     "output_type": "stream",
     "text": [
      " 35%|██████████████████████████▏                                               | 2609/7365 [2:18:23<3:20:36,  2.53s/it]"
     ]
    },
    {
     "name": "stdout",
     "output_type": "stream",
     "text": [
      "Citizenship not available\n"
     ]
    },
    {
     "name": "stderr",
     "output_type": "stream",
     "text": [
      " 36%|██████████████████████████▎                                               | 2620/7365 [2:18:58<4:04:43,  3.09s/it]"
     ]
    },
    {
     "name": "stdout",
     "output_type": "stream",
     "text": [
      "Birth date not available\n"
     ]
    },
    {
     "name": "stderr",
     "output_type": "stream",
     "text": [
      " 36%|██████████████████████████▋                                               | 2659/7365 [2:20:54<3:21:05,  2.56s/it]"
     ]
    },
    {
     "name": "stdout",
     "output_type": "stream",
     "text": [
      "Couldn't download data for Jesse Boykins III\n",
      "'query'\n"
     ]
    },
    {
     "name": "stderr",
     "output_type": "stream",
     "text": [
      " 36%|██████████████████████████▉                                               | 2675/7365 [2:21:44<3:32:40,  2.72s/it]"
     ]
    },
    {
     "name": "stdout",
     "output_type": "stream",
     "text": [
      "Birth date not available\n",
      "Gender not available\n",
      "Citizenship not available\n"
     ]
    },
    {
     "name": "stderr",
     "output_type": "stream",
     "text": [
      " 36%|███████████████████████████                                               | 2688/7365 [2:22:19<2:57:46,  2.28s/it]"
     ]
    },
    {
     "name": "stdout",
     "output_type": "stream",
     "text": [
      "Couldn't download data for Jette Joop\n",
      "'query'\n"
     ]
    },
    {
     "name": "stderr",
     "output_type": "stream",
     "text": [
      " 37%|███████████████████████████▎                                              | 2721/7365 [2:23:50<3:00:07,  2.33s/it]"
     ]
    },
    {
     "name": "stdout",
     "output_type": "stream",
     "text": [
      "Couldn't download data for Jiří Lábus\n",
      "'query'\n"
     ]
    },
    {
     "name": "stderr",
     "output_type": "stream",
     "text": [
      " 37%|███████████████████████████▋                                              | 2751/7365 [2:25:20<3:16:36,  2.56s/it]"
     ]
    },
    {
     "name": "stdout",
     "output_type": "stream",
     "text": [
      "Birth date not available\n",
      "Gender not available\n",
      "Citizenship not available\n"
     ]
    },
    {
     "name": "stderr",
     "output_type": "stream",
     "text": [
      " 38%|███████████████████████████▊                                              | 2763/7365 [2:25:53<3:09:14,  2.47s/it]"
     ]
    },
    {
     "name": "stdout",
     "output_type": "stream",
     "text": [
      "Birth date not available\n",
      "Gender not available\n",
      "Citizenship not available\n"
     ]
    },
    {
     "name": "stderr",
     "output_type": "stream",
     "text": [
      " 38%|███████████████████████████▉                                              | 2782/7365 [2:26:45<2:45:56,  2.17s/it]"
     ]
    },
    {
     "name": "stdout",
     "output_type": "stream",
     "text": [
      "Couldn't download data for Johannes Oerding\n",
      "'query'\n"
     ]
    },
    {
     "name": "stderr",
     "output_type": "stream",
     "text": [
      "\r",
      " 38%|███████████████████████████▉                                              | 2783/7365 [2:26:46<2:28:03,  1.94s/it]"
     ]
    },
    {
     "name": "stdout",
     "output_type": "stream",
     "text": [
      "Couldn't download data for Johannes Remmel\n",
      "'query'\n"
     ]
    },
    {
     "name": "stderr",
     "output_type": "stream",
     "text": [
      " 38%|████████████████████████████                                              | 2796/7365 [2:27:28<3:34:56,  2.82s/it]"
     ]
    },
    {
     "name": "stdout",
     "output_type": "stream",
     "text": [
      "Birth date not available\n",
      "Gender not available\n",
      "Citizenship not available\n"
     ]
    },
    {
     "name": "stderr",
     "output_type": "stream",
     "text": [
      " 38%|████████████████████████████▏                                             | 2803/7365 [2:27:49<3:15:23,  2.57s/it]"
     ]
    },
    {
     "name": "stdout",
     "output_type": "stream",
     "text": [
      "Birth date not available\n",
      "Gender not available\n",
      "Citizenship not available\n"
     ]
    },
    {
     "name": "stderr",
     "output_type": "stream",
     "text": [
      " 38%|████████████████████████████▎                                             | 2812/7365 [2:28:16<3:12:05,  2.53s/it]"
     ]
    },
    {
     "name": "stdout",
     "output_type": "stream",
     "text": [
      "Couldn't download data for Johnny Borrell\n",
      "'query'\n"
     ]
    },
    {
     "name": "stderr",
     "output_type": "stream",
     "text": [
      " 39%|████████████████████████████▋                                             | 2853/7365 [2:30:22<3:10:37,  2.53s/it]"
     ]
    },
    {
     "name": "stdout",
     "output_type": "stream",
     "text": [
      "Couldn't download data for Jonathan Wilkes\n",
      "'query'\n"
     ]
    },
    {
     "name": "stderr",
     "output_type": "stream",
     "text": [
      " 39%|████████████████████████████▉                                             | 2880/7365 [2:31:37<3:12:02,  2.57s/it]"
     ]
    },
    {
     "name": "stdout",
     "output_type": "stream",
     "text": [
      "Citizenship not available\n"
     ]
    },
    {
     "name": "stderr",
     "output_type": "stream",
     "text": [
      " 39%|█████████████████████████████                                             | 2891/7365 [2:32:10<3:11:46,  2.57s/it]"
     ]
    },
    {
     "name": "stdout",
     "output_type": "stream",
     "text": [
      "Couldn't download data for Josh Ramsay\n",
      "'query'\n"
     ]
    },
    {
     "name": "stderr",
     "output_type": "stream",
     "text": [
      " 39%|█████████████████████████████▏                                            | 2903/7365 [2:32:45<3:04:35,  2.48s/it]"
     ]
    },
    {
     "name": "stdout",
     "output_type": "stream",
     "text": [
      "Birth date not available\n",
      "Gender not available\n",
      "Citizenship not available\n"
     ]
    },
    {
     "name": "stderr",
     "output_type": "stream",
     "text": [
      " 40%|█████████████████████████████▎                                            | 2921/7365 [2:33:37<2:58:16,  2.41s/it]"
     ]
    },
    {
     "name": "stdout",
     "output_type": "stream",
     "text": [
      "Couldn't download data for Juan Carlos Varela\n",
      "'query'\n"
     ]
    },
    {
     "name": "stderr",
     "output_type": "stream",
     "text": [
      " 40%|█████████████████████████████▌                                            | 2943/7365 [2:34:42<3:06:48,  2.53s/it]"
     ]
    },
    {
     "name": "stdout",
     "output_type": "stream",
     "text": [
      "Couldn't download data for Jujubee\n",
      "'query'\n"
     ]
    },
    {
     "name": "stderr",
     "output_type": "stream",
     "text": [
      " 40%|█████████████████████████████▊                                            | 2968/7365 [2:35:54<2:59:36,  2.45s/it]"
     ]
    },
    {
     "name": "stdout",
     "output_type": "stream",
     "text": [
      "Birth date not available\n",
      "Gender not available\n",
      "Citizenship not available\n"
     ]
    },
    {
     "name": "stderr",
     "output_type": "stream",
     "text": [
      " 40%|█████████████████████████████▊                                            | 2970/7365 [2:35:59<2:48:35,  2.30s/it]"
     ]
    },
    {
     "name": "stdout",
     "output_type": "stream",
     "text": [
      "Couldn't download data for Julien Lepers\n",
      "'query'\n"
     ]
    },
    {
     "name": "stderr",
     "output_type": "stream",
     "text": [
      " 41%|██████████████████████████████                                            | 2987/7365 [2:36:48<3:00:09,  2.47s/it]"
     ]
    },
    {
     "name": "stdout",
     "output_type": "stream",
     "text": [
      "Couldn't download data for Justin Townes Earle\n",
      "'query'\n"
     ]
    },
    {
     "name": "stderr",
     "output_type": "stream",
     "text": [
      " 41%|██████████████████████████████▎                                           | 3012/7365 [2:38:12<3:31:52,  2.92s/it]"
     ]
    },
    {
     "name": "stdout",
     "output_type": "stream",
     "text": [
      "Couldn't download data for Jürgen von der Lippe\n",
      "'query'\n"
     ]
    },
    {
     "name": "stderr",
     "output_type": "stream",
     "text": [
      " 41%|██████████████████████████████▎                                           | 3019/7365 [2:38:36<3:47:30,  3.14s/it]"
     ]
    },
    {
     "name": "stdout",
     "output_type": "stream",
     "text": [
      "Couldn't download data for Kader Loth\n",
      "'query'\n"
     ]
    },
    {
     "name": "stderr",
     "output_type": "stream",
     "text": [
      " 41%|██████████████████████████████▎                                           | 3021/7365 [2:38:41<3:15:44,  2.70s/it]"
     ]
    },
    {
     "name": "stdout",
     "output_type": "stream",
     "text": [
      "Couldn't download data for Kai Schumann\n",
      "'query'\n"
     ]
    },
    {
     "name": "stderr",
     "output_type": "stream",
     "text": [
      " 41%|██████████████████████████████▋                                           | 3054/7365 [2:40:39<3:36:24,  3.01s/it]"
     ]
    },
    {
     "name": "stdout",
     "output_type": "stream",
     "text": [
      "Couldn't download data for Karen Fairchild\n",
      "'query'\n"
     ]
    },
    {
     "name": "stderr",
     "output_type": "stream",
     "text": [
      " 42%|██████████████████████████████▋                                           | 3060/7365 [2:41:02<3:52:22,  3.24s/it]"
     ]
    },
    {
     "name": "stdout",
     "output_type": "stream",
     "text": [
      "Couldn't download data for Karin Bloemen\n",
      "'query'\n"
     ]
    },
    {
     "name": "stderr",
     "output_type": "stream",
     "text": [
      " 42%|██████████████████████████████▉                                           | 3075/7365 [2:41:47<3:13:02,  2.70s/it]"
     ]
    },
    {
     "name": "stdout",
     "output_type": "stream",
     "text": [
      "Birth date not available\n",
      "Gender not available\n",
      "Citizenship not available\n"
     ]
    },
    {
     "name": "stderr",
     "output_type": "stream",
     "text": [
      " 42%|██████████████████████████████▉                                           | 3082/7365 [2:42:08<3:05:13,  2.59s/it]"
     ]
    },
    {
     "name": "stdout",
     "output_type": "stream",
     "text": [
      "Couldn't download data for Kate Ceberano\n",
      "'query'\n"
     ]
    },
    {
     "name": "stderr",
     "output_type": "stream",
     "text": [
      " 42%|███████████████████████████████▏                                          | 3104/7365 [2:43:21<3:25:49,  2.90s/it]"
     ]
    },
    {
     "name": "stdout",
     "output_type": "stream",
     "text": [
      "Birth date not available\n",
      "Gender not available\n",
      "Citizenship not available\n"
     ]
    },
    {
     "name": "stderr",
     "output_type": "stream",
     "text": [
      " 42%|███████████████████████████████▏                                          | 3109/7365 [2:43:37<3:22:42,  2.86s/it]"
     ]
    },
    {
     "name": "stdout",
     "output_type": "stream",
     "text": [
      "Couldn't download data for Katie Armiger\n",
      "'query'\n"
     ]
    },
    {
     "name": "stderr",
     "output_type": "stream",
     "text": [
      " 42%|███████████████████████████████▎                                          | 3119/7365 [2:44:07<3:02:27,  2.58s/it]"
     ]
    },
    {
     "name": "stdout",
     "output_type": "stream",
     "text": [
      "Couldn't download data for Katja Riemann\n",
      "'query'\n"
     ]
    },
    {
     "name": "stderr",
     "output_type": "stream",
     "text": [
      "\r",
      " 42%|███████████████████████████████▎                                          | 3120/7365 [2:44:09<2:40:46,  2.27s/it]"
     ]
    },
    {
     "name": "stdout",
     "output_type": "stream",
     "text": [
      "Couldn't download data for Katon W. De Pena\n",
      "'query'\n"
     ]
    },
    {
     "name": "stderr",
     "output_type": "stream",
     "text": [
      " 42%|███████████████████████████████▍                                          | 3125/7365 [2:44:24<3:15:35,  2.77s/it]"
     ]
    },
    {
     "name": "stdout",
     "output_type": "stream",
     "text": [
      "Birth date not available\n",
      "Gender not available\n",
      "Citizenship not available\n"
     ]
    },
    {
     "name": "stderr",
     "output_type": "stream",
     "text": [
      " 43%|███████████████████████████████▊                                          | 3160/7365 [2:46:12<3:07:46,  2.68s/it]"
     ]
    },
    {
     "name": "stdout",
     "output_type": "stream",
     "text": [
      "Couldn't download data for Kent Nagano\n",
      "'query'\n"
     ]
    },
    {
     "name": "stderr",
     "output_type": "stream",
     "text": [
      " 43%|███████████████████████████████▊                                          | 3163/7365 [2:46:20<2:52:49,  2.47s/it]"
     ]
    },
    {
     "name": "stdout",
     "output_type": "stream",
     "text": [
      "Couldn't download data for Kerri-Anne Kennerley\n",
      "'query'\n"
     ]
    },
    {
     "name": "stderr",
     "output_type": "stream",
     "text": [
      " 43%|████████████████████████████████                                          | 3197/7365 [2:47:57<2:36:54,  2.26s/it]"
     ]
    },
    {
     "name": "stdout",
     "output_type": "stream",
     "text": [
      "Birth date not available\n",
      "Gender not available\n",
      "Citizenship not available\n"
     ]
    },
    {
     "name": "stderr",
     "output_type": "stream",
     "text": [
      " 44%|████████████████████████████████▎                                         | 3222/7365 [2:49:15<3:11:24,  2.77s/it]"
     ]
    },
    {
     "name": "stdout",
     "output_type": "stream",
     "text": [
      "Citizenship not available\n"
     ]
    },
    {
     "name": "stderr",
     "output_type": "stream",
     "text": [
      " 44%|████████████████████████████████▉                                         | 3275/7365 [2:51:44<2:47:08,  2.45s/it]"
     ]
    },
    {
     "name": "stdout",
     "output_type": "stream",
     "text": [
      "Couldn't download data for Krystle Lina\n",
      "'query'\n"
     ]
    },
    {
     "name": "stderr",
     "output_type": "stream",
     "text": [
      " 45%|█████████████████████████████████▏                                        | 3299/7365 [2:52:53<2:35:23,  2.29s/it]"
     ]
    },
    {
     "name": "stdout",
     "output_type": "stream",
     "text": [
      "Couldn't download data for La Grande Sophie\n",
      "'query'\n"
     ]
    },
    {
     "name": "stderr",
     "output_type": "stream",
     "text": [
      " 45%|█████████████████████████████████▏                                        | 3304/7365 [2:53:07<2:31:08,  2.23s/it]"
     ]
    },
    {
     "name": "stdout",
     "output_type": "stream",
     "text": [
      "Birth date not available\n",
      "Gender not available\n",
      "Citizenship not available\n"
     ]
    },
    {
     "name": "stderr",
     "output_type": "stream",
     "text": [
      " 45%|█████████████████████████████████▍                                        | 3328/7365 [2:54:17<2:33:15,  2.28s/it]"
     ]
    },
    {
     "name": "stdout",
     "output_type": "stream",
     "text": [
      "Couldn't download data for Larry Birkhead\n",
      "'query'\n"
     ]
    },
    {
     "name": "stderr",
     "output_type": "stream",
     "text": [
      " 45%|█████████████████████████████████▍                                        | 3330/7365 [2:54:23<2:37:39,  2.34s/it]"
     ]
    },
    {
     "name": "stdout",
     "output_type": "stream",
     "text": [
      "Birth date not available\n",
      "Gender not available\n",
      "Citizenship not available\n"
     ]
    },
    {
     "name": "stderr",
     "output_type": "stream",
     "text": [
      " 45%|█████████████████████████████████▋                                        | 3348/7365 [2:55:14<2:45:27,  2.47s/it]"
     ]
    },
    {
     "name": "stdout",
     "output_type": "stream",
     "text": [
      "Couldn't download data for Lauren Gottlieb\n",
      "'query'\n"
     ]
    },
    {
     "name": "stderr",
     "output_type": "stream",
     "text": [
      " 46%|█████████████████████████████████▊                                        | 3360/7365 [2:55:46<2:35:15,  2.33s/it]"
     ]
    },
    {
     "name": "stdout",
     "output_type": "stream",
     "text": [
      "Couldn't download data for Laurent Gerra\n",
      "'query'\n"
     ]
    },
    {
     "name": "stderr",
     "output_type": "stream",
     "text": [
      " 46%|█████████████████████████████████▉                                        | 3373/7365 [2:56:27<3:04:37,  2.77s/it]"
     ]
    },
    {
     "name": "stdout",
     "output_type": "stream",
     "text": [
      "Birth date not available\n",
      "Gender not available\n",
      "Citizenship not available\n"
     ]
    },
    {
     "name": "stderr",
     "output_type": "stream",
     "text": [
      " 46%|█████████████████████████████████▉                                        | 3377/7365 [2:56:39<3:04:54,  2.78s/it]"
     ]
    },
    {
     "name": "stdout",
     "output_type": "stream",
     "text": [
      "Couldn't download data for Lee Brice\n",
      "'query'\n"
     ]
    },
    {
     "name": "stderr",
     "output_type": "stream",
     "text": [
      " 46%|██████████████████████████████████                                        | 3387/7365 [2:57:06<2:41:23,  2.43s/it]"
     ]
    },
    {
     "name": "stdout",
     "output_type": "stream",
     "text": [
      "Couldn't download data for Leeteuk\n",
      "'query'\n"
     ]
    },
    {
     "name": "stderr",
     "output_type": "stream",
     "text": [
      " 46%|██████████████████████████████████                                        | 3389/7365 [2:57:10<2:27:24,  2.22s/it]"
     ]
    },
    {
     "name": "stdout",
     "output_type": "stream",
     "text": [
      "Couldn't download data for Leif Ove Andsnes\n",
      "'query'\n"
     ]
    },
    {
     "name": "stderr",
     "output_type": "stream",
     "text": [
      " 46%|██████████████████████████████████▎                                       | 3413/7365 [2:58:15<2:05:39,  1.91s/it]"
     ]
    },
    {
     "name": "stdout",
     "output_type": "stream",
     "text": [
      "Couldn't download data for Lesley Garrett\n",
      "'query'\n"
     ]
    },
    {
     "name": "stderr",
     "output_type": "stream",
     "text": [
      " 46%|██████████████████████████████████▍                                       | 3422/7365 [2:58:40<2:52:05,  2.62s/it]"
     ]
    },
    {
     "name": "stdout",
     "output_type": "stream",
     "text": [
      "Citizenship not available\n"
     ]
    },
    {
     "name": "stderr",
     "output_type": "stream",
     "text": [
      " 47%|██████████████████████████████████▍                                       | 3425/7365 [2:58:48<2:46:20,  2.53s/it]"
     ]
    },
    {
     "name": "stdout",
     "output_type": "stream",
     "text": [
      "Citizenship not available\n"
     ]
    },
    {
     "name": "stderr",
     "output_type": "stream",
     "text": [
      " 47%|██████████████████████████████████▍                                       | 3429/7365 [2:58:58<2:28:59,  2.27s/it]"
     ]
    },
    {
     "name": "stdout",
     "output_type": "stream",
     "text": [
      "Couldn't download data for Liana Mendoza\n",
      "'query'\n"
     ]
    },
    {
     "name": "stderr",
     "output_type": "stream",
     "text": [
      "\r",
      " 47%|██████████████████████████████████▍                                       | 3430/7365 [2:59:00<2:11:13,  2.00s/it]"
     ]
    },
    {
     "name": "stdout",
     "output_type": "stream",
     "text": [
      "Couldn't download data for Liane Foly\n",
      "'query'\n"
     ]
    },
    {
     "name": "stderr",
     "output_type": "stream",
     "text": [
      " 47%|██████████████████████████████████▋                                       | 3457/7365 [3:00:24<3:13:42,  2.97s/it]"
     ]
    },
    {
     "name": "stdout",
     "output_type": "stream",
     "text": [
      "Couldn't download data for Lisa Fitz\n",
      "'query'\n"
     ]
    },
    {
     "name": "stderr",
     "output_type": "stream",
     "text": [
      " 47%|██████████████████████████████████▊                                       | 3462/7365 [3:00:38<2:53:00,  2.66s/it]"
     ]
    },
    {
     "name": "stdout",
     "output_type": "stream",
     "text": [
      "Birth date not available\n",
      "Gender not available\n",
      "Citizenship not available\n"
     ]
    },
    {
     "name": "stderr",
     "output_type": "stream",
     "text": [
      " 47%|██████████████████████████████████▊                                       | 3468/7365 [3:00:54<2:38:29,  2.44s/it]"
     ]
    },
    {
     "name": "stdout",
     "output_type": "stream",
     "text": [
      "Birth date not available\n",
      "Gender not available\n",
      "Citizenship not available\n"
     ]
    },
    {
     "name": "stderr",
     "output_type": "stream",
     "text": [
      " 47%|███████████████████████████████████                                       | 3484/7365 [3:01:41<2:31:30,  2.34s/it]"
     ]
    },
    {
     "name": "stdout",
     "output_type": "stream",
     "text": [
      "Couldn't download data for Loredana Lecciso\n",
      "'query'\n"
     ]
    },
    {
     "name": "stderr",
     "output_type": "stream",
     "text": [
      " 48%|███████████████████████████████████▏                                      | 3503/7365 [3:02:39<3:09:01,  2.94s/it]"
     ]
    },
    {
     "name": "stdout",
     "output_type": "stream",
     "text": [
      "Citizenship not available\n"
     ]
    },
    {
     "name": "stderr",
     "output_type": "stream",
     "text": [
      " 48%|███████████████████████████████████▌                                      | 3544/7365 [3:04:35<2:20:29,  2.21s/it]"
     ]
    },
    {
     "name": "stdout",
     "output_type": "stream",
     "text": [
      "Couldn't download data for Lucie Silvas\n",
      "'query'\n"
     ]
    },
    {
     "name": "stderr",
     "output_type": "stream",
     "text": [
      " 48%|███████████████████████████████████▊                                      | 3560/7365 [3:05:20<2:35:29,  2.45s/it]"
     ]
    },
    {
     "name": "stdout",
     "output_type": "stream",
     "text": [
      "Citizenship not available\n"
     ]
    },
    {
     "name": "stderr",
     "output_type": "stream",
     "text": [
      " 49%|███████████████████████████████████▉                                      | 3577/7365 [3:06:08<2:22:12,  2.25s/it]"
     ]
    },
    {
     "name": "stdout",
     "output_type": "stream",
     "text": [
      "Couldn't download data for Lzzy Hale\n",
      "'query'\n"
     ]
    },
    {
     "name": "stderr",
     "output_type": "stream",
     "text": [
      " 49%|███████████████████████████████████▉                                      | 3579/7365 [3:06:12<2:16:58,  2.17s/it]"
     ]
    },
    {
     "name": "stdout",
     "output_type": "stream",
     "text": [
      "Couldn't download data for Lương Bích Hữu\n",
      "'query'\n"
     ]
    },
    {
     "name": "stderr",
     "output_type": "stream",
     "text": [
      " 49%|████████████████████████████████████                                      | 3583/7365 [3:06:23<2:29:25,  2.37s/it]"
     ]
    },
    {
     "name": "stdout",
     "output_type": "stream",
     "text": [
      "Couldn't download data for Ma Ying-jeou\n",
      "'query'\n"
     ]
    },
    {
     "name": "stderr",
     "output_type": "stream",
     "text": [
      " 49%|████████████████████████████████████                                      | 3595/7365 [3:06:54<2:23:40,  2.29s/it]"
     ]
    },
    {
     "name": "stdout",
     "output_type": "stream",
     "text": [
      "Couldn't download data for Magdalena Schejbal\n",
      "'query'\n"
     ]
    },
    {
     "name": "stderr",
     "output_type": "stream",
     "text": [
      " 49%|████████████████████████████████████▎                                     | 3608/7365 [3:07:27<2:17:25,  2.19s/it]"
     ]
    },
    {
     "name": "stdout",
     "output_type": "stream",
     "text": [
      "Couldn't download data for Mahleej Sarkari\n",
      "'query'\n"
     ]
    },
    {
     "name": "stderr",
     "output_type": "stream",
     "text": [
      " 49%|████████████████████████████████████▎                                     | 3614/7365 [3:07:42<2:19:32,  2.23s/it]"
     ]
    },
    {
     "name": "stdout",
     "output_type": "stream",
     "text": [
      "Citizenship not available\n"
     ]
    },
    {
     "name": "stderr",
     "output_type": "stream",
     "text": [
      " 49%|████████████████████████████████████▍                                     | 3622/7365 [3:08:02<2:11:21,  2.11s/it]"
     ]
    },
    {
     "name": "stdout",
     "output_type": "stream",
     "text": [
      "Couldn't download data for Malika Haqq\n",
      "'query'\n"
     ]
    },
    {
     "name": "stderr",
     "output_type": "stream",
     "text": [
      " 49%|████████████████████████████████████▌                                     | 3633/7365 [3:08:30<2:27:43,  2.37s/it]"
     ]
    },
    {
     "name": "stdout",
     "output_type": "stream",
     "text": [
      "Couldn't download data for Mandy Teefey\n",
      "'query'\n"
     ]
    },
    {
     "name": "stderr",
     "output_type": "stream",
     "text": [
      "\r",
      " 49%|████████████████████████████████████▌                                     | 3634/7365 [3:08:31<2:08:07,  2.06s/it]"
     ]
    },
    {
     "name": "stdout",
     "output_type": "stream",
     "text": [
      "Couldn't download data for Manish Paul\n",
      "'query'\n"
     ]
    },
    {
     "name": "stderr",
     "output_type": "stream",
     "text": [
      " 50%|████████████████████████████████████▋                                     | 3652/7365 [3:09:23<2:26:45,  2.37s/it]"
     ]
    },
    {
     "name": "stdout",
     "output_type": "stream",
     "text": [
      "Couldn't download data for Marc Coucke\n",
      "'query'\n"
     ]
    },
    {
     "name": "stderr",
     "output_type": "stream",
     "text": [
      " 50%|████████████████████████████████████▋                                     | 3657/7365 [3:09:37<2:39:03,  2.57s/it]"
     ]
    },
    {
     "name": "stdout",
     "output_type": "stream",
     "text": [
      "Birth date not available\n",
      "Gender not available\n",
      "Citizenship not available\n"
     ]
    },
    {
     "name": "stderr",
     "output_type": "stream",
     "text": [
      " 50%|████████████████████████████████████▊                                     | 3659/7365 [3:09:42<2:28:28,  2.40s/it]"
     ]
    },
    {
     "name": "stdout",
     "output_type": "stream",
     "text": [
      "Couldn't download data for Marc Pircher\n",
      "'query'\n"
     ]
    },
    {
     "name": "stderr",
     "output_type": "stream",
     "text": [
      " 50%|████████████████████████████████████▉                                     | 3671/7365 [3:10:19<2:47:12,  2.72s/it]"
     ]
    },
    {
     "name": "stdout",
     "output_type": "stream",
     "text": [
      "Couldn't download data for Marcella Zalianty\n",
      "'query'\n"
     ]
    },
    {
     "name": "stderr",
     "output_type": "stream",
     "text": [
      " 50%|████████████████████████████████████▉                                     | 3679/7365 [3:10:41<2:26:26,  2.38s/it]"
     ]
    },
    {
     "name": "stdout",
     "output_type": "stream",
     "text": [
      "Couldn't download data for Marco Girnth\n",
      "'query'\n"
     ]
    },
    {
     "name": "stderr",
     "output_type": "stream",
     "text": [
      " 50%|█████████████████████████████████████▏                                    | 3695/7365 [3:11:26<2:29:46,  2.45s/it]"
     ]
    },
    {
     "name": "stdout",
     "output_type": "stream",
     "text": [
      "Couldn't download data for Mareile Höppner\n",
      "'query'\n"
     ]
    },
    {
     "name": "stderr",
     "output_type": "stream",
     "text": [
      " 50%|█████████████████████████████████████▏                                    | 3700/7365 [3:11:41<2:38:36,  2.60s/it]"
     ]
    },
    {
     "name": "stdout",
     "output_type": "stream",
     "text": [
      "Couldn't download data for Margaret Blanchard\n",
      "'query'\n"
     ]
    },
    {
     "name": "stderr",
     "output_type": "stream",
     "text": [
      " 51%|█████████████████████████████████████▌                                    | 3734/7365 [3:13:16<2:29:35,  2.47s/it]"
     ]
    },
    {
     "name": "stdout",
     "output_type": "stream",
     "text": [
      "Couldn't download data for Marilyn McCoo\n",
      "'query'\n"
     ]
    },
    {
     "name": "stderr",
     "output_type": "stream",
     "text": [
      " 51%|█████████████████████████████████████▉                                    | 3778/7365 [3:15:24<2:37:08,  2.63s/it]"
     ]
    },
    {
     "name": "stdout",
     "output_type": "stream",
     "text": [
      "Birth date not available\n",
      "Gender not available\n",
      "Citizenship not available\n"
     ]
    },
    {
     "name": "stderr",
     "output_type": "stream",
     "text": [
      " 51%|██████████████████████████████████████                                    | 3789/7365 [3:15:54<2:29:58,  2.52s/it]"
     ]
    },
    {
     "name": "stdout",
     "output_type": "stream",
     "text": [
      "Birth date not available\n",
      "Gender not available\n",
      "Citizenship not available\n"
     ]
    },
    {
     "name": "stderr",
     "output_type": "stream",
     "text": [
      "\r",
      " 51%|██████████████████████████████████████                                    | 3790/7365 [3:15:55<2:03:55,  2.08s/it]"
     ]
    },
    {
     "name": "stdout",
     "output_type": "stream",
     "text": [
      "Birth date not available\n",
      "Gender not available\n",
      "Citizenship not available\n"
     ]
    },
    {
     "name": "stderr",
     "output_type": "stream",
     "text": [
      " 52%|██████████████████████████████████████▏                                   | 3801/7365 [3:16:27<2:18:40,  2.33s/it]"
     ]
    },
    {
     "name": "stdout",
     "output_type": "stream",
     "text": [
      "Couldn't download data for Martin ONeill\n",
      "'query'\n"
     ]
    },
    {
     "name": "stderr",
     "output_type": "stream",
     "text": [
      " 52%|██████████████████████████████████████▏                                   | 3806/7365 [3:16:41<2:24:53,  2.44s/it]"
     ]
    },
    {
     "name": "stdout",
     "output_type": "stream",
     "text": [
      "Birth date not available\n",
      "Gender not available\n",
      "Citizenship not available\n"
     ]
    },
    {
     "name": "stderr",
     "output_type": "stream",
     "text": [
      " 52%|██████████████████████████████████████▍                                   | 3820/7365 [3:17:21<2:25:50,  2.47s/it]"
     ]
    },
    {
     "name": "stdout",
     "output_type": "stream",
     "text": [
      "Birth date not available\n",
      "Gender not available\n",
      "Citizenship not available\n"
     ]
    },
    {
     "name": "stderr",
     "output_type": "stream",
     "text": [
      " 52%|██████████████████████████████████████▌                                   | 3839/7365 [3:18:15<2:17:24,  2.34s/it]"
     ]
    },
    {
     "name": "stdout",
     "output_type": "stream",
     "text": [
      "Couldn't download data for Masuimi Max\n",
      "'query'\n"
     ]
    },
    {
     "name": "stderr",
     "output_type": "stream",
     "text": [
      " 52%|██████████████████████████████████████▌                                   | 3844/7365 [3:18:29<2:31:36,  2.58s/it]"
     ]
    },
    {
     "name": "stdout",
     "output_type": "stream",
     "text": [
      "Birth date not available\n",
      "Gender not available\n",
      "Citizenship not available\n"
     ]
    },
    {
     "name": "stderr",
     "output_type": "stream",
     "text": [
      " 52%|██████████████████████████████████████▋                                   | 3852/7365 [3:18:51<2:22:51,  2.44s/it]"
     ]
    },
    {
     "name": "stdout",
     "output_type": "stream",
     "text": [
      "Couldn't download data for Matt Berninger\n",
      "'query'\n"
     ]
    },
    {
     "name": "stderr",
     "output_type": "stream",
     "text": [
      " 53%|██████████████████████████████████████▊                                   | 3868/7365 [3:19:36<2:19:45,  2.40s/it]"
     ]
    },
    {
     "name": "stdout",
     "output_type": "stream",
     "text": [
      "Couldn't download data for Matze Knop\n",
      "'query'\n"
     ]
    },
    {
     "name": "stderr",
     "output_type": "stream",
     "text": [
      " 53%|██████████████████████████████████████▉                                   | 3871/7365 [3:19:43<2:13:29,  2.29s/it]"
     ]
    },
    {
     "name": "stdout",
     "output_type": "stream",
     "text": [
      "Couldn't download data for Mauli Dave\n",
      "'query'\n"
     ]
    },
    {
     "name": "stderr",
     "output_type": "stream",
     "text": [
      " 53%|███████████████████████████████████████                                   | 3892/7365 [3:20:44<2:33:22,  2.65s/it]"
     ]
    },
    {
     "name": "stdout",
     "output_type": "stream",
     "text": [
      "Birth date not available\n",
      "Gender not available\n",
      "Citizenship not available\n"
     ]
    },
    {
     "name": "stderr",
     "output_type": "stream",
     "text": [
      " 53%|███████████████████████████████████████▏                                  | 3896/7365 [3:20:54<2:22:00,  2.46s/it]"
     ]
    },
    {
     "name": "stdout",
     "output_type": "stream",
     "text": [
      "Couldn't download data for Maxi Arland\n",
      "'query'\n"
     ]
    },
    {
     "name": "stderr",
     "output_type": "stream",
     "text": [
      " 53%|███████████████████████████████████████▎                                  | 3912/7365 [3:21:41<2:32:54,  2.66s/it]"
     ]
    },
    {
     "name": "stdout",
     "output_type": "stream",
     "text": [
      "Couldn't download data for Megan Kelly\n",
      "'query'\n"
     ]
    },
    {
     "name": "stderr",
     "output_type": "stream",
     "text": [
      " 54%|███████████████████████████████████████▋                                  | 3944/7365 [3:23:14<2:17:25,  2.41s/it]"
     ]
    },
    {
     "name": "stdout",
     "output_type": "stream",
     "text": [
      "Birth date not available\n",
      "Gender not available\n",
      "Citizenship not available\n"
     ]
    },
    {
     "name": "stderr",
     "output_type": "stream",
     "text": [
      " 54%|███████████████████████████████████████▉                                  | 3975/7365 [3:24:48<2:27:07,  2.60s/it]"
     ]
    },
    {
     "name": "stdout",
     "output_type": "stream",
     "text": [
      "Birth date not available\n",
      "Gender not available\n",
      "Citizenship not available\n"
     ]
    },
    {
     "name": "stderr",
     "output_type": "stream",
     "text": [
      " 54%|███████████████████████████████████████▉                                  | 3980/7365 [3:25:01<2:16:32,  2.42s/it]"
     ]
    },
    {
     "name": "stdout",
     "output_type": "stream",
     "text": [
      "Couldn't download data for Michael Mittermeier\n",
      "'query'\n"
     ]
    },
    {
     "name": "stderr",
     "output_type": "stream",
     "text": [
      " 55%|████████████████████████████████████████▍                                 | 4025/7365 [3:27:28<2:18:45,  2.49s/it]"
     ]
    },
    {
     "name": "stdout",
     "output_type": "stream",
     "text": [
      "Couldn't download data for Mick Hucknall\n",
      "'query'\n"
     ]
    },
    {
     "name": "stderr",
     "output_type": "stream",
     "text": [
      " 55%|████████████████████████████████████████▋                                 | 4046/7365 [3:28:27<2:20:16,  2.54s/it]"
     ]
    },
    {
     "name": "stdout",
     "output_type": "stream",
     "text": [
      "Couldn't download data for Mike Portnoy\n",
      "'query'\n"
     ]
    },
    {
     "name": "stderr",
     "output_type": "stream",
     "text": [
      " 55%|████████████████████████████████████████▊                                 | 4068/7365 [3:29:30<2:23:24,  2.61s/it]"
     ]
    },
    {
     "name": "stdout",
     "output_type": "stream",
     "text": [
      "Couldn't download data for Mina Tander\n",
      "'query'\n"
     ]
    },
    {
     "name": "stderr",
     "output_type": "stream",
     "text": [
      " 55%|█████████████████████████████████████████                                 | 4083/7365 [3:30:13<2:13:25,  2.44s/it]"
     ]
    },
    {
     "name": "stdout",
     "output_type": "stream",
     "text": [
      "Couldn't download data for Miriam Pielhau\n",
      "'query'\n"
     ]
    },
    {
     "name": "stderr",
     "output_type": "stream",
     "text": [
      " 56%|█████████████████████████████████████████▏                                | 4100/7365 [3:31:02<2:06:41,  2.33s/it]"
     ]
    },
    {
     "name": "stdout",
     "output_type": "stream",
     "text": [
      "Birth date not available\n",
      "Gender not available\n",
      "Citizenship not available\n"
     ]
    },
    {
     "name": "stderr",
     "output_type": "stream",
     "text": [
      " 56%|█████████████████████████████████████████▎                                | 4109/7365 [3:31:25<2:06:52,  2.34s/it]"
     ]
    },
    {
     "name": "stdout",
     "output_type": "stream",
     "text": [
      "Birth date not available\n",
      "Gender not available\n",
      "Citizenship not available\n"
     ]
    },
    {
     "name": "stderr",
     "output_type": "stream",
     "text": [
      " 56%|█████████████████████████████████████████▍                                | 4124/7365 [3:32:05<2:06:03,  2.33s/it]"
     ]
    },
    {
     "name": "stdout",
     "output_type": "stream",
     "text": [
      "Couldn't download data for Monica Ivancan\n",
      "'query'\n"
     ]
    },
    {
     "name": "stderr",
     "output_type": "stream",
     "text": [
      " 56%|█████████████████████████████████████████▍                                | 4128/7365 [3:32:16<2:08:35,  2.38s/it]"
     ]
    },
    {
     "name": "stdout",
     "output_type": "stream",
     "text": [
      "Couldn't download data for Monifah\n",
      "'query'\n"
     ]
    },
    {
     "name": "stderr",
     "output_type": "stream",
     "text": [
      " 56%|█████████████████████████████████████████▍                                | 4130/7365 [3:32:21<2:02:06,  2.26s/it]"
     ]
    },
    {
     "name": "stdout",
     "output_type": "stream",
     "text": [
      "Couldn't download data for Montego Glover\n",
      "'query'\n"
     ]
    },
    {
     "name": "stderr",
     "output_type": "stream",
     "text": [
      " 56%|█████████████████████████████████████████▌                                | 4135/7365 [3:32:34<2:10:23,  2.42s/it]"
     ]
    },
    {
     "name": "stdout",
     "output_type": "stream",
     "text": [
      "Citizenship not available\n"
     ]
    },
    {
     "name": "stderr",
     "output_type": "stream",
     "text": [
      "\r",
      " 56%|█████████████████████████████████████████▌                                | 4136/7365 [3:32:36<1:52:57,  2.10s/it]"
     ]
    },
    {
     "name": "stdout",
     "output_type": "stream",
     "text": [
      "Couldn't download data for Moria Casán\n",
      "'query'\n"
     ]
    },
    {
     "name": "stderr",
     "output_type": "stream",
     "text": [
      " 56%|█████████████████████████████████████████▋                                | 4145/7365 [3:33:01<2:21:00,  2.63s/it]"
     ]
    },
    {
     "name": "stdout",
     "output_type": "stream",
     "text": [
      "Citizenship not available\n"
     ]
    },
    {
     "name": "stderr",
     "output_type": "stream",
     "text": [
      " 58%|██████████████████████████████████████████▊                               | 4260/7365 [3:38:44<2:03:48,  2.39s/it]"
     ]
    },
    {
     "name": "stdout",
     "output_type": "stream",
     "text": [
      "Couldn't download data for Nazia Iqbal\n",
      "'query'\n"
     ]
    },
    {
     "name": "stderr",
     "output_type": "stream",
     "text": [
      " 58%|███████████████████████████████████████████▏                              | 4295/7365 [3:40:33<2:08:27,  2.51s/it]"
     ]
    },
    {
     "name": "stdout",
     "output_type": "stream",
     "text": [
      "Couldn't download data for Nick Hexum\n",
      "'query'\n"
     ]
    },
    {
     "name": "stderr",
     "output_type": "stream",
     "text": [
      " 58%|███████████████████████████████████████████▏                              | 4300/7365 [3:40:51<2:41:42,  3.17s/it]"
     ]
    },
    {
     "name": "stdout",
     "output_type": "stream",
     "text": [
      "Birth date not available\n",
      "Gender not available\n",
      "Citizenship not available\n"
     ]
    },
    {
     "name": "stderr",
     "output_type": "stream",
     "text": [
      " 59%|███████████████████████████████████████████▎                              | 4316/7365 [3:41:41<2:16:42,  2.69s/it]"
     ]
    },
    {
     "name": "stdout",
     "output_type": "stream",
     "text": [
      "Couldn't download data for Nicola Sirkis\n",
      "'query'\n"
     ]
    },
    {
     "name": "stderr",
     "output_type": "stream",
     "text": [
      " 59%|███████████████████████████████████████████▍                              | 4319/7365 [3:41:48<2:00:13,  2.37s/it]"
     ]
    },
    {
     "name": "stdout",
     "output_type": "stream",
     "text": [
      "Birth date not available\n",
      "Gender not available\n",
      "Citizenship not available\n"
     ]
    },
    {
     "name": "stderr",
     "output_type": "stream",
     "text": [
      " 59%|███████████████████████████████████████████▍                              | 4327/7365 [3:42:13<2:28:07,  2.93s/it]"
     ]
    },
    {
     "name": "stdout",
     "output_type": "stream",
     "text": [
      "Couldn't download data for Nicoletta Mantovani\n",
      "'query'\n"
     ]
    },
    {
     "name": "stderr",
     "output_type": "stream",
     "text": [
      " 59%|███████████████████████████████████████████▌                              | 4336/7365 [3:42:42<2:34:16,  3.06s/it]"
     ]
    },
    {
     "name": "stdout",
     "output_type": "stream",
     "text": [
      "Birth date not available\n",
      "Gender not available\n",
      "Citizenship not available\n"
     ]
    },
    {
     "name": "stderr",
     "output_type": "stream",
     "text": [
      " 59%|███████████████████████████████████████████▊                              | 4355/7365 [3:43:40<2:07:39,  2.54s/it]"
     ]
    },
    {
     "name": "stdout",
     "output_type": "stream",
     "text": [
      "Couldn't download data for Nina Watson\n",
      "'query'\n"
     ]
    },
    {
     "name": "stderr",
     "output_type": "stream",
     "text": [
      " 59%|███████████████████████████████████████████▊                              | 4366/7365 [3:44:15<2:17:15,  2.75s/it]"
     ]
    },
    {
     "name": "stdout",
     "output_type": "stream",
     "text": [
      "Birth date not available\n",
      "Gender not available\n",
      "Citizenship not available\n",
      "Birth date not available\n"
     ]
    },
    {
     "name": "stderr",
     "output_type": "stream",
     "text": [
      " 59%|████████████████████████████████████████████                              | 4381/7365 [3:45:03<2:19:05,  2.80s/it]"
     ]
    },
    {
     "name": "stdout",
     "output_type": "stream",
     "text": [
      "Birth date not available\n",
      "Gender not available\n",
      "Citizenship not available\n"
     ]
    },
    {
     "name": "stderr",
     "output_type": "stream",
     "text": [
      " 60%|████████████████████████████████████████████▎                             | 4408/7365 [3:46:43<2:18:57,  2.82s/it]"
     ]
    },
    {
     "name": "stdout",
     "output_type": "stream",
     "text": [
      "Birth date not available\n",
      "Gender not available\n",
      "Citizenship not available\n"
     ]
    },
    {
     "name": "stderr",
     "output_type": "stream",
     "text": [
      " 60%|████████████████████████████████████████████▍                             | 4420/7365 [3:47:18<2:04:33,  2.54s/it]"
     ]
    },
    {
     "name": "stdout",
     "output_type": "stream",
     "text": [
      "Couldn't download data for Ottfried Fischer\n",
      "'query'\n"
     ]
    },
    {
     "name": "stderr",
     "output_type": "stream",
     "text": [
      " 60%|████████████████████████████████████████████▋                             | 4443/7365 [3:48:36<2:17:25,  2.82s/it]"
     ]
    },
    {
     "name": "stdout",
     "output_type": "stream",
     "text": [
      "Birth date not available\n",
      "Gender not available\n",
      "Citizenship not available\n"
     ]
    },
    {
     "name": "stderr",
     "output_type": "stream",
     "text": [
      " 61%|████████████████████████████████████████████▉                             | 4469/7365 [3:50:00<2:33:16,  3.18s/it]"
     ]
    },
    {
     "name": "stdout",
     "output_type": "stream",
     "text": [
      "Couldn't download data for Patrice Bouédibéla\n",
      "'query'\n"
     ]
    },
    {
     "name": "stderr",
     "output_type": "stream",
     "text": [
      " 61%|████████████████████████████████████████████▉                             | 4474/7365 [3:50:25<3:50:20,  4.78s/it]"
     ]
    },
    {
     "name": "stdout",
     "output_type": "stream",
     "text": [
      "Couldn't download data for Patrick Harris\n",
      "'query'\n"
     ]
    },
    {
     "name": "stderr",
     "output_type": "stream",
     "text": [
      " 61%|████████████████████████████████████████████▉                             | 4477/7365 [3:50:37<3:02:41,  3.80s/it]"
     ]
    },
    {
     "name": "stdout",
     "output_type": "stream",
     "text": [
      "Couldn't download data for Patrick Lindner\n",
      "'query'\n"
     ]
    },
    {
     "name": "stderr",
     "output_type": "stream",
     "text": [
      " 61%|█████████████████████████████████████████████                             | 4487/7365 [3:51:10<2:22:53,  2.98s/it]"
     ]
    },
    {
     "name": "stdout",
     "output_type": "stream",
     "text": [
      "Birth date not available\n",
      "Gender not available\n",
      "Citizenship not available\n"
     ]
    },
    {
     "name": "stderr",
     "output_type": "stream",
     "text": [
      " 61%|█████████████████████████████████████████████▏                            | 4493/7365 [3:51:29<2:19:11,  2.91s/it]"
     ]
    },
    {
     "name": "stdout",
     "output_type": "stream",
     "text": [
      "Couldn't download data for Paul DiGiovanni\n",
      "'query'\n"
     ]
    },
    {
     "name": "stderr",
     "output_type": "stream",
     "text": [
      " 61%|█████████████████████████████████████████████▎                            | 4505/7365 [3:52:11<2:32:33,  3.20s/it]"
     ]
    },
    {
     "name": "stdout",
     "output_type": "stream",
     "text": [
      "Couldn't download data for Paul Panzer\n",
      "'query'\n"
     ]
    },
    {
     "name": "stderr",
     "output_type": "stream",
     "text": [
      "\r",
      " 61%|█████████████████████████████████████████████▎                            | 4506/7365 [3:52:12<2:03:55,  2.60s/it]"
     ]
    },
    {
     "name": "stdout",
     "output_type": "stream",
     "text": [
      "Birth date not available\n",
      "Gender not available\n",
      "Citizenship not available\n"
     ]
    },
    {
     "name": "stderr",
     "output_type": "stream",
     "text": [
      " 61%|█████████████████████████████████████████████▎                            | 4508/7365 [3:52:18<2:10:07,  2.73s/it]"
     ]
    },
    {
     "name": "stdout",
     "output_type": "stream",
     "text": [
      "Birth date not available\n",
      "Gender not available\n",
      "Citizenship not available\n"
     ]
    },
    {
     "name": "stderr",
     "output_type": "stream",
     "text": [
      " 61%|█████████████████████████████████████████████▍                            | 4521/7365 [3:53:04<2:24:57,  3.06s/it]"
     ]
    },
    {
     "name": "stdout",
     "output_type": "stream",
     "text": [
      "Birth date not available\n",
      "Gender not available\n",
      "Citizenship not available\n"
     ]
    },
    {
     "name": "stderr",
     "output_type": "stream",
     "text": [
      " 61%|█████████████████████████████████████████████▍                            | 4525/7365 [3:53:16<2:12:42,  2.80s/it]"
     ]
    },
    {
     "name": "stdout",
     "output_type": "stream",
     "text": [
      "Couldn't download data for Pauline Nordin\n",
      "'query'\n"
     ]
    },
    {
     "name": "stderr",
     "output_type": "stream",
     "text": [
      " 62%|█████████████████████████████████████████████▌                            | 4537/7365 [3:53:55<2:03:54,  2.63s/it]"
     ]
    },
    {
     "name": "stdout",
     "output_type": "stream",
     "text": [
      "Birth date not available\n",
      "Gender not available\n",
      "Citizenship not available\n"
     ]
    },
    {
     "name": "stderr",
     "output_type": "stream",
     "text": [
      " 62%|█████████████████████████████████████████████▊                            | 4556/7365 [3:55:10<2:27:22,  3.15s/it]"
     ]
    },
    {
     "name": "stdout",
     "output_type": "stream",
     "text": [
      "Birth date not available\n",
      "Gender not available\n",
      "Citizenship not available\n"
     ]
    },
    {
     "name": "stderr",
     "output_type": "stream",
     "text": [
      " 62%|█████████████████████████████████████████████▉                            | 4575/7365 [3:56:18<2:22:49,  3.07s/it]"
     ]
    },
    {
     "name": "stdout",
     "output_type": "stream",
     "text": [
      "Birth date not available\n",
      "Gender not available\n",
      "Citizenship not available\n"
     ]
    },
    {
     "name": "stderr",
     "output_type": "stream",
     "text": [
      " 62%|██████████████████████████████████████████████                            | 4579/7365 [3:56:30<2:06:10,  2.72s/it]"
     ]
    },
    {
     "name": "stdout",
     "output_type": "stream",
     "text": [
      "Birth date not available\n",
      "Gender not available\n",
      "Citizenship not available\n"
     ]
    },
    {
     "name": "stderr",
     "output_type": "stream",
     "text": [
      " 63%|██████████████████████████████████████████████▎                           | 4604/7365 [3:57:54<2:16:40,  2.97s/it]"
     ]
    },
    {
     "name": "stdout",
     "output_type": "stream",
     "text": [
      "Couldn't download data for Philippe Caroit\n",
      "'query'\n"
     ]
    },
    {
     "name": "stderr",
     "output_type": "stream",
     "text": [
      " 63%|██████████████████████████████████████████████▍                           | 4616/7365 [3:58:31<2:02:53,  2.68s/it]"
     ]
    },
    {
     "name": "stdout",
     "output_type": "stream",
     "text": [
      "Couldn't download data for Pia Douwes\n",
      "'query'\n"
     ]
    },
    {
     "name": "stderr",
     "output_type": "stream",
     "text": [
      "\r",
      " 63%|██████████████████████████████████████████████▍                           | 4617/7365 [3:58:34<2:08:23,  2.80s/it]"
     ]
    },
    {
     "name": "stdout",
     "output_type": "stream",
     "text": [
      "Birth date not available\n"
     ]
    },
    {
     "name": "stderr",
     "output_type": "stream",
     "text": [
      " 63%|██████████████████████████████████████████████▌                           | 4629/7365 [3:59:10<1:45:55,  2.32s/it]"
     ]
    },
    {
     "name": "stdout",
     "output_type": "stream",
     "text": [
      "Couldn't download data for Pip Pellens\n",
      "'query'\n"
     ]
    },
    {
     "name": "stderr",
     "output_type": "stream",
     "text": [
      " 63%|██████████████████████████████████████████████▌                           | 4635/7365 [3:59:27<1:55:52,  2.55s/it]"
     ]
    },
    {
     "name": "stdout",
     "output_type": "stream",
     "text": [
      "Couldn't download data for Polo Hofer\n",
      "'query'\n"
     ]
    },
    {
     "name": "stderr",
     "output_type": "stream",
     "text": [
      " 63%|██████████████████████████████████████████████▋                           | 4646/7365 [3:59:59<2:00:37,  2.66s/it]"
     ]
    },
    {
     "name": "stdout",
     "output_type": "stream",
     "text": [
      "Birth date not available\n",
      "Gender not available\n",
      "Citizenship not available\n"
     ]
    },
    {
     "name": "stderr",
     "output_type": "stream",
     "text": [
      " 63%|██████████████████████████████████████████████▋                           | 4651/7365 [4:00:13<1:48:11,  2.39s/it]"
     ]
    },
    {
     "name": "stdout",
     "output_type": "stream",
     "text": [
      "Couldn't download data for Prahladananda Swami\n",
      "'query'\n"
     ]
    },
    {
     "name": "stderr",
     "output_type": "stream",
     "text": [
      " 63%|██████████████████████████████████████████████▊                           | 4663/7365 [4:00:49<1:59:16,  2.65s/it]"
     ]
    },
    {
     "name": "stdout",
     "output_type": "stream",
     "text": [
      "Birth date not available\n",
      "Gender not available\n",
      "Citizenship not available\n"
     ]
    },
    {
     "name": "stderr",
     "output_type": "stream",
     "text": [
      " 63%|██████████████████████████████████████████████▉                           | 4674/7365 [4:01:22<1:58:46,  2.65s/it]"
     ]
    },
    {
     "name": "stdout",
     "output_type": "stream",
     "text": [
      "Couldn't download data for Quang Linh\n",
      "'query'\n"
     ]
    },
    {
     "name": "stderr",
     "output_type": "stream",
     "text": [
      " 64%|███████████████████████████████████████████████                           | 4682/7365 [4:01:47<1:56:35,  2.61s/it]"
     ]
    },
    {
     "name": "stdout",
     "output_type": "stream",
     "text": [
      "Couldn't download data for Quirin Berg\n",
      "'query'\n"
     ]
    },
    {
     "name": "stderr",
     "output_type": "stream",
     "text": [
      " 64%|███████████████████████████████████████████████                           | 4686/7365 [4:01:59<2:05:47,  2.82s/it]"
     ]
    },
    {
     "name": "stdout",
     "output_type": "stream",
     "text": [
      "Birth date not available\n",
      "Gender not available\n",
      "Citizenship not available\n"
     ]
    },
    {
     "name": "stderr",
     "output_type": "stream",
     "text": [
      " 64%|███████████████████████████████████████████████▏                          | 4701/7365 [4:02:47<1:59:39,  2.70s/it]"
     ]
    },
    {
     "name": "stdout",
     "output_type": "stream",
     "text": [
      "Couldn't download data for Rachid Taha\n",
      "'query'\n"
     ]
    },
    {
     "name": "stderr",
     "output_type": "stream",
     "text": [
      " 64%|███████████████████████████████████████████████▍                          | 4725/7365 [4:03:59<1:57:55,  2.68s/it]"
     ]
    },
    {
     "name": "stdout",
     "output_type": "stream",
     "text": [
      "Couldn't download data for Raina Hein\n",
      "'query'\n"
     ]
    },
    {
     "name": "stderr",
     "output_type": "stream",
     "text": [
      " 64%|███████████████████████████████████████████████▋                          | 4744/7365 [4:04:59<2:09:20,  2.96s/it]"
     ]
    },
    {
     "name": "stdout",
     "output_type": "stream",
     "text": [
      "Citizenship not available\n"
     ]
    },
    {
     "name": "stderr",
     "output_type": "stream",
     "text": [
      " 65%|███████████████████████████████████████████████▊                          | 4763/7365 [4:05:57<1:59:01,  2.74s/it]"
     ]
    },
    {
     "name": "stdout",
     "output_type": "stream",
     "text": [
      "Couldn't download data for Ranga Yogeshwar\n",
      "'query'\n"
     ]
    },
    {
     "name": "stderr",
     "output_type": "stream",
     "text": [
      " 65%|████████████████████████████████████████████████▎                         | 4804/7365 [4:09:01<3:08:13,  4.41s/it]"
     ]
    },
    {
     "name": "stdout",
     "output_type": "stream",
     "text": [
      "Birth date not available\n",
      "Gender not available\n",
      "Citizenship not available\n"
     ]
    },
    {
     "name": "stderr",
     "output_type": "stream",
     "text": [
      " 65%|████████████████████████████████████████████████▎                         | 4812/7365 [4:09:24<1:47:27,  2.53s/it]"
     ]
    },
    {
     "name": "stdout",
     "output_type": "stream",
     "text": [
      "Couldn't download data for Renaud Capuçon\n",
      "'query'\n"
     ]
    },
    {
     "name": "stderr",
     "output_type": "stream",
     "text": [
      " 66%|████████████████████████████████████████████████▊                         | 4853/7365 [4:12:01<2:29:35,  3.57s/it]"
     ]
    },
    {
     "name": "stdout",
     "output_type": "stream",
     "text": [
      "Couldn't download data for Rick Rose\n",
      "'query'\n"
     ]
    },
    {
     "name": "stderr",
     "output_type": "stream",
     "text": [
      " 66%|████████████████████████████████████████████████▊                         | 4855/7365 [4:12:07<2:10:39,  3.12s/it]"
     ]
    },
    {
     "name": "stdout",
     "output_type": "stream",
     "text": [
      "Couldn't download data for Rickey Medlocke\n",
      "'query'\n"
     ]
    },
    {
     "name": "stderr",
     "output_type": "stream",
     "text": [
      " 66%|████████████████████████████████████████████████▊                         | 4859/7365 [4:12:21<2:16:41,  3.27s/it]"
     ]
    },
    {
     "name": "stdout",
     "output_type": "stream",
     "text": [
      "Birth date not available\n",
      "Gender not available\n",
      "Citizenship not available\n"
     ]
    },
    {
     "name": "stderr",
     "output_type": "stream",
     "text": [
      " 66%|████████████████████████████████████████████████▉                         | 4874/7365 [4:13:11<2:13:51,  3.22s/it]"
     ]
    },
    {
     "name": "stdout",
     "output_type": "stream",
     "text": [
      "Couldn't download data for River Viiperi\n",
      "'query'\n"
     ]
    },
    {
     "name": "stderr",
     "output_type": "stream",
     "text": [
      " 67%|█████████████████████████████████████████████████▎                        | 4912/7365 [4:15:32<2:22:23,  3.48s/it]"
     ]
    },
    {
     "name": "stdout",
     "output_type": "stream",
     "text": [
      "Couldn't download data for Roberto Alagna\n",
      "'query'\n"
     ]
    },
    {
     "name": "stderr",
     "output_type": "stream",
     "text": [
      " 67%|█████████████████████████████████████████████████▍                        | 4925/7365 [4:16:23<2:53:03,  4.26s/it]"
     ]
    },
    {
     "name": "stdout",
     "output_type": "stream",
     "text": [
      "Birth date not available\n",
      "Gender not available\n",
      "Citizenship not available\n"
     ]
    },
    {
     "name": "stderr",
     "output_type": "stream",
     "text": [
      " 67%|█████████████████████████████████████████████████▌                        | 4934/7365 [4:16:55<1:59:31,  2.95s/it]"
     ]
    },
    {
     "name": "stdout",
     "output_type": "stream",
     "text": [
      "Birth date not available\n",
      "Gender not available\n",
      "Citizenship not available\n"
     ]
    },
    {
     "name": "stderr",
     "output_type": "stream",
     "text": [
      " 68%|██████████████████████████████████████████████████                        | 4977/7365 [4:19:09<1:44:51,  2.63s/it]"
     ]
    },
    {
     "name": "stdout",
     "output_type": "stream",
     "text": [
      "Couldn't download data for Ronan OGara\n",
      "'query'\n"
     ]
    },
    {
     "name": "stderr",
     "output_type": "stream",
     "text": [
      " 68%|██████████████████████████████████████████████████                        | 4982/7365 [4:19:24<1:47:04,  2.70s/it]"
     ]
    },
    {
     "name": "stdout",
     "output_type": "stream",
     "text": [
      "Couldn't download data for Ronnie OSullivan\n",
      "'query'\n"
     ]
    },
    {
     "name": "stderr",
     "output_type": "stream",
     "text": [
      " 68%|██████████████████████████████████████████████████▏                       | 4992/7365 [4:19:54<1:47:39,  2.72s/it]"
     ]
    },
    {
     "name": "stdout",
     "output_type": "stream",
     "text": [
      "Citizenship not available\n"
     ]
    },
    {
     "name": "stderr",
     "output_type": "stream",
     "text": [
      "\r",
      " 68%|██████████████████████████████████████████████████▏                       | 4993/7365 [4:19:56<1:35:28,  2.42s/it]"
     ]
    },
    {
     "name": "stdout",
     "output_type": "stream",
     "text": [
      "Birth date not available\n",
      "Gender not available\n",
      "Citizenship not available\n"
     ]
    },
    {
     "name": "stderr",
     "output_type": "stream",
     "text": [
      " 68%|██████████████████████████████████████████████████▏                       | 4998/7365 [4:20:12<1:58:55,  3.01s/it]"
     ]
    },
    {
     "name": "stdout",
     "output_type": "stream",
     "text": [
      "Gender not available\n"
     ]
    },
    {
     "name": "stderr",
     "output_type": "stream",
     "text": [
      " 68%|██████████████████████████████████████████████████▎                       | 5009/7365 [4:20:46<1:54:43,  2.92s/it]"
     ]
    },
    {
     "name": "stdout",
     "output_type": "stream",
     "text": [
      "Couldn't download data for Ross Antony\n",
      "'query'\n"
     ]
    },
    {
     "name": "stderr",
     "output_type": "stream",
     "text": [
      " 68%|██████████████████████████████████████████████████▎                       | 5011/7365 [4:20:52<1:52:07,  2.86s/it]"
     ]
    },
    {
     "name": "stdout",
     "output_type": "stream",
     "text": [
      "Birth date not available\n",
      "Gender not available\n",
      "Citizenship not available\n"
     ]
    },
    {
     "name": "stderr",
     "output_type": "stream",
     "text": [
      " 68%|██████████████████████████████████████████████████▍                       | 5014/7365 [4:21:00<1:45:08,  2.68s/it]"
     ]
    },
    {
     "name": "stdout",
     "output_type": "stream",
     "text": [
      "Couldn't download data for Rouwaida Attieh\n",
      "'query'\n"
     ]
    },
    {
     "name": "stderr",
     "output_type": "stream",
     "text": [
      " 68%|██████████████████████████████████████████████████▍                       | 5019/7365 [4:21:15<1:47:24,  2.75s/it]"
     ]
    },
    {
     "name": "stdout",
     "output_type": "stream",
     "text": [
      "Birth date not available\n",
      "Gender not available\n",
      "Citizenship not available\n"
     ]
    },
    {
     "name": "stderr",
     "output_type": "stream",
     "text": [
      " 68%|██████████████████████████████████████████████████▌                       | 5028/7365 [4:21:40<1:36:48,  2.49s/it]"
     ]
    },
    {
     "name": "stdout",
     "output_type": "stream",
     "text": [
      "Couldn't download data for Ruby Wax\n",
      "'query'\n"
     ]
    },
    {
     "name": "stderr",
     "output_type": "stream",
     "text": [
      " 68%|██████████████████████████████████████████████████▌                       | 5030/7365 [4:21:45<1:34:17,  2.42s/it]"
     ]
    },
    {
     "name": "stdout",
     "output_type": "stream",
     "text": [
      "Birth date not available\n",
      "Gender not available\n",
      "Citizenship not available\n"
     ]
    },
    {
     "name": "stderr",
     "output_type": "stream",
     "text": [
      " 68%|██████████████████████████████████████████████████▌                       | 5033/7365 [4:21:53<1:33:21,  2.40s/it]"
     ]
    },
    {
     "name": "stdout",
     "output_type": "stream",
     "text": [
      "Couldn't download data for Runa Laila\n",
      "'query'\n"
     ]
    },
    {
     "name": "stderr",
     "output_type": "stream",
     "text": [
      " 69%|██████████████████████████████████████████████████▋                       | 5050/7365 [4:22:47<1:44:32,  2.71s/it]"
     ]
    },
    {
     "name": "stdout",
     "output_type": "stream",
     "text": [
      "Couldn't download data for Ryan Cabrera\n",
      "'query'\n"
     ]
    },
    {
     "name": "stderr",
     "output_type": "stream",
     "text": [
      " 69%|██████████████████████████████████████████████████▉                       | 5064/7365 [4:23:32<1:45:10,  2.74s/it]"
     ]
    },
    {
     "name": "stdout",
     "output_type": "stream",
     "text": [
      "Birth date not available\n",
      "Gender not available\n",
      "Citizenship not available\n"
     ]
    },
    {
     "name": "stderr",
     "output_type": "stream",
     "text": [
      " 69%|██████████████████████████████████████████████████▉                       | 5066/7365 [4:23:37<1:37:03,  2.53s/it]"
     ]
    },
    {
     "name": "stdout",
     "output_type": "stream",
     "text": [
      "Couldn't download data for Róisín Murphy\n",
      "'query'\n"
     ]
    },
    {
     "name": "stderr",
     "output_type": "stream",
     "text": [
      " 69%|██████████████████████████████████████████████████▉                       | 5071/7365 [4:23:52<1:37:13,  2.54s/it]"
     ]
    },
    {
     "name": "stdout",
     "output_type": "stream",
     "text": [
      "Couldn't download data for Sabina Classen\n",
      "'query'\n"
     ]
    },
    {
     "name": "stderr",
     "output_type": "stream",
     "text": [
      " 69%|███████████████████████████████████████████████████                       | 5084/7365 [4:24:32<1:34:48,  2.49s/it]"
     ]
    },
    {
     "name": "stdout",
     "output_type": "stream",
     "text": [
      "Couldn't download data for Sai Tamhankar\n",
      "'query'\n"
     ]
    },
    {
     "name": "stderr",
     "output_type": "stream",
     "text": [
      "\r",
      " 69%|███████████████████████████████████████████████████                       | 5085/7365 [4:24:34<1:22:30,  2.17s/it]"
     ]
    },
    {
     "name": "stdout",
     "output_type": "stream",
     "text": [
      "Couldn't download data for Saige Ryan Campbell\n",
      "'query'\n"
     ]
    },
    {
     "name": "stderr",
     "output_type": "stream",
     "text": [
      " 69%|███████████████████████████████████████████████████▏                      | 5090/7365 [4:24:48<1:40:39,  2.65s/it]"
     ]
    },
    {
     "name": "stdout",
     "output_type": "stream",
     "text": [
      "Citizenship not available\n"
     ]
    },
    {
     "name": "stderr",
     "output_type": "stream",
     "text": [
      " 69%|███████████████████████████████████████████████████▎                      | 5111/7365 [4:25:51<1:33:31,  2.49s/it]"
     ]
    },
    {
     "name": "stdout",
     "output_type": "stream",
     "text": [
      "Couldn't download data for Samantha Droke\n",
      "'query'\n"
     ]
    },
    {
     "name": "stderr",
     "output_type": "stream",
     "text": [
      " 70%|███████████████████████████████████████████████████▌                      | 5131/7365 [4:26:53<1:34:42,  2.54s/it]"
     ]
    },
    {
     "name": "stdout",
     "output_type": "stream",
     "text": [
      "Couldn't download data for Samuel Etoo\n",
      "'query'\n"
     ]
    },
    {
     "name": "stderr",
     "output_type": "stream",
     "text": [
      " 71%|████████████████████████████████████████████████████▏                     | 5200/7365 [4:30:20<1:35:17,  2.64s/it]"
     ]
    },
    {
     "name": "stdout",
     "output_type": "stream",
     "text": [
      "Citizenship not available\n"
     ]
    },
    {
     "name": "stderr",
     "output_type": "stream",
     "text": [
      " 71%|████████████████████████████████████████████████████▎                     | 5203/7365 [4:30:27<1:27:57,  2.44s/it]"
     ]
    },
    {
     "name": "stdout",
     "output_type": "stream",
     "text": [
      "Couldn't download data for Sebastian Karpiel-Bułecka\n",
      "'query'\n"
     ]
    },
    {
     "name": "stderr",
     "output_type": "stream",
     "text": [
      " 71%|████████████████████████████████████████████████████▌                     | 5226/7365 [4:31:29<1:22:41,  2.32s/it]"
     ]
    },
    {
     "name": "stdout",
     "output_type": "stream",
     "text": [
      "Couldn't download data for Serena Autieri\n",
      "'query'\n"
     ]
    },
    {
     "name": "stderr",
     "output_type": "stream",
     "text": [
      " 71%|████████████████████████████████████████████████████▌                     | 5229/7365 [4:31:35<1:13:28,  2.06s/it]"
     ]
    },
    {
     "name": "stdout",
     "output_type": "stream",
     "text": [
      "Couldn't download data for Serge Lama\n",
      "'query'\n"
     ]
    },
    {
     "name": "stderr",
     "output_type": "stream",
     "text": [
      " 71%|████████████████████████████████████████████████████▌                     | 5236/7365 [4:31:51<1:15:08,  2.12s/it]"
     ]
    },
    {
     "name": "stdout",
     "output_type": "stream",
     "text": [
      "Couldn't download data for Seun Kuti\n",
      "'query'\n"
     ]
    },
    {
     "name": "stderr",
     "output_type": "stream",
     "text": [
      " 71%|████████████████████████████████████████████████████▋                     | 5245/7365 [4:32:14<1:20:36,  2.28s/it]"
     ]
    },
    {
     "name": "stdout",
     "output_type": "stream",
     "text": [
      "Couldn't download data for Shami Chakrabarti\n",
      "'query'\n"
     ]
    },
    {
     "name": "stderr",
     "output_type": "stream",
     "text": [
      " 71%|████████████████████████████████████████████████████▊                     | 5257/7365 [4:32:44<1:18:16,  2.23s/it]"
     ]
    },
    {
     "name": "stdout",
     "output_type": "stream",
     "text": [
      "Birth date not available\n",
      "Gender not available\n",
      "Citizenship not available\n"
     ]
    },
    {
     "name": "stderr",
     "output_type": "stream",
     "text": [
      " 72%|████████████████████████████████████████████████████▉                     | 5272/7365 [4:33:23<1:17:09,  2.21s/it]"
     ]
    },
    {
     "name": "stdout",
     "output_type": "stream",
     "text": [
      "Citizenship not available\n"
     ]
    },
    {
     "name": "stderr",
     "output_type": "stream",
     "text": [
      " 72%|█████████████████████████████████████████████████████▏                    | 5298/7365 [4:34:35<1:33:12,  2.71s/it]"
     ]
    },
    {
     "name": "stdout",
     "output_type": "stream",
     "text": [
      "Couldn't download data for Shiamak Davar\n",
      "'query'\n"
     ]
    },
    {
     "name": "stderr",
     "output_type": "stream",
     "text": [
      " 72%|█████████████████████████████████████████████████████▎                    | 5304/7365 [4:34:50<1:21:17,  2.37s/it]"
     ]
    },
    {
     "name": "stdout",
     "output_type": "stream",
     "text": [
      "Couldn't download data for Shimon Moore\n",
      "'query'\n"
     ]
    },
    {
     "name": "stderr",
     "output_type": "stream",
     "text": [
      " 72%|█████████████████████████████████████████████████████▌                    | 5337/7365 [4:36:28<1:22:53,  2.45s/it]"
     ]
    },
    {
     "name": "stdout",
     "output_type": "stream",
     "text": [
      "Couldn't download data for Simone Cristicchi\n",
      "'query'\n"
     ]
    },
    {
     "name": "stderr",
     "output_type": "stream",
     "text": [
      " 73%|█████████████████████████████████████████████████████▋                    | 5340/7365 [4:36:35<1:16:13,  2.26s/it]"
     ]
    },
    {
     "name": "stdout",
     "output_type": "stream",
     "text": [
      "Citizenship not available\n"
     ]
    },
    {
     "name": "stderr",
     "output_type": "stream",
     "text": [
      " 73%|█████████████████████████████████████████████████████▋                    | 5342/7365 [4:36:40<1:19:10,  2.35s/it]"
     ]
    },
    {
     "name": "stdout",
     "output_type": "stream",
     "text": [
      "Birth date not available\n",
      "Gender not available\n",
      "Citizenship not available\n"
     ]
    },
    {
     "name": "stderr",
     "output_type": "stream",
     "text": [
      " 73%|█████████████████████████████████████████████████████▊                    | 5350/7365 [4:37:03<1:25:49,  2.56s/it]"
     ]
    },
    {
     "name": "stdout",
     "output_type": "stream",
     "text": [
      "Couldn't download data for Smita Shewale\n",
      "'query'\n"
     ]
    },
    {
     "name": "stderr",
     "output_type": "stream",
     "text": [
      " 73%|█████████████████████████████████████████████████████▊                    | 5358/7365 [4:37:25<1:27:34,  2.62s/it]"
     ]
    },
    {
     "name": "stdout",
     "output_type": "stream",
     "text": [
      "Citizenship not available\n"
     ]
    },
    {
     "name": "stderr",
     "output_type": "stream",
     "text": [
      " 73%|█████████████████████████████████████████████████████▊                    | 5362/7365 [4:37:34<1:17:19,  2.32s/it]"
     ]
    },
    {
     "name": "stdout",
     "output_type": "stream",
     "text": [
      "Couldn't download data for Soledad OBrien\n",
      "'query'\n"
     ]
    },
    {
     "name": "stderr",
     "output_type": "stream",
     "text": [
      " 73%|██████████████████████████████████████████████████████▎                   | 5408/7365 [4:40:12<2:27:43,  4.53s/it]"
     ]
    },
    {
     "name": "stdout",
     "output_type": "stream",
     "text": [
      "Couldn't download data for Stefanie Heinzmann\n",
      "'query'\n"
     ]
    },
    {
     "name": "stderr",
     "output_type": "stream",
     "text": [
      " 73%|██████████████████████████████████████████████████████▍                   | 5413/7365 [4:40:33<2:10:38,  4.02s/it]"
     ]
    },
    {
     "name": "stdout",
     "output_type": "stream",
     "text": [
      "Couldn't download data for Steffen Groth\n",
      "'query'\n"
     ]
    },
    {
     "name": "stderr",
     "output_type": "stream",
     "text": [
      " 74%|██████████████████████████████████████████████████████▍                   | 5417/7365 [4:40:53<2:20:14,  4.32s/it]"
     ]
    },
    {
     "name": "stdout",
     "output_type": "stream",
     "text": [
      "Couldn't download data for Stella Hudgens\n",
      "'query'\n"
     ]
    },
    {
     "name": "stderr",
     "output_type": "stream",
     "text": [
      " 74%|██████████████████████████████████████████████████████▍                   | 5420/7365 [4:41:04<2:04:23,  3.84s/it]"
     ]
    },
    {
     "name": "stdout",
     "output_type": "stream",
     "text": [
      "Couldn't download data for Stephan Luca\n",
      "'query'\n"
     ]
    },
    {
     "name": "stderr",
     "output_type": "stream",
     "text": [
      " 74%|██████████████████████████████████████████████████████▍                   | 5422/7365 [4:41:13<2:02:09,  3.77s/it]"
     ]
    },
    {
     "name": "stdout",
     "output_type": "stream",
     "text": [
      "Couldn't download data for Stephane Guillon\n",
      "'query'\n"
     ]
    },
    {
     "name": "stderr",
     "output_type": "stream",
     "text": [
      " 74%|██████████████████████████████████████████████████████▊                   | 5450/7365 [4:43:32<2:19:37,  4.37s/it]"
     ]
    },
    {
     "name": "stdout",
     "output_type": "stream",
     "text": [
      "Citizenship not available\n"
     ]
    },
    {
     "name": "stderr",
     "output_type": "stream",
     "text": [
      " 74%|██████████████████████████████████████████████████████▊                   | 5455/7365 [4:43:59<2:49:41,  5.33s/it]"
     ]
    },
    {
     "name": "stdout",
     "output_type": "stream",
     "text": [
      "Citizenship not available\n"
     ]
    },
    {
     "name": "stderr",
     "output_type": "stream",
     "text": [
      " 74%|██████████████████████████████████████████████████████▊                   | 5460/7365 [4:44:23<2:28:33,  4.68s/it]"
     ]
    },
    {
     "name": "stdout",
     "output_type": "stream",
     "text": [
      "Citizenship not available\n"
     ]
    },
    {
     "name": "stderr",
     "output_type": "stream",
     "text": [
      " 75%|███████████████████████████████████████████████████████▎                  | 5502/7365 [4:46:36<1:17:56,  2.51s/it]"
     ]
    },
    {
     "name": "stdout",
     "output_type": "stream",
     "text": [
      "Birth date not available\n",
      "Gender not available\n",
      "Citizenship not available\n"
     ]
    },
    {
     "name": "stderr",
     "output_type": "stream",
     "text": [
      " 75%|███████████████████████████████████████████████████████▍                  | 5519/7365 [4:47:29<1:17:25,  2.52s/it]"
     ]
    },
    {
     "name": "stdout",
     "output_type": "stream",
     "text": [
      "Birth date not available\n",
      "Gender not available\n",
      "Citizenship not available\n"
     ]
    },
    {
     "name": "stderr",
     "output_type": "stream",
     "text": [
      " 75%|███████████████████████████████████████████████████████▌                  | 5533/7365 [4:48:13<1:25:05,  2.79s/it]"
     ]
    },
    {
     "name": "stdout",
     "output_type": "stream",
     "text": [
      "Birth date not available\n",
      "Gender not available\n",
      "Citizenship not available\n"
     ]
    },
    {
     "name": "stderr",
     "output_type": "stream",
     "text": [
      " 75%|███████████████████████████████████████████████████████▋                  | 5544/7365 [4:48:43<1:12:12,  2.38s/it]"
     ]
    },
    {
     "name": "stdout",
     "output_type": "stream",
     "text": [
      "Couldn't download data for Tania Elosegui\n",
      "'query'\n"
     ]
    },
    {
     "name": "stderr",
     "output_type": "stream",
     "text": [
      " 75%|███████████████████████████████████████████████████████▋                  | 5547/7365 [4:48:51<1:11:30,  2.36s/it]"
     ]
    },
    {
     "name": "stdout",
     "output_type": "stream",
     "text": [
      "Couldn't download data for Tanja Schumann\n",
      "'query'\n"
     ]
    },
    {
     "name": "stderr",
     "output_type": "stream",
     "text": [
      " 76%|████████████████████████████████████████████████████████                  | 5583/7365 [4:50:38<1:11:46,  2.42s/it]"
     ]
    },
    {
     "name": "stdout",
     "output_type": "stream",
     "text": [
      "Couldn't download data for Tereza Maxová\n",
      "'query'\n"
     ]
    },
    {
     "name": "stderr",
     "output_type": "stream",
     "text": [
      " 76%|████████████████████████████████████████████████████████▍                 | 5620/7365 [4:52:27<1:17:37,  2.67s/it]"
     ]
    },
    {
     "name": "stdout",
     "output_type": "stream",
     "text": [
      "Couldn't download data for Thomas Dutronc\n",
      "'query'\n"
     ]
    },
    {
     "name": "stderr",
     "output_type": "stream",
     "text": [
      " 77%|████████████████████████████████████████████████████████▋                 | 5639/7365 [4:53:25<1:13:04,  2.54s/it]"
     ]
    },
    {
     "name": "stdout",
     "output_type": "stream",
     "text": [
      "Couldn't download data for Ticiane Pinheiro\n",
      "'query'\n"
     ]
    },
    {
     "name": "stderr",
     "output_type": "stream",
     "text": [
      " 77%|████████████████████████████████████████████████████████▋                 | 5645/7365 [4:53:42<1:10:31,  2.46s/it]"
     ]
    },
    {
     "name": "stdout",
     "output_type": "stream",
     "text": [
      "Couldn't download data for Till Brönner\n",
      "'query'\n"
     ]
    },
    {
     "name": "stderr",
     "output_type": "stream",
     "text": [
      " 77%|████████████████████████████████████████████████████████▊                 | 5656/7365 [4:54:13<1:10:15,  2.47s/it]"
     ]
    },
    {
     "name": "stdout",
     "output_type": "stream",
     "text": [
      "Couldn't download data for Tina Ruland\n",
      "'query'\n"
     ]
    },
    {
     "name": "stderr",
     "output_type": "stream",
     "text": [
      " 77%|████████████████████████████████████████████████████████▉                 | 5664/7365 [4:54:36<1:09:39,  2.46s/it]"
     ]
    },
    {
     "name": "stdout",
     "output_type": "stream",
     "text": [
      "Couldn't download data for Tiziano Crudeli\n",
      "'query'\n"
     ]
    },
    {
     "name": "stderr",
     "output_type": "stream",
     "text": [
      " 77%|█████████████████████████████████████████████████████████                 | 5676/7365 [4:55:09<1:09:43,  2.48s/it]"
     ]
    },
    {
     "name": "stdout",
     "output_type": "stream",
     "text": [
      "Birth date not available\n",
      "Gender not available\n",
      "Citizenship not available\n"
     ]
    },
    {
     "name": "stderr",
     "output_type": "stream",
     "text": [
      " 77%|█████████████████████████████████████████████████████████▏                | 5690/7365 [4:55:48<1:05:18,  2.34s/it]"
     ]
    },
    {
     "name": "stdout",
     "output_type": "stream",
     "text": [
      "Couldn't download data for Tom Rodriguez\n",
      "'query'\n"
     ]
    },
    {
     "name": "stderr",
     "output_type": "stream",
     "text": [
      " 77%|█████████████████████████████████████████████████████████▎                | 5698/7365 [4:56:11<1:14:46,  2.69s/it]"
     ]
    },
    {
     "name": "stdout",
     "output_type": "stream",
     "text": [
      "Citizenship not available\n"
     ]
    },
    {
     "name": "stderr",
     "output_type": "stream",
     "text": [
      " 78%|█████████████████████████████████████████████████████████▍                | 5714/7365 [4:57:01<1:12:43,  2.64s/it]"
     ]
    },
    {
     "name": "stdout",
     "output_type": "stream",
     "text": [
      "Couldn't download data for Tony Carreira\n",
      "'query'\n"
     ]
    },
    {
     "name": "stderr",
     "output_type": "stream",
     "text": [
      " 78%|█████████████████████████████████████████████████████████▍                | 5719/7365 [4:57:15<1:11:01,  2.59s/it]"
     ]
    },
    {
     "name": "stdout",
     "output_type": "stream",
     "text": [
      "Birth date not available\n",
      "Gender not available\n",
      "Citizenship not available\n"
     ]
    },
    {
     "name": "stderr",
     "output_type": "stream",
     "text": [
      " 78%|█████████████████████████████████████████████████████████▊                | 5754/7365 [4:58:59<1:17:07,  2.87s/it]"
     ]
    },
    {
     "name": "stdout",
     "output_type": "stream",
     "text": [
      "Birth date not available\n",
      "Gender not available\n",
      "Citizenship not available\n"
     ]
    },
    {
     "name": "stderr",
     "output_type": "stream",
     "text": [
      " 78%|██████████████████████████████████████████████████████████                | 5779/7365 [5:00:21<1:07:34,  2.56s/it]"
     ]
    },
    {
     "name": "stdout",
     "output_type": "stream",
     "text": [
      "Birth date not available\n",
      "Gender not available\n",
      "Citizenship not available\n"
     ]
    },
    {
     "name": "stderr",
     "output_type": "stream",
     "text": [
      "\r",
      " 78%|██████████████████████████████████████████████████████████                | 5780/7365 [5:00:23<1:01:29,  2.33s/it]"
     ]
    },
    {
     "name": "stdout",
     "output_type": "stream",
     "text": [
      "Birth date not available\n",
      "Gender not available\n",
      "Citizenship not available\n"
     ]
    },
    {
     "name": "stderr",
     "output_type": "stream",
     "text": [
      " 79%|██████████████████████████████████████████████████████████▍               | 5815/7365 [5:02:14<1:07:01,  2.59s/it]"
     ]
    },
    {
     "name": "stdout",
     "output_type": "stream",
     "text": [
      "Couldn't download data for Ute Freudenberg\n",
      "'query'\n"
     ]
    },
    {
     "name": "stderr",
     "output_type": "stream",
     "text": [
      " 80%|██████████████████████████████████████████████████████████▊               | 5857/7365 [5:04:22<1:03:49,  2.54s/it]"
     ]
    },
    {
     "name": "stdout",
     "output_type": "stream",
     "text": [
      "Couldn't download data for Veena Malik\n",
      "'query'\n"
     ]
    },
    {
     "name": "stderr",
     "output_type": "stream",
     "text": [
      " 80%|██████████████████████████████████████████████████████████▉               | 5863/7365 [5:04:40<1:04:16,  2.57s/it]"
     ]
    },
    {
     "name": "stdout",
     "output_type": "stream",
     "text": [
      "Couldn't download data for Vicente Fox\n",
      "'query'\n"
     ]
    },
    {
     "name": "stderr",
     "output_type": "stream",
     "text": [
      " 81%|███████████████████████████████████████████████████████████▌              | 5934/7365 [5:08:18<1:00:26,  2.53s/it]"
     ]
    },
    {
     "name": "stdout",
     "output_type": "stream",
     "text": [
      "Couldn't download data for Walter Nudo\n",
      "'query'\n"
     ]
    },
    {
     "name": "stderr",
     "output_type": "stream",
     "text": [
      "\r",
      " 81%|█████████████████████████████████████████████████████████████▏              | 5935/7365 [5:08:19<51:58,  2.18s/it]"
     ]
    },
    {
     "name": "stdout",
     "output_type": "stream",
     "text": [
      "Couldn't download data for Walter Sittler\n",
      "'query'\n"
     ]
    },
    {
     "name": "stderr",
     "output_type": "stream",
     "text": [
      " 81%|█████████████████████████████████████████████████████████████▎              | 5938/7365 [5:08:26<52:34,  2.21s/it]"
     ]
    },
    {
     "name": "stdout",
     "output_type": "stream",
     "text": [
      "Couldn't download data for Warren Haynes\n",
      "'query'\n"
     ]
    },
    {
     "name": "stderr",
     "output_type": "stream",
     "text": [
      " 81%|███████████████████████████████████████████████████████████▊              | 5950/7365 [5:09:01<1:05:07,  2.76s/it]"
     ]
    },
    {
     "name": "stdout",
     "output_type": "stream",
     "text": [
      "Citizenship not available\n",
      "Birth date not available\n"
     ]
    },
    {
     "name": "stderr",
     "output_type": "stream",
     "text": [
      " 81%|█████████████████████████████████████████████████████████████▍              | 5954/7365 [5:09:12<57:55,  2.46s/it]"
     ]
    },
    {
     "name": "stdout",
     "output_type": "stream",
     "text": [
      "Couldn't download data for Will Tura\n",
      "'query'\n"
     ]
    },
    {
     "name": "stderr",
     "output_type": "stream",
     "text": [
      " 81%|███████████████████████████████████████████████████████████▉              | 5969/7365 [5:10:06<1:47:13,  4.61s/it]"
     ]
    },
    {
     "name": "stdout",
     "output_type": "stream",
     "text": [
      "Birth date not available\n",
      "Gender not available\n",
      "Citizenship not available\n"
     ]
    },
    {
     "name": "stderr",
     "output_type": "stream",
     "text": [
      " 81%|████████████████████████████████████████████████████████████              | 5979/7365 [5:10:53<1:22:32,  3.57s/it]"
     ]
    },
    {
     "name": "stdout",
     "output_type": "stream",
     "text": [
      "Couldn't download data for Wolfgang Sobotka\n",
      "'query'\n"
     ]
    },
    {
     "name": "stderr",
     "output_type": "stream",
     "text": [
      " 81%|█████████████████████████████████████████████████████████████▉              | 5997/7365 [5:11:44<53:34,  2.35s/it]"
     ]
    },
    {
     "name": "stdout",
     "output_type": "stream",
     "text": [
      "Birth date not available\n",
      "Gender not available\n",
      "Citizenship not available\n"
     ]
    },
    {
     "name": "stderr",
     "output_type": "stream",
     "text": [
      " 82%|██████████████████████████████████████████████████████████████▎             | 6040/7365 [5:13:52<57:56,  2.62s/it]"
     ]
    },
    {
     "name": "stdout",
     "output_type": "stream",
     "text": [
      "Couldn't download data for Yvonne Ransbach\n",
      "'query'\n"
     ]
    },
    {
     "name": "stderr",
     "output_type": "stream",
     "text": [
      " 82%|██████████████████████████████████████████████████████████████▎             | 6043/7365 [5:14:00<57:34,  2.61s/it]"
     ]
    },
    {
     "name": "stdout",
     "output_type": "stream",
     "text": [
      "Birth date not available\n",
      "Gender not available\n",
      "Citizenship not available\n"
     ]
    },
    {
     "name": "stderr",
     "output_type": "stream",
     "text": [
      " 82%|████████████████████████████████████████████████████████████▉             | 6065/7365 [5:15:08<1:00:08,  2.78s/it]"
     ]
    },
    {
     "name": "stdout",
     "output_type": "stream",
     "text": [
      "Birth date not available\n",
      "Citizenship not available\n"
     ]
    },
    {
     "name": "stderr",
     "output_type": "stream",
     "text": [
      " 83%|███████████████████████████████████████████████████████████████             | 6116/7365 [5:17:36<51:44,  2.49s/it]"
     ]
    },
    {
     "name": "stdout",
     "output_type": "stream",
     "text": [
      "Birth date not available\n",
      "Gender not available\n",
      "Citizenship not available\n"
     ]
    },
    {
     "name": "stderr",
     "output_type": "stream",
     "text": [
      " 84%|█████████████████████████████████████████████████████████████▉            | 6160/7365 [5:20:05<1:00:39,  3.02s/it]"
     ]
    },
    {
     "name": "stdout",
     "output_type": "stream",
     "text": [
      "Birth date not available\n",
      "Gender not available\n",
      "Citizenship not available\n"
     ]
    },
    {
     "name": "stderr",
     "output_type": "stream",
     "text": [
      "\r",
      " 84%|███████████████████████████████████████████████████████████████▌            | 6161/7365 [5:20:07<54:45,  2.73s/it]"
     ]
    },
    {
     "name": "stdout",
     "output_type": "stream",
     "text": [
      "Birth date not available\n",
      "Gender not available\n",
      "Citizenship not available\n"
     ]
    },
    {
     "name": "stderr",
     "output_type": "stream",
     "text": [
      " 84%|████████████████████████████████████████████████████████████████            | 6210/7365 [5:22:42<47:19,  2.46s/it]"
     ]
    },
    {
     "name": "stdout",
     "output_type": "stream",
     "text": [
      "Birth date not available\n",
      "Gender not available\n",
      "Citizenship not available\n"
     ]
    },
    {
     "name": "stderr",
     "output_type": "stream",
     "text": [
      " 85%|████████████████████████████████████████████████████████████████▊           | 6279/7365 [5:26:18<45:34,  2.52s/it]"
     ]
    },
    {
     "name": "stdout",
     "output_type": "stream",
     "text": [
      "Couldn't download data for Cilla Black\n",
      "'query'\n"
     ]
    },
    {
     "name": "stderr",
     "output_type": "stream",
     "text": [
      " 86%|█████████████████████████████████████████████████████████████████▌          | 6353/7365 [5:30:30<48:43,  2.89s/it]"
     ]
    },
    {
     "name": "stdout",
     "output_type": "stream",
     "text": [
      "Birth date not available\n",
      "Gender not available\n",
      "Citizenship not available\n"
     ]
    },
    {
     "name": "stderr",
     "output_type": "stream",
     "text": [
      " 87%|█████████████████████████████████████████████████████████████████▊          | 6374/7365 [5:31:37<42:23,  2.57s/it]"
     ]
    },
    {
     "name": "stdout",
     "output_type": "stream",
     "text": [
      "Birth date not available\n",
      "Gender not available\n",
      "Citizenship not available\n"
     ]
    },
    {
     "name": "stderr",
     "output_type": "stream",
     "text": [
      " 87%|█████████████████████████████████████████████████████████████████▊          | 6378/7365 [5:31:48<42:42,  2.60s/it]"
     ]
    },
    {
     "name": "stdout",
     "output_type": "stream",
     "text": [
      "Birth date not available\n",
      "Gender not available\n",
      "Citizenship not available\n"
     ]
    },
    {
     "name": "stderr",
     "output_type": "stream",
     "text": [
      " 87%|█████████████████████████████████████████████████████████████████▉          | 6386/7365 [5:32:17<55:11,  3.38s/it]"
     ]
    },
    {
     "name": "stdout",
     "output_type": "stream",
     "text": [
      "Gender not available\n"
     ]
    },
    {
     "name": "stderr",
     "output_type": "stream",
     "text": [
      " 87%|██████████████████████████████████████████████████████████████████▎         | 6422/7365 [5:34:16<45:08,  2.87s/it]"
     ]
    },
    {
     "name": "stdout",
     "output_type": "stream",
     "text": [
      "Gender not available\n"
     ]
    },
    {
     "name": "stderr",
     "output_type": "stream",
     "text": [
      " 89%|███████████████████████████████████████████████████████████████████▎        | 6519/7365 [5:39:32<42:37,  3.02s/it]"
     ]
    },
    {
     "name": "stdout",
     "output_type": "stream",
     "text": [
      "Birth date not available\n",
      "Gender not available\n",
      "Citizenship not available\n"
     ]
    },
    {
     "name": "stderr",
     "output_type": "stream",
     "text": [
      " 90%|████████████████████████████████████████████████████████████████████▌       | 6645/7365 [5:47:00<38:03,  3.17s/it]"
     ]
    },
    {
     "name": "stdout",
     "output_type": "stream",
     "text": [
      "Birth date not available\n",
      "Gender not available\n",
      "Citizenship not available\n"
     ]
    },
    {
     "name": "stderr",
     "output_type": "stream",
     "text": [
      " 90%|████████████████████████████████████████████████████████████████████▋       | 6651/7365 [5:47:19<34:13,  2.88s/it]"
     ]
    },
    {
     "name": "stdout",
     "output_type": "stream",
     "text": [
      "Birth date not available\n",
      "Gender not available\n",
      "Citizenship not available\n"
     ]
    },
    {
     "name": "stderr",
     "output_type": "stream",
     "text": [
      " 90%|████████████████████████████████████████████████████████████████████▋       | 6654/7365 [5:47:27<32:45,  2.76s/it]"
     ]
    },
    {
     "name": "stdout",
     "output_type": "stream",
     "text": [
      "Birth date not available\n",
      "Gender not available\n",
      "Citizenship not available\n"
     ]
    },
    {
     "name": "stderr",
     "output_type": "stream",
     "text": [
      " 91%|█████████████████████████████████████████████████████████████████████▎      | 6718/7365 [5:51:06<27:23,  2.54s/it]"
     ]
    },
    {
     "name": "stdout",
     "output_type": "stream",
     "text": [
      "Couldn't download data for Kathie Lee Gifford\n",
      "'query'\n"
     ]
    },
    {
     "name": "stderr",
     "output_type": "stream",
     "text": [
      " 91%|█████████████████████████████████████████████████████████████████████▍      | 6726/7365 [5:51:31<29:30,  2.77s/it]"
     ]
    },
    {
     "name": "stdout",
     "output_type": "stream",
     "text": [
      "Couldn't download data for Katie Cleary\n",
      "'query'\n"
     ]
    },
    {
     "name": "stderr",
     "output_type": "stream",
     "text": [
      " 92%|█████████████████████████████████████████████████████████████████████▉      | 6782/7365 [5:54:38<27:58,  2.88s/it]"
     ]
    },
    {
     "name": "stdout",
     "output_type": "stream",
     "text": [
      "Birth date not available\n",
      "Gender not available\n",
      "Citizenship not available\n"
     ]
    },
    {
     "name": "stderr",
     "output_type": "stream",
     "text": [
      " 93%|██████████████████████████████████████████████████████████████████████▍     | 6825/7365 [5:56:59<23:20,  2.59s/it]"
     ]
    },
    {
     "name": "stdout",
     "output_type": "stream",
     "text": [
      "Birth date not available\n",
      "Gender not available\n",
      "Citizenship not available\n"
     ]
    },
    {
     "name": "stderr",
     "output_type": "stream",
     "text": [
      " 94%|███████████████████████████████████████████████████████████████████████▏    | 6897/7365 [6:00:45<20:40,  2.65s/it]"
     ]
    },
    {
     "name": "stdout",
     "output_type": "stream",
     "text": [
      "Birth date not available\n",
      "Gender not available\n",
      "Citizenship not available\n"
     ]
    },
    {
     "name": "stderr",
     "output_type": "stream",
     "text": [
      " 94%|███████████████████████████████████████████████████████████████████████▏    | 6900/7365 [6:00:53<21:02,  2.71s/it]"
     ]
    },
    {
     "name": "stdout",
     "output_type": "stream",
     "text": [
      "Birth date not available\n",
      "Gender not available\n",
      "Citizenship not available\n"
     ]
    },
    {
     "name": "stderr",
     "output_type": "stream",
     "text": [
      " 94%|███████████████████████████████████████████████████████████████████████▍    | 6924/7365 [6:02:09<20:18,  2.76s/it]"
     ]
    },
    {
     "name": "stdout",
     "output_type": "stream",
     "text": [
      "Birth date not available\n",
      "Gender not available\n",
      "Citizenship not available\n"
     ]
    },
    {
     "name": "stderr",
     "output_type": "stream",
     "text": [
      " 94%|███████████████████████████████████████████████████████████████████████▌    | 6938/7365 [6:02:54<22:45,  3.20s/it]"
     ]
    },
    {
     "name": "stdout",
     "output_type": "stream",
     "text": [
      "Gender not available\n"
     ]
    },
    {
     "name": "stderr",
     "output_type": "stream",
     "text": [
      " 94%|███████████████████████████████████████████████████████████████████████▋    | 6942/7365 [6:03:07<21:04,  2.99s/it]"
     ]
    },
    {
     "name": "stdout",
     "output_type": "stream",
     "text": [
      "Citizenship not available\n"
     ]
    },
    {
     "name": "stderr",
     "output_type": "stream",
     "text": [
      " 95%|███████████████████████████████████████████████████████████████████████▊    | 6961/7365 [6:04:03<17:48,  2.65s/it]"
     ]
    },
    {
     "name": "stdout",
     "output_type": "stream",
     "text": [
      "Birth date not available\n",
      "Gender not available\n",
      "Citizenship not available\n"
     ]
    },
    {
     "name": "stderr",
     "output_type": "stream",
     "text": [
      " 96%|████████████████████████████████████████████████████████████████████████▊   | 7059/7365 [6:09:16<13:40,  2.68s/it]"
     ]
    },
    {
     "name": "stdout",
     "output_type": "stream",
     "text": [
      "Birth date not available\n",
      "Gender not available\n",
      "Citizenship not available\n"
     ]
    },
    {
     "name": "stderr",
     "output_type": "stream",
     "text": [
      " 96%|█████████████████████████████████████████████████████████████████████████▎  | 7100/7365 [6:11:20<12:07,  2.74s/it]"
     ]
    },
    {
     "name": "stdout",
     "output_type": "stream",
     "text": [
      "Birth date not available\n",
      "Gender not available\n",
      "Citizenship not available\n"
     ]
    },
    {
     "name": "stderr",
     "output_type": "stream",
     "text": [
      " 97%|█████████████████████████████████████████████████████████████████████████▍  | 7111/7365 [6:11:52<11:00,  2.60s/it]"
     ]
    },
    {
     "name": "stdout",
     "output_type": "stream",
     "text": [
      "Birth date not available\n",
      "Gender not available\n",
      "Citizenship not available\n"
     ]
    },
    {
     "name": "stderr",
     "output_type": "stream",
     "text": [
      " 97%|█████████████████████████████████████████████████████████████████████████▍  | 7113/7365 [6:11:57<10:11,  2.43s/it]"
     ]
    },
    {
     "name": "stdout",
     "output_type": "stream",
     "text": [
      "Birth date not available\n",
      "Gender not available\n",
      "Citizenship not available\n"
     ]
    },
    {
     "name": "stderr",
     "output_type": "stream",
     "text": [
      " 97%|█████████████████████████████████████████████████████████████████████████▊  | 7155/7365 [6:14:07<10:51,  3.10s/it]"
     ]
    },
    {
     "name": "stdout",
     "output_type": "stream",
     "text": [
      "Gender not available\n"
     ]
    },
    {
     "name": "stderr",
     "output_type": "stream",
     "text": [
      " 99%|███████████████████████████████████████████████████████████████████████████▏| 7284/7365 [6:20:42<03:20,  2.47s/it]"
     ]
    },
    {
     "name": "stdout",
     "output_type": "stream",
     "text": [
      "Birth date not available\n",
      "Gender not available\n",
      "Citizenship not available\n"
     ]
    },
    {
     "name": "stderr",
     "output_type": "stream",
     "text": [
      " 99%|███████████████████████████████████████████████████████████████████████████▎| 7295/7365 [6:21:13<02:43,  2.34s/it]"
     ]
    },
    {
     "name": "stdout",
     "output_type": "stream",
     "text": [
      "Couldn't download data for Tom Bergeron\n",
      "'query'\n"
     ]
    },
    {
     "name": "stderr",
     "output_type": "stream",
     "text": [
      " 99%|███████████████████████████████████████████████████████████████████████████▌| 7318/7365 [6:22:23<02:05,  2.66s/it]"
     ]
    },
    {
     "name": "stdout",
     "output_type": "stream",
     "text": [
      "Birth date not available\n",
      "Gender not available\n",
      "Citizenship not available\n"
     ]
    },
    {
     "name": "stderr",
     "output_type": "stream",
     "text": [
      "100%|███████████████████████████████████████████████████████████████████████████▉| 7363/7365 [6:24:45<00:05,  2.69s/it]"
     ]
    },
    {
     "name": "stdout",
     "output_type": "stream",
     "text": [
      "Birth date not available\n",
      "Gender not available\n",
      "Citizenship not available\n"
     ]
    },
    {
     "name": "stderr",
     "output_type": "stream",
     "text": [
      "100%|████████████████████████████████████████████████████████████████████████████| 7365/7365 [6:24:51<00:00,  3.14s/it]\n"
     ]
    }
   ],
   "source": [
    "import person_metadata\n",
    "import time\n",
    "vips_metadata_gkg = []\n",
    "not_found_vips_gkg = []\n",
    "for vip in tqdm(unique_vips):\n",
    "    try:\n",
    "        wiki_page = extract_wikipedia_page_from_knowledge_graph(vip, api_key)\n",
    "        wiki_id = obtain_wikidata_id_from_wikipedia_title(wiki_page)\n",
    "\n",
    "        current_person_attribute = person_metadata.get_wikidata_properties(wiki_id)\n",
    "        current_person_attribute['name'] = vip\n",
    "        vips_metadata_gkg.append(current_person_attribute)\n",
    "        time.sleep(0.01)\n",
    "    except Exception as ex:\n",
    "        print(\"Couldn't download data for {}\".format(vip))\n",
    "        print(ex)\n",
    "        time.sleep(0.1)\n",
    "        not_found_vips_gkg.append(vip)"
   ]
  },
  {
   "cell_type": "code",
   "execution_count": 40,
   "metadata": {},
   "outputs": [
    {
     "data": {
      "text/html": [
       "<div>\n",
       "<style scoped>\n",
       "    .dataframe tbody tr th:only-of-type {\n",
       "        vertical-align: middle;\n",
       "    }\n",
       "\n",
       "    .dataframe tbody tr th {\n",
       "        vertical-align: top;\n",
       "    }\n",
       "\n",
       "    .dataframe thead th {\n",
       "        text-align: right;\n",
       "    }\n",
       "</style>\n",
       "<table border=\"1\" class=\"dataframe\">\n",
       "  <thead>\n",
       "    <tr style=\"text-align: right;\">\n",
       "      <th></th>\n",
       "      <th>gender</th>\n",
       "      <th>birth_date</th>\n",
       "      <th>nationality</th>\n",
       "      <th>name</th>\n",
       "    </tr>\n",
       "  </thead>\n",
       "  <tbody>\n",
       "    <tr>\n",
       "      <th>0</th>\n",
       "      <td>male</td>\n",
       "      <td>+1979-10-07T00:00:00Z</td>\n",
       "      <td>Canada</td>\n",
       "      <td>Aaron Ashmore</td>\n",
       "    </tr>\n",
       "    <tr>\n",
       "      <th>1</th>\n",
       "      <td>male</td>\n",
       "      <td>+1958-08-07T00:00:00Z</td>\n",
       "      <td>South-Africa</td>\n",
       "      <td>Aaron Motsoaledi</td>\n",
       "    </tr>\n",
       "    <tr>\n",
       "      <th>2</th>\n",
       "      <td>male</td>\n",
       "      <td>+1990-12-26T00:00:00Z</td>\n",
       "      <td>The-United-Kingdom-1</td>\n",
       "      <td>Aaron Ramsey</td>\n",
       "    </tr>\n",
       "    <tr>\n",
       "      <th>3</th>\n",
       "      <td>male</td>\n",
       "      <td>+1983-12-02T00:00:00Z</td>\n",
       "      <td>The-United-States-of-America</td>\n",
       "      <td>Aaron Rodgers</td>\n",
       "    </tr>\n",
       "    <tr>\n",
       "      <th>4</th>\n",
       "      <td>male</td>\n",
       "      <td>+1981-05-28T00:00:00Z</td>\n",
       "      <td>The-United-States-of-America</td>\n",
       "      <td>Aaron Schock</td>\n",
       "    </tr>\n",
       "  </tbody>\n",
       "</table>\n",
       "</div>"
      ],
      "text/plain": [
       "  gender             birth_date                   nationality  \\\n",
       "0   male  +1979-10-07T00:00:00Z                        Canada   \n",
       "1   male  +1958-08-07T00:00:00Z                  South-Africa   \n",
       "2   male  +1990-12-26T00:00:00Z          The-United-Kingdom-1   \n",
       "3   male  +1983-12-02T00:00:00Z  The-United-States-of-America   \n",
       "4   male  +1981-05-28T00:00:00Z  The-United-States-of-America   \n",
       "\n",
       "               name  \n",
       "0     Aaron Ashmore  \n",
       "1  Aaron Motsoaledi  \n",
       "2      Aaron Ramsey  \n",
       "3     Aaron Rodgers  \n",
       "4      Aaron Schock  "
      ]
     },
     "execution_count": 40,
     "metadata": {},
     "output_type": "execute_result"
    }
   ],
   "source": [
    "vips_metadata_gkg_df = pd.DataFrame.from_records(vips_metadata_gkg)\n",
    "vips_metadata_gkg_df.head()"
   ]
  },
  {
   "cell_type": "code",
   "execution_count": 66,
   "metadata": {},
   "outputs": [
    {
     "data": {
      "text/plain": [
       "['Adhyayan Suman',\n",
       " 'Alana Curry',\n",
       " 'Alessandro Safina',\n",
       " 'Alexa Ray Joel',\n",
       " 'Alexandra Lamy',\n",
       " 'Alfie Boe',\n",
       " 'Anastasia Zampounidis',\n",
       " 'Andreas Gabalier',\n",
       " 'Andy Borg',\n",
       " 'Angela Simmons',\n",
       " 'Angie Stone',\n",
       " 'Anna Mouglalis',\n",
       " 'Annabelle Mandeng',\n",
       " 'Anne-Sophie Briest',\n",
       " 'Annemarie Eilfeld',\n",
       " 'Antonique Smith',\n",
       " 'Arika Sato',\n",
       " 'Arié Elmaleh',\n",
       " 'Avery Sunshine',\n",
       " 'Beate Merk',\n",
       " 'Bebe Cool',\n",
       " 'Bertie Gilbert',\n",
       " 'Beth Leavel',\n",
       " 'Bhairvi Goswami',\n",
       " 'Bianca Guaccero',\n",
       " 'Big Tigger',\n",
       " 'Bilkay Öney',\n",
       " 'Bill Gilman',\n",
       " 'Bill Kelliher',\n",
       " 'Bob Iger',\n",
       " 'Brodinski',\n",
       " 'Bruno Madinier',\n",
       " 'Bucky Covington',\n",
       " 'Caissie Levy',\n",
       " 'Candice Crawford',\n",
       " 'Candice Night',\n",
       " 'Carrie Bickmore',\n",
       " 'Catherine Jenkins',\n",
       " 'Catherine Tyldesley',\n",
       " 'Cazwell',\n",
       " 'Chantal Poullain',\n",
       " 'Charlie Musselwhite',\n",
       " 'Claudia Pandolfi',\n",
       " 'Claus Weselsky',\n",
       " 'Clémentine Célarié',\n",
       " 'Cody Longo',\n",
       " 'Connie Fisher',\n",
       " 'Corinna Harfouch',\n",
       " 'Costa Cordalis',\n",
       " 'Daniel Landa',\n",
       " 'Daniel Schuhmacher',\n",
       " 'Dany Brillant',\n",
       " 'Dara Bubamara',\n",
       " 'Dbanj',\n",
       " 'Debra Stephenson',\n",
       " 'Delfeayo Marsalis',\n",
       " 'Devanny Pinn',\n",
       " 'Dieter Thomas Kuhn',\n",
       " 'Dolly Buster',\n",
       " 'Eddie Money',\n",
       " 'Emma Marcegaglia',\n",
       " 'Esther Schweins',\n",
       " 'Evelyne Brochu',\n",
       " 'Fabio Troiano',\n",
       " 'Fafá de Belém',\n",
       " 'Farin Urlaub',\n",
       " 'Felicitas Woll',\n",
       " 'Felipe Gonzales',\n",
       " 'Francesco Renga',\n",
       " 'Frans Bauer',\n",
       " 'François-Xavier Demaison',\n",
       " 'Frenchie Davis',\n",
       " 'Giulia Siegel',\n",
       " 'Goapele',\n",
       " 'Gretchen Barretto',\n",
       " 'Hanna Beth',\n",
       " 'Heather Thomson',\n",
       " 'Hella von Sinnen',\n",
       " 'Isabel Varell',\n",
       " 'Iva Pazderková',\n",
       " 'Jaime Faith Edmondson',\n",
       " 'Jakub Smolík',\n",
       " 'Jared Followill',\n",
       " 'Jasmin Tabatabai',\n",
       " 'Jason Wahler',\n",
       " 'Jeff Stinco',\n",
       " 'Jesse Boykins III',\n",
       " 'Jette Joop',\n",
       " 'Jiří Lábus',\n",
       " 'Johannes Oerding',\n",
       " 'Johannes Remmel',\n",
       " 'Johnny Borrell',\n",
       " 'Jonathan Wilkes',\n",
       " 'Josh Ramsay',\n",
       " 'Juan Carlos Varela',\n",
       " 'Jujubee',\n",
       " 'Julien Lepers',\n",
       " 'Justin Townes Earle',\n",
       " 'Jürgen von der Lippe',\n",
       " 'Kader Loth',\n",
       " 'Kai Schumann',\n",
       " 'Karen Fairchild',\n",
       " 'Karin Bloemen',\n",
       " 'Kate Ceberano',\n",
       " 'Katie Armiger',\n",
       " 'Katja Riemann',\n",
       " 'Katon W. De Pena',\n",
       " 'Kent Nagano',\n",
       " 'Kerri-Anne Kennerley',\n",
       " 'Krystle Lina',\n",
       " 'La Grande Sophie',\n",
       " 'Larry Birkhead',\n",
       " 'Lauren Gottlieb',\n",
       " 'Laurent Gerra',\n",
       " 'Lee Brice',\n",
       " 'Leeteuk',\n",
       " 'Leif Ove Andsnes',\n",
       " 'Lesley Garrett',\n",
       " 'Liana Mendoza',\n",
       " 'Liane Foly',\n",
       " 'Lisa Fitz',\n",
       " 'Loredana Lecciso',\n",
       " 'Lucie Silvas',\n",
       " 'Lzzy Hale',\n",
       " 'Lương Bích Hữu',\n",
       " 'Ma Ying-jeou',\n",
       " 'Magdalena Schejbal',\n",
       " 'Mahleej Sarkari',\n",
       " 'Malika Haqq',\n",
       " 'Mandy Teefey',\n",
       " 'Manish Paul',\n",
       " 'Marc Coucke',\n",
       " 'Marc Pircher',\n",
       " 'Marcella Zalianty',\n",
       " 'Marco Girnth',\n",
       " 'Mareile Höppner',\n",
       " 'Margaret Blanchard',\n",
       " 'Marilyn McCoo',\n",
       " 'Martin ONeill',\n",
       " 'Masuimi Max',\n",
       " 'Matt Berninger',\n",
       " 'Matze Knop',\n",
       " 'Mauli Dave',\n",
       " 'Maxi Arland',\n",
       " 'Megan Kelly',\n",
       " 'Michael Mittermeier',\n",
       " 'Mick Hucknall',\n",
       " 'Mike Portnoy',\n",
       " 'Mina Tander',\n",
       " 'Miriam Pielhau',\n",
       " 'Monica Ivancan',\n",
       " 'Monifah',\n",
       " 'Montego Glover',\n",
       " 'Moria Casán',\n",
       " 'Nazia Iqbal',\n",
       " 'Nick Hexum',\n",
       " 'Nicola Sirkis',\n",
       " 'Nicoletta Mantovani',\n",
       " 'Nina Watson',\n",
       " 'Ottfried Fischer',\n",
       " 'Patrice Bouédibéla',\n",
       " 'Patrick Harris',\n",
       " 'Patrick Lindner',\n",
       " 'Paul DiGiovanni',\n",
       " 'Paul Panzer',\n",
       " 'Pauline Nordin',\n",
       " 'Philippe Caroit',\n",
       " 'Pia Douwes',\n",
       " 'Pip Pellens',\n",
       " 'Polo Hofer',\n",
       " 'Prahladananda Swami',\n",
       " 'Quang Linh',\n",
       " 'Quirin Berg',\n",
       " 'Rachid Taha',\n",
       " 'Raina Hein',\n",
       " 'Ranga Yogeshwar',\n",
       " 'Renaud Capuçon',\n",
       " 'Rick Rose',\n",
       " 'Rickey Medlocke',\n",
       " 'River Viiperi',\n",
       " 'Roberto Alagna',\n",
       " 'Ronan OGara',\n",
       " 'Ronnie OSullivan',\n",
       " 'Ross Antony',\n",
       " 'Rouwaida Attieh',\n",
       " 'Ruby Wax',\n",
       " 'Runa Laila',\n",
       " 'Ryan Cabrera',\n",
       " 'Róisín Murphy',\n",
       " 'Sabina Classen',\n",
       " 'Sai Tamhankar',\n",
       " 'Saige Ryan Campbell',\n",
       " 'Samantha Droke',\n",
       " 'Samuel Etoo',\n",
       " 'Sebastian Karpiel-Bułecka',\n",
       " 'Serena Autieri',\n",
       " 'Serge Lama',\n",
       " 'Seun Kuti',\n",
       " 'Shami Chakrabarti',\n",
       " 'Shiamak Davar',\n",
       " 'Shimon Moore',\n",
       " 'Simone Cristicchi',\n",
       " 'Smita Shewale',\n",
       " 'Soledad OBrien',\n",
       " 'Stefanie Heinzmann',\n",
       " 'Steffen Groth',\n",
       " 'Stella Hudgens',\n",
       " 'Stephan Luca',\n",
       " 'Stephane Guillon',\n",
       " 'Tania Elosegui',\n",
       " 'Tanja Schumann',\n",
       " 'Tereza Maxová',\n",
       " 'Thomas Dutronc',\n",
       " 'Ticiane Pinheiro',\n",
       " 'Till Brönner',\n",
       " 'Tina Ruland',\n",
       " 'Tiziano Crudeli',\n",
       " 'Tom Rodriguez',\n",
       " 'Tony Carreira',\n",
       " 'Ute Freudenberg',\n",
       " 'Veena Malik',\n",
       " 'Vicente Fox',\n",
       " 'Walter Nudo',\n",
       " 'Walter Sittler',\n",
       " 'Warren Haynes',\n",
       " 'Will Tura',\n",
       " 'Wolfgang Sobotka',\n",
       " 'Yvonne Ransbach',\n",
       " 'Cilla Black',\n",
       " 'Kathie Lee Gifford',\n",
       " 'Katie Cleary',\n",
       " 'Tom Bergeron']"
      ]
     },
     "execution_count": 66,
     "metadata": {},
     "output_type": "execute_result"
    }
   ],
   "source": [
    "with open(\"../dataset/not_found_vips_gkg.json\", \"w\") as f:\n",
    "    f.write(json.dumps(not_found_vips_gkg))\n",
    "not_found_vips_gkg"
   ]
  },
  {
   "cell_type": "markdown",
   "metadata": {},
   "source": [
    "Previous shape: (6937, 4)"
   ]
  },
  {
   "cell_type": "code",
   "execution_count": 41,
   "metadata": {},
   "outputs": [
    {
     "data": {
      "text/plain": [
       "(7133, 4)"
      ]
     },
     "execution_count": 41,
     "metadata": {},
     "output_type": "execute_result"
    }
   ],
   "source": [
    "vips_metadata_gkg_df.shape"
   ]
  },
  {
   "cell_type": "code",
   "execution_count": 42,
   "metadata": {},
   "outputs": [],
   "source": [
    "vips_metadata_gkg_df.birth_date = vips_metadata_gkg_df.birth_date.str.slice(1, 11)"
   ]
  },
  {
   "cell_type": "code",
   "execution_count": 43,
   "metadata": {},
   "outputs": [
    {
     "data": {
      "text/html": [
       "<div>\n",
       "<style scoped>\n",
       "    .dataframe tbody tr th:only-of-type {\n",
       "        vertical-align: middle;\n",
       "    }\n",
       "\n",
       "    .dataframe tbody tr th {\n",
       "        vertical-align: top;\n",
       "    }\n",
       "\n",
       "    .dataframe thead th {\n",
       "        text-align: right;\n",
       "    }\n",
       "</style>\n",
       "<table border=\"1\" class=\"dataframe\">\n",
       "  <thead>\n",
       "    <tr style=\"text-align: right;\">\n",
       "      <th></th>\n",
       "      <th>gender</th>\n",
       "      <th>birth_date</th>\n",
       "      <th>nationality</th>\n",
       "      <th>name</th>\n",
       "    </tr>\n",
       "  </thead>\n",
       "  <tbody>\n",
       "    <tr>\n",
       "      <th>0</th>\n",
       "      <td>male</td>\n",
       "      <td>1979-10-07</td>\n",
       "      <td>Canada</td>\n",
       "      <td>Aaron Ashmore</td>\n",
       "    </tr>\n",
       "    <tr>\n",
       "      <th>1</th>\n",
       "      <td>male</td>\n",
       "      <td>1958-08-07</td>\n",
       "      <td>South-Africa</td>\n",
       "      <td>Aaron Motsoaledi</td>\n",
       "    </tr>\n",
       "    <tr>\n",
       "      <th>2</th>\n",
       "      <td>male</td>\n",
       "      <td>1990-12-26</td>\n",
       "      <td>The-United-Kingdom-1</td>\n",
       "      <td>Aaron Ramsey</td>\n",
       "    </tr>\n",
       "    <tr>\n",
       "      <th>3</th>\n",
       "      <td>male</td>\n",
       "      <td>1983-12-02</td>\n",
       "      <td>The-United-States-of-America</td>\n",
       "      <td>Aaron Rodgers</td>\n",
       "    </tr>\n",
       "    <tr>\n",
       "      <th>4</th>\n",
       "      <td>male</td>\n",
       "      <td>1981-05-28</td>\n",
       "      <td>The-United-States-of-America</td>\n",
       "      <td>Aaron Schock</td>\n",
       "    </tr>\n",
       "  </tbody>\n",
       "</table>\n",
       "</div>"
      ],
      "text/plain": [
       "  gender  birth_date                   nationality              name\n",
       "0   male  1979-10-07                        Canada     Aaron Ashmore\n",
       "1   male  1958-08-07                  South-Africa  Aaron Motsoaledi\n",
       "2   male  1990-12-26          The-United-Kingdom-1      Aaron Ramsey\n",
       "3   male  1983-12-02  The-United-States-of-America     Aaron Rodgers\n",
       "4   male  1981-05-28  The-United-States-of-America      Aaron Schock"
      ]
     },
     "execution_count": 43,
     "metadata": {},
     "output_type": "execute_result"
    }
   ],
   "source": [
    "vips_metadata_gkg_df.head()"
   ]
  },
  {
   "cell_type": "code",
   "execution_count": 44,
   "metadata": {},
   "outputs": [],
   "source": [
    "vips_metadata_gkg_df.to_csv(\"vips_metadata_gkg_extended.csv\", index=False)"
   ]
  },
  {
   "cell_type": "code",
   "execution_count": 45,
   "metadata": {},
   "outputs": [],
   "source": [
    "vips_metadata_gkg_df = pd.read_csv(\"vips_metadata_gkg_extended.csv\")"
   ]
  },
  {
   "cell_type": "markdown",
   "metadata": {},
   "source": [
    "## Statistics on API results:"
   ]
  },
  {
   "cell_type": "code",
   "execution_count": 46,
   "metadata": {},
   "outputs": [
    {
     "data": {
      "text/plain": [
       "7365"
      ]
     },
     "execution_count": 46,
     "metadata": {},
     "output_type": "execute_result"
    }
   ],
   "source": [
    "len(unique_vips)"
   ]
  },
  {
   "cell_type": "markdown",
   "metadata": {},
   "source": [
    "Previous results:\n",
    "- Dbpedia: (7070, 4)\n",
    "- Wikidata: (7276, 4)\n",
    "- GKG: (6937, 4)"
   ]
  },
  {
   "cell_type": "code",
   "execution_count": 47,
   "metadata": {},
   "outputs": [
    {
     "data": {
      "text/plain": [
       "(7070, 4)"
      ]
     },
     "execution_count": 47,
     "metadata": {},
     "output_type": "execute_result"
    }
   ],
   "source": [
    "vips_metadata_dbpedia_df.shape"
   ]
  },
  {
   "cell_type": "code",
   "execution_count": 48,
   "metadata": {},
   "outputs": [
    {
     "data": {
      "text/plain": [
       "(7317, 4)"
      ]
     },
     "execution_count": 48,
     "metadata": {},
     "output_type": "execute_result"
    }
   ],
   "source": [
    "vips_metadata_wikidata_df.shape"
   ]
  },
  {
   "cell_type": "code",
   "execution_count": 49,
   "metadata": {},
   "outputs": [
    {
     "data": {
      "text/plain": [
       "(7133, 4)"
      ]
     },
     "execution_count": 49,
     "metadata": {},
     "output_type": "execute_result"
    }
   ],
   "source": [
    "vips_metadata_gkg_df.shape"
   ]
  },
  {
   "cell_type": "code",
   "execution_count": 50,
   "metadata": {},
   "outputs": [
    {
     "data": {
      "text/html": [
       "<div>\n",
       "<style scoped>\n",
       "    .dataframe tbody tr th:only-of-type {\n",
       "        vertical-align: middle;\n",
       "    }\n",
       "\n",
       "    .dataframe tbody tr th {\n",
       "        vertical-align: top;\n",
       "    }\n",
       "\n",
       "    .dataframe thead th {\n",
       "        text-align: right;\n",
       "    }\n",
       "</style>\n",
       "<table border=\"1\" class=\"dataframe\">\n",
       "  <thead>\n",
       "    <tr style=\"text-align: right;\">\n",
       "      <th></th>\n",
       "      <th>complete_name</th>\n",
       "      <th>gender</th>\n",
       "      <th>birth_date</th>\n",
       "      <th>nationality</th>\n",
       "    </tr>\n",
       "  </thead>\n",
       "  <tbody>\n",
       "    <tr>\n",
       "      <th>0</th>\n",
       "      <td>Aaron Ashmore</td>\n",
       "      <td>male</td>\n",
       "      <td>1979-10-07</td>\n",
       "      <td>NaN</td>\n",
       "    </tr>\n",
       "    <tr>\n",
       "      <th>1</th>\n",
       "      <td>Aaron Motsoaledi</td>\n",
       "      <td>male</td>\n",
       "      <td>1958-08-07</td>\n",
       "      <td>NaN</td>\n",
       "    </tr>\n",
       "    <tr>\n",
       "      <th>2</th>\n",
       "      <td>Aaron Ramsey</td>\n",
       "      <td>male</td>\n",
       "      <td>1990-12-26</td>\n",
       "      <td>NaN</td>\n",
       "    </tr>\n",
       "    <tr>\n",
       "      <th>3</th>\n",
       "      <td>Aaron Rodgers</td>\n",
       "      <td>male</td>\n",
       "      <td>1983-12-2</td>\n",
       "      <td>NaN</td>\n",
       "    </tr>\n",
       "    <tr>\n",
       "      <th>4</th>\n",
       "      <td>Aaron Schock</td>\n",
       "      <td>male</td>\n",
       "      <td>1981-05-28</td>\n",
       "      <td>NaN</td>\n",
       "    </tr>\n",
       "  </tbody>\n",
       "</table>\n",
       "</div>"
      ],
      "text/plain": [
       "      complete_name gender  birth_date nationality\n",
       "0     Aaron Ashmore   male  1979-10-07         NaN\n",
       "1  Aaron Motsoaledi   male  1958-08-07         NaN\n",
       "2      Aaron Ramsey   male  1990-12-26         NaN\n",
       "3     Aaron Rodgers   male   1983-12-2         NaN\n",
       "4      Aaron Schock   male  1981-05-28         NaN"
      ]
     },
     "execution_count": 50,
     "metadata": {},
     "output_type": "execute_result"
    }
   ],
   "source": [
    "vips_metadata_dbpedia_df.head()"
   ]
  },
  {
   "cell_type": "code",
   "execution_count": 51,
   "metadata": {},
   "outputs": [
    {
     "data": {
      "text/html": [
       "<div>\n",
       "<style scoped>\n",
       "    .dataframe tbody tr th:only-of-type {\n",
       "        vertical-align: middle;\n",
       "    }\n",
       "\n",
       "    .dataframe tbody tr th {\n",
       "        vertical-align: top;\n",
       "    }\n",
       "\n",
       "    .dataframe thead th {\n",
       "        text-align: right;\n",
       "    }\n",
       "</style>\n",
       "<table border=\"1\" class=\"dataframe\">\n",
       "  <thead>\n",
       "    <tr style=\"text-align: right;\">\n",
       "      <th></th>\n",
       "      <th>gender</th>\n",
       "      <th>birth_date</th>\n",
       "      <th>nationality</th>\n",
       "      <th>name</th>\n",
       "    </tr>\n",
       "  </thead>\n",
       "  <tbody>\n",
       "    <tr>\n",
       "      <th>0</th>\n",
       "      <td>male</td>\n",
       "      <td>1979-10-07</td>\n",
       "      <td>Canada</td>\n",
       "      <td>Aaron Ashmore</td>\n",
       "    </tr>\n",
       "    <tr>\n",
       "      <th>1</th>\n",
       "      <td>male</td>\n",
       "      <td>1958-08-07</td>\n",
       "      <td>South-Africa</td>\n",
       "      <td>Aaron Motsoaledi</td>\n",
       "    </tr>\n",
       "    <tr>\n",
       "      <th>2</th>\n",
       "      <td>male</td>\n",
       "      <td>1990-12-26</td>\n",
       "      <td>The-United-Kingdom-1</td>\n",
       "      <td>Aaron Ramsey</td>\n",
       "    </tr>\n",
       "    <tr>\n",
       "      <th>3</th>\n",
       "      <td>male</td>\n",
       "      <td>1983-12-02</td>\n",
       "      <td>The-United-States-of-America</td>\n",
       "      <td>Aaron Rodgers</td>\n",
       "    </tr>\n",
       "    <tr>\n",
       "      <th>4</th>\n",
       "      <td>male</td>\n",
       "      <td>1981-05-28</td>\n",
       "      <td>The-United-States-of-America</td>\n",
       "      <td>Aaron Schock</td>\n",
       "    </tr>\n",
       "  </tbody>\n",
       "</table>\n",
       "</div>"
      ],
      "text/plain": [
       "  gender  birth_date                   nationality              name\n",
       "0   male  1979-10-07                        Canada     Aaron Ashmore\n",
       "1   male  1958-08-07                  South-Africa  Aaron Motsoaledi\n",
       "2   male  1990-12-26          The-United-Kingdom-1      Aaron Ramsey\n",
       "3   male  1983-12-02  The-United-States-of-America     Aaron Rodgers\n",
       "4   male  1981-05-28  The-United-States-of-America      Aaron Schock"
      ]
     },
     "execution_count": 51,
     "metadata": {},
     "output_type": "execute_result"
    }
   ],
   "source": [
    "vips_metadata_wikidata_df.head()"
   ]
  },
  {
   "cell_type": "code",
   "execution_count": 52,
   "metadata": {},
   "outputs": [
    {
     "data": {
      "text/html": [
       "<div>\n",
       "<style scoped>\n",
       "    .dataframe tbody tr th:only-of-type {\n",
       "        vertical-align: middle;\n",
       "    }\n",
       "\n",
       "    .dataframe tbody tr th {\n",
       "        vertical-align: top;\n",
       "    }\n",
       "\n",
       "    .dataframe thead th {\n",
       "        text-align: right;\n",
       "    }\n",
       "</style>\n",
       "<table border=\"1\" class=\"dataframe\">\n",
       "  <thead>\n",
       "    <tr style=\"text-align: right;\">\n",
       "      <th></th>\n",
       "      <th>gender</th>\n",
       "      <th>birth_date</th>\n",
       "      <th>nationality</th>\n",
       "      <th>name</th>\n",
       "    </tr>\n",
       "  </thead>\n",
       "  <tbody>\n",
       "    <tr>\n",
       "      <th>0</th>\n",
       "      <td>male</td>\n",
       "      <td>1979-10-07</td>\n",
       "      <td>Canada</td>\n",
       "      <td>Aaron Ashmore</td>\n",
       "    </tr>\n",
       "    <tr>\n",
       "      <th>1</th>\n",
       "      <td>male</td>\n",
       "      <td>1958-08-07</td>\n",
       "      <td>South-Africa</td>\n",
       "      <td>Aaron Motsoaledi</td>\n",
       "    </tr>\n",
       "    <tr>\n",
       "      <th>2</th>\n",
       "      <td>male</td>\n",
       "      <td>1990-12-26</td>\n",
       "      <td>The-United-Kingdom-1</td>\n",
       "      <td>Aaron Ramsey</td>\n",
       "    </tr>\n",
       "    <tr>\n",
       "      <th>3</th>\n",
       "      <td>male</td>\n",
       "      <td>1983-12-02</td>\n",
       "      <td>The-United-States-of-America</td>\n",
       "      <td>Aaron Rodgers</td>\n",
       "    </tr>\n",
       "    <tr>\n",
       "      <th>4</th>\n",
       "      <td>male</td>\n",
       "      <td>1981-05-28</td>\n",
       "      <td>The-United-States-of-America</td>\n",
       "      <td>Aaron Schock</td>\n",
       "    </tr>\n",
       "  </tbody>\n",
       "</table>\n",
       "</div>"
      ],
      "text/plain": [
       "  gender  birth_date                   nationality              name\n",
       "0   male  1979-10-07                        Canada     Aaron Ashmore\n",
       "1   male  1958-08-07                  South-Africa  Aaron Motsoaledi\n",
       "2   male  1990-12-26          The-United-Kingdom-1      Aaron Ramsey\n",
       "3   male  1983-12-02  The-United-States-of-America     Aaron Rodgers\n",
       "4   male  1981-05-28  The-United-States-of-America      Aaron Schock"
      ]
     },
     "execution_count": 52,
     "metadata": {},
     "output_type": "execute_result"
    }
   ],
   "source": [
    "vips_metadata_gkg_df.head()"
   ]
  },
  {
   "cell_type": "markdown",
   "metadata": {},
   "source": [
    "Previously: \"6730 vips are shared between DBPedia, Wikidata and Google Knowledge Graph(91.37813985064494%)\""
   ]
  },
  {
   "cell_type": "code",
   "execution_count": 53,
   "metadata": {},
   "outputs": [
    {
     "name": "stdout",
     "output_type": "stream",
     "text": [
      "6918 vips are shared between DBPedia, Wikidata and Google Knowledge Graph(93.93075356415478%)\n"
     ]
    }
   ],
   "source": [
    "common_vips = list(set(vips_metadata_wikidata_df['name']) & set(vips_metadata_dbpedia_df['complete_name'])& set(vips_metadata_gkg_df['name']))\n",
    "print(\"{} vips are shared between DBPedia, Wikidata and Google Knowledge Graph({}%)\".format(len(common_vips), 100 * len(common_vips)/len(unique_vips)))"
   ]
  },
  {
   "cell_type": "code",
   "execution_count": 54,
   "metadata": {},
   "outputs": [
    {
     "name": "stdout",
     "output_type": "stream",
     "text": [
      "Wall time: 15.6 s\n"
     ]
    }
   ],
   "source": [
    "%%time\n",
    "same_gender_counter = 0\n",
    "same_nationality_counter = 0\n",
    "same_birth_date_counter = 0\n",
    "for vip in common_vips:\n",
    "    current_wiki = vips_metadata_wikidata_df[vips_metadata_wikidata_df.name == vip]\n",
    "    current_dbp = vips_metadata_dbpedia_df[vips_metadata_dbpedia_df.complete_name == vip]\n",
    "    current_gkg = vips_metadata_gkg_df[vips_metadata_gkg_df.name == vip]\n",
    "    # check if the current vip is in both df\n",
    "    if current_dbp.shape[0] == 1 and current_wiki.shape[0] == 1 and current_gkg.shape[0] == 1:\n",
    "        # gender\n",
    "        wiki_gender = str(current_wiki.gender.values[0])\n",
    "        dbp_gender = str(current_dbp.gender.values[0])\n",
    "        gkg_gender = str(current_gkg.gender.values[0])\n",
    "        if wiki_gender == dbp_gender == gkg_gender:\n",
    "            same_gender_counter += 1\n",
    "        # birth date\n",
    "        dbp_date = str(current_dbp.birth_date.values[0])\n",
    "        wiki_date = str(current_wiki.birth_date.values[0])\n",
    "        gkg_date = str(current_gkg.birth_date.values[0])\n",
    "        if dbp_date == wiki_date == gkg_date and len(dbp_date) >= 4:\n",
    "            same_birth_date_counter += 1\n",
    "        # nationality\n",
    "        dbp_nationality = str(current_dbp.nationality.values[0])\n",
    "        wiki_nationality = str(current_wiki.nationality.values[0])\n",
    "        gkg_nationality = str(current_gkg.nationality.values[0])\n",
    "        if dbp_nationality == wiki_nationality == gkg_nationality and dbp_nationality != \"\":\n",
    "            same_nationality_counter += 1"
   ]
  },
  {
   "cell_type": "markdown",
   "metadata": {},
   "source": [
    "Check how many vips have been found to have the same gender, nationality and birth date:"
   ]
  },
  {
   "cell_type": "markdown",
   "metadata": {},
   "source": [
    "Prev: Same gender: 6699 (90.95723014256619% of records)"
   ]
  },
  {
   "cell_type": "code",
   "execution_count": 55,
   "metadata": {},
   "outputs": [
    {
     "name": "stdout",
     "output_type": "stream",
     "text": [
      "Same gender: 6721 (91.25594025797692% of records)\n"
     ]
    }
   ],
   "source": [
    "print(\"Same gender: {} ({}% of records)\".format(same_gender_counter, 100 * (same_gender_counter/len(unique_vips))))"
   ]
  },
  {
   "cell_type": "markdown",
   "metadata": {},
   "source": [
    "Prev: Same birth date: 5613 (76.21181262729124% of records)"
   ]
  },
  {
   "cell_type": "code",
   "execution_count": 56,
   "metadata": {},
   "outputs": [
    {
     "name": "stdout",
     "output_type": "stream",
     "text": [
      "Same birth date: 5628 (76.41547861507128% of records)\n"
     ]
    }
   ],
   "source": [
    "print(\"Same birth date: {} ({}% of records)\".format(same_birth_date_counter, 100 * (same_birth_date_counter/len(unique_vips))))"
   ]
  },
  {
   "cell_type": "markdown",
   "metadata": {},
   "source": [
    "What if we focus only on the year of birth?"
   ]
  },
  {
   "cell_type": "code",
   "execution_count": 57,
   "metadata": {},
   "outputs": [
    {
     "name": "stdout",
     "output_type": "stream",
     "text": [
      "Wall time: 14.8 s\n"
     ]
    }
   ],
   "source": [
    "%%time\n",
    "same_birth_year_counter = 0\n",
    "for vip in common_vips:\n",
    "    current_wiki = vips_metadata_wikidata_df[vips_metadata_wikidata_df.name == vip]\n",
    "    current_dbp = vips_metadata_dbpedia_df[vips_metadata_dbpedia_df.complete_name == vip]\n",
    "    current_gkg = vips_metadata_gkg_df[vips_metadata_gkg_df.name == vip]\n",
    "    # check if the current vip is in both df\n",
    "    if current_dbp.shape[0] == current_wiki.shape[0] == current_gkg.shape[0] == 1:\n",
    "        dbp_year = str(current_dbp.birth_date.values[0])[0:4]\n",
    "        wiki_year = str(current_wiki.birth_date.values[0])[0:4]\n",
    "        gkg_year = str(current_gkg.birth_date.values[0])[0:4]\n",
    "        if dbp_year == wiki_year == gkg_year and len(dbp_year) >= 4:\n",
    "            same_birth_year_counter += 1"
   ]
  },
  {
   "cell_type": "markdown",
   "metadata": {},
   "source": [
    "Prev: Same birth year: 6231 (84.60285132382892% of records)"
   ]
  },
  {
   "cell_type": "code",
   "execution_count": 58,
   "metadata": {},
   "outputs": [
    {
     "name": "stdout",
     "output_type": "stream",
     "text": [
      "Same birth year: 6253 (84.90156143923964% of records)\n"
     ]
    }
   ],
   "source": [
    "print(\"Same birth year: {} ({}% of records)\".format(same_birth_year_counter, 100 * (same_birth_year_counter/len(unique_vips))))"
   ]
  },
  {
   "cell_type": "markdown",
   "metadata": {},
   "source": [
    "Let's now move to nationality:"
   ]
  },
  {
   "cell_type": "code",
   "execution_count": 59,
   "metadata": {},
   "outputs": [
    {
     "name": "stdout",
     "output_type": "stream",
     "text": [
      "Same nationality: 0 (0.0% of records)\n"
     ]
    }
   ],
   "source": [
    "print(\"Same nationality: {} ({}% of records)\".format(same_nationality_counter, 100 * (same_nationality_counter/len(unique_vips))))"
   ]
  },
  {
   "cell_type": "code",
   "execution_count": 60,
   "metadata": {},
   "outputs": [
    {
     "data": {
      "text/plain": [
       "The-United-States-of-America    2656\n",
       "The-United-Kingdom-1             857\n",
       "India                            432\n",
       "Germany                          423\n",
       "France                           363\n",
       "                                ... \n",
       "Tunisia                            1\n",
       "West-Germany                       1\n",
       "Isle-of-Man                        1\n",
       "Azerbaijan                         1\n",
       "Burundi                            1\n",
       "Name: nationality, Length: 145, dtype: int64"
      ]
     },
     "execution_count": 60,
     "metadata": {},
     "output_type": "execute_result"
    }
   ],
   "source": [
    "vips_metadata_wikidata_df.nationality.value_counts()"
   ]
  },
  {
   "cell_type": "code",
   "execution_count": 61,
   "metadata": {},
   "outputs": [
    {
     "data": {
      "text/plain": [
       "108"
      ]
     },
     "execution_count": 61,
     "metadata": {},
     "output_type": "execute_result"
    }
   ],
   "source": [
    "sum(vips_metadata_wikidata_df.nationality.isna())"
   ]
  },
  {
   "cell_type": "code",
   "execution_count": 62,
   "metadata": {},
   "outputs": [
    {
     "data": {
      "text/plain": [
       "american                                                285\n",
       "http://dbpedia.org/resource/united_states               104\n",
       "british                                                 100\n",
       "http://dbpedia.org/resource/india                        70\n",
       "indian                                                   55\n",
       "                                                       ... \n",
       "n                                                         1\n",
       "http://dbpedia.org/resource/croats                        1\n",
       "http://dbpedia.org/resource/italian_citizenship           1\n",
       "http://dbpedia.org/resource/romanian_language             1\n",
       "http://dbpedia.org/resource/american_nationality_law      1\n",
       "Name: nationality, Length: 283, dtype: int64"
      ]
     },
     "execution_count": 62,
     "metadata": {},
     "output_type": "execute_result"
    }
   ],
   "source": [
    "vips_metadata_dbpedia_df.nationality.value_counts()"
   ]
  },
  {
   "cell_type": "code",
   "execution_count": 63,
   "metadata": {},
   "outputs": [
    {
     "data": {
      "text/plain": [
       "5574"
      ]
     },
     "execution_count": 63,
     "metadata": {},
     "output_type": "execute_result"
    }
   ],
   "source": [
    "sum(vips_metadata_dbpedia_df.nationality.isna())"
   ]
  },
  {
   "cell_type": "code",
   "execution_count": 64,
   "metadata": {},
   "outputs": [
    {
     "data": {
      "text/plain": [
       "The-United-States-of-America    2558\n",
       "The-United-Kingdom-1             835\n",
       "India                            433\n",
       "Germany                          380\n",
       "France                           341\n",
       "                                ... \n",
       "Russian-Empire                     1\n",
       "West-Germany                       1\n",
       "The-Bahamas                        1\n",
       "Isle-of-Man                        1\n",
       "Burundi                            1\n",
       "Name: nationality, Length: 144, dtype: int64"
      ]
     },
     "execution_count": 64,
     "metadata": {},
     "output_type": "execute_result"
    }
   ],
   "source": [
    "vips_metadata_gkg_df.nationality.value_counts()"
   ]
  },
  {
   "cell_type": "code",
   "execution_count": 65,
   "metadata": {},
   "outputs": [
    {
     "data": {
      "text/plain": [
       "183"
      ]
     },
     "execution_count": 65,
     "metadata": {},
     "output_type": "execute_result"
    }
   ],
   "source": [
    "sum(vips_metadata_gkg_df.nationality.isna())"
   ]
  },
  {
   "cell_type": "markdown",
   "metadata": {},
   "source": [
    "[Final df statistics](#final_dataset_stats)"
   ]
  },
  {
   "cell_type": "markdown",
   "metadata": {},
   "source": [
    "## Join celebrities with APIs df\n",
    "Now let's focus on the Celeb dataframe. I would like to join it with the dbpedia and wikidata dataframes, so that we can have all the data for a given person:"
   ]
  },
  {
   "cell_type": "code",
   "execution_count": 67,
   "metadata": {},
   "outputs": [
    {
     "data": {
      "text/html": [
       "<div>\n",
       "<style scoped>\n",
       "    .dataframe tbody tr th:only-of-type {\n",
       "        vertical-align: middle;\n",
       "    }\n",
       "\n",
       "    .dataframe tbody tr th {\n",
       "        vertical-align: top;\n",
       "    }\n",
       "\n",
       "    .dataframe thead th {\n",
       "        text-align: right;\n",
       "    }\n",
       "</style>\n",
       "<table border=\"1\" class=\"dataframe\">\n",
       "  <thead>\n",
       "    <tr style=\"text-align: right;\">\n",
       "      <th></th>\n",
       "      <th>Name</th>\n",
       "    </tr>\n",
       "  </thead>\n",
       "  <tbody>\n",
       "    <tr>\n",
       "      <th>0</th>\n",
       "      <td>Aaron Ashmore</td>\n",
       "    </tr>\n",
       "    <tr>\n",
       "      <th>1</th>\n",
       "      <td>Aaron Motsoaledi</td>\n",
       "    </tr>\n",
       "    <tr>\n",
       "      <th>2</th>\n",
       "      <td>Aaron Ramsey</td>\n",
       "    </tr>\n",
       "    <tr>\n",
       "      <th>3</th>\n",
       "      <td>Aaron Rodgers</td>\n",
       "    </tr>\n",
       "    <tr>\n",
       "      <th>4</th>\n",
       "      <td>Aaron Schock</td>\n",
       "    </tr>\n",
       "  </tbody>\n",
       "</table>\n",
       "</div>"
      ],
      "text/plain": [
       "               Name\n",
       "0     Aaron Ashmore\n",
       "1  Aaron Motsoaledi\n",
       "2      Aaron Ramsey\n",
       "3     Aaron Rodgers\n",
       "4      Aaron Schock"
      ]
     },
     "execution_count": 67,
     "metadata": {},
     "output_type": "execute_result"
    }
   ],
   "source": [
    "df_celeb_only_names = df_celeb[['Name']]\n",
    "df_celeb_only_names.head()"
   ]
  },
  {
   "cell_type": "code",
   "execution_count": 68,
   "metadata": {},
   "outputs": [
    {
     "data": {
      "text/html": [
       "<div>\n",
       "<style scoped>\n",
       "    .dataframe tbody tr th:only-of-type {\n",
       "        vertical-align: middle;\n",
       "    }\n",
       "\n",
       "    .dataframe tbody tr th {\n",
       "        vertical-align: top;\n",
       "    }\n",
       "\n",
       "    .dataframe thead th {\n",
       "        text-align: right;\n",
       "    }\n",
       "</style>\n",
       "<table border=\"1\" class=\"dataframe\">\n",
       "  <thead>\n",
       "    <tr style=\"text-align: right;\">\n",
       "      <th></th>\n",
       "      <th>Name</th>\n",
       "      <th>complete_name</th>\n",
       "      <th>gender</th>\n",
       "      <th>birth_date</th>\n",
       "      <th>nationality</th>\n",
       "    </tr>\n",
       "  </thead>\n",
       "  <tbody>\n",
       "    <tr>\n",
       "      <th>0</th>\n",
       "      <td>Aaron Ashmore</td>\n",
       "      <td>Aaron Ashmore</td>\n",
       "      <td>male</td>\n",
       "      <td>1979-10-07</td>\n",
       "      <td>NaN</td>\n",
       "    </tr>\n",
       "    <tr>\n",
       "      <th>1</th>\n",
       "      <td>Aaron Motsoaledi</td>\n",
       "      <td>Aaron Motsoaledi</td>\n",
       "      <td>male</td>\n",
       "      <td>1958-08-07</td>\n",
       "      <td>NaN</td>\n",
       "    </tr>\n",
       "    <tr>\n",
       "      <th>2</th>\n",
       "      <td>Aaron Ramsey</td>\n",
       "      <td>Aaron Ramsey</td>\n",
       "      <td>male</td>\n",
       "      <td>1990-12-26</td>\n",
       "      <td>NaN</td>\n",
       "    </tr>\n",
       "    <tr>\n",
       "      <th>3</th>\n",
       "      <td>Aaron Rodgers</td>\n",
       "      <td>Aaron Rodgers</td>\n",
       "      <td>male</td>\n",
       "      <td>1983-12-2</td>\n",
       "      <td>NaN</td>\n",
       "    </tr>\n",
       "    <tr>\n",
       "      <th>4</th>\n",
       "      <td>Aaron Schock</td>\n",
       "      <td>Aaron Schock</td>\n",
       "      <td>male</td>\n",
       "      <td>1981-05-28</td>\n",
       "      <td>NaN</td>\n",
       "    </tr>\n",
       "  </tbody>\n",
       "</table>\n",
       "</div>"
      ],
      "text/plain": [
       "               Name     complete_name gender  birth_date nationality\n",
       "0     Aaron Ashmore     Aaron Ashmore   male  1979-10-07         NaN\n",
       "1  Aaron Motsoaledi  Aaron Motsoaledi   male  1958-08-07         NaN\n",
       "2      Aaron Ramsey      Aaron Ramsey   male  1990-12-26         NaN\n",
       "3     Aaron Rodgers     Aaron Rodgers   male   1983-12-2         NaN\n",
       "4      Aaron Schock      Aaron Schock   male  1981-05-28         NaN"
      ]
     },
     "execution_count": 68,
     "metadata": {},
     "output_type": "execute_result"
    }
   ],
   "source": [
    "vips_metadata_dbpedia_df = pd.merge(df_celeb_only_names, vips_metadata_dbpedia_df, left_on='Name', right_on='complete_name', how=\"outer\")\n",
    "vips_metadata_dbpedia_df.head()"
   ]
  },
  {
   "cell_type": "markdown",
   "metadata": {},
   "source": [
    "Let's now delete some redundant columns:"
   ]
  },
  {
   "cell_type": "code",
   "execution_count": 69,
   "metadata": {},
   "outputs": [
    {
     "data": {
      "text/html": [
       "<div>\n",
       "<style scoped>\n",
       "    .dataframe tbody tr th:only-of-type {\n",
       "        vertical-align: middle;\n",
       "    }\n",
       "\n",
       "    .dataframe tbody tr th {\n",
       "        vertical-align: top;\n",
       "    }\n",
       "\n",
       "    .dataframe thead th {\n",
       "        text-align: right;\n",
       "    }\n",
       "</style>\n",
       "<table border=\"1\" class=\"dataframe\">\n",
       "  <thead>\n",
       "    <tr style=\"text-align: right;\">\n",
       "      <th></th>\n",
       "      <th>Name</th>\n",
       "      <th>gender</th>\n",
       "      <th>birth_date</th>\n",
       "      <th>nationality</th>\n",
       "    </tr>\n",
       "  </thead>\n",
       "  <tbody>\n",
       "    <tr>\n",
       "      <th>0</th>\n",
       "      <td>Aaron Ashmore</td>\n",
       "      <td>male</td>\n",
       "      <td>1979-10-07</td>\n",
       "      <td>NaN</td>\n",
       "    </tr>\n",
       "    <tr>\n",
       "      <th>1</th>\n",
       "      <td>Aaron Motsoaledi</td>\n",
       "      <td>male</td>\n",
       "      <td>1958-08-07</td>\n",
       "      <td>NaN</td>\n",
       "    </tr>\n",
       "    <tr>\n",
       "      <th>2</th>\n",
       "      <td>Aaron Ramsey</td>\n",
       "      <td>male</td>\n",
       "      <td>1990-12-26</td>\n",
       "      <td>NaN</td>\n",
       "    </tr>\n",
       "    <tr>\n",
       "      <th>3</th>\n",
       "      <td>Aaron Rodgers</td>\n",
       "      <td>male</td>\n",
       "      <td>1983-12-2</td>\n",
       "      <td>NaN</td>\n",
       "    </tr>\n",
       "    <tr>\n",
       "      <th>4</th>\n",
       "      <td>Aaron Schock</td>\n",
       "      <td>male</td>\n",
       "      <td>1981-05-28</td>\n",
       "      <td>NaN</td>\n",
       "    </tr>\n",
       "  </tbody>\n",
       "</table>\n",
       "</div>"
      ],
      "text/plain": [
       "               Name gender  birth_date nationality\n",
       "0     Aaron Ashmore   male  1979-10-07         NaN\n",
       "1  Aaron Motsoaledi   male  1958-08-07         NaN\n",
       "2      Aaron Ramsey   male  1990-12-26         NaN\n",
       "3     Aaron Rodgers   male   1983-12-2         NaN\n",
       "4      Aaron Schock   male  1981-05-28         NaN"
      ]
     },
     "execution_count": 69,
     "metadata": {},
     "output_type": "execute_result"
    }
   ],
   "source": [
    "del vips_metadata_dbpedia_df['complete_name']\n",
    "vips_metadata_dbpedia_df.head()"
   ]
  },
  {
   "cell_type": "code",
   "execution_count": 70,
   "metadata": {},
   "outputs": [
    {
     "data": {
      "text/html": [
       "<div>\n",
       "<style scoped>\n",
       "    .dataframe tbody tr th:only-of-type {\n",
       "        vertical-align: middle;\n",
       "    }\n",
       "\n",
       "    .dataframe tbody tr th {\n",
       "        vertical-align: top;\n",
       "    }\n",
       "\n",
       "    .dataframe thead th {\n",
       "        text-align: right;\n",
       "    }\n",
       "</style>\n",
       "<table border=\"1\" class=\"dataframe\">\n",
       "  <thead>\n",
       "    <tr style=\"text-align: right;\">\n",
       "      <th></th>\n",
       "      <th>Name</th>\n",
       "      <th>gender</th>\n",
       "      <th>birth_date</th>\n",
       "      <th>nationality</th>\n",
       "      <th>name</th>\n",
       "    </tr>\n",
       "  </thead>\n",
       "  <tbody>\n",
       "    <tr>\n",
       "      <th>0</th>\n",
       "      <td>Aaron Ashmore</td>\n",
       "      <td>male</td>\n",
       "      <td>1979-10-07</td>\n",
       "      <td>Canada</td>\n",
       "      <td>Aaron Ashmore</td>\n",
       "    </tr>\n",
       "    <tr>\n",
       "      <th>1</th>\n",
       "      <td>Aaron Motsoaledi</td>\n",
       "      <td>male</td>\n",
       "      <td>1958-08-07</td>\n",
       "      <td>South-Africa</td>\n",
       "      <td>Aaron Motsoaledi</td>\n",
       "    </tr>\n",
       "    <tr>\n",
       "      <th>2</th>\n",
       "      <td>Aaron Ramsey</td>\n",
       "      <td>male</td>\n",
       "      <td>1990-12-26</td>\n",
       "      <td>The-United-Kingdom-1</td>\n",
       "      <td>Aaron Ramsey</td>\n",
       "    </tr>\n",
       "    <tr>\n",
       "      <th>3</th>\n",
       "      <td>Aaron Rodgers</td>\n",
       "      <td>male</td>\n",
       "      <td>1983-12-02</td>\n",
       "      <td>The-United-States-of-America</td>\n",
       "      <td>Aaron Rodgers</td>\n",
       "    </tr>\n",
       "    <tr>\n",
       "      <th>4</th>\n",
       "      <td>Aaron Schock</td>\n",
       "      <td>male</td>\n",
       "      <td>1981-05-28</td>\n",
       "      <td>The-United-States-of-America</td>\n",
       "      <td>Aaron Schock</td>\n",
       "    </tr>\n",
       "  </tbody>\n",
       "</table>\n",
       "</div>"
      ],
      "text/plain": [
       "               Name gender  birth_date                   nationality  \\\n",
       "0     Aaron Ashmore   male  1979-10-07                        Canada   \n",
       "1  Aaron Motsoaledi   male  1958-08-07                  South-Africa   \n",
       "2      Aaron Ramsey   male  1990-12-26          The-United-Kingdom-1   \n",
       "3     Aaron Rodgers   male  1983-12-02  The-United-States-of-America   \n",
       "4      Aaron Schock   male  1981-05-28  The-United-States-of-America   \n",
       "\n",
       "               name  \n",
       "0     Aaron Ashmore  \n",
       "1  Aaron Motsoaledi  \n",
       "2      Aaron Ramsey  \n",
       "3     Aaron Rodgers  \n",
       "4      Aaron Schock  "
      ]
     },
     "execution_count": 70,
     "metadata": {},
     "output_type": "execute_result"
    }
   ],
   "source": [
    "vips_metadata_wikidata_df = pd.merge(df_celeb_only_names, vips_metadata_wikidata_df, left_on='Name', right_on='name', how=\"outer\")\n",
    "vips_metadata_wikidata_df.head()"
   ]
  },
  {
   "cell_type": "code",
   "execution_count": 71,
   "metadata": {},
   "outputs": [],
   "source": [
    "del vips_metadata_wikidata_df['name']"
   ]
  },
  {
   "cell_type": "code",
   "execution_count": 72,
   "metadata": {},
   "outputs": [
    {
     "data": {
      "text/html": [
       "<div>\n",
       "<style scoped>\n",
       "    .dataframe tbody tr th:only-of-type {\n",
       "        vertical-align: middle;\n",
       "    }\n",
       "\n",
       "    .dataframe tbody tr th {\n",
       "        vertical-align: top;\n",
       "    }\n",
       "\n",
       "    .dataframe thead th {\n",
       "        text-align: right;\n",
       "    }\n",
       "</style>\n",
       "<table border=\"1\" class=\"dataframe\">\n",
       "  <thead>\n",
       "    <tr style=\"text-align: right;\">\n",
       "      <th></th>\n",
       "      <th>Name</th>\n",
       "      <th>gender</th>\n",
       "      <th>birth_date</th>\n",
       "      <th>nationality</th>\n",
       "      <th>name</th>\n",
       "    </tr>\n",
       "  </thead>\n",
       "  <tbody>\n",
       "    <tr>\n",
       "      <th>0</th>\n",
       "      <td>Aaron Ashmore</td>\n",
       "      <td>male</td>\n",
       "      <td>1979-10-07</td>\n",
       "      <td>Canada</td>\n",
       "      <td>Aaron Ashmore</td>\n",
       "    </tr>\n",
       "    <tr>\n",
       "      <th>1</th>\n",
       "      <td>Aaron Motsoaledi</td>\n",
       "      <td>male</td>\n",
       "      <td>1958-08-07</td>\n",
       "      <td>South-Africa</td>\n",
       "      <td>Aaron Motsoaledi</td>\n",
       "    </tr>\n",
       "    <tr>\n",
       "      <th>2</th>\n",
       "      <td>Aaron Ramsey</td>\n",
       "      <td>male</td>\n",
       "      <td>1990-12-26</td>\n",
       "      <td>The-United-Kingdom-1</td>\n",
       "      <td>Aaron Ramsey</td>\n",
       "    </tr>\n",
       "    <tr>\n",
       "      <th>3</th>\n",
       "      <td>Aaron Rodgers</td>\n",
       "      <td>male</td>\n",
       "      <td>1983-12-02</td>\n",
       "      <td>The-United-States-of-America</td>\n",
       "      <td>Aaron Rodgers</td>\n",
       "    </tr>\n",
       "    <tr>\n",
       "      <th>4</th>\n",
       "      <td>Aaron Schock</td>\n",
       "      <td>male</td>\n",
       "      <td>1981-05-28</td>\n",
       "      <td>The-United-States-of-America</td>\n",
       "      <td>Aaron Schock</td>\n",
       "    </tr>\n",
       "  </tbody>\n",
       "</table>\n",
       "</div>"
      ],
      "text/plain": [
       "               Name gender  birth_date                   nationality  \\\n",
       "0     Aaron Ashmore   male  1979-10-07                        Canada   \n",
       "1  Aaron Motsoaledi   male  1958-08-07                  South-Africa   \n",
       "2      Aaron Ramsey   male  1990-12-26          The-United-Kingdom-1   \n",
       "3     Aaron Rodgers   male  1983-12-02  The-United-States-of-America   \n",
       "4      Aaron Schock   male  1981-05-28  The-United-States-of-America   \n",
       "\n",
       "               name  \n",
       "0     Aaron Ashmore  \n",
       "1  Aaron Motsoaledi  \n",
       "2      Aaron Ramsey  \n",
       "3     Aaron Rodgers  \n",
       "4      Aaron Schock  "
      ]
     },
     "execution_count": 72,
     "metadata": {},
     "output_type": "execute_result"
    }
   ],
   "source": [
    "vips_metadata_gkg_df = pd.merge(df_celeb_only_names, vips_metadata_gkg_df, left_on='Name', right_on='name', how=\"outer\")\n",
    "vips_metadata_gkg_df.head()"
   ]
  },
  {
   "cell_type": "code",
   "execution_count": 73,
   "metadata": {},
   "outputs": [],
   "source": [
    "del vips_metadata_gkg_df['name']"
   ]
  },
  {
   "cell_type": "markdown",
   "metadata": {},
   "source": [
    "Let's now  perform the last join so that all APIs are in a single data source:"
   ]
  },
  {
   "cell_type": "code",
   "execution_count": 74,
   "metadata": {},
   "outputs": [
    {
     "data": {
      "text/html": [
       "<div>\n",
       "<style scoped>\n",
       "    .dataframe tbody tr th:only-of-type {\n",
       "        vertical-align: middle;\n",
       "    }\n",
       "\n",
       "    .dataframe tbody tr th {\n",
       "        vertical-align: top;\n",
       "    }\n",
       "\n",
       "    .dataframe thead th {\n",
       "        text-align: right;\n",
       "    }\n",
       "</style>\n",
       "<table border=\"1\" class=\"dataframe\">\n",
       "  <thead>\n",
       "    <tr style=\"text-align: right;\">\n",
       "      <th></th>\n",
       "      <th>Name</th>\n",
       "      <th>gender_wiki</th>\n",
       "      <th>birth_date_wiki</th>\n",
       "      <th>nationality_wiki</th>\n",
       "      <th>gender_dbpedia</th>\n",
       "      <th>birth_date_dbpedia</th>\n",
       "      <th>nationality_dbpedia</th>\n",
       "    </tr>\n",
       "  </thead>\n",
       "  <tbody>\n",
       "    <tr>\n",
       "      <th>0</th>\n",
       "      <td>Aaron Ashmore</td>\n",
       "      <td>male</td>\n",
       "      <td>1979-10-07</td>\n",
       "      <td>Canada</td>\n",
       "      <td>male</td>\n",
       "      <td>1979-10-07</td>\n",
       "      <td>NaN</td>\n",
       "    </tr>\n",
       "    <tr>\n",
       "      <th>1</th>\n",
       "      <td>Aaron Motsoaledi</td>\n",
       "      <td>male</td>\n",
       "      <td>1958-08-07</td>\n",
       "      <td>South-Africa</td>\n",
       "      <td>male</td>\n",
       "      <td>1958-08-07</td>\n",
       "      <td>NaN</td>\n",
       "    </tr>\n",
       "    <tr>\n",
       "      <th>2</th>\n",
       "      <td>Aaron Ramsey</td>\n",
       "      <td>male</td>\n",
       "      <td>1990-12-26</td>\n",
       "      <td>The-United-Kingdom-1</td>\n",
       "      <td>male</td>\n",
       "      <td>1990-12-26</td>\n",
       "      <td>NaN</td>\n",
       "    </tr>\n",
       "    <tr>\n",
       "      <th>3</th>\n",
       "      <td>Aaron Rodgers</td>\n",
       "      <td>male</td>\n",
       "      <td>1983-12-02</td>\n",
       "      <td>The-United-States-of-America</td>\n",
       "      <td>male</td>\n",
       "      <td>1983-12-2</td>\n",
       "      <td>NaN</td>\n",
       "    </tr>\n",
       "    <tr>\n",
       "      <th>4</th>\n",
       "      <td>Aaron Schock</td>\n",
       "      <td>male</td>\n",
       "      <td>1981-05-28</td>\n",
       "      <td>The-United-States-of-America</td>\n",
       "      <td>male</td>\n",
       "      <td>1981-05-28</td>\n",
       "      <td>NaN</td>\n",
       "    </tr>\n",
       "  </tbody>\n",
       "</table>\n",
       "</div>"
      ],
      "text/plain": [
       "               Name gender_wiki birth_date_wiki              nationality_wiki  \\\n",
       "0     Aaron Ashmore        male      1979-10-07                        Canada   \n",
       "1  Aaron Motsoaledi        male      1958-08-07                  South-Africa   \n",
       "2      Aaron Ramsey        male      1990-12-26          The-United-Kingdom-1   \n",
       "3     Aaron Rodgers        male      1983-12-02  The-United-States-of-America   \n",
       "4      Aaron Schock        male      1981-05-28  The-United-States-of-America   \n",
       "\n",
       "  gender_dbpedia birth_date_dbpedia nationality_dbpedia  \n",
       "0           male         1979-10-07                 NaN  \n",
       "1           male         1958-08-07                 NaN  \n",
       "2           male         1990-12-26                 NaN  \n",
       "3           male          1983-12-2                 NaN  \n",
       "4           male         1981-05-28                 NaN  "
      ]
     },
     "execution_count": 74,
     "metadata": {},
     "output_type": "execute_result"
    }
   ],
   "source": [
    "wikidata_join_dbpedia_join_vip = pd.merge(vips_metadata_wikidata_df, vips_metadata_dbpedia_df, left_on='Name', right_on='Name', how='outer', suffixes=('_wiki', '_dbpedia'))\n",
    "wikidata_join_dbpedia_join_vip.head()"
   ]
  },
  {
   "cell_type": "code",
   "execution_count": 75,
   "metadata": {},
   "outputs": [
    {
     "data": {
      "text/html": [
       "<div>\n",
       "<style scoped>\n",
       "    .dataframe tbody tr th:only-of-type {\n",
       "        vertical-align: middle;\n",
       "    }\n",
       "\n",
       "    .dataframe tbody tr th {\n",
       "        vertical-align: top;\n",
       "    }\n",
       "\n",
       "    .dataframe thead th {\n",
       "        text-align: right;\n",
       "    }\n",
       "</style>\n",
       "<table border=\"1\" class=\"dataframe\">\n",
       "  <thead>\n",
       "    <tr style=\"text-align: right;\">\n",
       "      <th></th>\n",
       "      <th>Name</th>\n",
       "      <th>gender_wiki</th>\n",
       "      <th>birth_date_wiki</th>\n",
       "      <th>nationality_wiki</th>\n",
       "      <th>gender_dbpedia</th>\n",
       "      <th>birth_date_dbpedia</th>\n",
       "      <th>nationality_dbpedia</th>\n",
       "      <th>gender</th>\n",
       "      <th>birth_date</th>\n",
       "      <th>nationality</th>\n",
       "    </tr>\n",
       "  </thead>\n",
       "  <tbody>\n",
       "    <tr>\n",
       "      <th>0</th>\n",
       "      <td>Aaron Ashmore</td>\n",
       "      <td>male</td>\n",
       "      <td>1979-10-07</td>\n",
       "      <td>Canada</td>\n",
       "      <td>male</td>\n",
       "      <td>1979-10-07</td>\n",
       "      <td>NaN</td>\n",
       "      <td>male</td>\n",
       "      <td>1979-10-07</td>\n",
       "      <td>Canada</td>\n",
       "    </tr>\n",
       "    <tr>\n",
       "      <th>1</th>\n",
       "      <td>Aaron Motsoaledi</td>\n",
       "      <td>male</td>\n",
       "      <td>1958-08-07</td>\n",
       "      <td>South-Africa</td>\n",
       "      <td>male</td>\n",
       "      <td>1958-08-07</td>\n",
       "      <td>NaN</td>\n",
       "      <td>male</td>\n",
       "      <td>1958-08-07</td>\n",
       "      <td>South-Africa</td>\n",
       "    </tr>\n",
       "    <tr>\n",
       "      <th>2</th>\n",
       "      <td>Aaron Ramsey</td>\n",
       "      <td>male</td>\n",
       "      <td>1990-12-26</td>\n",
       "      <td>The-United-Kingdom-1</td>\n",
       "      <td>male</td>\n",
       "      <td>1990-12-26</td>\n",
       "      <td>NaN</td>\n",
       "      <td>male</td>\n",
       "      <td>1990-12-26</td>\n",
       "      <td>The-United-Kingdom-1</td>\n",
       "    </tr>\n",
       "    <tr>\n",
       "      <th>3</th>\n",
       "      <td>Aaron Rodgers</td>\n",
       "      <td>male</td>\n",
       "      <td>1983-12-02</td>\n",
       "      <td>The-United-States-of-America</td>\n",
       "      <td>male</td>\n",
       "      <td>1983-12-2</td>\n",
       "      <td>NaN</td>\n",
       "      <td>male</td>\n",
       "      <td>1983-12-02</td>\n",
       "      <td>The-United-States-of-America</td>\n",
       "    </tr>\n",
       "    <tr>\n",
       "      <th>4</th>\n",
       "      <td>Aaron Schock</td>\n",
       "      <td>male</td>\n",
       "      <td>1981-05-28</td>\n",
       "      <td>The-United-States-of-America</td>\n",
       "      <td>male</td>\n",
       "      <td>1981-05-28</td>\n",
       "      <td>NaN</td>\n",
       "      <td>male</td>\n",
       "      <td>1981-05-28</td>\n",
       "      <td>The-United-States-of-America</td>\n",
       "    </tr>\n",
       "  </tbody>\n",
       "</table>\n",
       "</div>"
      ],
      "text/plain": [
       "               Name gender_wiki birth_date_wiki              nationality_wiki  \\\n",
       "0     Aaron Ashmore        male      1979-10-07                        Canada   \n",
       "1  Aaron Motsoaledi        male      1958-08-07                  South-Africa   \n",
       "2      Aaron Ramsey        male      1990-12-26          The-United-Kingdom-1   \n",
       "3     Aaron Rodgers        male      1983-12-02  The-United-States-of-America   \n",
       "4      Aaron Schock        male      1981-05-28  The-United-States-of-America   \n",
       "\n",
       "  gender_dbpedia birth_date_dbpedia nationality_dbpedia gender  birth_date  \\\n",
       "0           male         1979-10-07                 NaN   male  1979-10-07   \n",
       "1           male         1958-08-07                 NaN   male  1958-08-07   \n",
       "2           male         1990-12-26                 NaN   male  1990-12-26   \n",
       "3           male          1983-12-2                 NaN   male  1983-12-02   \n",
       "4           male         1981-05-28                 NaN   male  1981-05-28   \n",
       "\n",
       "                    nationality  \n",
       "0                        Canada  \n",
       "1                  South-Africa  \n",
       "2          The-United-Kingdom-1  \n",
       "3  The-United-States-of-America  \n",
       "4  The-United-States-of-America  "
      ]
     },
     "execution_count": 75,
     "metadata": {},
     "output_type": "execute_result"
    }
   ],
   "source": [
    "wikidata_join_dbpedia_join_gkg_join_vip = pd.merge(wikidata_join_dbpedia_join_vip,\n",
    "                                                   vips_metadata_gkg_df,\n",
    "                                                   left_on='Name',\n",
    "                                                   right_on='Name',\n",
    "                                                   how='outer',\n",
    "                                                   suffixes=('', '_gkg'))\n",
    "wikidata_join_dbpedia_join_gkg_join_vip.head()"
   ]
  },
  {
   "cell_type": "code",
   "execution_count": 76,
   "metadata": {},
   "outputs": [],
   "source": [
    "wikidata_join_dbpedia_join_gkg_join_vip.rename(columns={\n",
    "    'gender': 'gender_gkg',\n",
    "    'birth_date': 'birth_date_gkg',\n",
    "    'nationality': 'nationality_gkg'\n",
    "}, inplace=True)"
   ]
  },
  {
   "cell_type": "markdown",
   "metadata": {},
   "source": [
    "## Add VoxCeleb ID to the corresponding video\n",
    "For doing that I will use the mapping \"YT video - VoxCeleb ID\" previously computed by iterating the folder structure of VoxCeleb dataset"
   ]
  },
  {
   "cell_type": "code",
   "execution_count": 77,
   "metadata": {},
   "outputs": [],
   "source": [
    "video_people_df = pd.DataFrame.from_dict(video_people, orient='index')\n",
    "video_people_df = video_people_df.transpose()"
   ]
  },
  {
   "cell_type": "code",
   "execution_count": 78,
   "metadata": {},
   "outputs": [],
   "source": [
    "voxceleb_ids = []\n",
    "for yt_id in df['video_id']:\n",
    "    voxceleb_id = [x for x in list(video_people_df[yt_id]) if x is not None]\n",
    "    voxceleb_ids.append(voxceleb_id)\n",
    "df['voxceleb_ids'] = voxceleb_ids"
   ]
  },
  {
   "cell_type": "markdown",
   "metadata": {},
   "source": [
    "Let's see how the df now appears."
   ]
  },
  {
   "cell_type": "code",
   "execution_count": 79,
   "metadata": {},
   "outputs": [
    {
     "data": {
      "text/html": [
       "<div>\n",
       "<style scoped>\n",
       "    .dataframe tbody tr th:only-of-type {\n",
       "        vertical-align: middle;\n",
       "    }\n",
       "\n",
       "    .dataframe tbody tr th {\n",
       "        vertical-align: top;\n",
       "    }\n",
       "\n",
       "    .dataframe thead th {\n",
       "        text-align: right;\n",
       "    }\n",
       "</style>\n",
       "<table border=\"1\" class=\"dataframe\">\n",
       "  <thead>\n",
       "    <tr style=\"text-align: right;\">\n",
       "      <th></th>\n",
       "      <th>video_id</th>\n",
       "      <th>title</th>\n",
       "      <th>publishing_date</th>\n",
       "      <th>description</th>\n",
       "      <th>year_in_title</th>\n",
       "      <th>voxceleb_ids</th>\n",
       "    </tr>\n",
       "  </thead>\n",
       "  <tbody>\n",
       "    <tr>\n",
       "      <th>0</th>\n",
       "      <td>SRtnMcmt8-E</td>\n",
       "      <td>Gemma Arterton &amp; Dominic Cooper chat to us abo...</td>\n",
       "      <td>2010-09-09T13:40:40Z</td>\n",
       "      <td>Subscribe to our channel: http://bit.ly/Empire...</td>\n",
       "      <td></td>\n",
       "      <td>[id10247]</td>\n",
       "    </tr>\n",
       "    <tr>\n",
       "      <th>1</th>\n",
       "      <td>WUgz60174jo</td>\n",
       "      <td>Ian Somerhalder Wants In On \"50 Shades\" Film |...</td>\n",
       "      <td>2012-04-23T14:59:21Z</td>\n",
       "      <td>\"SUBSCRIBE: http://full.sc/UBDdWt Would \"\"Vamp...</td>\n",
       "      <td></td>\n",
       "      <td>[id10386]</td>\n",
       "    </tr>\n",
       "    <tr>\n",
       "      <th>2</th>\n",
       "      <td>li4SFwdLUos</td>\n",
       "      <td>Callan McAuliffe 'Disney's Prom' Premiere Inte...</td>\n",
       "      <td>2011-04-23T00:50:59Z</td>\n",
       "      <td>http://Facebook.com/ClevverTV - Become a Fan! ...</td>\n",
       "      <td></td>\n",
       "      <td>[id10120]</td>\n",
       "    </tr>\n",
       "    <tr>\n",
       "      <th>3</th>\n",
       "      <td>GUKVh9OpxJc</td>\n",
       "      <td>Ian Somerhalder Interview \"The Vampire Diaries...</td>\n",
       "      <td>2016-07-24T00:20:01Z</td>\n",
       "      <td>Thank you to T-Mobile for sponsoring this epis...</td>\n",
       "      <td>2016</td>\n",
       "      <td>[id10386]</td>\n",
       "    </tr>\n",
       "    <tr>\n",
       "      <th>4</th>\n",
       "      <td>wKozbkkc8UA</td>\n",
       "      <td>Sarah Wayne Callies Interview - The Walking De...</td>\n",
       "      <td>2013-07-09T14:10:02Z</td>\n",
       "      <td>Sarah Wayne Callies Interview - The Walking De...</td>\n",
       "      <td></td>\n",
       "      <td>[id11049]</td>\n",
       "    </tr>\n",
       "  </tbody>\n",
       "</table>\n",
       "</div>"
      ],
      "text/plain": [
       "      video_id                                              title  \\\n",
       "0  SRtnMcmt8-E  Gemma Arterton & Dominic Cooper chat to us abo...   \n",
       "1  WUgz60174jo  Ian Somerhalder Wants In On \"50 Shades\" Film |...   \n",
       "2  li4SFwdLUos  Callan McAuliffe 'Disney's Prom' Premiere Inte...   \n",
       "3  GUKVh9OpxJc  Ian Somerhalder Interview \"The Vampire Diaries...   \n",
       "4  wKozbkkc8UA  Sarah Wayne Callies Interview - The Walking De...   \n",
       "\n",
       "        publishing_date                                        description  \\\n",
       "0  2010-09-09T13:40:40Z  Subscribe to our channel: http://bit.ly/Empire...   \n",
       "1  2012-04-23T14:59:21Z  \"SUBSCRIBE: http://full.sc/UBDdWt Would \"\"Vamp...   \n",
       "2  2011-04-23T00:50:59Z  http://Facebook.com/ClevverTV - Become a Fan! ...   \n",
       "3  2016-07-24T00:20:01Z  Thank you to T-Mobile for sponsoring this epis...   \n",
       "4  2013-07-09T14:10:02Z  Sarah Wayne Callies Interview - The Walking De...   \n",
       "\n",
       "  year_in_title voxceleb_ids  \n",
       "0                  [id10247]  \n",
       "1                  [id10386]  \n",
       "2                  [id10120]  \n",
       "3          2016    [id10386]  \n",
       "4                  [id11049]  "
      ]
     },
     "execution_count": 79,
     "metadata": {},
     "output_type": "execute_result"
    }
   ],
   "source": [
    "del df['person'] # for excluding the names extracted by the NER on the various titles\n",
    "df.head()"
   ]
  },
  {
   "cell_type": "code",
   "execution_count": 80,
   "metadata": {},
   "outputs": [
    {
     "data": {
      "text/plain": [
       "(170678, 6)"
      ]
     },
     "execution_count": 80,
     "metadata": {},
     "output_type": "execute_result"
    }
   ],
   "source": [
    "df.shape"
   ]
  },
  {
   "cell_type": "markdown",
   "metadata": {},
   "source": [
    "Let's now \"explode\" the dataset so that each row will only have one ID in the form of a string:"
   ]
  },
  {
   "cell_type": "code",
   "execution_count": 81,
   "metadata": {},
   "outputs": [
    {
     "data": {
      "text/html": [
       "<div>\n",
       "<style scoped>\n",
       "    .dataframe tbody tr th:only-of-type {\n",
       "        vertical-align: middle;\n",
       "    }\n",
       "\n",
       "    .dataframe tbody tr th {\n",
       "        vertical-align: top;\n",
       "    }\n",
       "\n",
       "    .dataframe thead th {\n",
       "        text-align: right;\n",
       "    }\n",
       "</style>\n",
       "<table border=\"1\" class=\"dataframe\">\n",
       "  <thead>\n",
       "    <tr style=\"text-align: right;\">\n",
       "      <th></th>\n",
       "      <th>video_id</th>\n",
       "      <th>title</th>\n",
       "      <th>publishing_date</th>\n",
       "      <th>description</th>\n",
       "      <th>year_in_title</th>\n",
       "      <th>voxceleb_ids</th>\n",
       "    </tr>\n",
       "  </thead>\n",
       "  <tbody>\n",
       "    <tr>\n",
       "      <th>0</th>\n",
       "      <td>SRtnMcmt8-E</td>\n",
       "      <td>Gemma Arterton &amp; Dominic Cooper chat to us abo...</td>\n",
       "      <td>2010-09-09T13:40:40Z</td>\n",
       "      <td>Subscribe to our channel: http://bit.ly/Empire...</td>\n",
       "      <td></td>\n",
       "      <td>id10247</td>\n",
       "    </tr>\n",
       "    <tr>\n",
       "      <th>1</th>\n",
       "      <td>WUgz60174jo</td>\n",
       "      <td>Ian Somerhalder Wants In On \"50 Shades\" Film |...</td>\n",
       "      <td>2012-04-23T14:59:21Z</td>\n",
       "      <td>\"SUBSCRIBE: http://full.sc/UBDdWt Would \"\"Vamp...</td>\n",
       "      <td></td>\n",
       "      <td>id10386</td>\n",
       "    </tr>\n",
       "    <tr>\n",
       "      <th>2</th>\n",
       "      <td>li4SFwdLUos</td>\n",
       "      <td>Callan McAuliffe 'Disney's Prom' Premiere Inte...</td>\n",
       "      <td>2011-04-23T00:50:59Z</td>\n",
       "      <td>http://Facebook.com/ClevverTV - Become a Fan! ...</td>\n",
       "      <td></td>\n",
       "      <td>id10120</td>\n",
       "    </tr>\n",
       "    <tr>\n",
       "      <th>3</th>\n",
       "      <td>GUKVh9OpxJc</td>\n",
       "      <td>Ian Somerhalder Interview \"The Vampire Diaries...</td>\n",
       "      <td>2016-07-24T00:20:01Z</td>\n",
       "      <td>Thank you to T-Mobile for sponsoring this epis...</td>\n",
       "      <td>2016</td>\n",
       "      <td>id10386</td>\n",
       "    </tr>\n",
       "    <tr>\n",
       "      <th>4</th>\n",
       "      <td>wKozbkkc8UA</td>\n",
       "      <td>Sarah Wayne Callies Interview - The Walking De...</td>\n",
       "      <td>2013-07-09T14:10:02Z</td>\n",
       "      <td>Sarah Wayne Callies Interview - The Walking De...</td>\n",
       "      <td></td>\n",
       "      <td>id11049</td>\n",
       "    </tr>\n",
       "  </tbody>\n",
       "</table>\n",
       "</div>"
      ],
      "text/plain": [
       "      video_id                                              title  \\\n",
       "0  SRtnMcmt8-E  Gemma Arterton & Dominic Cooper chat to us abo...   \n",
       "1  WUgz60174jo  Ian Somerhalder Wants In On \"50 Shades\" Film |...   \n",
       "2  li4SFwdLUos  Callan McAuliffe 'Disney's Prom' Premiere Inte...   \n",
       "3  GUKVh9OpxJc  Ian Somerhalder Interview \"The Vampire Diaries...   \n",
       "4  wKozbkkc8UA  Sarah Wayne Callies Interview - The Walking De...   \n",
       "\n",
       "        publishing_date                                        description  \\\n",
       "0  2010-09-09T13:40:40Z  Subscribe to our channel: http://bit.ly/Empire...   \n",
       "1  2012-04-23T14:59:21Z  \"SUBSCRIBE: http://full.sc/UBDdWt Would \"\"Vamp...   \n",
       "2  2011-04-23T00:50:59Z  http://Facebook.com/ClevverTV - Become a Fan! ...   \n",
       "3  2016-07-24T00:20:01Z  Thank you to T-Mobile for sponsoring this epis...   \n",
       "4  2013-07-09T14:10:02Z  Sarah Wayne Callies Interview - The Walking De...   \n",
       "\n",
       "  year_in_title voxceleb_ids  \n",
       "0                    id10247  \n",
       "1                    id10386  \n",
       "2                    id10120  \n",
       "3          2016      id10386  \n",
       "4                    id11049  "
      ]
     },
     "execution_count": 81,
     "metadata": {},
     "output_type": "execute_result"
    }
   ],
   "source": [
    "df = df.explode('voxceleb_ids').reset_index(drop=True)\n",
    "df['voxceleb_ids'] = df.voxceleb_ids.apply(lambda x: \"\".join(x))\n",
    "df.head()"
   ]
  },
  {
   "cell_type": "markdown",
   "metadata": {},
   "source": [
    "Previous shape: (171846, 6)"
   ]
  },
  {
   "cell_type": "code",
   "execution_count": 82,
   "metadata": {},
   "outputs": [
    {
     "data": {
      "text/plain": [
       "(171846, 6)"
      ]
     },
     "execution_count": 82,
     "metadata": {},
     "output_type": "execute_result"
    }
   ],
   "source": [
    "df.shape"
   ]
  },
  {
   "cell_type": "markdown",
   "metadata": {},
   "source": [
    "### Replace Voxceleb id with the person name."
   ]
  },
  {
   "cell_type": "code",
   "execution_count": 83,
   "metadata": {},
   "outputs": [],
   "source": [
    "df_celeb_join = df_celeb[['Name', 'VoxCeleb_ID']]"
   ]
  },
  {
   "cell_type": "code",
   "execution_count": 84,
   "metadata": {},
   "outputs": [
    {
     "data": {
      "text/html": [
       "<div>\n",
       "<style scoped>\n",
       "    .dataframe tbody tr th:only-of-type {\n",
       "        vertical-align: middle;\n",
       "    }\n",
       "\n",
       "    .dataframe tbody tr th {\n",
       "        vertical-align: top;\n",
       "    }\n",
       "\n",
       "    .dataframe thead th {\n",
       "        text-align: right;\n",
       "    }\n",
       "</style>\n",
       "<table border=\"1\" class=\"dataframe\">\n",
       "  <thead>\n",
       "    <tr style=\"text-align: right;\">\n",
       "      <th></th>\n",
       "      <th>Name</th>\n",
       "      <th>VoxCeleb_ID</th>\n",
       "    </tr>\n",
       "  </thead>\n",
       "  <tbody>\n",
       "    <tr>\n",
       "      <th>0</th>\n",
       "      <td>Aaron Ashmore</td>\n",
       "      <td>id00012</td>\n",
       "    </tr>\n",
       "    <tr>\n",
       "      <th>1</th>\n",
       "      <td>Aaron Motsoaledi</td>\n",
       "      <td>id00015</td>\n",
       "    </tr>\n",
       "    <tr>\n",
       "      <th>2</th>\n",
       "      <td>Aaron Ramsey</td>\n",
       "      <td>id00016</td>\n",
       "    </tr>\n",
       "    <tr>\n",
       "      <th>3</th>\n",
       "      <td>Aaron Rodgers</td>\n",
       "      <td>id00017</td>\n",
       "    </tr>\n",
       "    <tr>\n",
       "      <th>4</th>\n",
       "      <td>Aaron Schock</td>\n",
       "      <td>id00018</td>\n",
       "    </tr>\n",
       "  </tbody>\n",
       "</table>\n",
       "</div>"
      ],
      "text/plain": [
       "               Name VoxCeleb_ID\n",
       "0     Aaron Ashmore     id00012\n",
       "1  Aaron Motsoaledi     id00015\n",
       "2      Aaron Ramsey     id00016\n",
       "3     Aaron Rodgers     id00017\n",
       "4      Aaron Schock     id00018"
      ]
     },
     "execution_count": 84,
     "metadata": {},
     "output_type": "execute_result"
    }
   ],
   "source": [
    "df_celeb_join.head()"
   ]
  },
  {
   "cell_type": "markdown",
   "metadata": {},
   "source": [
    "DF celebrities join DF with videos (so that we have the various names)"
   ]
  },
  {
   "cell_type": "code",
   "execution_count": 85,
   "metadata": {},
   "outputs": [
    {
     "data": {
      "text/html": [
       "<div>\n",
       "<style scoped>\n",
       "    .dataframe tbody tr th:only-of-type {\n",
       "        vertical-align: middle;\n",
       "    }\n",
       "\n",
       "    .dataframe tbody tr th {\n",
       "        vertical-align: top;\n",
       "    }\n",
       "\n",
       "    .dataframe thead th {\n",
       "        text-align: right;\n",
       "    }\n",
       "</style>\n",
       "<table border=\"1\" class=\"dataframe\">\n",
       "  <thead>\n",
       "    <tr style=\"text-align: right;\">\n",
       "      <th></th>\n",
       "      <th>video_id</th>\n",
       "      <th>title</th>\n",
       "      <th>publishing_date</th>\n",
       "      <th>description</th>\n",
       "      <th>year_in_title</th>\n",
       "      <th>voxceleb_ids</th>\n",
       "      <th>Name</th>\n",
       "      <th>VoxCeleb_ID</th>\n",
       "    </tr>\n",
       "  </thead>\n",
       "  <tbody>\n",
       "    <tr>\n",
       "      <th>0</th>\n",
       "      <td>DoazlQs250s</td>\n",
       "      <td>Biathlon: Interview mit Arnd Peiffer (28.01.2013)</td>\n",
       "      <td>2013-01-30T12:22:48Z</td>\n",
       "      <td>\"Interview mit Arnd Peiffer beim abschlie\\u00d...</td>\n",
       "      <td>2013</td>\n",
       "      <td>id00778</td>\n",
       "      <td>Arnd Peiffer</td>\n",
       "      <td>id00778</td>\n",
       "    </tr>\n",
       "    <tr>\n",
       "      <th>1</th>\n",
       "      <td>UKogERawW7I</td>\n",
       "      <td>#Hochfilzen2017: Gold for Germany in Mixed Relay</td>\n",
       "      <td>2017-02-09T17:21:31Z</td>\n",
       "      <td>\"It was a successful first competition for the...</td>\n",
       "      <td>2017</td>\n",
       "      <td>id00778</td>\n",
       "      <td>Arnd Peiffer</td>\n",
       "      <td>id00778</td>\n",
       "    </tr>\n",
       "    <tr>\n",
       "      <th>2</th>\n",
       "      <td>gpK4kMSrU2U</td>\n",
       "      <td>Östersund-2016. Comments from Benedikt Doll, A...</td>\n",
       "      <td>2016-11-28T07:05:06Z</td>\n",
       "      <td>\"\\u00d6stersund-2016. Comments from Benedikt D...</td>\n",
       "      <td>2016</td>\n",
       "      <td>id00778</td>\n",
       "      <td>Arnd Peiffer</td>\n",
       "      <td>id00778</td>\n",
       "    </tr>\n",
       "    <tr>\n",
       "      <th>3</th>\n",
       "      <td>QuQSwM6Hhtg</td>\n",
       "      <td>Biathlon: Interview mit Arnd Peiffer (30.10.2012)</td>\n",
       "      <td>2012-11-02T07:53:38Z</td>\n",
       "      <td>\"Interview mit Arnd Peiffer bei der DSV-Einkle...</td>\n",
       "      <td>2012</td>\n",
       "      <td>id00778</td>\n",
       "      <td>Arnd Peiffer</td>\n",
       "      <td>id00778</td>\n",
       "    </tr>\n",
       "    <tr>\n",
       "      <th>4</th>\n",
       "      <td>JHx3ulJfMtA</td>\n",
       "      <td>Arnd Peiffer</td>\n",
       "      <td>2010-03-15T02:32:14Z</td>\n",
       "      <td>\"Interview nach dem Verfolgungsrennen in Konti...</td>\n",
       "      <td></td>\n",
       "      <td>id00778</td>\n",
       "      <td>Arnd Peiffer</td>\n",
       "      <td>id00778</td>\n",
       "    </tr>\n",
       "  </tbody>\n",
       "</table>\n",
       "</div>"
      ],
      "text/plain": [
       "      video_id                                              title  \\\n",
       "0  DoazlQs250s  Biathlon: Interview mit Arnd Peiffer (28.01.2013)   \n",
       "1  UKogERawW7I   #Hochfilzen2017: Gold for Germany in Mixed Relay   \n",
       "2  gpK4kMSrU2U  Östersund-2016. Comments from Benedikt Doll, A...   \n",
       "3  QuQSwM6Hhtg  Biathlon: Interview mit Arnd Peiffer (30.10.2012)   \n",
       "4  JHx3ulJfMtA                                       Arnd Peiffer   \n",
       "\n",
       "        publishing_date                                        description  \\\n",
       "0  2013-01-30T12:22:48Z  \"Interview mit Arnd Peiffer beim abschlie\\u00d...   \n",
       "1  2017-02-09T17:21:31Z  \"It was a successful first competition for the...   \n",
       "2  2016-11-28T07:05:06Z  \"\\u00d6stersund-2016. Comments from Benedikt D...   \n",
       "3  2012-11-02T07:53:38Z  \"Interview mit Arnd Peiffer bei der DSV-Einkle...   \n",
       "4  2010-03-15T02:32:14Z  \"Interview nach dem Verfolgungsrennen in Konti...   \n",
       "\n",
       "  year_in_title voxceleb_ids          Name VoxCeleb_ID  \n",
       "0          2013      id00778  Arnd Peiffer     id00778  \n",
       "1          2017      id00778  Arnd Peiffer     id00778  \n",
       "2          2016      id00778  Arnd Peiffer     id00778  \n",
       "3          2012      id00778  Arnd Peiffer     id00778  \n",
       "4                    id00778  Arnd Peiffer     id00778  "
      ]
     },
     "execution_count": 85,
     "metadata": {},
     "output_type": "execute_result"
    }
   ],
   "source": [
    "df_join_celeb = pd.merge(df, df_celeb_join, left_on='voxceleb_ids', right_on='VoxCeleb_ID')\n",
    "df_join_celeb.head()"
   ]
  },
  {
   "cell_type": "markdown",
   "metadata": {},
   "source": [
    "## Final join"
   ]
  },
  {
   "cell_type": "code",
   "execution_count": 317,
   "metadata": {},
   "outputs": [
    {
     "data": {
      "text/html": [
       "<div>\n",
       "<style scoped>\n",
       "    .dataframe tbody tr th:only-of-type {\n",
       "        vertical-align: middle;\n",
       "    }\n",
       "\n",
       "    .dataframe tbody tr th {\n",
       "        vertical-align: top;\n",
       "    }\n",
       "\n",
       "    .dataframe thead th {\n",
       "        text-align: right;\n",
       "    }\n",
       "</style>\n",
       "<table border=\"1\" class=\"dataframe\">\n",
       "  <thead>\n",
       "    <tr style=\"text-align: right;\">\n",
       "      <th></th>\n",
       "      <th>Name</th>\n",
       "      <th>gender_wiki</th>\n",
       "      <th>birth_date_wiki</th>\n",
       "      <th>nationality_wiki</th>\n",
       "      <th>gender_dbpedia</th>\n",
       "      <th>birth_date_dbpedia</th>\n",
       "      <th>nationality_dbpedia</th>\n",
       "      <th>gender_gkg</th>\n",
       "      <th>birth_date_gkg</th>\n",
       "      <th>nationality_gkg</th>\n",
       "      <th>video_id</th>\n",
       "      <th>title</th>\n",
       "      <th>publishing_date</th>\n",
       "      <th>description</th>\n",
       "      <th>year_in_title</th>\n",
       "      <th>voxceleb_ids</th>\n",
       "      <th>VoxCeleb_ID</th>\n",
       "    </tr>\n",
       "  </thead>\n",
       "  <tbody>\n",
       "    <tr>\n",
       "      <th>0</th>\n",
       "      <td>Arnd Peiffer</td>\n",
       "      <td>male</td>\n",
       "      <td>1987-03-18</td>\n",
       "      <td>Germany</td>\n",
       "      <td>male</td>\n",
       "      <td>1987-3-18</td>\n",
       "      <td>NaN</td>\n",
       "      <td>male</td>\n",
       "      <td>1987-03-18</td>\n",
       "      <td>Germany</td>\n",
       "      <td>DoazlQs250s</td>\n",
       "      <td>Biathlon: Interview mit Arnd Peiffer (28.01.2013)</td>\n",
       "      <td>2013-01-30T12:22:48Z</td>\n",
       "      <td>\"Interview mit Arnd Peiffer beim abschlie\\u00d...</td>\n",
       "      <td>2013</td>\n",
       "      <td>id00778</td>\n",
       "      <td>id00778</td>\n",
       "    </tr>\n",
       "    <tr>\n",
       "      <th>1</th>\n",
       "      <td>Arnd Peiffer</td>\n",
       "      <td>male</td>\n",
       "      <td>1987-03-18</td>\n",
       "      <td>Germany</td>\n",
       "      <td>male</td>\n",
       "      <td>1987-3-18</td>\n",
       "      <td>NaN</td>\n",
       "      <td>male</td>\n",
       "      <td>1987-03-18</td>\n",
       "      <td>Germany</td>\n",
       "      <td>UKogERawW7I</td>\n",
       "      <td>#Hochfilzen2017: Gold for Germany in Mixed Relay</td>\n",
       "      <td>2017-02-09T17:21:31Z</td>\n",
       "      <td>\"It was a successful first competition for the...</td>\n",
       "      <td>2017</td>\n",
       "      <td>id00778</td>\n",
       "      <td>id00778</td>\n",
       "    </tr>\n",
       "    <tr>\n",
       "      <th>2</th>\n",
       "      <td>Arnd Peiffer</td>\n",
       "      <td>male</td>\n",
       "      <td>1987-03-18</td>\n",
       "      <td>Germany</td>\n",
       "      <td>male</td>\n",
       "      <td>1987-3-18</td>\n",
       "      <td>NaN</td>\n",
       "      <td>male</td>\n",
       "      <td>1987-03-18</td>\n",
       "      <td>Germany</td>\n",
       "      <td>gpK4kMSrU2U</td>\n",
       "      <td>Östersund-2016. Comments from Benedikt Doll, A...</td>\n",
       "      <td>2016-11-28T07:05:06Z</td>\n",
       "      <td>\"\\u00d6stersund-2016. Comments from Benedikt D...</td>\n",
       "      <td>2016</td>\n",
       "      <td>id00778</td>\n",
       "      <td>id00778</td>\n",
       "    </tr>\n",
       "    <tr>\n",
       "      <th>3</th>\n",
       "      <td>Arnd Peiffer</td>\n",
       "      <td>male</td>\n",
       "      <td>1987-03-18</td>\n",
       "      <td>Germany</td>\n",
       "      <td>male</td>\n",
       "      <td>1987-3-18</td>\n",
       "      <td>NaN</td>\n",
       "      <td>male</td>\n",
       "      <td>1987-03-18</td>\n",
       "      <td>Germany</td>\n",
       "      <td>QuQSwM6Hhtg</td>\n",
       "      <td>Biathlon: Interview mit Arnd Peiffer (30.10.2012)</td>\n",
       "      <td>2012-11-02T07:53:38Z</td>\n",
       "      <td>\"Interview mit Arnd Peiffer bei der DSV-Einkle...</td>\n",
       "      <td>2012</td>\n",
       "      <td>id00778</td>\n",
       "      <td>id00778</td>\n",
       "    </tr>\n",
       "    <tr>\n",
       "      <th>4</th>\n",
       "      <td>Arnd Peiffer</td>\n",
       "      <td>male</td>\n",
       "      <td>1987-03-18</td>\n",
       "      <td>Germany</td>\n",
       "      <td>male</td>\n",
       "      <td>1987-3-18</td>\n",
       "      <td>NaN</td>\n",
       "      <td>male</td>\n",
       "      <td>1987-03-18</td>\n",
       "      <td>Germany</td>\n",
       "      <td>JHx3ulJfMtA</td>\n",
       "      <td>Arnd Peiffer</td>\n",
       "      <td>2010-03-15T02:32:14Z</td>\n",
       "      <td>\"Interview nach dem Verfolgungsrennen in Konti...</td>\n",
       "      <td></td>\n",
       "      <td>id00778</td>\n",
       "      <td>id00778</td>\n",
       "    </tr>\n",
       "  </tbody>\n",
       "</table>\n",
       "</div>"
      ],
      "text/plain": [
       "           Name gender_wiki birth_date_wiki nationality_wiki gender_dbpedia  \\\n",
       "0  Arnd Peiffer        male      1987-03-18          Germany           male   \n",
       "1  Arnd Peiffer        male      1987-03-18          Germany           male   \n",
       "2  Arnd Peiffer        male      1987-03-18          Germany           male   \n",
       "3  Arnd Peiffer        male      1987-03-18          Germany           male   \n",
       "4  Arnd Peiffer        male      1987-03-18          Germany           male   \n",
       "\n",
       "  birth_date_dbpedia nationality_dbpedia gender_gkg birth_date_gkg  \\\n",
       "0          1987-3-18                 NaN       male     1987-03-18   \n",
       "1          1987-3-18                 NaN       male     1987-03-18   \n",
       "2          1987-3-18                 NaN       male     1987-03-18   \n",
       "3          1987-3-18                 NaN       male     1987-03-18   \n",
       "4          1987-3-18                 NaN       male     1987-03-18   \n",
       "\n",
       "  nationality_gkg     video_id  \\\n",
       "0         Germany  DoazlQs250s   \n",
       "1         Germany  UKogERawW7I   \n",
       "2         Germany  gpK4kMSrU2U   \n",
       "3         Germany  QuQSwM6Hhtg   \n",
       "4         Germany  JHx3ulJfMtA   \n",
       "\n",
       "                                               title       publishing_date  \\\n",
       "0  Biathlon: Interview mit Arnd Peiffer (28.01.2013)  2013-01-30T12:22:48Z   \n",
       "1   #Hochfilzen2017: Gold for Germany in Mixed Relay  2017-02-09T17:21:31Z   \n",
       "2  Östersund-2016. Comments from Benedikt Doll, A...  2016-11-28T07:05:06Z   \n",
       "3  Biathlon: Interview mit Arnd Peiffer (30.10.2012)  2012-11-02T07:53:38Z   \n",
       "4                                       Arnd Peiffer  2010-03-15T02:32:14Z   \n",
       "\n",
       "                                         description year_in_title  \\\n",
       "0  \"Interview mit Arnd Peiffer beim abschlie\\u00d...          2013   \n",
       "1  \"It was a successful first competition for the...          2017   \n",
       "2  \"\\u00d6stersund-2016. Comments from Benedikt D...          2016   \n",
       "3  \"Interview mit Arnd Peiffer bei der DSV-Einkle...          2012   \n",
       "4  \"Interview nach dem Verfolgungsrennen in Konti...                 \n",
       "\n",
       "  voxceleb_ids VoxCeleb_ID  \n",
       "0      id00778     id00778  \n",
       "1      id00778     id00778  \n",
       "2      id00778     id00778  \n",
       "3      id00778     id00778  \n",
       "4      id00778     id00778  "
      ]
     },
     "execution_count": 317,
     "metadata": {},
     "output_type": "execute_result"
    }
   ],
   "source": [
    "final_df = pd.merge(wikidata_join_dbpedia_join_gkg_join_vip, df_join_celeb, left_on='Name', right_on='Name', how=\"right\")\n",
    "final_df.head()"
   ]
  },
  {
   "cell_type": "code",
   "execution_count": 318,
   "metadata": {},
   "outputs": [],
   "source": [
    "del final_df['voxceleb_ids']"
   ]
  },
  {
   "cell_type": "code",
   "execution_count": 319,
   "metadata": {},
   "outputs": [
    {
     "data": {
      "text/html": [
       "<div>\n",
       "<style scoped>\n",
       "    .dataframe tbody tr th:only-of-type {\n",
       "        vertical-align: middle;\n",
       "    }\n",
       "\n",
       "    .dataframe tbody tr th {\n",
       "        vertical-align: top;\n",
       "    }\n",
       "\n",
       "    .dataframe thead th {\n",
       "        text-align: right;\n",
       "    }\n",
       "</style>\n",
       "<table border=\"1\" class=\"dataframe\">\n",
       "  <thead>\n",
       "    <tr style=\"text-align: right;\">\n",
       "      <th></th>\n",
       "      <th>Name</th>\n",
       "      <th>gender_wiki</th>\n",
       "      <th>birth_date_wiki</th>\n",
       "      <th>nationality_wiki</th>\n",
       "      <th>gender_dbpedia</th>\n",
       "      <th>birth_date_dbpedia</th>\n",
       "      <th>nationality_dbpedia</th>\n",
       "      <th>gender_gkg</th>\n",
       "      <th>birth_date_gkg</th>\n",
       "      <th>nationality_gkg</th>\n",
       "      <th>video_id</th>\n",
       "      <th>title</th>\n",
       "      <th>publishing_date</th>\n",
       "      <th>description</th>\n",
       "      <th>year_in_title</th>\n",
       "      <th>VoxCeleb_ID</th>\n",
       "    </tr>\n",
       "  </thead>\n",
       "  <tbody>\n",
       "    <tr>\n",
       "      <th>0</th>\n",
       "      <td>Arnd Peiffer</td>\n",
       "      <td>male</td>\n",
       "      <td>1987-03-18</td>\n",
       "      <td>Germany</td>\n",
       "      <td>male</td>\n",
       "      <td>1987-3-18</td>\n",
       "      <td>NaN</td>\n",
       "      <td>male</td>\n",
       "      <td>1987-03-18</td>\n",
       "      <td>Germany</td>\n",
       "      <td>DoazlQs250s</td>\n",
       "      <td>Biathlon: Interview mit Arnd Peiffer (28.01.2013)</td>\n",
       "      <td>2013-01-30T12:22:48Z</td>\n",
       "      <td>\"Interview mit Arnd Peiffer beim abschlie\\u00d...</td>\n",
       "      <td>2013</td>\n",
       "      <td>id00778</td>\n",
       "    </tr>\n",
       "    <tr>\n",
       "      <th>1</th>\n",
       "      <td>Arnd Peiffer</td>\n",
       "      <td>male</td>\n",
       "      <td>1987-03-18</td>\n",
       "      <td>Germany</td>\n",
       "      <td>male</td>\n",
       "      <td>1987-3-18</td>\n",
       "      <td>NaN</td>\n",
       "      <td>male</td>\n",
       "      <td>1987-03-18</td>\n",
       "      <td>Germany</td>\n",
       "      <td>UKogERawW7I</td>\n",
       "      <td>#Hochfilzen2017: Gold for Germany in Mixed Relay</td>\n",
       "      <td>2017-02-09T17:21:31Z</td>\n",
       "      <td>\"It was a successful first competition for the...</td>\n",
       "      <td>2017</td>\n",
       "      <td>id00778</td>\n",
       "    </tr>\n",
       "    <tr>\n",
       "      <th>2</th>\n",
       "      <td>Arnd Peiffer</td>\n",
       "      <td>male</td>\n",
       "      <td>1987-03-18</td>\n",
       "      <td>Germany</td>\n",
       "      <td>male</td>\n",
       "      <td>1987-3-18</td>\n",
       "      <td>NaN</td>\n",
       "      <td>male</td>\n",
       "      <td>1987-03-18</td>\n",
       "      <td>Germany</td>\n",
       "      <td>gpK4kMSrU2U</td>\n",
       "      <td>Östersund-2016. Comments from Benedikt Doll, A...</td>\n",
       "      <td>2016-11-28T07:05:06Z</td>\n",
       "      <td>\"\\u00d6stersund-2016. Comments from Benedikt D...</td>\n",
       "      <td>2016</td>\n",
       "      <td>id00778</td>\n",
       "    </tr>\n",
       "    <tr>\n",
       "      <th>3</th>\n",
       "      <td>Arnd Peiffer</td>\n",
       "      <td>male</td>\n",
       "      <td>1987-03-18</td>\n",
       "      <td>Germany</td>\n",
       "      <td>male</td>\n",
       "      <td>1987-3-18</td>\n",
       "      <td>NaN</td>\n",
       "      <td>male</td>\n",
       "      <td>1987-03-18</td>\n",
       "      <td>Germany</td>\n",
       "      <td>QuQSwM6Hhtg</td>\n",
       "      <td>Biathlon: Interview mit Arnd Peiffer (30.10.2012)</td>\n",
       "      <td>2012-11-02T07:53:38Z</td>\n",
       "      <td>\"Interview mit Arnd Peiffer bei der DSV-Einkle...</td>\n",
       "      <td>2012</td>\n",
       "      <td>id00778</td>\n",
       "    </tr>\n",
       "    <tr>\n",
       "      <th>4</th>\n",
       "      <td>Arnd Peiffer</td>\n",
       "      <td>male</td>\n",
       "      <td>1987-03-18</td>\n",
       "      <td>Germany</td>\n",
       "      <td>male</td>\n",
       "      <td>1987-3-18</td>\n",
       "      <td>NaN</td>\n",
       "      <td>male</td>\n",
       "      <td>1987-03-18</td>\n",
       "      <td>Germany</td>\n",
       "      <td>JHx3ulJfMtA</td>\n",
       "      <td>Arnd Peiffer</td>\n",
       "      <td>2010-03-15T02:32:14Z</td>\n",
       "      <td>\"Interview nach dem Verfolgungsrennen in Konti...</td>\n",
       "      <td></td>\n",
       "      <td>id00778</td>\n",
       "    </tr>\n",
       "  </tbody>\n",
       "</table>\n",
       "</div>"
      ],
      "text/plain": [
       "           Name gender_wiki birth_date_wiki nationality_wiki gender_dbpedia  \\\n",
       "0  Arnd Peiffer        male      1987-03-18          Germany           male   \n",
       "1  Arnd Peiffer        male      1987-03-18          Germany           male   \n",
       "2  Arnd Peiffer        male      1987-03-18          Germany           male   \n",
       "3  Arnd Peiffer        male      1987-03-18          Germany           male   \n",
       "4  Arnd Peiffer        male      1987-03-18          Germany           male   \n",
       "\n",
       "  birth_date_dbpedia nationality_dbpedia gender_gkg birth_date_gkg  \\\n",
       "0          1987-3-18                 NaN       male     1987-03-18   \n",
       "1          1987-3-18                 NaN       male     1987-03-18   \n",
       "2          1987-3-18                 NaN       male     1987-03-18   \n",
       "3          1987-3-18                 NaN       male     1987-03-18   \n",
       "4          1987-3-18                 NaN       male     1987-03-18   \n",
       "\n",
       "  nationality_gkg     video_id  \\\n",
       "0         Germany  DoazlQs250s   \n",
       "1         Germany  UKogERawW7I   \n",
       "2         Germany  gpK4kMSrU2U   \n",
       "3         Germany  QuQSwM6Hhtg   \n",
       "4         Germany  JHx3ulJfMtA   \n",
       "\n",
       "                                               title       publishing_date  \\\n",
       "0  Biathlon: Interview mit Arnd Peiffer (28.01.2013)  2013-01-30T12:22:48Z   \n",
       "1   #Hochfilzen2017: Gold for Germany in Mixed Relay  2017-02-09T17:21:31Z   \n",
       "2  Östersund-2016. Comments from Benedikt Doll, A...  2016-11-28T07:05:06Z   \n",
       "3  Biathlon: Interview mit Arnd Peiffer (30.10.2012)  2012-11-02T07:53:38Z   \n",
       "4                                       Arnd Peiffer  2010-03-15T02:32:14Z   \n",
       "\n",
       "                                         description year_in_title VoxCeleb_ID  \n",
       "0  \"Interview mit Arnd Peiffer beim abschlie\\u00d...          2013     id00778  \n",
       "1  \"It was a successful first competition for the...          2017     id00778  \n",
       "2  \"\\u00d6stersund-2016. Comments from Benedikt D...          2016     id00778  \n",
       "3  \"Interview mit Arnd Peiffer bei der DSV-Einkle...          2012     id00778  \n",
       "4  \"Interview nach dem Verfolgungsrennen in Konti...                   id00778  "
      ]
     },
     "execution_count": 319,
     "metadata": {},
     "output_type": "execute_result"
    }
   ],
   "source": [
    "final_df.head()"
   ]
  },
  {
   "cell_type": "code",
   "execution_count": 320,
   "metadata": {},
   "outputs": [],
   "source": [
    "final_df.to_csv(\"../dataset/final_dataframe_extended_raw.csv\", index=False)"
   ]
  },
  {
   "cell_type": "markdown",
   "metadata": {},
   "source": [
    "## Stats:<a id=\"final_dataset_stats\"></a>"
   ]
  },
  {
   "cell_type": "code",
   "execution_count": 321,
   "metadata": {},
   "outputs": [],
   "source": [
    "final_df = pd.read_csv(\"../dataset/final_dataframe_extended_raw.csv\")"
   ]
  },
  {
   "cell_type": "code",
   "execution_count": 322,
   "metadata": {},
   "outputs": [
    {
     "data": {
      "text/plain": [
       "(149350, 16)"
      ]
     },
     "execution_count": 322,
     "metadata": {},
     "output_type": "execute_result"
    }
   ],
   "source": [
    "final_df.shape"
   ]
  },
  {
   "cell_type": "code",
   "execution_count": 323,
   "metadata": {},
   "outputs": [],
   "source": [
    "def gender_fun(row): \n",
    "    if row['gender_wiki'] != np.nan and row['gender_wiki'] == row['gender_dbpedia'] == row['gender_gkg']:\n",
    "        return row['gender_wiki']\n",
    "    else:\n",
    "        return np.nan"
   ]
  },
  {
   "cell_type": "code",
   "execution_count": 324,
   "metadata": {},
   "outputs": [
    {
     "name": "stdout",
     "output_type": "stream",
     "text": [
      "Wall time: 3.99 s\n"
     ]
    }
   ],
   "source": [
    "%%time\n",
    "final_df['gender'] = final_df.apply(lambda row: gender_fun(row), axis=1)"
   ]
  },
  {
   "cell_type": "code",
   "execution_count": 325,
   "metadata": {},
   "outputs": [
    {
     "data": {
      "text/plain": [
       "male                  85137\n",
       "female                50847\n",
       "transgender female        7\n",
       "Name: gender, dtype: int64"
      ]
     },
     "execution_count": 325,
     "metadata": {},
     "output_type": "execute_result"
    }
   ],
   "source": [
    "final_df.gender.value_counts()"
   ]
  },
  {
   "cell_type": "code",
   "execution_count": 326,
   "metadata": {},
   "outputs": [
    {
     "data": {
      "text/plain": [
       "135991"
      ]
     },
     "execution_count": 326,
     "metadata": {},
     "output_type": "execute_result"
    }
   ],
   "source": [
    "sum(final_df.gender.value_counts())"
   ]
  },
  {
   "cell_type": "code",
   "execution_count": 95,
   "metadata": {},
   "outputs": [],
   "source": [
    "def birth_fun(row):\n",
    "    if type(row['birth_date_wiki']) == type(row['birth_date_dbpedia']) ==  type(row['birth_date_gkg']) == str:\n",
    "        if len(row['birth_date_wiki']) >4 and row['birth_date_wiki'][0:4] == row['birth_date_dbpedia'][0:4] == row['birth_date_gkg'][0:4]:\n",
    "            return row['birth_date_wiki'][0:4]\n",
    "    else:\n",
    "        return np.nan"
   ]
  },
  {
   "cell_type": "code",
   "execution_count": 327,
   "metadata": {},
   "outputs": [],
   "source": [
    "def birth_fun(row, partial_join=False):\n",
    "    wiki = str(row['birth_date_wiki'])\n",
    "    dbp = str(row['birth_date_dbpedia'])\n",
    "    gkg = str(row['birth_date_gkg'])\n",
    "    #print(row, wiki, dbp-isna(), gkg)\n",
    "    if len(wiki) >= 4 and len(dbp) >= 4 and len(gkg) >= 4:\n",
    "        if wiki[0:4] == dbp[0:4] == gkg[0:4]:\n",
    "            return wiki[0:4]\n",
    "    elif partial_join:\n",
    "        if row[['Name', 'birth_date_wiki', 'birth_date_dbpedia', 'birth_date_gkg']].count() == 3:\n",
    "            if not pd.isna(row['birth_date_wiki']) and not pd.isna(row['birth_date_dbpedia']):\n",
    "\n",
    "                if wiki[0:4] == dbp[0:4]:\n",
    "                    return wiki[0:4]\n",
    "            elif not pd.isna(row['birth_date_wiki']) and not pd.isna(row['birth_date_gkg']):\n",
    "                if wiki[0:4] == gkg[0:4]:\n",
    "                    return wiki[0:4]\n",
    "            elif not pd.isna(row['birth_date_dbpedia']) and not pd.isna(row['birth_date_gkg']):\n",
    "                if dbp[0:4] == gkg[0:4]:\n",
    "                    return dbp[0:4]\n",
    "\n",
    "    else:\n",
    "        return np.nan\n",
    "        \n"
   ]
  },
  {
   "cell_type": "code",
   "execution_count": 329,
   "metadata": {},
   "outputs": [
    {
     "name": "stdout",
     "output_type": "stream",
     "text": [
      "Wall time: 2.2 s\n"
     ]
    }
   ],
   "source": [
    "%%time\n",
    "del final_df['birth_year_improved']\n",
    "final_df['birth_year'] = final_df.apply(lambda row: birth_fun(row), axis=1)"
   ]
  },
  {
   "cell_type": "markdown",
   "metadata": {},
   "source": [
    "71 "
   ]
  },
  {
   "cell_type": "code",
   "execution_count": 330,
   "metadata": {},
   "outputs": [
    {
     "data": {
      "text/plain": [
       "1985    4076\n",
       "1984    4019\n",
       "1981    3928\n",
       "1986    3724\n",
       "1982    3594\n",
       "        ... \n",
       "1998      47\n",
       "1918      39\n",
       "1904      22\n",
       "1927       9\n",
       "1930       9\n",
       "Name: birth_year, Length: 71, dtype: int64"
      ]
     },
     "execution_count": 330,
     "metadata": {},
     "output_type": "execute_result"
    }
   ],
   "source": [
    "final_df.birth_year.value_counts()"
   ]
  },
  {
   "cell_type": "code",
   "execution_count": 332,
   "metadata": {},
   "outputs": [],
   "source": [
    "final_df.birth_year= pd.to_numeric(final_df.birth_year, errors='coerce')"
   ]
  },
  {
   "cell_type": "code",
   "execution_count": 333,
   "metadata": {},
   "outputs": [
    {
     "data": {
      "text/plain": [
       "<AxesSubplot:>"
      ]
     },
     "execution_count": 333,
     "metadata": {},
     "output_type": "execute_result"
    },
    {
     "data": {
      "image/png": "[encoded data removed]",
      "text/plain": [
       "<Figure size 432x288 with 1 Axes>"
      ]
     },
     "metadata": {
      "needs_background": "light"
     },
     "output_type": "display_data"
    }
   ],
   "source": [
    "final_df.birth_year.hist(bins=25)"
   ]
  },
  {
   "cell_type": "code",
   "execution_count": 334,
   "metadata": {},
   "outputs": [
    {
     "data": {
      "text/plain": [
       "14.249990795321649"
      ]
     },
     "execution_count": 334,
     "metadata": {},
     "output_type": "execute_result"
    }
   ],
   "source": [
    "np.std(final_df.birth_year)"
   ]
  },
  {
   "cell_type": "markdown",
   "metadata": {},
   "source": [
    "Previously: 126650"
   ]
  },
  {
   "cell_type": "code",
   "execution_count": 337,
   "metadata": {},
   "outputs": [
    {
     "data": {
      "text/plain": [
       "127050"
      ]
     },
     "execution_count": 337,
     "metadata": {},
     "output_type": "execute_result"
    }
   ],
   "source": [
    "sum(final_df.birth_year.value_counts())"
   ]
  },
  {
   "cell_type": "code",
   "execution_count": 338,
   "metadata": {},
   "outputs": [
    {
     "data": {
      "text/html": [
       "<div>\n",
       "<style scoped>\n",
       "    .dataframe tbody tr th:only-of-type {\n",
       "        vertical-align: middle;\n",
       "    }\n",
       "\n",
       "    .dataframe tbody tr th {\n",
       "        vertical-align: top;\n",
       "    }\n",
       "\n",
       "    .dataframe thead th {\n",
       "        text-align: right;\n",
       "    }\n",
       "</style>\n",
       "<table border=\"1\" class=\"dataframe\">\n",
       "  <thead>\n",
       "    <tr style=\"text-align: right;\">\n",
       "      <th></th>\n",
       "      <th>Name</th>\n",
       "      <th>gender_wiki</th>\n",
       "      <th>birth_date_wiki</th>\n",
       "      <th>nationality_wiki</th>\n",
       "      <th>gender_dbpedia</th>\n",
       "      <th>birth_date_dbpedia</th>\n",
       "      <th>nationality_dbpedia</th>\n",
       "      <th>gender_gkg</th>\n",
       "      <th>birth_date_gkg</th>\n",
       "      <th>nationality_gkg</th>\n",
       "      <th>video_id</th>\n",
       "      <th>title</th>\n",
       "      <th>publishing_date</th>\n",
       "      <th>description</th>\n",
       "      <th>year_in_title</th>\n",
       "      <th>VoxCeleb_ID</th>\n",
       "      <th>gender</th>\n",
       "      <th>birth_year</th>\n",
       "    </tr>\n",
       "  </thead>\n",
       "  <tbody>\n",
       "    <tr>\n",
       "      <th>0</th>\n",
       "      <td>Arnd Peiffer</td>\n",
       "      <td>male</td>\n",
       "      <td>1987-03-18</td>\n",
       "      <td>Germany</td>\n",
       "      <td>male</td>\n",
       "      <td>1987-3-18</td>\n",
       "      <td>NaN</td>\n",
       "      <td>male</td>\n",
       "      <td>1987-03-18</td>\n",
       "      <td>Germany</td>\n",
       "      <td>DoazlQs250s</td>\n",
       "      <td>Biathlon: Interview mit Arnd Peiffer (28.01.2013)</td>\n",
       "      <td>2013-01-30T12:22:48Z</td>\n",
       "      <td>\"Interview mit Arnd Peiffer beim abschlie\\u00d...</td>\n",
       "      <td>2013.0</td>\n",
       "      <td>id00778</td>\n",
       "      <td>male</td>\n",
       "      <td>1987.0</td>\n",
       "    </tr>\n",
       "    <tr>\n",
       "      <th>1</th>\n",
       "      <td>Arnd Peiffer</td>\n",
       "      <td>male</td>\n",
       "      <td>1987-03-18</td>\n",
       "      <td>Germany</td>\n",
       "      <td>male</td>\n",
       "      <td>1987-3-18</td>\n",
       "      <td>NaN</td>\n",
       "      <td>male</td>\n",
       "      <td>1987-03-18</td>\n",
       "      <td>Germany</td>\n",
       "      <td>UKogERawW7I</td>\n",
       "      <td>#Hochfilzen2017: Gold for Germany in Mixed Relay</td>\n",
       "      <td>2017-02-09T17:21:31Z</td>\n",
       "      <td>\"It was a successful first competition for the...</td>\n",
       "      <td>2017.0</td>\n",
       "      <td>id00778</td>\n",
       "      <td>male</td>\n",
       "      <td>1987.0</td>\n",
       "    </tr>\n",
       "    <tr>\n",
       "      <th>2</th>\n",
       "      <td>Arnd Peiffer</td>\n",
       "      <td>male</td>\n",
       "      <td>1987-03-18</td>\n",
       "      <td>Germany</td>\n",
       "      <td>male</td>\n",
       "      <td>1987-3-18</td>\n",
       "      <td>NaN</td>\n",
       "      <td>male</td>\n",
       "      <td>1987-03-18</td>\n",
       "      <td>Germany</td>\n",
       "      <td>gpK4kMSrU2U</td>\n",
       "      <td>Östersund-2016. Comments from Benedikt Doll, A...</td>\n",
       "      <td>2016-11-28T07:05:06Z</td>\n",
       "      <td>\"\\u00d6stersund-2016. Comments from Benedikt D...</td>\n",
       "      <td>2016.0</td>\n",
       "      <td>id00778</td>\n",
       "      <td>male</td>\n",
       "      <td>1987.0</td>\n",
       "    </tr>\n",
       "    <tr>\n",
       "      <th>3</th>\n",
       "      <td>Arnd Peiffer</td>\n",
       "      <td>male</td>\n",
       "      <td>1987-03-18</td>\n",
       "      <td>Germany</td>\n",
       "      <td>male</td>\n",
       "      <td>1987-3-18</td>\n",
       "      <td>NaN</td>\n",
       "      <td>male</td>\n",
       "      <td>1987-03-18</td>\n",
       "      <td>Germany</td>\n",
       "      <td>QuQSwM6Hhtg</td>\n",
       "      <td>Biathlon: Interview mit Arnd Peiffer (30.10.2012)</td>\n",
       "      <td>2012-11-02T07:53:38Z</td>\n",
       "      <td>\"Interview mit Arnd Peiffer bei der DSV-Einkle...</td>\n",
       "      <td>2012.0</td>\n",
       "      <td>id00778</td>\n",
       "      <td>male</td>\n",
       "      <td>1987.0</td>\n",
       "    </tr>\n",
       "    <tr>\n",
       "      <th>4</th>\n",
       "      <td>Arnd Peiffer</td>\n",
       "      <td>male</td>\n",
       "      <td>1987-03-18</td>\n",
       "      <td>Germany</td>\n",
       "      <td>male</td>\n",
       "      <td>1987-3-18</td>\n",
       "      <td>NaN</td>\n",
       "      <td>male</td>\n",
       "      <td>1987-03-18</td>\n",
       "      <td>Germany</td>\n",
       "      <td>JHx3ulJfMtA</td>\n",
       "      <td>Arnd Peiffer</td>\n",
       "      <td>2010-03-15T02:32:14Z</td>\n",
       "      <td>\"Interview nach dem Verfolgungsrennen in Konti...</td>\n",
       "      <td>NaN</td>\n",
       "      <td>id00778</td>\n",
       "      <td>male</td>\n",
       "      <td>1987.0</td>\n",
       "    </tr>\n",
       "  </tbody>\n",
       "</table>\n",
       "</div>"
      ],
      "text/plain": [
       "           Name gender_wiki birth_date_wiki nationality_wiki gender_dbpedia  \\\n",
       "0  Arnd Peiffer        male      1987-03-18          Germany           male   \n",
       "1  Arnd Peiffer        male      1987-03-18          Germany           male   \n",
       "2  Arnd Peiffer        male      1987-03-18          Germany           male   \n",
       "3  Arnd Peiffer        male      1987-03-18          Germany           male   \n",
       "4  Arnd Peiffer        male      1987-03-18          Germany           male   \n",
       "\n",
       "  birth_date_dbpedia nationality_dbpedia gender_gkg birth_date_gkg  \\\n",
       "0          1987-3-18                 NaN       male     1987-03-18   \n",
       "1          1987-3-18                 NaN       male     1987-03-18   \n",
       "2          1987-3-18                 NaN       male     1987-03-18   \n",
       "3          1987-3-18                 NaN       male     1987-03-18   \n",
       "4          1987-3-18                 NaN       male     1987-03-18   \n",
       "\n",
       "  nationality_gkg     video_id  \\\n",
       "0         Germany  DoazlQs250s   \n",
       "1         Germany  UKogERawW7I   \n",
       "2         Germany  gpK4kMSrU2U   \n",
       "3         Germany  QuQSwM6Hhtg   \n",
       "4         Germany  JHx3ulJfMtA   \n",
       "\n",
       "                                               title       publishing_date  \\\n",
       "0  Biathlon: Interview mit Arnd Peiffer (28.01.2013)  2013-01-30T12:22:48Z   \n",
       "1   #Hochfilzen2017: Gold for Germany in Mixed Relay  2017-02-09T17:21:31Z   \n",
       "2  Östersund-2016. Comments from Benedikt Doll, A...  2016-11-28T07:05:06Z   \n",
       "3  Biathlon: Interview mit Arnd Peiffer (30.10.2012)  2012-11-02T07:53:38Z   \n",
       "4                                       Arnd Peiffer  2010-03-15T02:32:14Z   \n",
       "\n",
       "                                         description  year_in_title  \\\n",
       "0  \"Interview mit Arnd Peiffer beim abschlie\\u00d...         2013.0   \n",
       "1  \"It was a successful first competition for the...         2017.0   \n",
       "2  \"\\u00d6stersund-2016. Comments from Benedikt D...         2016.0   \n",
       "3  \"Interview mit Arnd Peiffer bei der DSV-Einkle...         2012.0   \n",
       "4  \"Interview nach dem Verfolgungsrennen in Konti...            NaN   \n",
       "\n",
       "  VoxCeleb_ID gender  birth_year  \n",
       "0     id00778   male      1987.0  \n",
       "1     id00778   male      1987.0  \n",
       "2     id00778   male      1987.0  \n",
       "3     id00778   male      1987.0  \n",
       "4     id00778   male      1987.0  "
      ]
     },
     "execution_count": 338,
     "metadata": {},
     "output_type": "execute_result"
    }
   ],
   "source": [
    "final_df.head()"
   ]
  },
  {
   "cell_type": "code",
   "execution_count": 339,
   "metadata": {},
   "outputs": [],
   "source": [
    "final_df.to_csv(\"../dataset/final_dataframe_gender_birth_year.csv\", index=False)"
   ]
  },
  {
   "cell_type": "markdown",
   "metadata": {},
   "source": [
    "# Speaker age\n",
    "For a good ammount of speakers we were able to infer their birth year. To get an estimate related to age we need to know the year of recorging of a given video"
   ]
  },
  {
   "cell_type": "code",
   "execution_count": 340,
   "metadata": {},
   "outputs": [],
   "source": [
    "final_df = pd.read_csv('../dataset/final_dataframe_gender_birth_year.csv')"
   ]
  },
  {
   "cell_type": "code",
   "execution_count": 341,
   "metadata": {},
   "outputs": [
    {
     "data": {
      "text/html": [
       "<div>\n",
       "<style scoped>\n",
       "    .dataframe tbody tr th:only-of-type {\n",
       "        vertical-align: middle;\n",
       "    }\n",
       "\n",
       "    .dataframe tbody tr th {\n",
       "        vertical-align: top;\n",
       "    }\n",
       "\n",
       "    .dataframe thead th {\n",
       "        text-align: right;\n",
       "    }\n",
       "</style>\n",
       "<table border=\"1\" class=\"dataframe\">\n",
       "  <thead>\n",
       "    <tr style=\"text-align: right;\">\n",
       "      <th></th>\n",
       "      <th>Name</th>\n",
       "      <th>gender_wiki</th>\n",
       "      <th>birth_date_wiki</th>\n",
       "      <th>nationality_wiki</th>\n",
       "      <th>gender_dbpedia</th>\n",
       "      <th>birth_date_dbpedia</th>\n",
       "      <th>nationality_dbpedia</th>\n",
       "      <th>gender_gkg</th>\n",
       "      <th>birth_date_gkg</th>\n",
       "      <th>nationality_gkg</th>\n",
       "      <th>video_id</th>\n",
       "      <th>title</th>\n",
       "      <th>publishing_date</th>\n",
       "      <th>description</th>\n",
       "      <th>year_in_title</th>\n",
       "      <th>VoxCeleb_ID</th>\n",
       "      <th>gender</th>\n",
       "      <th>birth_year</th>\n",
       "    </tr>\n",
       "  </thead>\n",
       "  <tbody>\n",
       "    <tr>\n",
       "      <th>0</th>\n",
       "      <td>Arnd Peiffer</td>\n",
       "      <td>male</td>\n",
       "      <td>1987-03-18</td>\n",
       "      <td>Germany</td>\n",
       "      <td>male</td>\n",
       "      <td>1987-3-18</td>\n",
       "      <td>NaN</td>\n",
       "      <td>male</td>\n",
       "      <td>1987-03-18</td>\n",
       "      <td>Germany</td>\n",
       "      <td>DoazlQs250s</td>\n",
       "      <td>Biathlon: Interview mit Arnd Peiffer (28.01.2013)</td>\n",
       "      <td>2013-01-30T12:22:48Z</td>\n",
       "      <td>\"Interview mit Arnd Peiffer beim abschlie\\u00d...</td>\n",
       "      <td>2013.0</td>\n",
       "      <td>id00778</td>\n",
       "      <td>male</td>\n",
       "      <td>1987.0</td>\n",
       "    </tr>\n",
       "    <tr>\n",
       "      <th>1</th>\n",
       "      <td>Arnd Peiffer</td>\n",
       "      <td>male</td>\n",
       "      <td>1987-03-18</td>\n",
       "      <td>Germany</td>\n",
       "      <td>male</td>\n",
       "      <td>1987-3-18</td>\n",
       "      <td>NaN</td>\n",
       "      <td>male</td>\n",
       "      <td>1987-03-18</td>\n",
       "      <td>Germany</td>\n",
       "      <td>UKogERawW7I</td>\n",
       "      <td>#Hochfilzen2017: Gold for Germany in Mixed Relay</td>\n",
       "      <td>2017-02-09T17:21:31Z</td>\n",
       "      <td>\"It was a successful first competition for the...</td>\n",
       "      <td>2017.0</td>\n",
       "      <td>id00778</td>\n",
       "      <td>male</td>\n",
       "      <td>1987.0</td>\n",
       "    </tr>\n",
       "    <tr>\n",
       "      <th>2</th>\n",
       "      <td>Arnd Peiffer</td>\n",
       "      <td>male</td>\n",
       "      <td>1987-03-18</td>\n",
       "      <td>Germany</td>\n",
       "      <td>male</td>\n",
       "      <td>1987-3-18</td>\n",
       "      <td>NaN</td>\n",
       "      <td>male</td>\n",
       "      <td>1987-03-18</td>\n",
       "      <td>Germany</td>\n",
       "      <td>gpK4kMSrU2U</td>\n",
       "      <td>Östersund-2016. Comments from Benedikt Doll, A...</td>\n",
       "      <td>2016-11-28T07:05:06Z</td>\n",
       "      <td>\"\\u00d6stersund-2016. Comments from Benedikt D...</td>\n",
       "      <td>2016.0</td>\n",
       "      <td>id00778</td>\n",
       "      <td>male</td>\n",
       "      <td>1987.0</td>\n",
       "    </tr>\n",
       "    <tr>\n",
       "      <th>3</th>\n",
       "      <td>Arnd Peiffer</td>\n",
       "      <td>male</td>\n",
       "      <td>1987-03-18</td>\n",
       "      <td>Germany</td>\n",
       "      <td>male</td>\n",
       "      <td>1987-3-18</td>\n",
       "      <td>NaN</td>\n",
       "      <td>male</td>\n",
       "      <td>1987-03-18</td>\n",
       "      <td>Germany</td>\n",
       "      <td>QuQSwM6Hhtg</td>\n",
       "      <td>Biathlon: Interview mit Arnd Peiffer (30.10.2012)</td>\n",
       "      <td>2012-11-02T07:53:38Z</td>\n",
       "      <td>\"Interview mit Arnd Peiffer bei der DSV-Einkle...</td>\n",
       "      <td>2012.0</td>\n",
       "      <td>id00778</td>\n",
       "      <td>male</td>\n",
       "      <td>1987.0</td>\n",
       "    </tr>\n",
       "    <tr>\n",
       "      <th>4</th>\n",
       "      <td>Arnd Peiffer</td>\n",
       "      <td>male</td>\n",
       "      <td>1987-03-18</td>\n",
       "      <td>Germany</td>\n",
       "      <td>male</td>\n",
       "      <td>1987-3-18</td>\n",
       "      <td>NaN</td>\n",
       "      <td>male</td>\n",
       "      <td>1987-03-18</td>\n",
       "      <td>Germany</td>\n",
       "      <td>JHx3ulJfMtA</td>\n",
       "      <td>Arnd Peiffer</td>\n",
       "      <td>2010-03-15T02:32:14Z</td>\n",
       "      <td>\"Interview nach dem Verfolgungsrennen in Konti...</td>\n",
       "      <td>NaN</td>\n",
       "      <td>id00778</td>\n",
       "      <td>male</td>\n",
       "      <td>1987.0</td>\n",
       "    </tr>\n",
       "  </tbody>\n",
       "</table>\n",
       "</div>"
      ],
      "text/plain": [
       "           Name gender_wiki birth_date_wiki nationality_wiki gender_dbpedia  \\\n",
       "0  Arnd Peiffer        male      1987-03-18          Germany           male   \n",
       "1  Arnd Peiffer        male      1987-03-18          Germany           male   \n",
       "2  Arnd Peiffer        male      1987-03-18          Germany           male   \n",
       "3  Arnd Peiffer        male      1987-03-18          Germany           male   \n",
       "4  Arnd Peiffer        male      1987-03-18          Germany           male   \n",
       "\n",
       "  birth_date_dbpedia nationality_dbpedia gender_gkg birth_date_gkg  \\\n",
       "0          1987-3-18                 NaN       male     1987-03-18   \n",
       "1          1987-3-18                 NaN       male     1987-03-18   \n",
       "2          1987-3-18                 NaN       male     1987-03-18   \n",
       "3          1987-3-18                 NaN       male     1987-03-18   \n",
       "4          1987-3-18                 NaN       male     1987-03-18   \n",
       "\n",
       "  nationality_gkg     video_id  \\\n",
       "0         Germany  DoazlQs250s   \n",
       "1         Germany  UKogERawW7I   \n",
       "2         Germany  gpK4kMSrU2U   \n",
       "3         Germany  QuQSwM6Hhtg   \n",
       "4         Germany  JHx3ulJfMtA   \n",
       "\n",
       "                                               title       publishing_date  \\\n",
       "0  Biathlon: Interview mit Arnd Peiffer (28.01.2013)  2013-01-30T12:22:48Z   \n",
       "1   #Hochfilzen2017: Gold for Germany in Mixed Relay  2017-02-09T17:21:31Z   \n",
       "2  Östersund-2016. Comments from Benedikt Doll, A...  2016-11-28T07:05:06Z   \n",
       "3  Biathlon: Interview mit Arnd Peiffer (30.10.2012)  2012-11-02T07:53:38Z   \n",
       "4                                       Arnd Peiffer  2010-03-15T02:32:14Z   \n",
       "\n",
       "                                         description  year_in_title  \\\n",
       "0  \"Interview mit Arnd Peiffer beim abschlie\\u00d...         2013.0   \n",
       "1  \"It was a successful first competition for the...         2017.0   \n",
       "2  \"\\u00d6stersund-2016. Comments from Benedikt D...         2016.0   \n",
       "3  \"Interview mit Arnd Peiffer bei der DSV-Einkle...         2012.0   \n",
       "4  \"Interview nach dem Verfolgungsrennen in Konti...            NaN   \n",
       "\n",
       "  VoxCeleb_ID gender  birth_year  \n",
       "0     id00778   male      1987.0  \n",
       "1     id00778   male      1987.0  \n",
       "2     id00778   male      1987.0  \n",
       "3     id00778   male      1987.0  \n",
       "4     id00778   male      1987.0  "
      ]
     },
     "execution_count": 341,
     "metadata": {},
     "output_type": "execute_result"
    }
   ],
   "source": [
    "final_df.head()"
   ]
  },
  {
   "cell_type": "markdown",
   "metadata": {},
   "source": [
    "Let's get the year of upload of the video in YT:"
   ]
  },
  {
   "cell_type": "code",
   "execution_count": 342,
   "metadata": {
    "scrolled": true
   },
   "outputs": [
    {
     "data": {
      "text/plain": [
       "0         2013-01-30T12:22:48Z\n",
       "1         2017-02-09T17:21:31Z\n",
       "2         2016-11-28T07:05:06Z\n",
       "3         2012-11-02T07:53:38Z\n",
       "4         2010-03-15T02:32:14Z\n",
       "                  ...         \n",
       "149345    2013-03-04T14:07:36Z\n",
       "149346    2015-08-06T08:09:00Z\n",
       "149347    2015-08-01T08:20:09Z\n",
       "149348                     NaN\n",
       "149349    2013-03-19T08:56:16Z\n",
       "Name: publishing_date, Length: 149350, dtype: object"
      ]
     },
     "execution_count": 342,
     "metadata": {},
     "output_type": "execute_result"
    }
   ],
   "source": [
    "final_df.publishing_date"
   ]
  },
  {
   "cell_type": "code",
   "execution_count": 343,
   "metadata": {},
   "outputs": [
    {
     "data": {
      "text/plain": [
       "['2013',\n",
       " '2017',\n",
       " '2016',\n",
       " '2012',\n",
       " '2010',\n",
       " '2013',\n",
       " '2013',\n",
       " '2017',\n",
       " '2015',\n",
       " '2013']"
      ]
     },
     "execution_count": 343,
     "metadata": {},
     "output_type": "execute_result"
    }
   ],
   "source": [
    "year_upload = final_df.publishing_date.astype(str)\n",
    "year_upload = [x[0:4] for x in year_upload]\n",
    "year_upload[0:10]"
   ]
  },
  {
   "cell_type": "markdown",
   "metadata": {},
   "source": [
    "Now we can have a look at how many records have a reference of the upload year in Title, Description or both:"
   ]
  },
  {
   "cell_type": "code",
   "execution_count": 344,
   "metadata": {},
   "outputs": [],
   "source": [
    "matching_year_title = 0\n",
    "matching_year_desc = 0\n",
    "matching_title_desc = 0\n",
    "for i in range(0, final_df.shape[0]):\n",
    "    current_record = final_df.iloc[i:]\n",
    "    if len(year_upload[i]) >= 4:\n",
    "        if year_upload[i] in current_record.description.values[0] and year_upload[i] in current_record.title.values[0]:\n",
    "            matching_title_desc += 1\n",
    "        elif year_upload[i] in current_record.title.values[0]:\n",
    "            matching_year_title += 1\n",
    "        elif year_upload[i] in current_record.description.values[0]:\n",
    "            matching_year_desc += 1\n",
    "                "
   ]
  },
  {
   "cell_type": "code",
   "execution_count": 345,
   "metadata": {},
   "outputs": [
    {
     "data": {
      "text/plain": [
       "8834"
      ]
     },
     "execution_count": 345,
     "metadata": {},
     "output_type": "execute_result"
    }
   ],
   "source": [
    "matching_year_title"
   ]
  },
  {
   "cell_type": "code",
   "execution_count": 346,
   "metadata": {},
   "outputs": [
    {
     "data": {
      "text/plain": [
       "14273"
      ]
     },
     "execution_count": 346,
     "metadata": {},
     "output_type": "execute_result"
    }
   ],
   "source": [
    "matching_year_desc"
   ]
  },
  {
   "cell_type": "code",
   "execution_count": 347,
   "metadata": {},
   "outputs": [
    {
     "data": {
      "text/plain": [
       "7642"
      ]
     },
     "execution_count": 347,
     "metadata": {},
     "output_type": "execute_result"
    }
   ],
   "source": [
    "matching_title_desc"
   ]
  },
  {
   "cell_type": "code",
   "execution_count": 348,
   "metadata": {},
   "outputs": [
    {
     "data": {
      "text/plain": [
       "(149350, 18)"
      ]
     },
     "execution_count": 348,
     "metadata": {},
     "output_type": "execute_result"
    }
   ],
   "source": [
    "final_df.shape"
   ]
  },
  {
   "cell_type": "markdown",
   "metadata": {},
   "source": [
    "Let's now check the contracted form of the year (e.g. 2017 -> '17)"
   ]
  },
  {
   "cell_type": "code",
   "execution_count": 351,
   "metadata": {},
   "outputs": [
    {
     "name": "stdout",
     "output_type": "stream",
     "text": [
      "'13\n",
      "'13\n",
      "'10\n",
      "'13\n"
     ]
    }
   ],
   "source": [
    "matching_year_title_contracted = 0\n",
    "matching_year_desc_contracted = 0\n",
    "for i in range(0, final_df.shape[0]):\n",
    "    current_record = final_df.iloc[i:]\n",
    "    if len(year_upload[i]) >= 4:\n",
    "        contracted_year = \"'{}\".format(year_upload[i][2:4])\n",
    "        # Just to see some examples\n",
    "        if i % 40000 == 0:\n",
    "            print(contracted_year)\n",
    "        if contracted_year in current_record.title.values[0]:\n",
    "            matching_year_title += 1\n",
    "        if contracted_year in current_record.description.values[0]:\n",
    "            matching_year_desc += 1"
   ]
  },
  {
   "cell_type": "code",
   "execution_count": 352,
   "metadata": {},
   "outputs": [
    {
     "data": {
      "text/plain": [
       "0"
      ]
     },
     "execution_count": 352,
     "metadata": {},
     "output_type": "execute_result"
    }
   ],
   "source": [
    "matching_year_title_contracted"
   ]
  },
  {
   "cell_type": "code",
   "execution_count": 353,
   "metadata": {},
   "outputs": [
    {
     "data": {
      "text/plain": [
       "0"
      ]
     },
     "execution_count": 353,
     "metadata": {},
     "output_type": "execute_result"
    }
   ],
   "source": [
    "matching_year_desc_contracted"
   ]
  },
  {
   "cell_type": "markdown",
   "metadata": {},
   "source": [
    "Let's now add this information to our dataset:"
   ]
  },
  {
   "cell_type": "code",
   "execution_count": 357,
   "metadata": {},
   "outputs": [],
   "source": [
    "final_df['year_upload_yt'] = year_upload"
   ]
  },
  {
   "cell_type": "code",
   "execution_count": 358,
   "metadata": {},
   "outputs": [],
   "source": [
    "def recording_year_fun(row):\n",
    "    if type(row['year_upload_yt']) == type(row['title']) ==  type(row['description']) == str:\n",
    "        if len(row['year_upload_yt']) >= 4 and row['year_upload_yt'] in row['title'] and row['year_upload_yt'] in row['description']:\n",
    "            return row['year_upload_yt']\n",
    "    else:\n",
    "        return np.nan"
   ]
  },
  {
   "cell_type": "code",
   "execution_count": 359,
   "metadata": {},
   "outputs": [
    {
     "name": "stdout",
     "output_type": "stream",
     "text": [
      "Wall time: 3.89 s\n"
     ]
    }
   ],
   "source": [
    "%%time\n",
    "final_df['recording_year'] = final_df.apply(lambda row: recording_year_fun(row), axis=1)"
   ]
  },
  {
   "cell_type": "code",
   "execution_count": 360,
   "metadata": {},
   "outputs": [
    {
     "data": {
      "text/plain": [
       "2016    1293\n",
       "2013    1130\n",
       "2015    1039\n",
       "2014    1037\n",
       "2012     893\n",
       "2011     646\n",
       "2017     552\n",
       "2010     500\n",
       "2009     292\n",
       "2008     192\n",
       "2007      57\n",
       "2006      11\n",
       "Name: recording_year, dtype: int64"
      ]
     },
     "execution_count": 360,
     "metadata": {},
     "output_type": "execute_result"
    }
   ],
   "source": [
    "final_df.recording_year.value_counts()"
   ]
  },
  {
   "cell_type": "code",
   "execution_count": 361,
   "metadata": {},
   "outputs": [
    {
     "data": {
      "text/plain": [
       "7642"
      ]
     },
     "execution_count": 361,
     "metadata": {},
     "output_type": "execute_result"
    }
   ],
   "source": [
    "sum(final_df.recording_year.value_counts())"
   ]
  },
  {
   "cell_type": "markdown",
   "metadata": {},
   "source": [
    "Let's store in another variable the recording year computed only by checking the YT video title:"
   ]
  },
  {
   "cell_type": "code",
   "execution_count": 362,
   "metadata": {},
   "outputs": [],
   "source": [
    "def recording_year_fun_title_only(row):\n",
    "    if type(row['year_upload_yt']) == type(row['title']) ==  type(row['description']) == str:\n",
    "        if len(row['year_upload_yt']) >= 4 and row['year_upload_yt'] in row['title']:\n",
    "            return row['year_upload_yt']\n",
    "    else:\n",
    "        return np.nan"
   ]
  },
  {
   "cell_type": "code",
   "execution_count": 363,
   "metadata": {},
   "outputs": [
    {
     "name": "stdout",
     "output_type": "stream",
     "text": [
      "Wall time: 3.21 s\n"
     ]
    }
   ],
   "source": [
    "%%time\n",
    "final_df['recording_year_title_only'] = final_df.apply(lambda row: recording_year_fun_title_only(row), axis=1)"
   ]
  },
  {
   "cell_type": "code",
   "execution_count": 364,
   "metadata": {},
   "outputs": [],
   "source": [
    "final_df['recording_year'] = pd.to_numeric(final_df['recording_year'], errors='coerce')\n",
    "final_df['recording_year_title_only'] = pd.to_numeric(final_df['recording_year_title_only'], errors='coerce')"
   ]
  },
  {
   "cell_type": "markdown",
   "metadata": {},
   "source": [
    "Now we can compute the speaker age as a simple difference between the year of the recording and the birth year of the given person:"
   ]
  },
  {
   "cell_type": "code",
   "execution_count": 365,
   "metadata": {},
   "outputs": [],
   "source": [
    "final_df['speaker_age'] = final_df['recording_year'] - final_df['birth_year']\n",
    "final_df['speaker_age_title_only'] = final_df['recording_year_title_only'] - final_df['birth_year']"
   ]
  },
  {
   "cell_type": "markdown",
   "metadata": {},
   "source": [
    "Let's now compute some statistics:"
   ]
  },
  {
   "cell_type": "code",
   "execution_count": 366,
   "metadata": {},
   "outputs": [
    {
     "data": {
      "text/plain": [
       "31.0    249\n",
       "32.0    237\n",
       "27.0    236\n",
       "30.0    225\n",
       "29.0    215\n",
       "       ... \n",
       "85.0      1\n",
       "92.0      1\n",
       "83.0      1\n",
       "10.0      1\n",
       "11.0      1\n",
       "Name: speaker_age, Length: 77, dtype: int64"
      ]
     },
     "execution_count": 366,
     "metadata": {},
     "output_type": "execute_result"
    }
   ],
   "source": [
    "final_df['speaker_age'].value_counts()"
   ]
  },
  {
   "cell_type": "code",
   "execution_count": 367,
   "metadata": {},
   "outputs": [
    {
     "data": {
      "text/plain": [
       "31.0    532\n",
       "27.0    498\n",
       "32.0    482\n",
       "28.0    464\n",
       "29.0    460\n",
       "       ... \n",
       "11.0      1\n",
       "94.0      1\n",
       "83.0      1\n",
       "95.0      1\n",
       "85.0      1\n",
       "Name: speaker_age_title_only, Length: 79, dtype: int64"
      ]
     },
     "execution_count": 367,
     "metadata": {},
     "output_type": "execute_result"
    }
   ],
   "source": [
    "final_df['speaker_age_title_only'].value_counts()"
   ]
  },
  {
   "cell_type": "markdown",
   "metadata": {},
   "source": [
    "Prev: 6582"
   ]
  },
  {
   "cell_type": "code",
   "execution_count": 368,
   "metadata": {},
   "outputs": [
    {
     "data": {
      "text/plain": [
       "6601"
      ]
     },
     "execution_count": 368,
     "metadata": {},
     "output_type": "execute_result"
    }
   ],
   "source": [
    "sum(final_df.speaker_age.value_counts())"
   ]
  },
  {
   "cell_type": "code",
   "execution_count": 369,
   "metadata": {},
   "outputs": [
    {
     "data": {
      "text/plain": [
       "14247"
      ]
     },
     "execution_count": 369,
     "metadata": {},
     "output_type": "execute_result"
    }
   ],
   "source": [
    "sum(final_df['speaker_age_title_only'].value_counts())"
   ]
  },
  {
   "cell_type": "markdown",
   "metadata": {},
   "source": [
    "# TO DO for additional data:\n",
    "For 1K+ records only the recording year was present. Let's find out which are the problematic rows:"
   ]
  },
  {
   "cell_type": "code",
   "execution_count": 281,
   "metadata": {},
   "outputs": [],
   "source": [
    "without_birth_year_records = final_df.loc[(final_df.recording_year > 0) & (final_df.birth_year.isna()),['Name', 'birth_date_wiki', 'birth_date_dbpedia', 'birth_date_gkg']]"
   ]
  },
  {
   "cell_type": "code",
   "execution_count": 282,
   "metadata": {},
   "outputs": [],
   "source": [
    "without_birth_year_records = without_birth_year_records.drop_duplicates()"
   ]
  },
  {
   "cell_type": "markdown",
   "metadata": {},
   "source": [
    "We can split these records in the following categories:\n",
    "- Speakers with 3 NAs => Understand why it happened\n",
    "- Speakers with 1 NA => Ignore the missing value, keep the others\n",
    "- Speakers without NA => For the moment let's  not do anything"
   ]
  },
  {
   "cell_type": "code",
   "execution_count": 283,
   "metadata": {},
   "outputs": [],
   "source": [
    "not_na_count = without_birth_year_records.count(axis=1)\n",
    "one_na_df = without_birth_year_records.loc[not_na_count==3,:]"
   ]
  },
  {
   "cell_type": "code",
   "execution_count": 284,
   "metadata": {},
   "outputs": [
    {
     "data": {
      "text/html": [
       "<div>\n",
       "<style scoped>\n",
       "    .dataframe tbody tr th:only-of-type {\n",
       "        vertical-align: middle;\n",
       "    }\n",
       "\n",
       "    .dataframe tbody tr th {\n",
       "        vertical-align: top;\n",
       "    }\n",
       "\n",
       "    .dataframe thead th {\n",
       "        text-align: right;\n",
       "    }\n",
       "</style>\n",
       "<table border=\"1\" class=\"dataframe\">\n",
       "  <thead>\n",
       "    <tr style=\"text-align: right;\">\n",
       "      <th></th>\n",
       "      <th>Name</th>\n",
       "      <th>birth_date_wiki</th>\n",
       "      <th>birth_date_dbpedia</th>\n",
       "      <th>birth_date_gkg</th>\n",
       "    </tr>\n",
       "  </thead>\n",
       "  <tbody>\n",
       "    <tr>\n",
       "      <th>234</th>\n",
       "      <td>Bettina Zimmermann</td>\n",
       "      <td>1975-03-31</td>\n",
       "      <td>NaN</td>\n",
       "      <td>1975-03-31</td>\n",
       "    </tr>\n",
       "    <tr>\n",
       "      <th>1671</th>\n",
       "      <td>Aco Petrović</td>\n",
       "      <td>1959-10-14</td>\n",
       "      <td>1959-10-14</td>\n",
       "      <td>NaN</td>\n",
       "    </tr>\n",
       "    <tr>\n",
       "      <th>2944</th>\n",
       "      <td>Anderson Cooper</td>\n",
       "      <td>1967-06-03</td>\n",
       "      <td>1967-06-03</td>\n",
       "      <td>NaN</td>\n",
       "    </tr>\n",
       "    <tr>\n",
       "      <th>3131</th>\n",
       "      <td>Perry Farrell</td>\n",
       "      <td>1959-03-29</td>\n",
       "      <td>1959-03-29</td>\n",
       "      <td>NaN</td>\n",
       "    </tr>\n",
       "    <tr>\n",
       "      <th>3256</th>\n",
       "      <td>Cole Sprouse</td>\n",
       "      <td>1992-08-04</td>\n",
       "      <td>NaN</td>\n",
       "      <td>1992-08-04</td>\n",
       "    </tr>\n",
       "    <tr>\n",
       "      <th>...</th>\n",
       "      <td>...</td>\n",
       "      <td>...</td>\n",
       "      <td>...</td>\n",
       "      <td>...</td>\n",
       "    </tr>\n",
       "    <tr>\n",
       "      <th>146772</th>\n",
       "      <td>Charlotte Salt</td>\n",
       "      <td>1985-08-12</td>\n",
       "      <td>NaN</td>\n",
       "      <td>1985-08-12</td>\n",
       "    </tr>\n",
       "    <tr>\n",
       "      <th>147216</th>\n",
       "      <td>Monifah</td>\n",
       "      <td>1971-01-28</td>\n",
       "      <td>1972-01-28</td>\n",
       "      <td>NaN</td>\n",
       "    </tr>\n",
       "    <tr>\n",
       "      <th>147585</th>\n",
       "      <td>Phil Kessel</td>\n",
       "      <td>1987-10-02</td>\n",
       "      <td>NaN</td>\n",
       "      <td>1987-10-02</td>\n",
       "    </tr>\n",
       "    <tr>\n",
       "      <th>147903</th>\n",
       "      <td>Jasmin Tabatabai</td>\n",
       "      <td>1967-06-08</td>\n",
       "      <td>1967-6-8</td>\n",
       "      <td>NaN</td>\n",
       "    </tr>\n",
       "    <tr>\n",
       "      <th>148588</th>\n",
       "      <td>La Grande Sophie</td>\n",
       "      <td>1969-07-18</td>\n",
       "      <td>1969-07-18</td>\n",
       "      <td>NaN</td>\n",
       "    </tr>\n",
       "  </tbody>\n",
       "</table>\n",
       "<p>224 rows × 4 columns</p>\n",
       "</div>"
      ],
      "text/plain": [
       "                      Name birth_date_wiki birth_date_dbpedia birth_date_gkg\n",
       "234     Bettina Zimmermann      1975-03-31                NaN     1975-03-31\n",
       "1671          Aco Petrović      1959-10-14         1959-10-14            NaN\n",
       "2944       Anderson Cooper      1967-06-03         1967-06-03            NaN\n",
       "3131         Perry Farrell      1959-03-29         1959-03-29            NaN\n",
       "3256          Cole Sprouse      1992-08-04                NaN     1992-08-04\n",
       "...                    ...             ...                ...            ...\n",
       "146772      Charlotte Salt      1985-08-12                NaN     1985-08-12\n",
       "147216             Monifah      1971-01-28         1972-01-28            NaN\n",
       "147585         Phil Kessel      1987-10-02                NaN     1987-10-02\n",
       "147903    Jasmin Tabatabai      1967-06-08           1967-6-8            NaN\n",
       "148588    La Grande Sophie      1969-07-18         1969-07-18            NaN\n",
       "\n",
       "[224 rows x 4 columns]"
      ]
     },
     "execution_count": 284,
     "metadata": {},
     "output_type": "execute_result"
    }
   ],
   "source": [
    "one_na_df"
   ]
  },
  {
   "cell_type": "code",
   "execution_count": 287,
   "metadata": {},
   "outputs": [
    {
     "name": "stderr",
     "output_type": "stream",
     "text": [
      "C:\\Users\\hechm\\miniconda3\\envs\\enrich_yt_videos\\lib\\site-packages\\ipykernel_launcher.py:1: SettingWithCopyWarning: \n",
      "A value is trying to be set on a copy of a slice from a DataFrame.\n",
      "Try using .loc[row_indexer,col_indexer] = value instead\n",
      "\n",
      "See the caveats in the documentation: https://pandas.pydata.org/pandas-docs/stable/user_guide/indexing.html#returning-a-view-versus-a-copy\n",
      "  \"\"\"Entry point for launching an IPython kernel.\n"
     ]
    }
   ],
   "source": [
    "one_na_df['birth_year'] = one_na_df.apply(lambda row: birth_fun(row, True), axis=1)"
   ]
  },
  {
   "cell_type": "code",
   "execution_count": 288,
   "metadata": {},
   "outputs": [
    {
     "data": {
      "text/plain": [
       "<AxesSubplot:title={'center':'Speaker age on whole dataset'}, ylabel='Frequency'>"
      ]
     },
     "execution_count": 288,
     "metadata": {},
     "output_type": "execute_result"
    },
    {
     "data": {
      "image/png": "[encoded data removed]",
      "text/plain": [
       "<Figure size 432x288 with 1 Axes>"
      ]
     },
     "metadata": {
      "needs_background": "light"
     },
     "output_type": "display_data"
    }
   ],
   "source": [
    "final_df['speaker_age'].plot(kind='hist',bins=77, title=\"Speaker age on whole dataset\")"
   ]
  },
  {
   "cell_type": "markdown",
   "metadata": {},
   "source": [
    "# Store final df:"
   ]
  },
  {
   "cell_type": "code",
   "execution_count": 375,
   "metadata": {},
   "outputs": [],
   "source": [
    "final_df.to_csv(\"../dataset/final_dataframe_extended.csv\", index=False)"
   ]
  },
  {
   "cell_type": "markdown",
   "metadata": {},
   "source": [
    "## Stats on unique speakers:"
   ]
  },
  {
   "cell_type": "markdown",
   "metadata": {},
   "source": [
    "Let's now compute and plot the distribution for each unique speaker ID"
   ]
  },
  {
   "cell_type": "code",
   "execution_count": 1,
   "metadata": {},
   "outputs": [],
   "source": [
    "import pandas as pd\n",
    "final_df = pd.read_csv(\"../dataset/final_dataframe_extended.csv\")"
   ]
  },
  {
   "cell_type": "code",
   "execution_count": 2,
   "metadata": {},
   "outputs": [
    {
     "data": {
      "text/plain": [
       "(5151, 4)"
      ]
     },
     "execution_count": 2,
     "metadata": {},
     "output_type": "execute_result"
    }
   ],
   "source": [
    "unique_speakers = final_df[['birth_year', 'gender', 'Name', 'VoxCeleb_ID']]\n",
    "unique_speakers = unique_speakers.dropna()\n",
    "unique_speakers= unique_speakers.drop_duplicates()\n",
    "unique_speakers.shape"
   ]
  },
  {
   "cell_type": "code",
   "execution_count": 3,
   "metadata": {},
   "outputs": [
    {
     "data": {
      "text/plain": [
       "<AxesSubplot:title={'center':'Birth year distribution for unique (birth year, gender, name, VoxCeleb ID)'}, ylabel='Frequency'>"
      ]
     },
     "execution_count": 3,
     "metadata": {},
     "output_type": "execute_result"
    },
    {
     "data": {
      "image/png": "[encoded data removed]",
      "text/plain": [
       "<Figure size 432x288 with 1 Axes>"
      ]
     },
     "metadata": {
      "needs_background": "light"
     },
     "output_type": "display_data"
    }
   ],
   "source": [
    "unique_speakers.birth_year.plot(title='Birth year distribution for unique (birth year, gender, name, VoxCeleb ID)', kind='hist', bins=71)"
   ]
  },
  {
   "cell_type": "code",
   "execution_count": 4,
   "metadata": {},
   "outputs": [
    {
     "data": {
      "text/plain": [
       "<AxesSubplot:>"
      ]
     },
     "execution_count": 4,
     "metadata": {},
     "output_type": "execute_result"
    },
    {
     "data": {
      "image/png": "[encoded data removed]",
      "text/plain": [
       "<Figure size 432x288 with 1 Axes>"
      ]
     },
     "metadata": {
      "needs_background": "light"
     },
     "output_type": "display_data"
    }
   ],
   "source": [
    "unique_speakers.gender.hist()"
   ]
  },
  {
   "cell_type": "code",
   "execution_count": 5,
   "metadata": {},
   "outputs": [
    {
     "data": {
      "text/plain": [
       "male                  3209\n",
       "female                1941\n",
       "transgender female       1\n",
       "Name: gender, dtype: int64"
      ]
     },
     "execution_count": 5,
     "metadata": {},
     "output_type": "execute_result"
    }
   ],
   "source": [
    "unique_speakers.gender.value_counts()"
   ]
  },
  {
   "cell_type": "markdown",
   "metadata": {},
   "source": [
    "Let's now check the unique combination of age, gender, name and ID"
   ]
  },
  {
   "cell_type": "markdown",
   "metadata": {},
   "source": [
    "previus: (2812, 6)"
   ]
  },
  {
   "cell_type": "code",
   "execution_count": 27,
   "metadata": {},
   "outputs": [
    {
     "name": "stdout",
     "output_type": "stream",
     "text": [
      "(6601, 3)\n"
     ]
    },
    {
     "data": {
      "text/plain": [
       "(2817, 3)"
      ]
     },
     "execution_count": 27,
     "metadata": {},
     "output_type": "execute_result"
    }
   ],
   "source": [
    "#unique_speakers_age = final_df[['speaker_age', 'birth_year', 'gender', 'Name', 'VoxCeleb_ID', 'video_id']]\n",
    "unique_speakers_age = final_df[['speaker_age', 'VoxCeleb_ID', 'video_id']]\n",
    "unique_speakers_age = unique_speakers_age.dropna()\n",
    "print(unique_speakers_age.shape)\n",
    "# It isn't a problem to have the same speakers comparing multiple times if he has a different age\n",
    "unique_speakers_age = unique_speakers_age.drop_duplicates(['VoxCeleb_ID'])#(['Name', 'VoxCeleb_ID'])\n",
    "unique_speakers_age.shape"
   ]
  },
  {
   "cell_type": "markdown",
   "metadata": {},
   "source": [
    "Prev: (3917, 6)"
   ]
  },
  {
   "cell_type": "code",
   "execution_count": 5,
   "metadata": {},
   "outputs": [
    {
     "data": {
      "text/plain": [
       "(14247, 4)"
      ]
     },
     "execution_count": 5,
     "metadata": {},
     "output_type": "execute_result"
    }
   ],
   "source": [
    "unique_speakers_age_title_only = final_df[['speaker_age_title_only', 'Name', 'VoxCeleb_ID', 'video_id']]\n",
    "unique_speakers_age_title_only = unique_speakers_age_title_only.dropna()\n",
    "#unique_speakers_age_title_only = unique_speakers_age_title_only.drop_duplicates(['Name', 'VoxCeleb_ID'])\n",
    "unique_speakers_age_title_only = unique_speakers_age_title_only.drop_duplicates()\n",
    "unique_speakers_age_title_only.shape"
   ]
  },
  {
   "cell_type": "markdown",
   "metadata": {},
   "source": [
    "Less records because for computing speaker age we should have both the birth year and the year of recording"
   ]
  },
  {
   "cell_type": "code",
   "execution_count": 12,
   "metadata": {},
   "outputs": [
    {
     "data": {
      "text/plain": [
       "<AxesSubplot:title={'center':'Age distribution for unique speakers whose age we were able to compute'}, ylabel='Frequency'>"
      ]
     },
     "execution_count": 12,
     "metadata": {},
     "output_type": "execute_result"
    },
    {
     "data": {
      "image/png": "[encoded data removed]",
      "text/plain": [
       "<Figure size 432x288 with 1 Axes>"
      ]
     },
     "metadata": {
      "needs_background": "light"
     },
     "output_type": "display_data"
    }
   ],
   "source": [
    "unique_speakers_age.speaker_age.plot(kind='hist', title='Age distribution for unique speakers whose age we were able to compute', bins=77)"
   ]
  },
  {
   "cell_type": "code",
   "execution_count": 13,
   "metadata": {},
   "outputs": [
    {
     "data": {
      "text/plain": [
       "<AxesSubplot:>"
      ]
     },
     "execution_count": 13,
     "metadata": {},
     "output_type": "execute_result"
    },
    {
     "data": {
      "image/png": "[encoded data removed]",
      "text/plain": [
       "<Figure size 432x288 with 1 Axes>"
      ]
     },
     "metadata": {
      "needs_background": "light"
     },
     "output_type": "display_data"
    }
   ],
   "source": [
    "unique_speakers_age.gender.hist()"
   ]
  },
  {
   "cell_type": "code",
   "execution_count": 14,
   "metadata": {},
   "outputs": [
    {
     "data": {
      "text/plain": [
       "male                  1712\n",
       "female                1099\n",
       "transgender female       1\n",
       "Name: gender, dtype: int64"
      ]
     },
     "execution_count": 14,
     "metadata": {},
     "output_type": "execute_result"
    }
   ],
   "source": [
    "unique_speakers_age.gender.value_counts()"
   ]
  },
  {
   "cell_type": "markdown",
   "metadata": {},
   "source": [
    "Let's now use the VIPs with only one NA in the birth date"
   ]
  },
  {
   "cell_type": "markdown",
   "metadata": {},
   "source": [
    "To do:\n",
    "- Apply same rule used in one_na_df on the dataset\n",
    "\n",
    "# Export Data for training"
   ]
  },
  {
   "cell_type": "code",
   "execution_count": 1,
   "metadata": {},
   "outputs": [],
   "source": [
    "import pandas as pd\n",
    "final_df = pd.read_csv(\"../dataset/final_dataframe_extended.csv\")"
   ]
  },
  {
   "cell_type": "markdown",
   "metadata": {},
   "source": [
    "## Train-test split gender recognition\n",
    "Let's now focus on creating the \"trial lists\" for gender recognition. For avoiding any issue let's create balance train and test set. The first step will be to compute how many female and male speakers are there:"
   ]
  },
  {
   "cell_type": "code",
   "execution_count": 3,
   "metadata": {},
   "outputs": [
    {
     "data": {
      "text/plain": [
       "Index(['Name', 'gender_wiki', 'birth_date_wiki', 'nationality_wiki',\n",
       "       'gender_dbpedia', 'birth_date_dbpedia', 'nationality_dbpedia',\n",
       "       'gender_gkg', 'birth_date_gkg', 'nationality_gkg', 'video_id', 'title',\n",
       "       'publishing_date', 'description', 'year_in_title', 'VoxCeleb_ID',\n",
       "       'gender', 'birth_year', 'year_upload_yt', 'recording_year',\n",
       "       'recording_year_title_only', 'speaker_age', 'speaker_age_title_only'],\n",
       "      dtype='object')"
      ]
     },
     "execution_count": 3,
     "metadata": {},
     "output_type": "execute_result"
    }
   ],
   "source": [
    "final_df.columns"
   ]
  },
  {
   "cell_type": "code",
   "execution_count": 6,
   "metadata": {},
   "outputs": [],
   "source": [
    "unique_speakers_gender = final_df[['gender', 'Name', 'VoxCeleb_ID']].drop_duplicates()"
   ]
  },
  {
   "cell_type": "code",
   "execution_count": 7,
   "metadata": {},
   "outputs": [
    {
     "data": {
      "text/html": [
       "<div>\n",
       "<style scoped>\n",
       "    .dataframe tbody tr th:only-of-type {\n",
       "        vertical-align: middle;\n",
       "    }\n",
       "\n",
       "    .dataframe tbody tr th {\n",
       "        vertical-align: top;\n",
       "    }\n",
       "\n",
       "    .dataframe thead th {\n",
       "        text-align: right;\n",
       "    }\n",
       "</style>\n",
       "<table border=\"1\" class=\"dataframe\">\n",
       "  <thead>\n",
       "    <tr style=\"text-align: right;\">\n",
       "      <th></th>\n",
       "      <th>Name</th>\n",
       "      <th>VoxCeleb_ID</th>\n",
       "    </tr>\n",
       "    <tr>\n",
       "      <th>gender</th>\n",
       "      <th></th>\n",
       "      <th></th>\n",
       "    </tr>\n",
       "  </thead>\n",
       "  <tbody>\n",
       "    <tr>\n",
       "      <th>female</th>\n",
       "      <td>2098</td>\n",
       "      <td>2098</td>\n",
       "    </tr>\n",
       "    <tr>\n",
       "      <th>male</th>\n",
       "      <td>3437</td>\n",
       "      <td>3437</td>\n",
       "    </tr>\n",
       "    <tr>\n",
       "      <th>transgender female</th>\n",
       "      <td>1</td>\n",
       "      <td>1</td>\n",
       "    </tr>\n",
       "  </tbody>\n",
       "</table>\n",
       "</div>"
      ],
      "text/plain": [
       "                    Name  VoxCeleb_ID\n",
       "gender                               \n",
       "female              2098         2098\n",
       "male                3437         3437\n",
       "transgender female     1            1"
      ]
     },
     "execution_count": 7,
     "metadata": {},
     "output_type": "execute_result"
    }
   ],
   "source": [
    "unique_speakers_gender.groupby('gender').count()"
   ]
  },
  {
   "cell_type": "markdown",
   "metadata": {},
   "source": [
    "So it is 1103, let's store the number in a variable for later use."
   ]
  },
  {
   "cell_type": "code",
   "execution_count": 10,
   "metadata": {},
   "outputs": [],
   "source": [
    "n_female_speaker = 2098"
   ]
  },
  {
   "cell_type": "markdown",
   "metadata": {},
   "source": [
    "Because there is only person with gender \"transgender female\" I will delete the record:"
   ]
  },
  {
   "cell_type": "code",
   "execution_count": 8,
   "metadata": {},
   "outputs": [],
   "source": [
    "unique_speakers_gender.drop(unique_speakers_gender[unique_speakers_gender.gender == 'transgender female'].index, inplace=True)"
   ]
  },
  {
   "cell_type": "markdown",
   "metadata": {},
   "source": [
    "Let's now proceed with the balanced sampling. The first step will be to extract 1103 male and 1103 female speakers."
   ]
  },
  {
   "cell_type": "code",
   "execution_count": 11,
   "metadata": {},
   "outputs": [
    {
     "data": {
      "text/html": [
       "<div>\n",
       "<style scoped>\n",
       "    .dataframe tbody tr th:only-of-type {\n",
       "        vertical-align: middle;\n",
       "    }\n",
       "\n",
       "    .dataframe tbody tr th {\n",
       "        vertical-align: top;\n",
       "    }\n",
       "\n",
       "    .dataframe thead th {\n",
       "        text-align: right;\n",
       "    }\n",
       "</style>\n",
       "<table border=\"1\" class=\"dataframe\">\n",
       "  <thead>\n",
       "    <tr style=\"text-align: right;\">\n",
       "      <th></th>\n",
       "      <th>gender</th>\n",
       "      <th>Name</th>\n",
       "      <th>VoxCeleb_ID</th>\n",
       "    </tr>\n",
       "  </thead>\n",
       "  <tbody>\n",
       "    <tr>\n",
       "      <th>78020</th>\n",
       "      <td>female</td>\n",
       "      <td>Adrienne Bailon</td>\n",
       "      <td>id00097</td>\n",
       "    </tr>\n",
       "    <tr>\n",
       "      <th>104668</th>\n",
       "      <td>female</td>\n",
       "      <td>Carolina Crescentini</td>\n",
       "      <td>id01413</td>\n",
       "    </tr>\n",
       "    <tr>\n",
       "      <th>146078</th>\n",
       "      <td>female</td>\n",
       "      <td>Preeya Kalidas</td>\n",
       "      <td>id07065</td>\n",
       "    </tr>\n",
       "    <tr>\n",
       "      <th>145603</th>\n",
       "      <td>female</td>\n",
       "      <td>Danielle Bisutti</td>\n",
       "      <td>id01948</td>\n",
       "    </tr>\n",
       "    <tr>\n",
       "      <th>144505</th>\n",
       "      <td>female</td>\n",
       "      <td>Michaela May</td>\n",
       "      <td>id06026</td>\n",
       "    </tr>\n",
       "  </tbody>\n",
       "</table>\n",
       "</div>"
      ],
      "text/plain": [
       "        gender                  Name VoxCeleb_ID\n",
       "78020   female       Adrienne Bailon     id00097\n",
       "104668  female  Carolina Crescentini     id01413\n",
       "146078  female        Preeya Kalidas     id07065\n",
       "145603  female      Danielle Bisutti     id01948\n",
       "144505  female          Michaela May     id06026"
      ]
     },
     "execution_count": 11,
     "metadata": {},
     "output_type": "execute_result"
    }
   ],
   "source": [
    "train_test_safe_set = unique_speakers_gender.groupby(\"gender\").sample(n=n_female_speaker, random_state=1)\n",
    "train_test_safe_set.head()"
   ]
  },
  {
   "cell_type": "code",
   "execution_count": 12,
   "metadata": {},
   "outputs": [
    {
     "data": {
      "text/plain": [
       "(4196, 3)"
      ]
     },
     "execution_count": 12,
     "metadata": {},
     "output_type": "execute_result"
    }
   ],
   "source": [
    "train_test_safe_set.shape"
   ]
  },
  {
   "cell_type": "markdown",
   "metadata": {},
   "source": [
    "Everything went fine, let's now split data into train and test. For the moment I will reserve 40% of data to test, but this percentage can be changed later on:"
   ]
  },
  {
   "cell_type": "code",
   "execution_count": 13,
   "metadata": {},
   "outputs": [],
   "source": [
    "test_percentage = 0.4\n",
    "test_n_speaker_per_gender = int(0.4 * n_female_speaker)"
   ]
  },
  {
   "cell_type": "code",
   "execution_count": 14,
   "metadata": {},
   "outputs": [
    {
     "data": {
      "text/html": [
       "<div>\n",
       "<style scoped>\n",
       "    .dataframe tbody tr th:only-of-type {\n",
       "        vertical-align: middle;\n",
       "    }\n",
       "\n",
       "    .dataframe tbody tr th {\n",
       "        vertical-align: top;\n",
       "    }\n",
       "\n",
       "    .dataframe thead th {\n",
       "        text-align: right;\n",
       "    }\n",
       "</style>\n",
       "<table border=\"1\" class=\"dataframe\">\n",
       "  <thead>\n",
       "    <tr style=\"text-align: right;\">\n",
       "      <th></th>\n",
       "      <th>gender</th>\n",
       "      <th>Name</th>\n",
       "      <th>VoxCeleb_ID</th>\n",
       "    </tr>\n",
       "  </thead>\n",
       "  <tbody>\n",
       "    <tr>\n",
       "      <th>91592</th>\n",
       "      <td>female</td>\n",
       "      <td>Anu Choudhury</td>\n",
       "      <td>id00730</td>\n",
       "    </tr>\n",
       "    <tr>\n",
       "      <th>119559</th>\n",
       "      <td>female</td>\n",
       "      <td>Angham</td>\n",
       "      <td>id00588</td>\n",
       "    </tr>\n",
       "    <tr>\n",
       "      <th>138115</th>\n",
       "      <td>female</td>\n",
       "      <td>Amber Valletta</td>\n",
       "      <td>id00399</td>\n",
       "    </tr>\n",
       "    <tr>\n",
       "      <th>132800</th>\n",
       "      <td>female</td>\n",
       "      <td>Paola Minaccioni</td>\n",
       "      <td>id06757</td>\n",
       "    </tr>\n",
       "    <tr>\n",
       "      <th>44893</th>\n",
       "      <td>female</td>\n",
       "      <td>Chyler Leigh</td>\n",
       "      <td>id01692</td>\n",
       "    </tr>\n",
       "  </tbody>\n",
       "</table>\n",
       "</div>"
      ],
      "text/plain": [
       "        gender              Name VoxCeleb_ID\n",
       "91592   female     Anu Choudhury     id00730\n",
       "119559  female            Angham     id00588\n",
       "138115  female    Amber Valletta     id00399\n",
       "132800  female  Paola Minaccioni     id06757\n",
       "44893   female      Chyler Leigh     id01692"
      ]
     },
     "execution_count": 14,
     "metadata": {},
     "output_type": "execute_result"
    }
   ],
   "source": [
    "test_safe_set = train_test_safe_set.groupby(\"gender\").sample(n=test_n_speaker_per_gender, random_state=1)\n",
    "test_safe_set.head()"
   ]
  },
  {
   "cell_type": "code",
   "execution_count": 15,
   "metadata": {},
   "outputs": [
    {
     "data": {
      "text/plain": [
       "(1678, 3)"
      ]
     },
     "execution_count": 15,
     "metadata": {},
     "output_type": "execute_result"
    }
   ],
   "source": [
    "test_safe_set.shape"
   ]
  },
  {
   "cell_type": "markdown",
   "metadata": {},
   "source": [
    "Finally we can store the results in txt files."
   ]
  },
  {
   "cell_type": "code",
   "execution_count": 19,
   "metadata": {},
   "outputs": [],
   "source": [
    "??train_test_safe_set.to_csv"
   ]
  },
  {
   "cell_type": "code",
   "execution_count": 20,
   "metadata": {},
   "outputs": [],
   "source": [
    "train_test_safe_set.to_csv(\"gender-train_test.csv\", index=False)"
   ]
  },
  {
   "cell_type": "code",
   "execution_count": 16,
   "metadata": {},
   "outputs": [],
   "source": [
    "with open(\"gender-test_set.txt\", \"w\") as fp:\n",
    "    import json\n",
    "    json.dump(list(test_safe_set.VoxCeleb_ID.values), fp)"
   ]
  },
  {
   "cell_type": "code",
   "execution_count": 17,
   "metadata": {},
   "outputs": [],
   "source": [
    "train_safe_set = list(set(list(train_test_safe_set.VoxCeleb_ID.values))- set(list(test_safe_set.VoxCeleb_ID.values)))\n",
    "with open(\"gender-train_settxt\", \"w\") as fp:\n",
    "    import json\n",
    "    json.dump(list(train_safe_set), fp)"
   ]
  },
  {
   "cell_type": "markdown",
   "metadata": {},
   "source": [
    "## Age"
   ]
  },
  {
   "cell_type": "code",
   "execution_count": 13,
   "metadata": {},
   "outputs": [
    {
     "data": {
      "text/html": [
       "<div>\n",
       "<style scoped>\n",
       "    .dataframe tbody tr th:only-of-type {\n",
       "        vertical-align: middle;\n",
       "    }\n",
       "\n",
       "    .dataframe tbody tr th {\n",
       "        vertical-align: top;\n",
       "    }\n",
       "\n",
       "    .dataframe thead th {\n",
       "        text-align: right;\n",
       "    }\n",
       "</style>\n",
       "<table border=\"1\" class=\"dataframe\">\n",
       "  <thead>\n",
       "    <tr style=\"text-align: right;\">\n",
       "      <th></th>\n",
       "      <th>speaker_age</th>\n",
       "      <th>VoxCeleb_ID</th>\n",
       "      <th>video_id</th>\n",
       "    </tr>\n",
       "  </thead>\n",
       "  <tbody>\n",
       "    <tr>\n",
       "      <th>0</th>\n",
       "      <td>26.0</td>\n",
       "      <td>id00778</td>\n",
       "      <td>DoazlQs250s</td>\n",
       "    </tr>\n",
       "    <tr>\n",
       "      <th>2</th>\n",
       "      <td>29.0</td>\n",
       "      <td>id00778</td>\n",
       "      <td>gpK4kMSrU2U</td>\n",
       "    </tr>\n",
       "    <tr>\n",
       "      <th>11</th>\n",
       "      <td>30.0</td>\n",
       "      <td>id00778</td>\n",
       "      <td>Zkg3cDU_LSw</td>\n",
       "    </tr>\n",
       "    <tr>\n",
       "      <th>14</th>\n",
       "      <td>30.0</td>\n",
       "      <td>id00778</td>\n",
       "      <td>LMIZwxRk4L8</td>\n",
       "    </tr>\n",
       "    <tr>\n",
       "      <th>16</th>\n",
       "      <td>30.0</td>\n",
       "      <td>id00778</td>\n",
       "      <td>hzVpYQB6zOY</td>\n",
       "    </tr>\n",
       "  </tbody>\n",
       "</table>\n",
       "</div>"
      ],
      "text/plain": [
       "    speaker_age VoxCeleb_ID     video_id\n",
       "0          26.0     id00778  DoazlQs250s\n",
       "2          29.0     id00778  gpK4kMSrU2U\n",
       "11         30.0     id00778  Zkg3cDU_LSw\n",
       "14         30.0     id00778  LMIZwxRk4L8\n",
       "16         30.0     id00778  hzVpYQB6zOY"
      ]
     },
     "execution_count": 13,
     "metadata": {},
     "output_type": "execute_result"
    }
   ],
   "source": [
    "unique_speakers_age.head()"
   ]
  },
  {
   "cell_type": "code",
   "execution_count": 14,
   "metadata": {},
   "outputs": [
    {
     "data": {
      "text/plain": [
       "(6601, 3)"
      ]
     },
     "execution_count": 14,
     "metadata": {},
     "output_type": "execute_result"
    }
   ],
   "source": [
    "unique_speakers_age.shape"
   ]
  },
  {
   "cell_type": "code",
   "execution_count": 15,
   "metadata": {},
   "outputs": [],
   "source": [
    "unique_speakers_age.reset_index(inplace=True)"
   ]
  },
  {
   "cell_type": "code",
   "execution_count": 16,
   "metadata": {},
   "outputs": [],
   "source": [
    "unique_speakers_age_title_only.reset_index(inplace=True)"
   ]
  },
  {
   "cell_type": "code",
   "execution_count": 17,
   "metadata": {},
   "outputs": [],
   "source": [
    "train_size = 0.6"
   ]
  },
  {
   "cell_type": "code",
   "execution_count": 19,
   "metadata": {},
   "outputs": [],
   "source": [
    "random.seed(19951008)"
   ]
  },
  {
   "cell_type": "code",
   "execution_count": 20,
   "metadata": {},
   "outputs": [],
   "source": [
    "import random\n",
    "train_indexes = random.sample(k=int(train_size * unique_speakers_age.shape[0]), population= list(range(unique_speakers_age.shape[0])))"
   ]
  },
  {
   "cell_type": "code",
   "execution_count": 21,
   "metadata": {},
   "outputs": [],
   "source": [
    "test_indexes = list(set(list(range(unique_speakers_age.shape[0]))) - set(train_indexes))"
   ]
  },
  {
   "cell_type": "code",
   "execution_count": 22,
   "metadata": {},
   "outputs": [
    {
     "data": {
      "text/plain": [
       "(3960, 2641)"
      ]
     },
     "execution_count": 22,
     "metadata": {},
     "output_type": "execute_result"
    }
   ],
   "source": [
    "len(train_indexes), len(test_indexes)"
   ]
  },
  {
   "cell_type": "code",
   "execution_count": 23,
   "metadata": {},
   "outputs": [],
   "source": [
    "del unique_speakers_age['index']\n",
    "del unique_speakers_age_title_only['index']"
   ]
  },
  {
   "cell_type": "code",
   "execution_count": 24,
   "metadata": {},
   "outputs": [],
   "source": [
    "unique_speakers_age.iloc[test_indexes,:].to_csv('../dataset/age-test-multiple_age_per_speaker.txt', index=False)\n",
    "unique_speakers_age.iloc[train_indexes,:].to_csv('../dataset/age-train-multiple_age_per_speaker.txt', index=False)\n"
   ]
  },
  {
   "cell_type": "code",
   "execution_count": 25,
   "metadata": {},
   "outputs": [],
   "source": [
    "unique_speakers_age_title_only.to_csv('../dataset/age-title_only-multiple_age_per_speaker.txt', index=False)"
   ]
  },
  {
   "cell_type": "code",
   "execution_count": 12,
   "metadata": {},
   "outputs": [
    {
     "data": {
      "text/html": [
       "<div>\n",
       "<style scoped>\n",
       "    .dataframe tbody tr th:only-of-type {\n",
       "        vertical-align: middle;\n",
       "    }\n",
       "\n",
       "    .dataframe tbody tr th {\n",
       "        vertical-align: top;\n",
       "    }\n",
       "\n",
       "    .dataframe thead th {\n",
       "        text-align: right;\n",
       "    }\n",
       "</style>\n",
       "<table border=\"1\" class=\"dataframe\">\n",
       "  <thead>\n",
       "    <tr style=\"text-align: right;\">\n",
       "      <th></th>\n",
       "      <th>speaker_age_title_only</th>\n",
       "      <th>birth_year</th>\n",
       "      <th>Name</th>\n",
       "      <th>VoxCeleb_ID</th>\n",
       "      <th>video_id</th>\n",
       "    </tr>\n",
       "  </thead>\n",
       "  <tbody>\n",
       "    <tr>\n",
       "      <th>0</th>\n",
       "      <td>26.0</td>\n",
       "      <td>1987.0</td>\n",
       "      <td>Arnd_Peiffer</td>\n",
       "      <td>id00778</td>\n",
       "      <td>DoazlQs250s</td>\n",
       "    </tr>\n",
       "    <tr>\n",
       "      <th>1</th>\n",
       "      <td>44.0</td>\n",
       "      <td>1973.0</td>\n",
       "      <td>Lee_Westwood</td>\n",
       "      <td>id05082</td>\n",
       "      <td>ZpdxjPETaEk</td>\n",
       "    </tr>\n",
       "    <tr>\n",
       "      <th>2</th>\n",
       "      <td>33.0</td>\n",
       "      <td>1982.0</td>\n",
       "      <td>Jason_Dundas</td>\n",
       "      <td>id03865</td>\n",
       "      <td>boIggIThakA</td>\n",
       "    </tr>\n",
       "    <tr>\n",
       "      <th>3</th>\n",
       "      <td>30.0</td>\n",
       "      <td>1980.0</td>\n",
       "      <td>Spike_Mendelsohn</td>\n",
       "      <td>id08185</td>\n",
       "      <td>zcgESGosKN4</td>\n",
       "    </tr>\n",
       "    <tr>\n",
       "      <th>4</th>\n",
       "      <td>33.0</td>\n",
       "      <td>1983.0</td>\n",
       "      <td>Rocsi_Diaz</td>\n",
       "      <td>id07474</td>\n",
       "      <td>_O37mNBaNek</td>\n",
       "    </tr>\n",
       "    <tr>\n",
       "      <th>...</th>\n",
       "      <td>...</td>\n",
       "      <td>...</td>\n",
       "      <td>...</td>\n",
       "      <td>...</td>\n",
       "      <td>...</td>\n",
       "    </tr>\n",
       "    <tr>\n",
       "      <th>3918</th>\n",
       "      <td>39.0</td>\n",
       "      <td>1976.0</td>\n",
       "      <td>Nefise_Karatay</td>\n",
       "      <td>id06440</td>\n",
       "      <td>O2f5lWT_Q1E</td>\n",
       "    </tr>\n",
       "    <tr>\n",
       "      <th>3919</th>\n",
       "      <td>30.0</td>\n",
       "      <td>1984.0</td>\n",
       "      <td>Lana_Jurčević</td>\n",
       "      <td>id04979</td>\n",
       "      <td>EUY8_RS6dPQ</td>\n",
       "    </tr>\n",
       "    <tr>\n",
       "      <th>3920</th>\n",
       "      <td>45.0</td>\n",
       "      <td>1968.0</td>\n",
       "      <td>Jim_Tomsula</td>\n",
       "      <td>id04096</td>\n",
       "      <td>_8TO-P2456c</td>\n",
       "    </tr>\n",
       "    <tr>\n",
       "      <th>3921</th>\n",
       "      <td>35.0</td>\n",
       "      <td>1978.0</td>\n",
       "      <td>Jesse_J._White</td>\n",
       "      <td>id04030</td>\n",
       "      <td>84oIYoHHWYM</td>\n",
       "    </tr>\n",
       "    <tr>\n",
       "      <th>3922</th>\n",
       "      <td>48.0</td>\n",
       "      <td>1965.0</td>\n",
       "      <td>Louise_Hoffsten</td>\n",
       "      <td>id05275</td>\n",
       "      <td>QQnl0U_IZSE</td>\n",
       "    </tr>\n",
       "  </tbody>\n",
       "</table>\n",
       "<p>3923 rows × 5 columns</p>\n",
       "</div>"
      ],
      "text/plain": [
       "      speaker_age_title_only  birth_year              Name VoxCeleb_ID  \\\n",
       "0                       26.0      1987.0      Arnd_Peiffer     id00778   \n",
       "1                       44.0      1973.0      Lee_Westwood     id05082   \n",
       "2                       33.0      1982.0      Jason_Dundas     id03865   \n",
       "3                       30.0      1980.0  Spike_Mendelsohn     id08185   \n",
       "4                       33.0      1983.0        Rocsi_Diaz     id07474   \n",
       "...                      ...         ...               ...         ...   \n",
       "3918                    39.0      1976.0    Nefise_Karatay     id06440   \n",
       "3919                    30.0      1984.0     Lana_Jurčević     id04979   \n",
       "3920                    45.0      1968.0       Jim_Tomsula     id04096   \n",
       "3921                    35.0      1978.0    Jesse_J._White     id04030   \n",
       "3922                    48.0      1965.0   Louise_Hoffsten     id05275   \n",
       "\n",
       "         video_id  \n",
       "0     DoazlQs250s  \n",
       "1     ZpdxjPETaEk  \n",
       "2     boIggIThakA  \n",
       "3     zcgESGosKN4  \n",
       "4     _O37mNBaNek  \n",
       "...           ...  \n",
       "3918  O2f5lWT_Q1E  \n",
       "3919  EUY8_RS6dPQ  \n",
       "3920  _8TO-P2456c  \n",
       "3921  84oIYoHHWYM  \n",
       "3922  QQnl0U_IZSE  \n",
       "\n",
       "[3923 rows x 5 columns]"
      ]
     },
     "execution_count": 12,
     "metadata": {},
     "output_type": "execute_result"
    }
   ],
   "source": [
    "import pandas as pd\n",
    "pd.read_csv('../dataset/age-title_only.txt')"
   ]
  },
  {
   "cell_type": "code",
   "execution_count": null,
   "metadata": {},
   "outputs": [],
   "source": [
    "train_safe_set = list(set(list(train_test_safe_set.VoxCeleb_ID.values))- set(list(test_safe_set.VoxCeleb_ID.values)))\n",
    "with open(\"train_safe_set-vips_name.txt\", \"w\") as fp:\n",
    "    import json\n",
    "    json.dump(list(train_safe_set), fp)"
   ]
  }
 ],
 "metadata": {
  "kernelspec": {
   "display_name": "Python 3",
   "language": "python",
   "name": "python3"
  },
  "language_info": {
   "codemirror_mode": {
    "name": "ipython",
    "version": 3
   },
   "file_extension": ".py",
   "mimetype": "text/x-python",
   "name": "python",
   "nbconvert_exporter": "python",
   "pygments_lexer": "ipython3",
   "version": "3.6.12"
  }
 },
 "nbformat": 4,
 "nbformat_minor": 4
}
